{
 "cells": [
  {
   "cell_type": "code",
   "execution_count": 1,
   "id": "844c9471",
   "metadata": {},
   "outputs": [],
   "source": [
    "import pandas as pd\n",
    "import numpy as np\n",
    "\n",
    "import seaborn as sns\n",
    "import matplotlib.pyplot as plt\n",
    "%matplotlib inline"
   ]
  },
  {
   "cell_type": "markdown",
   "id": "27d1d39d",
   "metadata": {},
   "source": [
    "## Import and read multiple playlists"
   ]
  },
  {
   "cell_type": "code",
   "execution_count": 429,
   "id": "09b1d9f8",
   "metadata": {},
   "outputs": [
    {
     "name": "stdout",
     "output_type": "stream",
     "text": [
      "OPM Acoustic\n",
      "OPM Indie\n",
      "OPM Rock\n",
      "OPM Rap\n",
      "OPM Reggae\n"
     ]
    }
   ],
   "source": [
    "#genre_names = [\"R&B\", \"Classical\", \"Country\", \"Electronic\", \"Hiphop\",\"Jazz\", \"Pop\", \"Rock\", \"Reggae\", \"Rap\"]\n",
    "genre_names = [\"OPM Acoustic\", \"OPM Indie\", \"OPM Rock\", \"OPM Rap\", \"OPM Reggae\"]\n",
    "\n",
    "playlist_df_list = []\n",
    "track_df_list = []\n",
    "for genre in genre_names:\n",
    "    # read and process the playlist data for keyword\n",
    "    print(genre)\n",
    "    pdf = pd.read_csv('../data/opm_sub_genre/'+genre.lower()+'_playlist_data.csv')\n",
    "    pdf['genre'] = genre.lower().replace('&','n')\n",
    "    playlist_df_list.append(pdf)\n",
    "\n",
    "    tdf = pd.read_csv('../data/opm_sub_genre/'+genre.lower()+'_playlist_tracks_data.csv')\n",
    "    tdf['genre'] = genre.lower().replace('&','n')\n",
    "    tdf = tdf.drop(columns=['playlist_name'])\n",
    "    tdf = tdf.merge(pdf[['playlist_id','playlist_name']], on=['playlist_id'], how='left')\n",
    "    \n",
    "    track_df_list.append(tdf)\n",
    "        \n",
    "playlist_df = pd.concat(playlist_df_list)\n",
    "tracks_df = pd.concat(track_df_list)"
   ]
  },
  {
   "cell_type": "code",
   "execution_count": 430,
   "id": "19a292ac",
   "metadata": {},
   "outputs": [
    {
     "data": {
      "text/plain": [
       "Index(['track_id', 'track_name', 'artist_id', 'artist_name', 'album_id',\n",
       "       'duration', 'release_date', 'popularity', 'danceability', 'energy',\n",
       "       'key', 'loudness', 'mode', 'speechiness', 'acousticness',\n",
       "       'instrumentalness', 'liveness', 'valence', 'tempo', 'playlist_id',\n",
       "       'genre', 'playlist_name'],\n",
       "      dtype='object')"
      ]
     },
     "execution_count": 430,
     "metadata": {},
     "output_type": "execute_result"
    }
   ],
   "source": [
    "tracks_df.columns"
   ]
  },
  {
   "cell_type": "code",
   "execution_count": 431,
   "id": "d8a79cc6",
   "metadata": {},
   "outputs": [
    {
     "data": {
      "text/plain": [
       "opm indie       2166\n",
       "opm rock        2020\n",
       "opm acoustic    1401\n",
       "opm rap          791\n",
       "opm reggae       600\n",
       "Name: genre, dtype: int64"
      ]
     },
     "execution_count": 431,
     "metadata": {},
     "output_type": "execute_result"
    }
   ],
   "source": [
    "tracks_df['genre'].value_counts()"
   ]
  },
  {
   "cell_type": "code",
   "execution_count": 432,
   "id": "92243d1d",
   "metadata": {},
   "outputs": [
    {
     "data": {
      "text/plain": [
       "(5996, 22)"
      ]
     },
     "execution_count": 432,
     "metadata": {},
     "output_type": "execute_result"
    }
   ],
   "source": [
    "tracks_df =tracks_df.drop_duplicates(subset='track_id')\n",
    "tracks_df.shape"
   ]
  },
  {
   "cell_type": "code",
   "execution_count": 433,
   "id": "05a529f8",
   "metadata": {},
   "outputs": [
    {
     "data": {
      "text/plain": [
       "opm indie       2000\n",
       "opm rock        1643\n",
       "opm acoustic    1401\n",
       "opm rap          611\n",
       "opm reggae       341\n",
       "Name: genre, dtype: int64"
      ]
     },
     "execution_count": 433,
     "metadata": {},
     "output_type": "execute_result"
    }
   ],
   "source": [
    "tracks_df['genre'].value_counts()"
   ]
  },
  {
   "cell_type": "code",
   "execution_count": 434,
   "id": "34c1b121",
   "metadata": {},
   "outputs": [
    {
     "data": {
      "text/plain": [
       "((152, 7), (5996, 22))"
      ]
     },
     "execution_count": 434,
     "metadata": {},
     "output_type": "execute_result"
    }
   ],
   "source": [
    "playlist_df.shape, tracks_df.shape"
   ]
  },
  {
   "cell_type": "code",
   "execution_count": 435,
   "id": "5c5c39b3",
   "metadata": {},
   "outputs": [
    {
     "name": "stdout",
     "output_type": "stream",
     "text": [
      "Playlist dataset columns: ['playlist_id' 'playlist_name' 'playlist_total_tracks' 'owner_id'\n",
      " 'owner_name' 'total_followers' 'genre'] \n",
      "\n",
      "Tracks dataset columns: ['track_id' 'track_name' 'artist_id' 'artist_name' 'album_id' 'duration'\n",
      " 'release_date' 'popularity' 'danceability' 'energy' 'key' 'loudness'\n",
      " 'mode' 'speechiness' 'acousticness' 'instrumentalness' 'liveness'\n",
      " 'valence' 'tempo' 'playlist_id' 'genre' 'playlist_name']\n"
     ]
    }
   ],
   "source": [
    "print(\"Playlist dataset columns: %s \\n\" % playlist_df.columns.values)\n",
    "print(\"Tracks dataset columns: %s\" % tracks_df.columns.values)"
   ]
  },
  {
   "cell_type": "code",
   "execution_count": 436,
   "id": "436e33ee",
   "metadata": {
    "scrolled": true
   },
   "outputs": [
    {
     "data": {
      "text/plain": [
       "array([[<AxesSubplot:title={'center':'total_followers'}>]], dtype=object)"
      ]
     },
     "execution_count": 436,
     "metadata": {},
     "output_type": "execute_result"
    },
    {
     "data": {
      "image/png": "[encoded data removed]",
      "text/plain": [
       "<Figure size 640x480 with 1 Axes>"
      ]
     },
     "metadata": {},
     "output_type": "display_data"
    }
   ],
   "source": [
    "playlist_df[['total_followers']].hist()"
   ]
  },
  {
   "cell_type": "markdown",
   "id": "80ca8b49",
   "metadata": {},
   "source": [
    "## Refine the training data"
   ]
  },
  {
   "cell_type": "code",
   "execution_count": 440,
   "id": "ba1fef05",
   "metadata": {
    "scrolled": true
   },
   "outputs": [
    {
     "data": {
      "text/html": [
       "<div>\n",
       "<style scoped>\n",
       "    .dataframe tbody tr th:only-of-type {\n",
       "        vertical-align: middle;\n",
       "    }\n",
       "\n",
       "    .dataframe tbody tr th {\n",
       "        vertical-align: top;\n",
       "    }\n",
       "\n",
       "    .dataframe thead th {\n",
       "        text-align: right;\n",
       "    }\n",
       "</style>\n",
       "<table border=\"1\" class=\"dataframe\">\n",
       "  <thead>\n",
       "    <tr style=\"text-align: right;\">\n",
       "      <th></th>\n",
       "      <th>playlist_id</th>\n",
       "      <th>playlist_name</th>\n",
       "      <th>playlist_total_tracks</th>\n",
       "      <th>owner_id</th>\n",
       "      <th>owner_name</th>\n",
       "      <th>total_followers</th>\n",
       "      <th>genre</th>\n",
       "    </tr>\n",
       "  </thead>\n",
       "  <tbody>\n",
       "    <tr>\n",
       "      <th>0</th>\n",
       "      <td>3GGq4AgCWovQf9unH4OeLA</td>\n",
       "      <td>OPM Acoustic Mellow Rock</td>\n",
       "      <td>201</td>\n",
       "      <td>12161669117</td>\n",
       "      <td>Jhaedz Torres</td>\n",
       "      <td>12834</td>\n",
       "      <td>opm acoustic</td>\n",
       "    </tr>\n",
       "    <tr>\n",
       "      <th>1</th>\n",
       "      <td>7aUxW4p4EiNx5wLGZ95BIf</td>\n",
       "      <td>OPM Acoustic Chill Songs 2022 💛</td>\n",
       "      <td>134</td>\n",
       "      <td>jyhra99st5nhex8kfo4um2dh7</td>\n",
       "      <td>buntala</td>\n",
       "      <td>11655</td>\n",
       "      <td>opm acoustic</td>\n",
       "    </tr>\n",
       "    <tr>\n",
       "      <th>2</th>\n",
       "      <td>5n8ydY3cQUNvo6VH6C9my7</td>\n",
       "      <td>OPM Acoustic R&amp;B</td>\n",
       "      <td>73</td>\n",
       "      <td>12793915</td>\n",
       "      <td>Tintin Bautista</td>\n",
       "      <td>6403</td>\n",
       "      <td>opm acoustic</td>\n",
       "    </tr>\n",
       "    <tr>\n",
       "      <th>3</th>\n",
       "      <td>7vhpxu86i8iVG7PmxQtvuT</td>\n",
       "      <td>OPM Acoustic Love Songs/Ballads/Soul</td>\n",
       "      <td>311</td>\n",
       "      <td>226gg6cvmuobg2i3377x725xq</td>\n",
       "      <td>Philip Galvin</td>\n",
       "      <td>1811</td>\n",
       "      <td>opm acoustic</td>\n",
       "    </tr>\n",
       "    <tr>\n",
       "      <th>4</th>\n",
       "      <td>6QEpyMvzyeOlpyFDZTCVBg</td>\n",
       "      <td>OPM Acoustic</td>\n",
       "      <td>8</td>\n",
       "      <td>z9jnead90ofw0ty4iw8111dpr</td>\n",
       "      <td>binibining yena</td>\n",
       "      <td>1204</td>\n",
       "      <td>opm acoustic</td>\n",
       "    </tr>\n",
       "    <tr>\n",
       "      <th>...</th>\n",
       "      <td>...</td>\n",
       "      <td>...</td>\n",
       "      <td>...</td>\n",
       "      <td>...</td>\n",
       "      <td>...</td>\n",
       "      <td>...</td>\n",
       "      <td>...</td>\n",
       "    </tr>\n",
       "    <tr>\n",
       "      <th>15</th>\n",
       "      <td>1effVOqzTr9t5o5b8TN5Nb</td>\n",
       "      <td>OPM Reggae Fave</td>\n",
       "      <td>117</td>\n",
       "      <td>cos_obet</td>\n",
       "      <td>Cosilyn Miranda</td>\n",
       "      <td>10</td>\n",
       "      <td>opm reggae</td>\n",
       "    </tr>\n",
       "    <tr>\n",
       "      <th>16</th>\n",
       "      <td>0w8OvGhjfnLxJ2yfLjZ6rv</td>\n",
       "      <td>OPM Reggae Cover</td>\n",
       "      <td>16</td>\n",
       "      <td>22omufwdacf3xbhuuu4s2odmq</td>\n",
       "      <td>Rk M. RaFol</td>\n",
       "      <td>5</td>\n",
       "      <td>opm reggae</td>\n",
       "    </tr>\n",
       "    <tr>\n",
       "      <th>17</th>\n",
       "      <td>4nOx33CNVeSvEr35do2y8f</td>\n",
       "      <td>Opm Reggae</td>\n",
       "      <td>114</td>\n",
       "      <td>zcmo9dy5anbkquqdhihiien67</td>\n",
       "      <td>IPE718</td>\n",
       "      <td>2</td>\n",
       "      <td>opm reggae</td>\n",
       "    </tr>\n",
       "    <tr>\n",
       "      <th>18</th>\n",
       "      <td>5sqvBlSs8QFLOFUaJ86jLe</td>\n",
       "      <td>Beach opm reggae</td>\n",
       "      <td>12</td>\n",
       "      <td>12168648027</td>\n",
       "      <td>Robert Pena</td>\n",
       "      <td>2</td>\n",
       "      <td>opm reggae</td>\n",
       "    </tr>\n",
       "    <tr>\n",
       "      <th>19</th>\n",
       "      <td>74pXJHKE3lRPekHFswnZSu</td>\n",
       "      <td>OPM Reggae</td>\n",
       "      <td>33</td>\n",
       "      <td>12141922905</td>\n",
       "      <td>Chris Cabardo</td>\n",
       "      <td>2</td>\n",
       "      <td>opm reggae</td>\n",
       "    </tr>\n",
       "  </tbody>\n",
       "</table>\n",
       "<p>100 rows × 7 columns</p>\n",
       "</div>"
      ],
      "text/plain": [
       "               playlist_id                         playlist_name  \\\n",
       "0   3GGq4AgCWovQf9unH4OeLA              OPM Acoustic Mellow Rock   \n",
       "1   7aUxW4p4EiNx5wLGZ95BIf       OPM Acoustic Chill Songs 2022 💛   \n",
       "2   5n8ydY3cQUNvo6VH6C9my7                      OPM Acoustic R&B   \n",
       "3   7vhpxu86i8iVG7PmxQtvuT  OPM Acoustic Love Songs/Ballads/Soul   \n",
       "4   6QEpyMvzyeOlpyFDZTCVBg                         OPM Acoustic    \n",
       "..                     ...                                   ...   \n",
       "15  1effVOqzTr9t5o5b8TN5Nb                       OPM Reggae Fave   \n",
       "16  0w8OvGhjfnLxJ2yfLjZ6rv                      OPM Reggae Cover   \n",
       "17  4nOx33CNVeSvEr35do2y8f                            Opm Reggae   \n",
       "18  5sqvBlSs8QFLOFUaJ86jLe                      Beach opm reggae   \n",
       "19  74pXJHKE3lRPekHFswnZSu                            OPM Reggae   \n",
       "\n",
       "    playlist_total_tracks                   owner_id       owner_name  \\\n",
       "0                     201                12161669117    Jhaedz Torres   \n",
       "1                     134  jyhra99st5nhex8kfo4um2dh7          buntala   \n",
       "2                      73                   12793915  Tintin Bautista   \n",
       "3                     311  226gg6cvmuobg2i3377x725xq    Philip Galvin   \n",
       "4                       8  z9jnead90ofw0ty4iw8111dpr  binibining yena   \n",
       "..                    ...                        ...              ...   \n",
       "15                    117                   cos_obet  Cosilyn Miranda   \n",
       "16                     16  22omufwdacf3xbhuuu4s2odmq      Rk M. RaFol   \n",
       "17                    114  zcmo9dy5anbkquqdhihiien67           IPE718   \n",
       "18                     12                12168648027      Robert Pena   \n",
       "19                     33                12141922905    Chris Cabardo   \n",
       "\n",
       "    total_followers         genre  \n",
       "0             12834  opm acoustic  \n",
       "1             11655  opm acoustic  \n",
       "2              6403  opm acoustic  \n",
       "3              1811  opm acoustic  \n",
       "4              1204  opm acoustic  \n",
       "..              ...           ...  \n",
       "15               10    opm reggae  \n",
       "16                5    opm reggae  \n",
       "17                2    opm reggae  \n",
       "18                2    opm reggae  \n",
       "19                2    opm reggae  \n",
       "\n",
       "[100 rows x 7 columns]"
      ]
     },
     "execution_count": 440,
     "metadata": {},
     "output_type": "execute_result"
    }
   ],
   "source": [
    "top_playlists_df = playlist_df.groupby('genre').head(20)\n",
    "top_playlists_df"
   ]
  },
  {
   "cell_type": "code",
   "execution_count": 441,
   "id": "e1ca5b20",
   "metadata": {},
   "outputs": [
    {
     "data": {
      "text/html": [
       "<div>\n",
       "<style scoped>\n",
       "    .dataframe tbody tr th:only-of-type {\n",
       "        vertical-align: middle;\n",
       "    }\n",
       "\n",
       "    .dataframe tbody tr th {\n",
       "        vertical-align: top;\n",
       "    }\n",
       "\n",
       "    .dataframe thead th {\n",
       "        text-align: right;\n",
       "    }\n",
       "</style>\n",
       "<table border=\"1\" class=\"dataframe\">\n",
       "  <thead>\n",
       "    <tr style=\"text-align: right;\">\n",
       "      <th></th>\n",
       "      <th>playlist_total_tracks</th>\n",
       "      <th>total_followers</th>\n",
       "    </tr>\n",
       "    <tr>\n",
       "      <th>genre</th>\n",
       "      <th></th>\n",
       "      <th></th>\n",
       "    </tr>\n",
       "  </thead>\n",
       "  <tbody>\n",
       "    <tr>\n",
       "      <th>opm acoustic</th>\n",
       "      <td>2007</td>\n",
       "      <td>38369</td>\n",
       "    </tr>\n",
       "    <tr>\n",
       "      <th>opm indie</th>\n",
       "      <td>3419</td>\n",
       "      <td>25204</td>\n",
       "    </tr>\n",
       "    <tr>\n",
       "      <th>opm rap</th>\n",
       "      <td>1839</td>\n",
       "      <td>13512</td>\n",
       "    </tr>\n",
       "    <tr>\n",
       "      <th>opm reggae</th>\n",
       "      <td>1376</td>\n",
       "      <td>32211</td>\n",
       "    </tr>\n",
       "    <tr>\n",
       "      <th>opm rock</th>\n",
       "      <td>3901</td>\n",
       "      <td>23271</td>\n",
       "    </tr>\n",
       "  </tbody>\n",
       "</table>\n",
       "</div>"
      ],
      "text/plain": [
       "              playlist_total_tracks  total_followers\n",
       "genre                                               \n",
       "opm acoustic                   2007            38369\n",
       "opm indie                      3419            25204\n",
       "opm rap                        1839            13512\n",
       "opm reggae                     1376            32211\n",
       "opm rock                       3901            23271"
      ]
     },
     "execution_count": 441,
     "metadata": {},
     "output_type": "execute_result"
    }
   ],
   "source": [
    "sum_df = top_playlists_df.groupby('genre').sum()\n",
    "sum_df"
   ]
  },
  {
   "cell_type": "code",
   "execution_count": 442,
   "id": "7f515828",
   "metadata": {},
   "outputs": [
    {
     "data": {
      "text/plain": [
       "array([[<AxesSubplot:title={'center':'total_followers'}>]], dtype=object)"
      ]
     },
     "execution_count": 442,
     "metadata": {},
     "output_type": "execute_result"
    },
    {
     "data": {
      "image/png": "[encoded data removed]",
      "text/plain": [
       "<Figure size 640x480 with 1 Axes>"
      ]
     },
     "metadata": {},
     "output_type": "display_data"
    }
   ],
   "source": [
    "top_playlists_df[['total_followers']].hist()"
   ]
  },
  {
   "cell_type": "code",
   "execution_count": 443,
   "id": "968ca0a8",
   "metadata": {},
   "outputs": [
    {
     "data": {
      "text/plain": [
       "opm indie       2000\n",
       "opm rock        1643\n",
       "opm acoustic    1401\n",
       "opm rap          611\n",
       "opm reggae       341\n",
       "Name: genre, dtype: int64"
      ]
     },
     "execution_count": 443,
     "metadata": {},
     "output_type": "execute_result"
    }
   ],
   "source": [
    "tracks_df = tracks_df[tracks_df['playlist_id'].isin(top_playlists_df['playlist_id'].values)]\n",
    "tracks_df['genre'].value_counts()"
   ]
  },
  {
   "cell_type": "markdown",
   "id": "a2b72181",
   "metadata": {},
   "source": [
    "## Feature Engineering"
   ]
  },
  {
   "cell_type": "code",
   "execution_count": 444,
   "id": "3079fa00",
   "metadata": {},
   "outputs": [],
   "source": [
    "tracks_df['duration_mins']=tracks_df['duration']/60000"
   ]
  },
  {
   "cell_type": "code",
   "execution_count": 445,
   "id": "3bb65040",
   "metadata": {},
   "outputs": [
    {
     "data": {
      "text/plain": [
       "count    5996.000000\n",
       "mean        0.685929\n",
       "std         0.121436\n",
       "min         0.000000\n",
       "25%         0.615872\n",
       "50%         0.704069\n",
       "75%         0.772203\n",
       "max         1.000000\n",
       "Name: loudness, dtype: float64"
      ]
     },
     "execution_count": 445,
     "metadata": {},
     "output_type": "execute_result"
    }
   ],
   "source": [
    "from sklearn.preprocessing import MinMaxScaler #RobustScaler\n",
    "scaler = MinMaxScaler()\n",
    "\n",
    "tracks_df['loudness'] = scaler.fit_transform(tracks_df[['loudness']])\n",
    "tracks_df['loudness'].describe()"
   ]
  },
  {
   "cell_type": "code",
   "execution_count": 446,
   "id": "3f044f8e",
   "metadata": {},
   "outputs": [
    {
     "data": {
      "text/plain": [
       "count    5996.000000\n",
       "mean        0.456383\n",
       "std         0.158888\n",
       "min         0.000000\n",
       "25%         0.325687\n",
       "50%         0.456284\n",
       "75%         0.561131\n",
       "max         1.000000\n",
       "Name: tempo, dtype: float64"
      ]
     },
     "execution_count": 446,
     "metadata": {},
     "output_type": "execute_result"
    }
   ],
   "source": [
    "tracks_df['tempo'] =  scaler.fit_transform(tracks_df[['tempo']])\n",
    "#check\n",
    "tracks_df['tempo'].describe()"
   ]
  },
  {
   "cell_type": "code",
   "execution_count": 447,
   "id": "9ce36a5c",
   "metadata": {},
   "outputs": [
    {
     "data": {
      "text/plain": [
       "track_id              object\n",
       "track_name            object\n",
       "artist_id             object\n",
       "artist_name           object\n",
       "album_id              object\n",
       "duration               int64\n",
       "release_date          object\n",
       "popularity             int64\n",
       "danceability         float64\n",
       "energy               float64\n",
       "key                    int64\n",
       "loudness             float64\n",
       "mode                   int64\n",
       "speechiness          float64\n",
       "acousticness         float64\n",
       "instrumentalness     float64\n",
       "liveness             float64\n",
       "valence              float64\n",
       "tempo                float64\n",
       "playlist_id           object\n",
       "genre               category\n",
       "playlist_name         object\n",
       "duration_mins        float64\n",
       "dtype: object"
      ]
     },
     "execution_count": 447,
     "metadata": {},
     "output_type": "execute_result"
    }
   ],
   "source": [
    "tracks_df[\"genre\"] = tracks_df[\"genre\"].astype('category')\n",
    "tracks_df.dtypes"
   ]
  },
  {
   "cell_type": "code",
   "execution_count": 448,
   "id": "30bd2b9d",
   "metadata": {},
   "outputs": [
    {
     "data": {
      "text/plain": [
       "opm indie       2000\n",
       "opm rock        1643\n",
       "opm acoustic    1401\n",
       "opm rap          611\n",
       "opm reggae       341\n",
       "Name: genre, dtype: int64"
      ]
     },
     "execution_count": 448,
     "metadata": {},
     "output_type": "execute_result"
    }
   ],
   "source": [
    "tracks_df['genre'].value_counts()"
   ]
  },
  {
   "cell_type": "code",
   "execution_count": 449,
   "id": "2d954f1b",
   "metadata": {},
   "outputs": [
    {
     "data": {
      "text/html": [
       "<div>\n",
       "<style scoped>\n",
       "    .dataframe tbody tr th:only-of-type {\n",
       "        vertical-align: middle;\n",
       "    }\n",
       "\n",
       "    .dataframe tbody tr th {\n",
       "        vertical-align: top;\n",
       "    }\n",
       "\n",
       "    .dataframe thead th {\n",
       "        text-align: right;\n",
       "    }\n",
       "</style>\n",
       "<table border=\"1\" class=\"dataframe\">\n",
       "  <thead>\n",
       "    <tr style=\"text-align: right;\">\n",
       "      <th></th>\n",
       "      <th>track_id</th>\n",
       "      <th>track_name</th>\n",
       "      <th>artist_id</th>\n",
       "      <th>artist_name</th>\n",
       "      <th>album_id</th>\n",
       "      <th>duration</th>\n",
       "      <th>release_date</th>\n",
       "      <th>popularity</th>\n",
       "      <th>danceability</th>\n",
       "      <th>energy</th>\n",
       "      <th>...</th>\n",
       "      <th>acousticness</th>\n",
       "      <th>instrumentalness</th>\n",
       "      <th>liveness</th>\n",
       "      <th>valence</th>\n",
       "      <th>tempo</th>\n",
       "      <th>playlist_id</th>\n",
       "      <th>genre</th>\n",
       "      <th>playlist_name</th>\n",
       "      <th>duration_mins</th>\n",
       "      <th>genre_id</th>\n",
       "    </tr>\n",
       "  </thead>\n",
       "  <tbody>\n",
       "    <tr>\n",
       "      <th>0</th>\n",
       "      <td>6NFKf8vBApSvtzkapYmnVR</td>\n",
       "      <td>Tadhana</td>\n",
       "      <td>3wbCeEPAW6po7J46netxMT</td>\n",
       "      <td>Up Dharma Down</td>\n",
       "      <td>4SjshYHT8OeSHB6zun2Hxx</td>\n",
       "      <td>222446</td>\n",
       "      <td>2012-12-07</td>\n",
       "      <td>17</td>\n",
       "      <td>0.686</td>\n",
       "      <td>0.3220</td>\n",
       "      <td>...</td>\n",
       "      <td>0.1650</td>\n",
       "      <td>0.029600</td>\n",
       "      <td>0.0809</td>\n",
       "      <td>0.511</td>\n",
       "      <td>0.648813</td>\n",
       "      <td>3GGq4AgCWovQf9unH4OeLA</td>\n",
       "      <td>opm acoustic</td>\n",
       "      <td>OPM Acoustic Mellow Rock</td>\n",
       "      <td>3.707433</td>\n",
       "      <td>0</td>\n",
       "    </tr>\n",
       "    <tr>\n",
       "      <th>1</th>\n",
       "      <td>3WgYEnpYw6n1o3JOuHPUxF</td>\n",
       "      <td>Sana</td>\n",
       "      <td>3wbCeEPAW6po7J46netxMT</td>\n",
       "      <td>Up Dharma Down</td>\n",
       "      <td>79lTnARkFpPsL8KJpV9UKI</td>\n",
       "      <td>280146</td>\n",
       "      <td>2009-02-05</td>\n",
       "      <td>5</td>\n",
       "      <td>0.731</td>\n",
       "      <td>0.4780</td>\n",
       "      <td>...</td>\n",
       "      <td>0.3910</td>\n",
       "      <td>0.000007</td>\n",
       "      <td>0.1660</td>\n",
       "      <td>0.606</td>\n",
       "      <td>0.237858</td>\n",
       "      <td>3GGq4AgCWovQf9unH4OeLA</td>\n",
       "      <td>opm acoustic</td>\n",
       "      <td>OPM Acoustic Mellow Rock</td>\n",
       "      <td>4.669100</td>\n",
       "      <td>0</td>\n",
       "    </tr>\n",
       "    <tr>\n",
       "      <th>2</th>\n",
       "      <td>3RYpfzRDiCTPESz7yBLT0e</td>\n",
       "      <td>Colour Everywhere</td>\n",
       "      <td>4U78sK2D3zASSB6oSR38GQ</td>\n",
       "      <td>Christian Bautista</td>\n",
       "      <td>0qEwvzXNVsPFK7eftFej7Q</td>\n",
       "      <td>253173</td>\n",
       "      <td>2004-03-25</td>\n",
       "      <td>47</td>\n",
       "      <td>0.730</td>\n",
       "      <td>0.4330</td>\n",
       "      <td>...</td>\n",
       "      <td>0.7300</td>\n",
       "      <td>0.000000</td>\n",
       "      <td>0.1280</td>\n",
       "      <td>0.440</td>\n",
       "      <td>0.483791</td>\n",
       "      <td>3GGq4AgCWovQf9unH4OeLA</td>\n",
       "      <td>opm acoustic</td>\n",
       "      <td>OPM Acoustic Mellow Rock</td>\n",
       "      <td>4.219550</td>\n",
       "      <td>0</td>\n",
       "    </tr>\n",
       "    <tr>\n",
       "      <th>3</th>\n",
       "      <td>29xs643Q96uQLD8f7SxYYw</td>\n",
       "      <td>Sa'yo</td>\n",
       "      <td>4nGp682WMiKS4X217kPw8C</td>\n",
       "      <td>Silent Sanctuary</td>\n",
       "      <td>4xxRoePLdITFIhrzUhmOaQ</td>\n",
       "      <td>253360</td>\n",
       "      <td>2013-06-11</td>\n",
       "      <td>1</td>\n",
       "      <td>0.567</td>\n",
       "      <td>0.0896</td>\n",
       "      <td>...</td>\n",
       "      <td>0.7960</td>\n",
       "      <td>0.000000</td>\n",
       "      <td>0.2180</td>\n",
       "      <td>0.367</td>\n",
       "      <td>0.227053</td>\n",
       "      <td>3GGq4AgCWovQf9unH4OeLA</td>\n",
       "      <td>opm acoustic</td>\n",
       "      <td>OPM Acoustic Mellow Rock</td>\n",
       "      <td>4.222667</td>\n",
       "      <td>0</td>\n",
       "    </tr>\n",
       "    <tr>\n",
       "      <th>4</th>\n",
       "      <td>2Pelm9xgLSC78mRk0jbOKb</td>\n",
       "      <td>Sila - Acoustic</td>\n",
       "      <td>0jKQrxK2zHqxyOAyIMrUQt</td>\n",
       "      <td>SUD</td>\n",
       "      <td>1HHK0oozKwo9piao0wO25d</td>\n",
       "      <td>319608</td>\n",
       "      <td>2016-03-18</td>\n",
       "      <td>48</td>\n",
       "      <td>0.751</td>\n",
       "      <td>0.2810</td>\n",
       "      <td>...</td>\n",
       "      <td>0.7430</td>\n",
       "      <td>0.000000</td>\n",
       "      <td>0.2600</td>\n",
       "      <td>0.386</td>\n",
       "      <td>0.478465</td>\n",
       "      <td>3GGq4AgCWovQf9unH4OeLA</td>\n",
       "      <td>opm acoustic</td>\n",
       "      <td>OPM Acoustic Mellow Rock</td>\n",
       "      <td>5.326800</td>\n",
       "      <td>0</td>\n",
       "    </tr>\n",
       "    <tr>\n",
       "      <th>...</th>\n",
       "      <td>...</td>\n",
       "      <td>...</td>\n",
       "      <td>...</td>\n",
       "      <td>...</td>\n",
       "      <td>...</td>\n",
       "      <td>...</td>\n",
       "      <td>...</td>\n",
       "      <td>...</td>\n",
       "      <td>...</td>\n",
       "      <td>...</td>\n",
       "      <td>...</td>\n",
       "      <td>...</td>\n",
       "      <td>...</td>\n",
       "      <td>...</td>\n",
       "      <td>...</td>\n",
       "      <td>...</td>\n",
       "      <td>...</td>\n",
       "      <td>...</td>\n",
       "      <td>...</td>\n",
       "      <td>...</td>\n",
       "      <td>...</td>\n",
       "    </tr>\n",
       "    <tr>\n",
       "      <th>593</th>\n",
       "      <td>6yeIPT3MdWZfq1WCK4ze5M</td>\n",
       "      <td>Young, Wild &amp; Free - Reggae Remix</td>\n",
       "      <td>5os0Ltvz8Q8BvXOPOd1frx</td>\n",
       "      <td>Inner Circle</td>\n",
       "      <td>78NsgWOfM2C4UwKfgnx7re</td>\n",
       "      <td>199444</td>\n",
       "      <td>2015-05-05</td>\n",
       "      <td>35</td>\n",
       "      <td>0.685</td>\n",
       "      <td>0.7810</td>\n",
       "      <td>...</td>\n",
       "      <td>0.3530</td>\n",
       "      <td>0.000000</td>\n",
       "      <td>0.8730</td>\n",
       "      <td>0.818</td>\n",
       "      <td>0.303647</td>\n",
       "      <td>5sqvBlSs8QFLOFUaJ86jLe</td>\n",
       "      <td>opm reggae</td>\n",
       "      <td>Beach opm reggae</td>\n",
       "      <td>3.324067</td>\n",
       "      <td>3</td>\n",
       "    </tr>\n",
       "    <tr>\n",
       "      <th>595</th>\n",
       "      <td>7IG7T1Pv1Z5f15VopS2LoT</td>\n",
       "      <td>Gugma-Biga</td>\n",
       "      <td>0xk4WuulCGnS9WPkUypUQJ</td>\n",
       "      <td>Junior Kilat</td>\n",
       "      <td>7waxkyoBRNwPk01VpBzWPU</td>\n",
       "      <td>252182</td>\n",
       "      <td>2018-06-15</td>\n",
       "      <td>26</td>\n",
       "      <td>0.689</td>\n",
       "      <td>0.8360</td>\n",
       "      <td>...</td>\n",
       "      <td>0.0850</td>\n",
       "      <td>0.039400</td>\n",
       "      <td>0.1410</td>\n",
       "      <td>0.741</td>\n",
       "      <td>0.617282</td>\n",
       "      <td>74pXJHKE3lRPekHFswnZSu</td>\n",
       "      <td>opm reggae</td>\n",
       "      <td>OPM Reggae</td>\n",
       "      <td>4.203033</td>\n",
       "      <td>3</td>\n",
       "    </tr>\n",
       "    <tr>\n",
       "      <th>596</th>\n",
       "      <td>1nk82PEC6TM1C30mOFLzUd</td>\n",
       "      <td>Freedom Time (Intro)</td>\n",
       "      <td>0wx17pjKXLhrOQxMT0VSPO</td>\n",
       "      <td>Lady I</td>\n",
       "      <td>2bZux8DtvBBR6cylgdgQXO</td>\n",
       "      <td>41560</td>\n",
       "      <td>2009-11-14</td>\n",
       "      <td>3</td>\n",
       "      <td>0.775</td>\n",
       "      <td>0.3800</td>\n",
       "      <td>...</td>\n",
       "      <td>0.0543</td>\n",
       "      <td>0.122000</td>\n",
       "      <td>0.0866</td>\n",
       "      <td>0.485</td>\n",
       "      <td>0.648473</td>\n",
       "      <td>74pXJHKE3lRPekHFswnZSu</td>\n",
       "      <td>opm reggae</td>\n",
       "      <td>OPM Reggae</td>\n",
       "      <td>0.692667</td>\n",
       "      <td>3</td>\n",
       "    </tr>\n",
       "    <tr>\n",
       "      <th>597</th>\n",
       "      <td>1rt6GWcTzLi9aOLgTxZ45j</td>\n",
       "      <td>Ragga Babe</td>\n",
       "      <td>0wx17pjKXLhrOQxMT0VSPO</td>\n",
       "      <td>Lady I</td>\n",
       "      <td>2bZux8DtvBBR6cylgdgQXO</td>\n",
       "      <td>220493</td>\n",
       "      <td>2009-11-14</td>\n",
       "      <td>19</td>\n",
       "      <td>0.763</td>\n",
       "      <td>0.8010</td>\n",
       "      <td>...</td>\n",
       "      <td>0.0413</td>\n",
       "      <td>0.000298</td>\n",
       "      <td>0.0238</td>\n",
       "      <td>0.904</td>\n",
       "      <td>0.309236</td>\n",
       "      <td>74pXJHKE3lRPekHFswnZSu</td>\n",
       "      <td>opm reggae</td>\n",
       "      <td>OPM Reggae</td>\n",
       "      <td>3.674883</td>\n",
       "      <td>3</td>\n",
       "    </tr>\n",
       "    <tr>\n",
       "      <th>598</th>\n",
       "      <td>0AvslhGdeTuYNZ12fqlNZG</td>\n",
       "      <td>Beat Up</td>\n",
       "      <td>0wx17pjKXLhrOQxMT0VSPO</td>\n",
       "      <td>Lady I</td>\n",
       "      <td>2bZux8DtvBBR6cylgdgQXO</td>\n",
       "      <td>229893</td>\n",
       "      <td>2009-11-14</td>\n",
       "      <td>5</td>\n",
       "      <td>0.835</td>\n",
       "      <td>0.6200</td>\n",
       "      <td>...</td>\n",
       "      <td>0.0606</td>\n",
       "      <td>0.000007</td>\n",
       "      <td>0.0701</td>\n",
       "      <td>0.824</td>\n",
       "      <td>0.529868</td>\n",
       "      <td>74pXJHKE3lRPekHFswnZSu</td>\n",
       "      <td>opm reggae</td>\n",
       "      <td>OPM Reggae</td>\n",
       "      <td>3.831550</td>\n",
       "      <td>3</td>\n",
       "    </tr>\n",
       "  </tbody>\n",
       "</table>\n",
       "<p>5996 rows × 24 columns</p>\n",
       "</div>"
      ],
      "text/plain": [
       "                   track_id                         track_name  \\\n",
       "0    6NFKf8vBApSvtzkapYmnVR                            Tadhana   \n",
       "1    3WgYEnpYw6n1o3JOuHPUxF                               Sana   \n",
       "2    3RYpfzRDiCTPESz7yBLT0e                  Colour Everywhere   \n",
       "3    29xs643Q96uQLD8f7SxYYw                              Sa'yo   \n",
       "4    2Pelm9xgLSC78mRk0jbOKb                    Sila - Acoustic   \n",
       "..                      ...                                ...   \n",
       "593  6yeIPT3MdWZfq1WCK4ze5M  Young, Wild & Free - Reggae Remix   \n",
       "595  7IG7T1Pv1Z5f15VopS2LoT                         Gugma-Biga   \n",
       "596  1nk82PEC6TM1C30mOFLzUd               Freedom Time (Intro)   \n",
       "597  1rt6GWcTzLi9aOLgTxZ45j                         Ragga Babe   \n",
       "598  0AvslhGdeTuYNZ12fqlNZG                            Beat Up   \n",
       "\n",
       "                  artist_id         artist_name                album_id  \\\n",
       "0    3wbCeEPAW6po7J46netxMT      Up Dharma Down  4SjshYHT8OeSHB6zun2Hxx   \n",
       "1    3wbCeEPAW6po7J46netxMT      Up Dharma Down  79lTnARkFpPsL8KJpV9UKI   \n",
       "2    4U78sK2D3zASSB6oSR38GQ  Christian Bautista  0qEwvzXNVsPFK7eftFej7Q   \n",
       "3    4nGp682WMiKS4X217kPw8C    Silent Sanctuary  4xxRoePLdITFIhrzUhmOaQ   \n",
       "4    0jKQrxK2zHqxyOAyIMrUQt                 SUD  1HHK0oozKwo9piao0wO25d   \n",
       "..                      ...                 ...                     ...   \n",
       "593  5os0Ltvz8Q8BvXOPOd1frx        Inner Circle  78NsgWOfM2C4UwKfgnx7re   \n",
       "595  0xk4WuulCGnS9WPkUypUQJ        Junior Kilat  7waxkyoBRNwPk01VpBzWPU   \n",
       "596  0wx17pjKXLhrOQxMT0VSPO              Lady I  2bZux8DtvBBR6cylgdgQXO   \n",
       "597  0wx17pjKXLhrOQxMT0VSPO              Lady I  2bZux8DtvBBR6cylgdgQXO   \n",
       "598  0wx17pjKXLhrOQxMT0VSPO              Lady I  2bZux8DtvBBR6cylgdgQXO   \n",
       "\n",
       "     duration release_date  popularity  danceability  energy  ...  \\\n",
       "0      222446   2012-12-07          17         0.686  0.3220  ...   \n",
       "1      280146   2009-02-05           5         0.731  0.4780  ...   \n",
       "2      253173   2004-03-25          47         0.730  0.4330  ...   \n",
       "3      253360   2013-06-11           1         0.567  0.0896  ...   \n",
       "4      319608   2016-03-18          48         0.751  0.2810  ...   \n",
       "..        ...          ...         ...           ...     ...  ...   \n",
       "593    199444   2015-05-05          35         0.685  0.7810  ...   \n",
       "595    252182   2018-06-15          26         0.689  0.8360  ...   \n",
       "596     41560   2009-11-14           3         0.775  0.3800  ...   \n",
       "597    220493   2009-11-14          19         0.763  0.8010  ...   \n",
       "598    229893   2009-11-14           5         0.835  0.6200  ...   \n",
       "\n",
       "     acousticness  instrumentalness  liveness  valence     tempo  \\\n",
       "0          0.1650          0.029600    0.0809    0.511  0.648813   \n",
       "1          0.3910          0.000007    0.1660    0.606  0.237858   \n",
       "2          0.7300          0.000000    0.1280    0.440  0.483791   \n",
       "3          0.7960          0.000000    0.2180    0.367  0.227053   \n",
       "4          0.7430          0.000000    0.2600    0.386  0.478465   \n",
       "..            ...               ...       ...      ...       ...   \n",
       "593        0.3530          0.000000    0.8730    0.818  0.303647   \n",
       "595        0.0850          0.039400    0.1410    0.741  0.617282   \n",
       "596        0.0543          0.122000    0.0866    0.485  0.648473   \n",
       "597        0.0413          0.000298    0.0238    0.904  0.309236   \n",
       "598        0.0606          0.000007    0.0701    0.824  0.529868   \n",
       "\n",
       "                playlist_id         genre             playlist_name  \\\n",
       "0    3GGq4AgCWovQf9unH4OeLA  opm acoustic  OPM Acoustic Mellow Rock   \n",
       "1    3GGq4AgCWovQf9unH4OeLA  opm acoustic  OPM Acoustic Mellow Rock   \n",
       "2    3GGq4AgCWovQf9unH4OeLA  opm acoustic  OPM Acoustic Mellow Rock   \n",
       "3    3GGq4AgCWovQf9unH4OeLA  opm acoustic  OPM Acoustic Mellow Rock   \n",
       "4    3GGq4AgCWovQf9unH4OeLA  opm acoustic  OPM Acoustic Mellow Rock   \n",
       "..                      ...           ...                       ...   \n",
       "593  5sqvBlSs8QFLOFUaJ86jLe    opm reggae          Beach opm reggae   \n",
       "595  74pXJHKE3lRPekHFswnZSu    opm reggae                OPM Reggae   \n",
       "596  74pXJHKE3lRPekHFswnZSu    opm reggae                OPM Reggae   \n",
       "597  74pXJHKE3lRPekHFswnZSu    opm reggae                OPM Reggae   \n",
       "598  74pXJHKE3lRPekHFswnZSu    opm reggae                OPM Reggae   \n",
       "\n",
       "     duration_mins genre_id  \n",
       "0         3.707433        0  \n",
       "1         4.669100        0  \n",
       "2         4.219550        0  \n",
       "3         4.222667        0  \n",
       "4         5.326800        0  \n",
       "..             ...      ...  \n",
       "593       3.324067        3  \n",
       "595       4.203033        3  \n",
       "596       0.692667        3  \n",
       "597       3.674883        3  \n",
       "598       3.831550        3  \n",
       "\n",
       "[5996 rows x 24 columns]"
      ]
     },
     "execution_count": 449,
     "metadata": {},
     "output_type": "execute_result"
    }
   ],
   "source": [
    "tracks_df['genre_id'] = tracks_df[\"genre\"].cat.codes\n",
    "tracks_df"
   ]
  },
  {
   "cell_type": "code",
   "execution_count": 450,
   "id": "463427d7",
   "metadata": {},
   "outputs": [
    {
     "data": {
      "text/plain": [
       "{0: 'opm acoustic',\n",
       " 1: 'opm indie',\n",
       " 4: 'opm rock',\n",
       " 2: 'opm rap',\n",
       " 3: 'opm reggae'}"
      ]
     },
     "execution_count": 450,
     "metadata": {},
     "output_type": "execute_result"
    }
   ],
   "source": [
    "tracks_df[['genre_id','genre']].drop_duplicates().set_index('genre_id').to_dict()['genre']"
   ]
  },
  {
   "cell_type": "code",
   "execution_count": 451,
   "id": "51e528c5",
   "metadata": {},
   "outputs": [
    {
     "data": {
      "text/plain": [
       "{0: 'opm acoustic',\n",
       " 1: 'opm indie',\n",
       " 2: 'opm rap',\n",
       " 3: 'opm reggae',\n",
       " 4: 'opm rock'}"
      ]
     },
     "execution_count": 451,
     "metadata": {},
     "output_type": "execute_result"
    }
   ],
   "source": [
    "genre_lookup = dict(tracks_df.groupby('genre_id').head(1)[['genre_id','genre']].sort_values('genre_id').values)\n",
    "genre_lookup"
   ]
  },
  {
   "cell_type": "code",
   "execution_count": 454,
   "id": "f7f57276",
   "metadata": {},
   "outputs": [],
   "source": [
    "features = ['danceability', 'energy', 'loudness', 'speechiness', 'acousticness', 'instrumentalness',\\\n",
    "                'liveness', 'valence', 'tempo']\n",
    "\n",
    "columns_to_view = ['artist_name', 'track_name', 'genre_id'] + features"
   ]
  },
  {
   "cell_type": "code",
   "execution_count": 457,
   "id": "1574cc5c",
   "metadata": {},
   "outputs": [
    {
     "data": {
      "text/html": [
       "<div>\n",
       "<style scoped>\n",
       "    .dataframe tbody tr th:only-of-type {\n",
       "        vertical-align: middle;\n",
       "    }\n",
       "\n",
       "    .dataframe tbody tr th {\n",
       "        vertical-align: top;\n",
       "    }\n",
       "\n",
       "    .dataframe thead th {\n",
       "        text-align: right;\n",
       "    }\n",
       "</style>\n",
       "<table border=\"1\" class=\"dataframe\">\n",
       "  <thead>\n",
       "    <tr style=\"text-align: right;\">\n",
       "      <th></th>\n",
       "      <th>track_name</th>\n",
       "      <th>artist_name</th>\n",
       "      <th>genre_id</th>\n",
       "      <th>feature</th>\n",
       "      <th>value</th>\n",
       "    </tr>\n",
       "  </thead>\n",
       "  <tbody>\n",
       "    <tr>\n",
       "      <th>30609</th>\n",
       "      <td>Shirley</td>\n",
       "      <td>Eraserheads</td>\n",
       "      <td>4</td>\n",
       "      <td>danceability</td>\n",
       "      <td>0.296000</td>\n",
       "    </tr>\n",
       "    <tr>\n",
       "      <th>30610</th>\n",
       "      <td>Shirley</td>\n",
       "      <td>Eraserheads</td>\n",
       "      <td>4</td>\n",
       "      <td>energy</td>\n",
       "      <td>0.952000</td>\n",
       "    </tr>\n",
       "    <tr>\n",
       "      <th>30611</th>\n",
       "      <td>Shirley</td>\n",
       "      <td>Eraserheads</td>\n",
       "      <td>4</td>\n",
       "      <td>loudness</td>\n",
       "      <td>0.652521</td>\n",
       "    </tr>\n",
       "    <tr>\n",
       "      <th>30612</th>\n",
       "      <td>Shirley</td>\n",
       "      <td>Eraserheads</td>\n",
       "      <td>4</td>\n",
       "      <td>speechiness</td>\n",
       "      <td>0.263000</td>\n",
       "    </tr>\n",
       "    <tr>\n",
       "      <th>30613</th>\n",
       "      <td>Shirley</td>\n",
       "      <td>Eraserheads</td>\n",
       "      <td>4</td>\n",
       "      <td>acousticness</td>\n",
       "      <td>0.016700</td>\n",
       "    </tr>\n",
       "    <tr>\n",
       "      <th>...</th>\n",
       "      <td>...</td>\n",
       "      <td>...</td>\n",
       "      <td>...</td>\n",
       "      <td>...</td>\n",
       "      <td>...</td>\n",
       "    </tr>\n",
       "    <tr>\n",
       "      <th>45391</th>\n",
       "      <td>LANGGA</td>\n",
       "      <td>Wilbert Ross</td>\n",
       "      <td>4</td>\n",
       "      <td>acousticness</td>\n",
       "      <td>0.750000</td>\n",
       "    </tr>\n",
       "    <tr>\n",
       "      <th>45392</th>\n",
       "      <td>LANGGA</td>\n",
       "      <td>Wilbert Ross</td>\n",
       "      <td>4</td>\n",
       "      <td>instrumentalness</td>\n",
       "      <td>0.000001</td>\n",
       "    </tr>\n",
       "    <tr>\n",
       "      <th>45393</th>\n",
       "      <td>LANGGA</td>\n",
       "      <td>Wilbert Ross</td>\n",
       "      <td>4</td>\n",
       "      <td>liveness</td>\n",
       "      <td>0.245000</td>\n",
       "    </tr>\n",
       "    <tr>\n",
       "      <th>45394</th>\n",
       "      <td>LANGGA</td>\n",
       "      <td>Wilbert Ross</td>\n",
       "      <td>4</td>\n",
       "      <td>valence</td>\n",
       "      <td>0.691000</td>\n",
       "    </tr>\n",
       "    <tr>\n",
       "      <th>45395</th>\n",
       "      <td>LANGGA</td>\n",
       "      <td>Wilbert Ross</td>\n",
       "      <td>4</td>\n",
       "      <td>tempo</td>\n",
       "      <td>0.548622</td>\n",
       "    </tr>\n",
       "  </tbody>\n",
       "</table>\n",
       "<p>14787 rows × 5 columns</p>\n",
       "</div>"
      ],
      "text/plain": [
       "      track_name   artist_name  genre_id           feature     value\n",
       "30609    Shirley   Eraserheads         4      danceability  0.296000\n",
       "30610    Shirley   Eraserheads         4            energy  0.952000\n",
       "30611    Shirley   Eraserheads         4          loudness  0.652521\n",
       "30612    Shirley   Eraserheads         4       speechiness  0.263000\n",
       "30613    Shirley   Eraserheads         4      acousticness  0.016700\n",
       "...          ...           ...       ...               ...       ...\n",
       "45391     LANGGA  Wilbert Ross         4      acousticness  0.750000\n",
       "45392     LANGGA  Wilbert Ross         4  instrumentalness  0.000001\n",
       "45393     LANGGA  Wilbert Ross         4          liveness  0.245000\n",
       "45394     LANGGA  Wilbert Ross         4           valence  0.691000\n",
       "45395     LANGGA  Wilbert Ross         4             tempo  0.548622\n",
       "\n",
       "[14787 rows x 5 columns]"
      ]
     },
     "execution_count": 457,
     "metadata": {},
     "output_type": "execute_result"
    }
   ],
   "source": [
    "df_features = tracks_df[columns_to_view].copy()\n",
    "\n",
    "# set multiindex\n",
    "df_features = df_features.set_index(['track_name', 'artist_name', 'genre_id'])\n",
    "#df_features.stack()\n",
    "# reshape by pd.stack to achieve shape demanded by boxplot\n",
    "df_features_stacked = pd.DataFrame({'value': df_features.stack()})\n",
    "# # reset index\n",
    "df_features_stacked = df_features_stacked.reset_index()\n",
    "# # rename level_3\n",
    "df_features_stacked = df_features_stacked.rename(columns={'level_3': 'feature'})\n",
    "df_features_stacked[df_features_stacked['genre_id'] == 4]"
   ]
  },
  {
   "cell_type": "code",
   "execution_count": 459,
   "id": "7f16b8f0",
   "metadata": {},
   "outputs": [
    {
     "data": {
      "text/plain": [
       "<matplotlib.legend.Legend at 0x21fabe92b50>"
      ]
     },
     "execution_count": 459,
     "metadata": {},
     "output_type": "execute_result"
    },
    {
     "data": {
      "image/png": "[encoded data removed]",
      "text/plain": [
       "<Figure size 1200x600 with 1 Axes>"
      ]
     },
     "metadata": {},
     "output_type": "display_data"
    }
   ],
   "source": [
    "plt.figure(figsize=(12, 6))\n",
    "ax = plt.subplot(111)\n",
    "\n",
    "sns.boxplot(data=df_features_stacked, x='feature', y= 'value',  hue='genre_id', ax=ax,\n",
    "            hue_order= [0,1,2,3,4])\n",
    "\n",
    "ax.legend(loc='upper center', bbox_to_anchor=(\n",
    "   0.5, -0.1), frameon=False, ncol=3)"
   ]
  },
  {
   "cell_type": "code",
   "execution_count": 412,
   "id": "af6ace30",
   "metadata": {},
   "outputs": [
    {
     "data": {
      "text/html": [
       "<div>\n",
       "<style scoped>\n",
       "    .dataframe tbody tr th:only-of-type {\n",
       "        vertical-align: middle;\n",
       "    }\n",
       "\n",
       "    .dataframe tbody tr th {\n",
       "        vertical-align: top;\n",
       "    }\n",
       "\n",
       "    .dataframe thead th {\n",
       "        text-align: right;\n",
       "    }\n",
       "</style>\n",
       "<table border=\"1\" class=\"dataframe\">\n",
       "  <thead>\n",
       "    <tr style=\"text-align: right;\">\n",
       "      <th></th>\n",
       "      <th>track_name</th>\n",
       "      <th>artist_name</th>\n",
       "      <th>genre_id</th>\n",
       "      <th>feature</th>\n",
       "      <th>value</th>\n",
       "    </tr>\n",
       "  </thead>\n",
       "  <tbody>\n",
       "  </tbody>\n",
       "</table>\n",
       "</div>"
      ],
      "text/plain": [
       "Empty DataFrame\n",
       "Columns: [track_name, artist_name, genre_id, feature, value]\n",
       "Index: []"
      ]
     },
     "execution_count": 412,
     "metadata": {},
     "output_type": "execute_result"
    }
   ],
   "source": [
    "columns_to_view = ['artist_name', 'track_name', 'genre_id', 'energy']\n",
    "df_features = tracks_df[columns_to_view].copy()\n",
    "\n",
    "# set multiindex\n",
    "df_features = df_features.set_index(['track_name', 'artist_name', 'genre_id'])\n",
    "#df_features.stack()\n",
    "# reshape by pd.stack to achieve shape demanded by boxplot\n",
    "df_features_stacked = pd.DataFrame({'value': df_features.stack()})\n",
    "# # reset index\n",
    "df_features_stacked = df_features_stacked.reset_index()\n",
    "# # rename level_3\n",
    "df_features_stacked = df_features_stacked.rename(columns={'level_3': 'feature'})\n",
    "df_features_stacked[df_features_stacked['genre_id'] == 5]"
   ]
  },
  {
   "cell_type": "code",
   "execution_count": 413,
   "id": "134b5454",
   "metadata": {},
   "outputs": [
    {
     "data": {
      "text/plain": [
       "<matplotlib.legend.Legend at 0x21fa8ee8400>"
      ]
     },
     "execution_count": 413,
     "metadata": {},
     "output_type": "execute_result"
    },
    {
     "data": {
      "image/png": "[encoded data removed]",
      "text/plain": [
       "<Figure size 800x600 with 1 Axes>"
      ]
     },
     "metadata": {},
     "output_type": "display_data"
    }
   ],
   "source": [
    "plt.figure(figsize=(8, 6))\n",
    "ax = plt.subplot(111)\n",
    "\n",
    "sns.boxplot(data=df_features_stacked, x='feature', y= 'value',  hue='genre_id', ax=ax,\n",
    "            hue_order= [0,1,2,3,4,5])\n",
    "\n",
    "ax.legend(loc='upper center', bbox_to_anchor=(\n",
    "   0.5, -0.1), frameon=False, ncol=3)"
   ]
  },
  {
   "cell_type": "code",
   "execution_count": 414,
   "id": "168f7249",
   "metadata": {},
   "outputs": [
    {
     "data": {
      "text/html": [
       "<div>\n",
       "<style scoped>\n",
       "    .dataframe tbody tr th:only-of-type {\n",
       "        vertical-align: middle;\n",
       "    }\n",
       "\n",
       "    .dataframe tbody tr th {\n",
       "        vertical-align: top;\n",
       "    }\n",
       "\n",
       "    .dataframe thead th {\n",
       "        text-align: right;\n",
       "    }\n",
       "</style>\n",
       "<table border=\"1\" class=\"dataframe\">\n",
       "  <thead>\n",
       "    <tr style=\"text-align: right;\">\n",
       "      <th></th>\n",
       "      <th>track_name</th>\n",
       "      <th>artist_name</th>\n",
       "      <th>genre_id</th>\n",
       "      <th>feature</th>\n",
       "      <th>value</th>\n",
       "    </tr>\n",
       "  </thead>\n",
       "  <tbody>\n",
       "  </tbody>\n",
       "</table>\n",
       "</div>"
      ],
      "text/plain": [
       "Empty DataFrame\n",
       "Columns: [track_name, artist_name, genre_id, feature, value]\n",
       "Index: []"
      ]
     },
     "execution_count": 414,
     "metadata": {},
     "output_type": "execute_result"
    }
   ],
   "source": [
    "columns_to_view = ['artist_name', 'track_name', 'genre_id', 'danceability']\n",
    "df_features = tracks_df[columns_to_view].copy()\n",
    "\n",
    "# set multiindex\n",
    "df_features = df_features.set_index(['track_name', 'artist_name', 'genre_id'])\n",
    "#df_features.stack()\n",
    "# reshape by pd.stack to achieve shape demanded by boxplot\n",
    "df_features_stacked = pd.DataFrame({'value': df_features.stack()})\n",
    "# # reset index\n",
    "df_features_stacked = df_features_stacked.reset_index()\n",
    "# # rename level_3\n",
    "df_features_stacked = df_features_stacked.rename(columns={'level_3': 'feature'})\n",
    "df_features_stacked[df_features_stacked['genre_id'] == 5]"
   ]
  },
  {
   "cell_type": "code",
   "execution_count": 415,
   "id": "409b06e1",
   "metadata": {},
   "outputs": [
    {
     "data": {
      "text/plain": [
       "<matplotlib.legend.Legend at 0x21fa8f5ad00>"
      ]
     },
     "execution_count": 415,
     "metadata": {},
     "output_type": "execute_result"
    },
    {
     "data": {
      "image/png": "[encoded data removed]",
      "text/plain": [
       "<Figure size 800x600 with 1 Axes>"
      ]
     },
     "metadata": {},
     "output_type": "display_data"
    }
   ],
   "source": [
    "plt.figure(figsize=(8, 6))\n",
    "ax = plt.subplot(111)\n",
    "\n",
    "sns.boxplot(data=df_features_stacked, x='feature', y= 'value',  hue='genre_id', ax=ax,\n",
    "            hue_order= [0,1,2,3,4,5])\n",
    "\n",
    "ax.legend(loc='upper center', bbox_to_anchor=(\n",
    "   0.5, -0.1), frameon=False, ncol=3)"
   ]
  },
  {
   "cell_type": "code",
   "execution_count": 25,
   "id": "8a34db43",
   "metadata": {},
   "outputs": [
    {
     "data": {
      "text/html": [
       "<div>\n",
       "<style scoped>\n",
       "    .dataframe tbody tr th:only-of-type {\n",
       "        vertical-align: middle;\n",
       "    }\n",
       "\n",
       "    .dataframe tbody tr th {\n",
       "        vertical-align: top;\n",
       "    }\n",
       "\n",
       "    .dataframe thead th {\n",
       "        text-align: right;\n",
       "    }\n",
       "</style>\n",
       "<table border=\"1\" class=\"dataframe\">\n",
       "  <thead>\n",
       "    <tr style=\"text-align: right;\">\n",
       "      <th></th>\n",
       "      <th>track_name</th>\n",
       "      <th>artist_name</th>\n",
       "      <th>genre_id</th>\n",
       "      <th>feature</th>\n",
       "      <th>value</th>\n",
       "    </tr>\n",
       "  </thead>\n",
       "  <tbody>\n",
       "    <tr>\n",
       "      <th>2083</th>\n",
       "      <td>Maling Akala</td>\n",
       "      <td>Brownman Revival</td>\n",
       "      <td>5</td>\n",
       "      <td>loudness</td>\n",
       "      <td>0.734751</td>\n",
       "    </tr>\n",
       "    <tr>\n",
       "      <th>2084</th>\n",
       "      <td>Bilog Na Naman Ang Buwan</td>\n",
       "      <td>Tropical Depression</td>\n",
       "      <td>5</td>\n",
       "      <td>loudness</td>\n",
       "      <td>0.405125</td>\n",
       "    </tr>\n",
       "    <tr>\n",
       "      <th>2085</th>\n",
       "      <td>Kapayapaan</td>\n",
       "      <td>Tropical Depression</td>\n",
       "      <td>5</td>\n",
       "      <td>loudness</td>\n",
       "      <td>0.350299</td>\n",
       "    </tr>\n",
       "    <tr>\n",
       "      <th>2086</th>\n",
       "      <td>Hitik Sa Bunga</td>\n",
       "      <td>Brownman Revival</td>\n",
       "      <td>5</td>\n",
       "      <td>loudness</td>\n",
       "      <td>0.892548</td>\n",
       "    </tr>\n",
       "    <tr>\n",
       "      <th>2087</th>\n",
       "      <td>Under The Reggae Moon</td>\n",
       "      <td>Brownman Revival</td>\n",
       "      <td>5</td>\n",
       "      <td>loudness</td>\n",
       "      <td>0.754127</td>\n",
       "    </tr>\n",
       "    <tr>\n",
       "      <th>...</th>\n",
       "      <td>...</td>\n",
       "      <td>...</td>\n",
       "      <td>...</td>\n",
       "      <td>...</td>\n",
       "      <td>...</td>\n",
       "    </tr>\n",
       "    <tr>\n",
       "      <th>2277</th>\n",
       "      <td>Rude</td>\n",
       "      <td>MAGIC!</td>\n",
       "      <td>5</td>\n",
       "      <td>loudness</td>\n",
       "      <td>0.798734</td>\n",
       "    </tr>\n",
       "    <tr>\n",
       "      <th>2278</th>\n",
       "      <td>Treat You Better</td>\n",
       "      <td>Conkarah</td>\n",
       "      <td>5</td>\n",
       "      <td>loudness</td>\n",
       "      <td>0.698043</td>\n",
       "    </tr>\n",
       "    <tr>\n",
       "      <th>2279</th>\n",
       "      <td>Careless Whisper</td>\n",
       "      <td>Empress Latoyah</td>\n",
       "      <td>5</td>\n",
       "      <td>loudness</td>\n",
       "      <td>0.733572</td>\n",
       "    </tr>\n",
       "    <tr>\n",
       "      <th>2280</th>\n",
       "      <td>The Lazy Song</td>\n",
       "      <td>Bruno Mars</td>\n",
       "      <td>5</td>\n",
       "      <td>loudness</td>\n",
       "      <td>0.793586</td>\n",
       "    </tr>\n",
       "    <tr>\n",
       "      <th>2281</th>\n",
       "      <td>One Call Away</td>\n",
       "      <td>JAHBOY</td>\n",
       "      <td>5</td>\n",
       "      <td>loudness</td>\n",
       "      <td>0.776961</td>\n",
       "    </tr>\n",
       "  </tbody>\n",
       "</table>\n",
       "<p>199 rows × 5 columns</p>\n",
       "</div>"
      ],
      "text/plain": [
       "                    track_name          artist_name  genre_id   feature  \\\n",
       "2083              Maling Akala     Brownman Revival         5  loudness   \n",
       "2084  Bilog Na Naman Ang Buwan  Tropical Depression         5  loudness   \n",
       "2085                Kapayapaan  Tropical Depression         5  loudness   \n",
       "2086            Hitik Sa Bunga     Brownman Revival         5  loudness   \n",
       "2087     Under The Reggae Moon     Brownman Revival         5  loudness   \n",
       "...                        ...                  ...       ...       ...   \n",
       "2277                      Rude               MAGIC!         5  loudness   \n",
       "2278          Treat You Better             Conkarah         5  loudness   \n",
       "2279          Careless Whisper      Empress Latoyah         5  loudness   \n",
       "2280             The Lazy Song           Bruno Mars         5  loudness   \n",
       "2281             One Call Away               JAHBOY         5  loudness   \n",
       "\n",
       "         value  \n",
       "2083  0.734751  \n",
       "2084  0.405125  \n",
       "2085  0.350299  \n",
       "2086  0.892548  \n",
       "2087  0.754127  \n",
       "...        ...  \n",
       "2277  0.798734  \n",
       "2278  0.698043  \n",
       "2279  0.733572  \n",
       "2280  0.793586  \n",
       "2281  0.776961  \n",
       "\n",
       "[199 rows x 5 columns]"
      ]
     },
     "execution_count": 25,
     "metadata": {},
     "output_type": "execute_result"
    }
   ],
   "source": [
    "columns_to_view = ['artist_name', 'track_name', 'genre_id', 'loudness']\n",
    "df_features = tracks_df[columns_to_view].copy()\n",
    "\n",
    "# set multiindex\n",
    "df_features = df_features.set_index(['track_name', 'artist_name', 'genre_id'])\n",
    "#df_features.stack()\n",
    "# reshape by pd.stack to achieve shape demanded by boxplot\n",
    "df_features_stacked = pd.DataFrame({'value': df_features.stack()})\n",
    "# # reset index\n",
    "df_features_stacked = df_features_stacked.reset_index()\n",
    "# # rename level_3\n",
    "df_features_stacked = df_features_stacked.rename(columns={'level_3': 'feature'})\n",
    "df_features_stacked[df_features_stacked['genre_id'] == 5]"
   ]
  },
  {
   "cell_type": "code",
   "execution_count": 26,
   "id": "b39e6641",
   "metadata": {},
   "outputs": [
    {
     "data": {
      "text/plain": [
       "<matplotlib.legend.Legend at 0x21f99e54fa0>"
      ]
     },
     "execution_count": 26,
     "metadata": {},
     "output_type": "execute_result"
    },
    {
     "data": {
      "image/png": "[encoded data removed]",
      "text/plain": [
       "<Figure size 800x600 with 1 Axes>"
      ]
     },
     "metadata": {},
     "output_type": "display_data"
    }
   ],
   "source": [
    "plt.figure(figsize=(8, 6))\n",
    "ax = plt.subplot(111)\n",
    "\n",
    "sns.boxplot(data=df_features_stacked, x='feature', y= 'value',  hue='genre_id', ax=ax,\n",
    "            hue_order= [0,1,2,3,4,5,6])\n",
    "\n",
    "ax.legend(loc='upper center', bbox_to_anchor=(\n",
    "   0.5, -0.1), frameon=False, ncol=3)"
   ]
  },
  {
   "cell_type": "code",
   "execution_count": 416,
   "id": "38505a0a",
   "metadata": {},
   "outputs": [
    {
     "data": {
      "text/html": [
       "<div>\n",
       "<style scoped>\n",
       "    .dataframe tbody tr th:only-of-type {\n",
       "        vertical-align: middle;\n",
       "    }\n",
       "\n",
       "    .dataframe tbody tr th {\n",
       "        vertical-align: top;\n",
       "    }\n",
       "\n",
       "    .dataframe thead th {\n",
       "        text-align: right;\n",
       "    }\n",
       "</style>\n",
       "<table border=\"1\" class=\"dataframe\">\n",
       "  <thead>\n",
       "    <tr style=\"text-align: right;\">\n",
       "      <th></th>\n",
       "      <th>track_name</th>\n",
       "      <th>artist_name</th>\n",
       "      <th>genre_id</th>\n",
       "      <th>feature</th>\n",
       "      <th>value</th>\n",
       "    </tr>\n",
       "  </thead>\n",
       "  <tbody>\n",
       "  </tbody>\n",
       "</table>\n",
       "</div>"
      ],
      "text/plain": [
       "Empty DataFrame\n",
       "Columns: [track_name, artist_name, genre_id, feature, value]\n",
       "Index: []"
      ]
     },
     "execution_count": 416,
     "metadata": {},
     "output_type": "execute_result"
    }
   ],
   "source": [
    "columns_to_view = ['artist_name', 'track_name', 'genre_id', 'acousticness']\n",
    "df_features = tracks_df[columns_to_view].copy()\n",
    "\n",
    "# set multiindex\n",
    "df_features = df_features.set_index(['track_name', 'artist_name', 'genre_id'])\n",
    "#df_features.stack()\n",
    "# reshape by pd.stack to achieve shape demanded by boxplot\n",
    "df_features_stacked = pd.DataFrame({'value': df_features.stack()})\n",
    "# # reset index\n",
    "df_features_stacked = df_features_stacked.reset_index()\n",
    "# # rename level_3\n",
    "df_features_stacked = df_features_stacked.rename(columns={'level_3': 'feature'})\n",
    "df_features_stacked[df_features_stacked['genre_id'] == 5]"
   ]
  },
  {
   "cell_type": "code",
   "execution_count": 417,
   "id": "01e588d3",
   "metadata": {},
   "outputs": [
    {
     "data": {
      "text/plain": [
       "<matplotlib.legend.Legend at 0x21fa6be3250>"
      ]
     },
     "execution_count": 417,
     "metadata": {},
     "output_type": "execute_result"
    },
    {
     "data": {
      "image/png": "[encoded data removed]",
      "text/plain": [
       "<Figure size 800x600 with 1 Axes>"
      ]
     },
     "metadata": {},
     "output_type": "display_data"
    }
   ],
   "source": [
    "plt.figure(figsize=(8, 6))\n",
    "ax = plt.subplot(111)\n",
    "\n",
    "sns.boxplot(data=df_features_stacked, x='feature', y= 'value',  hue='genre_id', ax=ax,\n",
    "            hue_order= [0,1,2,3,4,5])\n",
    "\n",
    "ax.legend(loc='upper center', bbox_to_anchor=(\n",
    "   0.5, -0.1), frameon=False, ncol=3)"
   ]
  },
  {
   "cell_type": "code",
   "execution_count": 29,
   "id": "768be93f",
   "metadata": {},
   "outputs": [
    {
     "data": {
      "text/html": [
       "<div>\n",
       "<style scoped>\n",
       "    .dataframe tbody tr th:only-of-type {\n",
       "        vertical-align: middle;\n",
       "    }\n",
       "\n",
       "    .dataframe tbody tr th {\n",
       "        vertical-align: top;\n",
       "    }\n",
       "\n",
       "    .dataframe thead th {\n",
       "        text-align: right;\n",
       "    }\n",
       "</style>\n",
       "<table border=\"1\" class=\"dataframe\">\n",
       "  <thead>\n",
       "    <tr style=\"text-align: right;\">\n",
       "      <th></th>\n",
       "      <th>track_name</th>\n",
       "      <th>artist_name</th>\n",
       "      <th>genre_id</th>\n",
       "      <th>feature</th>\n",
       "      <th>value</th>\n",
       "    </tr>\n",
       "  </thead>\n",
       "  <tbody>\n",
       "    <tr>\n",
       "      <th>2083</th>\n",
       "      <td>Maling Akala</td>\n",
       "      <td>Brownman Revival</td>\n",
       "      <td>5</td>\n",
       "      <td>liveness</td>\n",
       "      <td>0.0876</td>\n",
       "    </tr>\n",
       "    <tr>\n",
       "      <th>2084</th>\n",
       "      <td>Bilog Na Naman Ang Buwan</td>\n",
       "      <td>Tropical Depression</td>\n",
       "      <td>5</td>\n",
       "      <td>liveness</td>\n",
       "      <td>0.3450</td>\n",
       "    </tr>\n",
       "    <tr>\n",
       "      <th>2085</th>\n",
       "      <td>Kapayapaan</td>\n",
       "      <td>Tropical Depression</td>\n",
       "      <td>5</td>\n",
       "      <td>liveness</td>\n",
       "      <td>0.0988</td>\n",
       "    </tr>\n",
       "    <tr>\n",
       "      <th>2086</th>\n",
       "      <td>Hitik Sa Bunga</td>\n",
       "      <td>Brownman Revival</td>\n",
       "      <td>5</td>\n",
       "      <td>liveness</td>\n",
       "      <td>0.1060</td>\n",
       "    </tr>\n",
       "    <tr>\n",
       "      <th>2087</th>\n",
       "      <td>Under The Reggae Moon</td>\n",
       "      <td>Brownman Revival</td>\n",
       "      <td>5</td>\n",
       "      <td>liveness</td>\n",
       "      <td>0.0602</td>\n",
       "    </tr>\n",
       "    <tr>\n",
       "      <th>...</th>\n",
       "      <td>...</td>\n",
       "      <td>...</td>\n",
       "      <td>...</td>\n",
       "      <td>...</td>\n",
       "      <td>...</td>\n",
       "    </tr>\n",
       "    <tr>\n",
       "      <th>2277</th>\n",
       "      <td>Rude</td>\n",
       "      <td>MAGIC!</td>\n",
       "      <td>5</td>\n",
       "      <td>liveness</td>\n",
       "      <td>0.3050</td>\n",
       "    </tr>\n",
       "    <tr>\n",
       "      <th>2278</th>\n",
       "      <td>Treat You Better</td>\n",
       "      <td>Conkarah</td>\n",
       "      <td>5</td>\n",
       "      <td>liveness</td>\n",
       "      <td>0.0905</td>\n",
       "    </tr>\n",
       "    <tr>\n",
       "      <th>2279</th>\n",
       "      <td>Careless Whisper</td>\n",
       "      <td>Empress Latoyah</td>\n",
       "      <td>5</td>\n",
       "      <td>liveness</td>\n",
       "      <td>0.0337</td>\n",
       "    </tr>\n",
       "    <tr>\n",
       "      <th>2280</th>\n",
       "      <td>The Lazy Song</td>\n",
       "      <td>Bruno Mars</td>\n",
       "      <td>5</td>\n",
       "      <td>liveness</td>\n",
       "      <td>0.0955</td>\n",
       "    </tr>\n",
       "    <tr>\n",
       "      <th>2281</th>\n",
       "      <td>One Call Away</td>\n",
       "      <td>JAHBOY</td>\n",
       "      <td>5</td>\n",
       "      <td>liveness</td>\n",
       "      <td>0.0659</td>\n",
       "    </tr>\n",
       "  </tbody>\n",
       "</table>\n",
       "<p>199 rows × 5 columns</p>\n",
       "</div>"
      ],
      "text/plain": [
       "                    track_name          artist_name  genre_id   feature  \\\n",
       "2083              Maling Akala     Brownman Revival         5  liveness   \n",
       "2084  Bilog Na Naman Ang Buwan  Tropical Depression         5  liveness   \n",
       "2085                Kapayapaan  Tropical Depression         5  liveness   \n",
       "2086            Hitik Sa Bunga     Brownman Revival         5  liveness   \n",
       "2087     Under The Reggae Moon     Brownman Revival         5  liveness   \n",
       "...                        ...                  ...       ...       ...   \n",
       "2277                      Rude               MAGIC!         5  liveness   \n",
       "2278          Treat You Better             Conkarah         5  liveness   \n",
       "2279          Careless Whisper      Empress Latoyah         5  liveness   \n",
       "2280             The Lazy Song           Bruno Mars         5  liveness   \n",
       "2281             One Call Away               JAHBOY         5  liveness   \n",
       "\n",
       "       value  \n",
       "2083  0.0876  \n",
       "2084  0.3450  \n",
       "2085  0.0988  \n",
       "2086  0.1060  \n",
       "2087  0.0602  \n",
       "...      ...  \n",
       "2277  0.3050  \n",
       "2278  0.0905  \n",
       "2279  0.0337  \n",
       "2280  0.0955  \n",
       "2281  0.0659  \n",
       "\n",
       "[199 rows x 5 columns]"
      ]
     },
     "execution_count": 29,
     "metadata": {},
     "output_type": "execute_result"
    }
   ],
   "source": [
    "columns_to_view = ['artist_name', 'track_name', 'genre_id', 'liveness']\n",
    "df_features = tracks_df[columns_to_view].copy()\n",
    "\n",
    "# set multiindex\n",
    "df_features = df_features.set_index(['track_name', 'artist_name', 'genre_id'])\n",
    "#df_features.stack()\n",
    "# reshape by pd.stack to achieve shape demanded by boxplot\n",
    "df_features_stacked = pd.DataFrame({'value': df_features.stack()})\n",
    "# # reset index\n",
    "df_features_stacked = df_features_stacked.reset_index()\n",
    "# # rename level_3\n",
    "df_features_stacked = df_features_stacked.rename(columns={'level_3': 'feature'})\n",
    "df_features_stacked[df_features_stacked['genre_id'] == 5]"
   ]
  },
  {
   "cell_type": "code",
   "execution_count": 30,
   "id": "985579f8",
   "metadata": {},
   "outputs": [
    {
     "data": {
      "text/plain": [
       "<matplotlib.legend.Legend at 0x21f9a2bb8e0>"
      ]
     },
     "execution_count": 30,
     "metadata": {},
     "output_type": "execute_result"
    },
    {
     "data": {
      "image/png": "[encoded data removed]",
      "text/plain": [
       "<Figure size 800x600 with 1 Axes>"
      ]
     },
     "metadata": {},
     "output_type": "display_data"
    }
   ],
   "source": [
    "plt.figure(figsize=(8, 6))\n",
    "ax = plt.subplot(111)\n",
    "\n",
    "sns.boxplot(data=df_features_stacked, x='feature', y= 'value',  hue='genre_id', ax=ax,\n",
    "            hue_order= [0,1,2,3,4,5,6])\n",
    "\n",
    "ax.legend(loc='upper center', bbox_to_anchor=(\n",
    "   0.5, -0.1), frameon=False, ncol=3)"
   ]
  },
  {
   "cell_type": "code",
   "execution_count": 418,
   "id": "13050e22",
   "metadata": {},
   "outputs": [
    {
     "data": {
      "text/html": [
       "<div>\n",
       "<style scoped>\n",
       "    .dataframe tbody tr th:only-of-type {\n",
       "        vertical-align: middle;\n",
       "    }\n",
       "\n",
       "    .dataframe tbody tr th {\n",
       "        vertical-align: top;\n",
       "    }\n",
       "\n",
       "    .dataframe thead th {\n",
       "        text-align: right;\n",
       "    }\n",
       "</style>\n",
       "<table border=\"1\" class=\"dataframe\">\n",
       "  <thead>\n",
       "    <tr style=\"text-align: right;\">\n",
       "      <th></th>\n",
       "      <th>track_name</th>\n",
       "      <th>artist_name</th>\n",
       "      <th>genre_id</th>\n",
       "      <th>feature</th>\n",
       "      <th>value</th>\n",
       "    </tr>\n",
       "  </thead>\n",
       "  <tbody>\n",
       "  </tbody>\n",
       "</table>\n",
       "</div>"
      ],
      "text/plain": [
       "Empty DataFrame\n",
       "Columns: [track_name, artist_name, genre_id, feature, value]\n",
       "Index: []"
      ]
     },
     "execution_count": 418,
     "metadata": {},
     "output_type": "execute_result"
    }
   ],
   "source": [
    "columns_to_view = ['artist_name', 'track_name', 'genre_id', 'valence']\n",
    "df_features = tracks_df[columns_to_view].copy()\n",
    "\n",
    "# set multiindex\n",
    "df_features = df_features.set_index(['track_name', 'artist_name', 'genre_id'])\n",
    "#df_features.stack()\n",
    "# reshape by pd.stack to achieve shape demanded by boxplot\n",
    "df_features_stacked = pd.DataFrame({'value': df_features.stack()})\n",
    "# # reset index\n",
    "df_features_stacked = df_features_stacked.reset_index()\n",
    "# # rename level_3\n",
    "df_features_stacked = df_features_stacked.rename(columns={'level_3': 'feature'})\n",
    "df_features_stacked[df_features_stacked['genre_id'] == 5]"
   ]
  },
  {
   "cell_type": "code",
   "execution_count": 419,
   "id": "88182850",
   "metadata": {},
   "outputs": [
    {
     "data": {
      "text/plain": [
       "<matplotlib.legend.Legend at 0x21fa900b8b0>"
      ]
     },
     "execution_count": 419,
     "metadata": {},
     "output_type": "execute_result"
    },
    {
     "data": {
      "image/png": "[encoded data removed]",
      "text/plain": [
       "<Figure size 800x600 with 1 Axes>"
      ]
     },
     "metadata": {},
     "output_type": "display_data"
    }
   ],
   "source": [
    "plt.figure(figsize=(8, 6))\n",
    "ax = plt.subplot(111)\n",
    "\n",
    "sns.boxplot(data=df_features_stacked, x='feature', y= 'value',  hue='genre_id', ax=ax,\n",
    "            hue_order= [0,1,2,3,4,5])\n",
    "\n",
    "ax.legend(loc='upper center', bbox_to_anchor=(\n",
    "   0.5, -0.1), frameon=False, ncol=3)"
   ]
  },
  {
   "cell_type": "code",
   "execution_count": 293,
   "id": "54243087",
   "metadata": {},
   "outputs": [
    {
     "data": {
      "text/html": [
       "<div>\n",
       "<style scoped>\n",
       "    .dataframe tbody tr th:only-of-type {\n",
       "        vertical-align: middle;\n",
       "    }\n",
       "\n",
       "    .dataframe tbody tr th {\n",
       "        vertical-align: top;\n",
       "    }\n",
       "\n",
       "    .dataframe thead th {\n",
       "        text-align: right;\n",
       "    }\n",
       "</style>\n",
       "<table border=\"1\" class=\"dataframe\">\n",
       "  <thead>\n",
       "    <tr style=\"text-align: right;\">\n",
       "      <th></th>\n",
       "      <th>track_name</th>\n",
       "      <th>artist_name</th>\n",
       "      <th>genre_id</th>\n",
       "      <th>feature</th>\n",
       "      <th>value</th>\n",
       "    </tr>\n",
       "  </thead>\n",
       "  <tbody>\n",
       "  </tbody>\n",
       "</table>\n",
       "</div>"
      ],
      "text/plain": [
       "Empty DataFrame\n",
       "Columns: [track_name, artist_name, genre_id, feature, value]\n",
       "Index: []"
      ]
     },
     "execution_count": 293,
     "metadata": {},
     "output_type": "execute_result"
    }
   ],
   "source": [
    "columns_to_view = ['artist_name', 'track_name', 'genre_id', 'tempo']\n",
    "df_features = tracks_df[columns_to_view].copy()\n",
    "\n",
    "# set multiindex\n",
    "df_features = df_features.set_index(['track_name', 'artist_name', 'genre_id'])\n",
    "#df_features.stack()\n",
    "# reshape by pd.stack to achieve shape demanded by boxplot\n",
    "df_features_stacked = pd.DataFrame({'value': df_features.stack()})\n",
    "# # reset index\n",
    "df_features_stacked = df_features_stacked.reset_index()\n",
    "# # rename level_3\n",
    "df_features_stacked = df_features_stacked.rename(columns={'level_3': 'feature'})\n",
    "df_features_stacked[df_features_stacked['genre_id'] == 5]"
   ]
  },
  {
   "cell_type": "code",
   "execution_count": 294,
   "id": "13263d25",
   "metadata": {},
   "outputs": [
    {
     "data": {
      "text/plain": [
       "<matplotlib.legend.Legend at 0x21fa4b957f0>"
      ]
     },
     "execution_count": 294,
     "metadata": {},
     "output_type": "execute_result"
    },
    {
     "data": {
      "image/png": "[encoded data removed]",
      "text/plain": [
       "<Figure size 800x600 with 1 Axes>"
      ]
     },
     "metadata": {},
     "output_type": "display_data"
    }
   ],
   "source": [
    "plt.figure(figsize=(8, 6))\n",
    "ax = plt.subplot(111)\n",
    "\n",
    "sns.boxplot(data=df_features_stacked, x='feature', y= 'value',  hue='genre_id', ax=ax,\n",
    "            hue_order= [0,1,2,3,4,5])\n",
    "\n",
    "ax.legend(loc='upper center', bbox_to_anchor=(\n",
    "   0.5, -0.1), frameon=False, ncol=3)"
   ]
  },
  {
   "cell_type": "code",
   "execution_count": 35,
   "id": "2960085c",
   "metadata": {},
   "outputs": [
    {
     "data": {
      "text/html": [
       "<div>\n",
       "<style scoped>\n",
       "    .dataframe tbody tr th:only-of-type {\n",
       "        vertical-align: middle;\n",
       "    }\n",
       "\n",
       "    .dataframe tbody tr th {\n",
       "        vertical-align: top;\n",
       "    }\n",
       "\n",
       "    .dataframe thead th {\n",
       "        text-align: right;\n",
       "    }\n",
       "</style>\n",
       "<table border=\"1\" class=\"dataframe\">\n",
       "  <thead>\n",
       "    <tr style=\"text-align: right;\">\n",
       "      <th></th>\n",
       "      <th>track_name</th>\n",
       "      <th>artist_name</th>\n",
       "      <th>genre_id</th>\n",
       "      <th>feature</th>\n",
       "      <th>value</th>\n",
       "    </tr>\n",
       "  </thead>\n",
       "  <tbody>\n",
       "    <tr>\n",
       "      <th>2083</th>\n",
       "      <td>Maling Akala</td>\n",
       "      <td>Brownman Revival</td>\n",
       "      <td>5</td>\n",
       "      <td>instrumentalness</td>\n",
       "      <td>0.000023</td>\n",
       "    </tr>\n",
       "    <tr>\n",
       "      <th>2084</th>\n",
       "      <td>Bilog Na Naman Ang Buwan</td>\n",
       "      <td>Tropical Depression</td>\n",
       "      <td>5</td>\n",
       "      <td>instrumentalness</td>\n",
       "      <td>0.000000</td>\n",
       "    </tr>\n",
       "    <tr>\n",
       "      <th>2085</th>\n",
       "      <td>Kapayapaan</td>\n",
       "      <td>Tropical Depression</td>\n",
       "      <td>5</td>\n",
       "      <td>instrumentalness</td>\n",
       "      <td>0.000013</td>\n",
       "    </tr>\n",
       "    <tr>\n",
       "      <th>2086</th>\n",
       "      <td>Hitik Sa Bunga</td>\n",
       "      <td>Brownman Revival</td>\n",
       "      <td>5</td>\n",
       "      <td>instrumentalness</td>\n",
       "      <td>0.145000</td>\n",
       "    </tr>\n",
       "    <tr>\n",
       "      <th>2087</th>\n",
       "      <td>Under The Reggae Moon</td>\n",
       "      <td>Brownman Revival</td>\n",
       "      <td>5</td>\n",
       "      <td>instrumentalness</td>\n",
       "      <td>0.000164</td>\n",
       "    </tr>\n",
       "    <tr>\n",
       "      <th>...</th>\n",
       "      <td>...</td>\n",
       "      <td>...</td>\n",
       "      <td>...</td>\n",
       "      <td>...</td>\n",
       "      <td>...</td>\n",
       "    </tr>\n",
       "    <tr>\n",
       "      <th>2277</th>\n",
       "      <td>Rude</td>\n",
       "      <td>MAGIC!</td>\n",
       "      <td>5</td>\n",
       "      <td>instrumentalness</td>\n",
       "      <td>0.000000</td>\n",
       "    </tr>\n",
       "    <tr>\n",
       "      <th>2278</th>\n",
       "      <td>Treat You Better</td>\n",
       "      <td>Conkarah</td>\n",
       "      <td>5</td>\n",
       "      <td>instrumentalness</td>\n",
       "      <td>0.000000</td>\n",
       "    </tr>\n",
       "    <tr>\n",
       "      <th>2279</th>\n",
       "      <td>Careless Whisper</td>\n",
       "      <td>Empress Latoyah</td>\n",
       "      <td>5</td>\n",
       "      <td>instrumentalness</td>\n",
       "      <td>0.000000</td>\n",
       "    </tr>\n",
       "    <tr>\n",
       "      <th>2280</th>\n",
       "      <td>The Lazy Song</td>\n",
       "      <td>Bruno Mars</td>\n",
       "      <td>5</td>\n",
       "      <td>instrumentalness</td>\n",
       "      <td>0.000000</td>\n",
       "    </tr>\n",
       "    <tr>\n",
       "      <th>2281</th>\n",
       "      <td>One Call Away</td>\n",
       "      <td>JAHBOY</td>\n",
       "      <td>5</td>\n",
       "      <td>instrumentalness</td>\n",
       "      <td>0.000000</td>\n",
       "    </tr>\n",
       "  </tbody>\n",
       "</table>\n",
       "<p>199 rows × 5 columns</p>\n",
       "</div>"
      ],
      "text/plain": [
       "                    track_name          artist_name  genre_id  \\\n",
       "2083              Maling Akala     Brownman Revival         5   \n",
       "2084  Bilog Na Naman Ang Buwan  Tropical Depression         5   \n",
       "2085                Kapayapaan  Tropical Depression         5   \n",
       "2086            Hitik Sa Bunga     Brownman Revival         5   \n",
       "2087     Under The Reggae Moon     Brownman Revival         5   \n",
       "...                        ...                  ...       ...   \n",
       "2277                      Rude               MAGIC!         5   \n",
       "2278          Treat You Better             Conkarah         5   \n",
       "2279          Careless Whisper      Empress Latoyah         5   \n",
       "2280             The Lazy Song           Bruno Mars         5   \n",
       "2281             One Call Away               JAHBOY         5   \n",
       "\n",
       "               feature     value  \n",
       "2083  instrumentalness  0.000023  \n",
       "2084  instrumentalness  0.000000  \n",
       "2085  instrumentalness  0.000013  \n",
       "2086  instrumentalness  0.145000  \n",
       "2087  instrumentalness  0.000164  \n",
       "...                ...       ...  \n",
       "2277  instrumentalness  0.000000  \n",
       "2278  instrumentalness  0.000000  \n",
       "2279  instrumentalness  0.000000  \n",
       "2280  instrumentalness  0.000000  \n",
       "2281  instrumentalness  0.000000  \n",
       "\n",
       "[199 rows x 5 columns]"
      ]
     },
     "execution_count": 35,
     "metadata": {},
     "output_type": "execute_result"
    }
   ],
   "source": [
    "columns_to_view = ['artist_name', 'track_name', 'genre_id', 'instrumentalness']\n",
    "df_features = tracks_df[columns_to_view].copy()\n",
    "\n",
    "# set multiindex\n",
    "df_features = df_features.set_index(['track_name', 'artist_name', 'genre_id'])\n",
    "#df_features.stack()\n",
    "# reshape by pd.stack to achieve shape demanded by boxplot\n",
    "df_features_stacked = pd.DataFrame({'value': df_features.stack()})\n",
    "# # reset index\n",
    "df_features_stacked = df_features_stacked.reset_index()\n",
    "# # rename level_3\n",
    "df_features_stacked = df_features_stacked.rename(columns={'level_3': 'feature'})\n",
    "df_features_stacked[df_features_stacked['genre_id'] == 5]"
   ]
  },
  {
   "cell_type": "code",
   "execution_count": 36,
   "id": "c5feffeb",
   "metadata": {},
   "outputs": [
    {
     "data": {
      "text/plain": [
       "<matplotlib.legend.Legend at 0x21f9be228b0>"
      ]
     },
     "execution_count": 36,
     "metadata": {},
     "output_type": "execute_result"
    },
    {
     "data": {
      "image/png": "[encoded data removed]",
      "text/plain": [
       "<Figure size 800x600 with 1 Axes>"
      ]
     },
     "metadata": {},
     "output_type": "display_data"
    }
   ],
   "source": [
    "plt.figure(figsize=(8, 6))\n",
    "ax = plt.subplot(111)\n",
    "\n",
    "sns.boxplot(data=df_features_stacked, x='feature', y= 'value',  hue='genre_id', ax=ax,\n",
    "            hue_order= [0,1,2,3,4,5,6])\n",
    "\n",
    "ax.legend(loc='upper center', bbox_to_anchor=(\n",
    "   0.5, -0.1), frameon=False, ncol=3)"
   ]
  },
  {
   "cell_type": "code",
   "execution_count": 37,
   "id": "0220e23f",
   "metadata": {},
   "outputs": [
    {
     "data": {
      "text/html": [
       "<div>\n",
       "<style scoped>\n",
       "    .dataframe tbody tr th:only-of-type {\n",
       "        vertical-align: middle;\n",
       "    }\n",
       "\n",
       "    .dataframe tbody tr th {\n",
       "        vertical-align: top;\n",
       "    }\n",
       "\n",
       "    .dataframe thead th {\n",
       "        text-align: right;\n",
       "    }\n",
       "</style>\n",
       "<table border=\"1\" class=\"dataframe\">\n",
       "  <thead>\n",
       "    <tr style=\"text-align: right;\">\n",
       "      <th></th>\n",
       "      <th>track_name</th>\n",
       "      <th>artist_name</th>\n",
       "      <th>genre_id</th>\n",
       "      <th>feature</th>\n",
       "      <th>value</th>\n",
       "    </tr>\n",
       "  </thead>\n",
       "  <tbody>\n",
       "    <tr>\n",
       "      <th>2083</th>\n",
       "      <td>Maling Akala</td>\n",
       "      <td>Brownman Revival</td>\n",
       "      <td>5</td>\n",
       "      <td>speechiness</td>\n",
       "      <td>0.0405</td>\n",
       "    </tr>\n",
       "    <tr>\n",
       "      <th>2084</th>\n",
       "      <td>Bilog Na Naman Ang Buwan</td>\n",
       "      <td>Tropical Depression</td>\n",
       "      <td>5</td>\n",
       "      <td>speechiness</td>\n",
       "      <td>0.1750</td>\n",
       "    </tr>\n",
       "    <tr>\n",
       "      <th>2085</th>\n",
       "      <td>Kapayapaan</td>\n",
       "      <td>Tropical Depression</td>\n",
       "      <td>5</td>\n",
       "      <td>speechiness</td>\n",
       "      <td>0.0774</td>\n",
       "    </tr>\n",
       "    <tr>\n",
       "      <th>2086</th>\n",
       "      <td>Hitik Sa Bunga</td>\n",
       "      <td>Brownman Revival</td>\n",
       "      <td>5</td>\n",
       "      <td>speechiness</td>\n",
       "      <td>0.0265</td>\n",
       "    </tr>\n",
       "    <tr>\n",
       "      <th>2087</th>\n",
       "      <td>Under The Reggae Moon</td>\n",
       "      <td>Brownman Revival</td>\n",
       "      <td>5</td>\n",
       "      <td>speechiness</td>\n",
       "      <td>0.0449</td>\n",
       "    </tr>\n",
       "    <tr>\n",
       "      <th>...</th>\n",
       "      <td>...</td>\n",
       "      <td>...</td>\n",
       "      <td>...</td>\n",
       "      <td>...</td>\n",
       "      <td>...</td>\n",
       "    </tr>\n",
       "    <tr>\n",
       "      <th>2277</th>\n",
       "      <td>Rude</td>\n",
       "      <td>MAGIC!</td>\n",
       "      <td>5</td>\n",
       "      <td>speechiness</td>\n",
       "      <td>0.0381</td>\n",
       "    </tr>\n",
       "    <tr>\n",
       "      <th>2278</th>\n",
       "      <td>Treat You Better</td>\n",
       "      <td>Conkarah</td>\n",
       "      <td>5</td>\n",
       "      <td>speechiness</td>\n",
       "      <td>0.1750</td>\n",
       "    </tr>\n",
       "    <tr>\n",
       "      <th>2279</th>\n",
       "      <td>Careless Whisper</td>\n",
       "      <td>Empress Latoyah</td>\n",
       "      <td>5</td>\n",
       "      <td>speechiness</td>\n",
       "      <td>0.0672</td>\n",
       "    </tr>\n",
       "    <tr>\n",
       "      <th>2280</th>\n",
       "      <td>The Lazy Song</td>\n",
       "      <td>Bruno Mars</td>\n",
       "      <td>5</td>\n",
       "      <td>speechiness</td>\n",
       "      <td>0.0699</td>\n",
       "    </tr>\n",
       "    <tr>\n",
       "      <th>2281</th>\n",
       "      <td>One Call Away</td>\n",
       "      <td>JAHBOY</td>\n",
       "      <td>5</td>\n",
       "      <td>speechiness</td>\n",
       "      <td>0.0458</td>\n",
       "    </tr>\n",
       "  </tbody>\n",
       "</table>\n",
       "<p>199 rows × 5 columns</p>\n",
       "</div>"
      ],
      "text/plain": [
       "                    track_name          artist_name  genre_id      feature  \\\n",
       "2083              Maling Akala     Brownman Revival         5  speechiness   \n",
       "2084  Bilog Na Naman Ang Buwan  Tropical Depression         5  speechiness   \n",
       "2085                Kapayapaan  Tropical Depression         5  speechiness   \n",
       "2086            Hitik Sa Bunga     Brownman Revival         5  speechiness   \n",
       "2087     Under The Reggae Moon     Brownman Revival         5  speechiness   \n",
       "...                        ...                  ...       ...          ...   \n",
       "2277                      Rude               MAGIC!         5  speechiness   \n",
       "2278          Treat You Better             Conkarah         5  speechiness   \n",
       "2279          Careless Whisper      Empress Latoyah         5  speechiness   \n",
       "2280             The Lazy Song           Bruno Mars         5  speechiness   \n",
       "2281             One Call Away               JAHBOY         5  speechiness   \n",
       "\n",
       "       value  \n",
       "2083  0.0405  \n",
       "2084  0.1750  \n",
       "2085  0.0774  \n",
       "2086  0.0265  \n",
       "2087  0.0449  \n",
       "...      ...  \n",
       "2277  0.0381  \n",
       "2278  0.1750  \n",
       "2279  0.0672  \n",
       "2280  0.0699  \n",
       "2281  0.0458  \n",
       "\n",
       "[199 rows x 5 columns]"
      ]
     },
     "execution_count": 37,
     "metadata": {},
     "output_type": "execute_result"
    }
   ],
   "source": [
    "columns_to_view = ['artist_name', 'track_name', 'genre_id', 'speechiness']\n",
    "df_features = tracks_df[columns_to_view].copy()\n",
    "\n",
    "# set multiindex\n",
    "df_features = df_features.set_index(['track_name', 'artist_name', 'genre_id'])\n",
    "#df_features.stack()\n",
    "# reshape by pd.stack to achieve shape demanded by boxplot\n",
    "df_features_stacked = pd.DataFrame({'value': df_features.stack()})\n",
    "# # reset index\n",
    "df_features_stacked = df_features_stacked.reset_index()\n",
    "# # rename level_3\n",
    "df_features_stacked = df_features_stacked.rename(columns={'level_3': 'feature'})\n",
    "df_features_stacked[df_features_stacked['genre_id'] == 5]"
   ]
  },
  {
   "cell_type": "code",
   "execution_count": 38,
   "id": "38d0afb0",
   "metadata": {},
   "outputs": [
    {
     "data": {
      "text/plain": [
       "<matplotlib.legend.Legend at 0x21f9be0b070>"
      ]
     },
     "execution_count": 38,
     "metadata": {},
     "output_type": "execute_result"
    },
    {
     "data": {
      "image/png": "[encoded data removed]",
      "text/plain": [
       "<Figure size 800x600 with 1 Axes>"
      ]
     },
     "metadata": {},
     "output_type": "display_data"
    }
   ],
   "source": [
    "plt.figure(figsize=(8, 6))\n",
    "ax = plt.subplot(111)\n",
    "\n",
    "sns.boxplot(data=df_features_stacked, x='feature', y= 'value',  hue='genre_id', ax=ax,\n",
    "            hue_order= [0,1,2,3,4,5,6])\n",
    "\n",
    "ax.legend(loc='upper center', bbox_to_anchor=(\n",
    "   0.5, -0.1), frameon=False, ncol=3)"
   ]
  },
  {
   "cell_type": "code",
   "execution_count": 460,
   "id": "95dc34df",
   "metadata": {},
   "outputs": [],
   "source": [
    "from sklearn.model_selection import train_test_split, KFold, cross_val_score, GridSearchCV\n",
    "from sklearn.neighbors import KNeighborsClassifier \n",
    "from sklearn.svm import SVC\n",
    "from sklearn.metrics import accuracy_score,roc_curve, auc, confusion_matrix, classification_report,\\\n",
    "    ConfusionMatrixDisplay, plot_roc_curve"
   ]
  },
  {
   "cell_type": "code",
   "execution_count": 461,
   "id": "23138286",
   "metadata": {},
   "outputs": [
    {
     "name": "stderr",
     "output_type": "stream",
     "text": [
      "Intel(R) Extension for Scikit-learn* enabled (https://github.com/intel/scikit-learn-intelex)\n"
     ]
    }
   ],
   "source": [
    "from sklearnex import patch_sklearn\n",
    "patch_sklearn()"
   ]
  },
  {
   "cell_type": "code",
   "execution_count": 468,
   "id": "a627cec8",
   "metadata": {},
   "outputs": [
    {
     "name": "stdout",
     "output_type": "stream",
     "text": [
      "5996 5996\n"
     ]
    }
   ],
   "source": [
    "# create feature matrix (X)\n",
    "# pick energy and tempo as features\n",
    "feature_cols = ['danceability', 'energy', 'acousticness', 'valence']\n",
    "X = tracks_df[feature_cols]\n",
    "y = tracks_df['genre_id']\n",
    "print(len(X),len(y))"
   ]
  },
  {
   "cell_type": "markdown",
   "id": "9e25caca",
   "metadata": {},
   "source": [
    "## Model Tuning KNN"
   ]
  },
  {
   "cell_type": "code",
   "execution_count": 469,
   "id": "8a14b6fc",
   "metadata": {},
   "outputs": [
    {
     "name": "stdout",
     "output_type": "stream",
     "text": [
      "K=0, train idx: 1200-5995 (n=4796), test idx:  0-1199 (n=1200)\n",
      "K=1, train idx: 0-1200, 2398-5995 (n=4797), test idx:  1200-2398 (n=1199)\n",
      "K=2, train idx: 0-2399, 3597-5995 (n=4797), test idx:  2399-3597 (n=1199)\n",
      "K=3, train idx: 0-3598, 4796-5995 (n=4797), test idx:  3598-4796 (n=1199)\n",
      "K=4, train idx: 0-4796 (n=4797), test idx:  4797-5995 (n=1199)\n"
     ]
    }
   ],
   "source": [
    "#check indices used in folds\n",
    "KFOLDS=5\n",
    "kf = KFold(n_splits=KFOLDS)\n",
    "for i,(train, test) in enumerate(kf.split(X)):\n",
    "    #generate indices to use for the k-fold splits\n",
    "    full_range = np.arange(len(X)).tolist()\n",
    "    gap = [x for x in full_range if x not in train]\n",
    "    if (i>0)&(i<KFOLDS-1):\n",
    "        print(\"K=%d, train idx: %d-%d, %d-%d (n=%d), test idx:  %d-%d (n=%d)\" % (i, min(train), min(gap), max(gap), max(train),len(train),\\\n",
    "                                                                     min(test), max(test), len(test)))\n",
    "    else:\n",
    "         print(\"K=%d, train idx: %d-%d (n=%d), test idx:  %d-%d (n=%d)\" % (i, min(train), max(train),len(train),\\\n",
    "                                                                     min(test), max(test), len(test)))"
   ]
  },
  {
   "cell_type": "code",
   "execution_count": 470,
   "id": "67fbc01a",
   "metadata": {},
   "outputs": [
    {
     "name": "stdout",
     "output_type": "stream",
     "text": [
      "Fitting KNN with K=2 ...DONE!\n",
      "Fitting KNN with K=3 ...DONE!\n",
      "Fitting KNN with K=4 ...DONE!\n",
      "Fitting KNN with K=5 ...DONE!\n",
      "Fitting KNN with K=6 ...DONE!\n",
      "Fitting KNN with K=7 ...DONE!\n",
      "Fitting KNN with K=8 ...DONE!\n",
      "Fitting KNN with K=9 ...DONE!\n",
      "Fitting KNN with K=10 ...DONE!\n",
      "Fitting KNN with K=11 ...DONE!\n",
      "Fitting KNN with K=12 ...DONE!\n",
      "Fitting KNN with K=13 ...DONE!\n",
      "Fitting KNN with K=14 ...DONE!\n",
      "Fitting KNN with K=15 ...DONE!\n",
      "Fitting KNN with K=16 ...DONE!\n",
      "Fitting KNN with K=17 ...DONE!\n",
      "Fitting KNN with K=18 ...DONE!\n",
      "Fitting KNN with K=19 ...DONE!\n",
      "Fitting KNN with K=20 ...DONE!\n",
      "Fitting KNN with K=21 ...DONE!\n",
      "Fitting KNN with K=22 ...DONE!\n",
      "Fitting KNN with K=23 ...DONE!\n",
      "Fitting KNN with K=24 ...DONE!\n",
      "Fitting KNN with K=25 ...DONE!\n",
      "Fitting KNN with K=26 ...DONE!\n",
      "Fitting KNN with K=27 ...DONE!\n",
      "Fitting KNN with K=28 ...DONE!\n",
      "Fitting KNN with K=29 ...DONE!\n",
      "Fitting KNN with K=30 ...DONE!\n",
      "Fitting KNN with K=31 ...DONE!\n",
      "Fitting KNN with K=32 ...DONE!\n",
      "Fitting KNN with K=33 ...DONE!\n",
      "Fitting KNN with K=34 ...DONE!\n",
      "Fitting KNN with K=35 ...DONE!\n",
      "Fitting KNN with K=36 ...DONE!\n",
      "Fitting KNN with K=37 ...DONE!\n",
      "Fitting KNN with K=38 ...DONE!\n",
      "Fitting KNN with K=39 ...DONE!\n",
      "Fitting KNN with K=40 ...DONE!\n",
      "Fitting KNN with K=41 ...DONE!\n",
      "Fitting KNN with K=42 ...DONE!\n",
      "Fitting KNN with K=43 ...DONE!\n",
      "Fitting KNN with K=44 ...DONE!\n",
      "Fitting KNN with K=45 ...DONE!\n",
      "Fitting KNN with K=46 ...DONE!\n",
      "Fitting KNN with K=47 ...DONE!\n",
      "Fitting KNN with K=48 ...DONE!\n",
      "Fitting KNN with K=49 ...DONE!\n",
      "Fitting KNN with K=50 ...DONE!\n"
     ]
    }
   ],
   "source": [
    "n_neighbors = np.arange(2,51)\n",
    "KFOLDS = 5\n",
    "\n",
    "cv_scores_mean = []\n",
    "cv_scores_std = []\n",
    "\n",
    "for K in n_neighbors:\n",
    "    print('Fitting KNN with K=%d ...' % K, end='')\n",
    "    #initialize model\n",
    "    knn_model = KNeighborsClassifier(n_neighbors=K)\n",
    "    # get accuracy metric across train-test sets generated using k-folds\n",
    "    scores = cross_val_score(knn_model, X, y, cv=KFOLDS, scoring='accuracy')\n",
    "    # overall accuracy score of K is mean of accuracy scores per k-fold\n",
    "    # std dev of scores across folds must be a minimum\n",
    "    cv_scores_mean.append(scores.mean())\n",
    "    cv_scores_std.append(scores.std())\n",
    "    print('DONE!')"
   ]
  },
  {
   "cell_type": "code",
   "execution_count": 471,
   "id": "fa2dc831",
   "metadata": {},
   "outputs": [
    {
     "name": "stdout",
     "output_type": "stream",
     "text": [
      "The optimal number of neighbors is 42.00 with accuracy 0.4615\n"
     ]
    },
    {
     "data": {
      "text/plain": [
       "Text(0, 0.5, 'Accuracy standard deviation')"
      ]
     },
     "execution_count": 471,
     "metadata": {},
     "output_type": "execute_result"
    },
    {
     "data": {
      "image/png": "[encoded data removed]",
      "text/plain": [
       "<Figure size 1100x400 with 2 Axes>"
      ]
     },
     "metadata": {},
     "output_type": "display_data"
    }
   ],
   "source": [
    "# determining best K\n",
    "idx_max_accuracy = cv_scores_mean.index(max(cv_scores_mean))\n",
    "optimal_K = n_neighbors[idx_max_accuracy]\n",
    "print(\"The optimal number of neighbors is %0.2f with accuracy %0.4f\" % (optimal_K, cv_scores_mean[idx_max_accuracy]))\n",
    "\n",
    "# plot metrics \n",
    "fig,axs = plt.subplots(1,2, figsize=(11,4))\n",
    "axs[0].plot(n_neighbors, cv_scores_mean)\n",
    "axs[0].plot(optimal_K,max(cv_scores_mean), marker=\"o\", ms=7, color='r')\n",
    "axs[0].set_xlabel(\"Number of Neighbors K\")\n",
    "axs[0].set_ylabel(\"Accuracy\")\n",
    "\n",
    "axs[1].plot(n_neighbors, cv_scores_std)\n",
    "axs[1].plot(optimal_K,cv_scores_std[idx_max_accuracy], marker=\"o\", ms=7, color='r')\n",
    "axs[1].set_xlabel(\"Number of Neighbors K\")\n",
    "axs[1].set_ylabel(\"Accuracy standard deviation\")\n"
   ]
  },
  {
   "cell_type": "code",
   "execution_count": 472,
   "id": "7568302f",
   "metadata": {},
   "outputs": [],
   "source": [
    "#initialize KNN with optimal K\n",
    "knn_optimal_model = KNeighborsClassifier(n_neighbors=optimal_K)\n",
    "# fitting the model with entire dataset\n",
    "knn_optimal_model.fit(X, y)\n",
    "#use model to predict y\n",
    "knn_ypred = knn_optimal_model.predict(X)"
   ]
  },
  {
   "cell_type": "code",
   "execution_count": 473,
   "id": "1738ec11",
   "metadata": {},
   "outputs": [
    {
     "name": "stdout",
     "output_type": "stream",
     "text": [
      "\n",
      "The accuracy of the knn classifier for the full dataset using k = 42 is 50.383589%\n"
     ]
    }
   ],
   "source": [
    "# evaluate accuracy\n",
    "acc = accuracy_score(y, knn_ypred) * 100\n",
    "print('\\nThe accuracy of the knn classifier for the full dataset using k = %d is %f%%' % (optimal_K, acc))"
   ]
  },
  {
   "cell_type": "markdown",
   "id": "9a24b87b",
   "metadata": {},
   "source": [
    "## Model Tuning SVM"
   ]
  },
  {
   "cell_type": "markdown",
   "id": "7a6dfb9e",
   "metadata": {},
   "source": [
    "Linear Kernel"
   ]
  },
  {
   "cell_type": "code",
   "execution_count": 474,
   "id": "ab64795b",
   "metadata": {},
   "outputs": [],
   "source": [
    "def plot_scores(cv_scores_mean,cv_scores_std):\n",
    "    fig,axs = plt.subplots(1,2, figsize=(11,4))\n",
    "    \n",
    "    x = np.arange(len(cv_scores_mean))\n",
    "    max_mean_score_idx = cv_scores_mean.argmax()\n",
    "    \n",
    "    axs[0].plot(x, cv_scores_mean, marker='.', lw=0)\n",
    "    axs[0].plot(x[max_mean_score_idx],max(cv_scores_mean), marker=\"o\", ms=7, color='r')\n",
    "    axs[0].set_xlabel(\"Model config type\")\n",
    "    axs[0].set_ylabel(\"Accuracy\")\n",
    "\n",
    "    axs[1].plot(x, cv_scores_std, marker='.', lw=0)\n",
    "    axs[1].plot(x[max_mean_score_idx],cv_scores_std[max_mean_score_idx], marker=\"o\", ms=7, color='r')\n",
    "    axs[1].set_xlabel(\"Model config type\")\n",
    "    axs[1].set_ylabel(\"Accuracy standard deviation\")"
   ]
  },
  {
   "cell_type": "code",
   "execution_count": 475,
   "id": "6bd434a4",
   "metadata": {},
   "outputs": [
    {
     "name": "stdout",
     "output_type": "stream",
     "text": [
      "Fitting SVM with linear kernel...\n",
      "Fitting 5 folds for each of 5 candidates, totalling 25 fits\n",
      "Best model config score is 46.481012% (vs. overall mean score: 45.803864 )\n",
      "Std of best model score across folds is 0.029176 (vs. overall mean std: 0.031610 )\n",
      "The accuracy of the SVM classifier for the full dataset is 46.881254%\n",
      "DONE!\n"
     ]
    }
   ],
   "source": [
    "#Linear kernel\n",
    "print('Fitting SVM with linear kernel...')\n",
    "\n",
    "# defining parameter range\n",
    "param_grid = {'C': [0.1, 1, 10, 100, 1000],\n",
    "              'kernel': ['linear']}\n",
    "grid = GridSearchCV(SVC(), param_grid, refit = True, verbose = 1, cv = KFOLDS )\n",
    "# fitting the model for grid search\n",
    "grid.fit(X, y)\n",
    "\n",
    "#get scores\n",
    "cv_scores_mean =  grid.cv_results_['mean_test_score']\n",
    "cv_scores_std = grid.cv_results_['std_test_score']\n",
    "max_mean_score_idx = cv_scores_mean.argmax()\n",
    "\n",
    "print('Best model config score is %f%% (vs. overall mean score: %f )' % (100*cv_scores_mean[max_mean_score_idx],\n",
    "                                                                        100*np.mean(cv_scores_mean)))\n",
    "print('Std of best model score across folds is %f (vs. overall mean std: %f )' %\\\n",
    "      (cv_scores_std[max_mean_score_idx], np.mean(cv_scores_std)))\n",
    "\n",
    "# get best model\n",
    "svm_model1 = grid.best_estimator_\n",
    "# fit model for entire data\n",
    "svm_model1.fit(X, y)\n",
    "pred1 = svm_model1.predict(X)\n",
    "acc = accuracy_score(y, pred1) * 100\n",
    "print('The accuracy of the SVM classifier for the full dataset is %f%%' % (acc))\n",
    "print('DONE!')"
   ]
  },
  {
   "cell_type": "code",
   "execution_count": 49,
   "id": "80fe99cf",
   "metadata": {},
   "outputs": [
    {
     "data": {
      "image/png": "[encoded data removed]",
      "text/plain": [
       "<Figure size 1100x400 with 2 Axes>"
      ]
     },
     "metadata": {},
     "output_type": "display_data"
    }
   ],
   "source": [
    "plot_scores(cv_scores_mean,cv_scores_std)"
   ]
  },
  {
   "cell_type": "markdown",
   "id": "558d835b",
   "metadata": {},
   "source": [
    "Polynomial Kernel"
   ]
  },
  {
   "cell_type": "code",
   "execution_count": 50,
   "id": "ead1b8f2",
   "metadata": {},
   "outputs": [
    {
     "name": "stdout",
     "output_type": "stream",
     "text": [
      "Fitting SVM with a polynomial kernel...\n",
      "Fitting 5 folds for each of 50 candidates, totalling 250 fits\n",
      "Best model is SVC(C=1000, degree=2, gamma=0.1, kernel='poly')\n",
      "Best model config score is 44.449971% (vs. overall mean score: 30.936830 )\n",
      "Std of best model score across folds is 0.031764 (vs. overall mean std: 0.012716 )\n",
      "The accuracy of the SVM classifier for the full dataset is 45.505816%\n",
      "DONE!\n"
     ]
    }
   ],
   "source": [
    "# defining parameter range\n",
    "print('Fitting SVM with a polynomial kernel...')\n",
    "\n",
    "param_grid = {'C': [0.1, 1, 10, 100, 1000],\n",
    "              'gamma': [1, 0.1, 0.01, 0.001, 0.0001],\n",
    "              'degree': [2,3],\n",
    "              'kernel': ['poly']}\n",
    "#1 worker:  12 mins\n",
    "#2 workers: 8.6 mins\n",
    "#3 workers: 7.1 mins\n",
    "grid = GridSearchCV(SVC(), param_grid, refit = True, verbose = 1, cv = KFOLDS, n_jobs=2)\n",
    "# fitting the model for grid search\n",
    "grid.fit(X, y)\n",
    "print('Best model is %s' % grid.best_estimator_)\n",
    "\n",
    "#get scores\n",
    "cv_scores_mean =  grid.cv_results_['mean_test_score']\n",
    "cv_scores_std = grid.cv_results_['std_test_score']\n",
    "max_mean_score_idx = cv_scores_mean.argmax()\n",
    "\n",
    "print('Best model config score is %f%% (vs. overall mean score: %f )' % (100*cv_scores_mean[max_mean_score_idx],\n",
    "                                                                        100*np.mean(cv_scores_mean)))\n",
    "print('Std of best model score across folds is %f (vs. overall mean std: %f )' %\\\n",
    "      (cv_scores_std[max_mean_score_idx], np.mean(cv_scores_std)))\n",
    "\n",
    "# get best model\n",
    "svm_model2 = grid.best_estimator_\n",
    "# fit model for entire data\n",
    "svm_model2.fit(X, y)\n",
    "pred2 = svm_model2.predict(X)\n",
    "acc = accuracy_score(y, pred2) * 100\n",
    "print('The accuracy of the SVM classifier for the full dataset is %f%%' % (acc))\n",
    "print('DONE!')"
   ]
  },
  {
   "cell_type": "code",
   "execution_count": 51,
   "id": "88ff720b",
   "metadata": {},
   "outputs": [
    {
     "data": {
      "image/png": "[encoded data removed]",
      "text/plain": [
       "<Figure size 1100x400 with 2 Axes>"
      ]
     },
     "metadata": {},
     "output_type": "display_data"
    }
   ],
   "source": [
    "plot_scores(cv_scores_mean,cv_scores_std)"
   ]
  },
  {
   "cell_type": "markdown",
   "id": "0bc46e4d",
   "metadata": {},
   "source": [
    "Radial Kernel"
   ]
  },
  {
   "cell_type": "code",
   "execution_count": null,
   "id": "661ce5c3",
   "metadata": {},
   "outputs": [],
   "source": [
    "# defining parameter range\n",
    "print('Fitting SVM with an rbf kernel...')\n",
    "\n",
    "param_grid = {'C': [0.1, 1, 10, 100, 1000],\n",
    "              'gamma': [1, 0.1, 0.01, 0.001, 0.0001],\n",
    "              'kernel': ['rbf']}\n",
    "\n",
    "grid = GridSearchCV(SVC(), param_grid, refit = True, verbose = 1, cv = KFOLDS, n_jobs=2)\n",
    "# fitting the model for grid search\n",
    "grid.fit(X, y)\n",
    "print('Best model is %s' % grid.best_estimator_)\n",
    "\n",
    "#get scores\n",
    "cv_scores_mean =  grid.cv_results_['mean_test_score']\n",
    "cv_scores_std = grid.cv_results_['std_test_score']\n",
    "max_mean_score_idx = cv_scores_mean.argmax()\n",
    "\n",
    "print('Best model config score is %f%% (vs. overall mean score: %f )' % (100*cv_scores_mean[max_mean_score_idx],\n",
    "                                                                        100*np.mean(cv_scores_mean)))\n",
    "print('Std of best model score across folds is %f (vs. overall mean std: %f )' %\\\n",
    "      (cv_scores_std[max_mean_score_idx], np.mean(cv_scores_std)))\n",
    "\n",
    "# get best model\n",
    "svm_model3 = grid.best_estimator_\n",
    "# fit model for entire data\n",
    "svm_model3.fit(X, y)\n",
    "pred3 = svm_model3.predict(X)\n",
    "acc = accuracy_score(y, pred3) * 100\n",
    "print('The accuracy of the SVM classifier for the full dataset is %f%%' % (acc))\n",
    "print('DONE!')"
   ]
  },
  {
   "cell_type": "code",
   "execution_count": null,
   "id": "3e7461b1",
   "metadata": {},
   "outputs": [],
   "source": [
    "plot_scores(cv_scores_mean,cv_scores_std)"
   ]
  },
  {
   "cell_type": "markdown",
   "id": "33622e84",
   "metadata": {},
   "source": [
    "SVM Model Selection"
   ]
  },
  {
   "cell_type": "code",
   "execution_count": null,
   "id": "29599aee",
   "metadata": {},
   "outputs": [],
   "source": [
    "svm_optimal_model = svm_model3\n",
    "#set probability=True to view classification probabilities and refit\n",
    "svm_optimal_model.probability=True\n",
    "svm_optimal_model.fit(X, y)\n",
    "#use model to predict y\n",
    "svm_ypred = svm_optimal_model.predict(X)"
   ]
  },
  {
   "cell_type": "markdown",
   "id": "a14dfb26",
   "metadata": {},
   "source": [
    "Model Selection"
   ]
  },
  {
   "cell_type": "code",
   "execution_count": 426,
   "id": "df10d3e0",
   "metadata": {},
   "outputs": [
    {
     "data": {
      "text/plain": [
       "<sklearn.metrics._plot.confusion_matrix.ConfusionMatrixDisplay at 0x21fa92cf490>"
      ]
     },
     "execution_count": 426,
     "metadata": {},
     "output_type": "execute_result"
    },
    {
     "data": {
      "image/png": "[encoded data removed]",
      "text/plain": [
       "<Figure size 640x480 with 2 Axes>"
      ]
     },
     "metadata": {},
     "output_type": "display_data"
    }
   ],
   "source": [
    "cm = confusion_matrix(y, knn_ypred)\n",
    "cmd = ConfusionMatrixDisplay(cm, display_labels=list(genre_lookup.values()))\n",
    "cmd.plot(xticks_rotation=90)"
   ]
  },
  {
   "cell_type": "code",
   "execution_count": null,
   "id": "675c7cf8",
   "metadata": {},
   "outputs": [],
   "source": [
    "cm = confusion_matrix(y, svm_ypred)\n",
    "cmd = ConfusionMatrixDisplay(cm, display_labels=list(genre_lookup.values()))\n",
    "cmd.plot(xticks_rotation=90)"
   ]
  },
  {
   "cell_type": "code",
   "execution_count": null,
   "id": "c902fc1b",
   "metadata": {},
   "outputs": [],
   "source": [
    "genre_lookup"
   ]
  },
  {
   "cell_type": "code",
   "execution_count": null,
   "id": "1ac94615",
   "metadata": {},
   "outputs": [],
   "source": [
    "print('-------------------------------------------------------------')\n",
    "print('KNN')\n",
    "print(classification_report(y,knn_ypred))\n",
    "print('-------------------------------------------------------------')\n",
    "print('SVM')\n",
    "print(classification_report(y,svm_ypred))"
   ]
  },
  {
   "cell_type": "code",
   "execution_count": null,
   "id": "a3d9dee8",
   "metadata": {},
   "outputs": [],
   "source": []
  }
 ],
 "metadata": {
  "kernelspec": {
   "display_name": "Python 3 (ipykernel)",
   "language": "python",
   "name": "python3"
  },
  "language_info": {
   "codemirror_mode": {
    "name": "ipython",
    "version": 3
   },
   "file_extension": ".py",
   "mimetype": "text/x-python",
   "name": "python",
   "nbconvert_exporter": "python",
   "pygments_lexer": "ipython3",
   "version": "3.9.13"
  }
 },
 "nbformat": 4,
 "nbformat_minor": 5
}
