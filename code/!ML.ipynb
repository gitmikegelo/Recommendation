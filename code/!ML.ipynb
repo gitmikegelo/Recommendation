{
 "cells": [
  {
   "cell_type": "markdown",
   "metadata": {},
   "source": [
    "# The Recommender Engine Pool"
   ]
  },
  {
   "cell_type": "markdown",
   "metadata": {
    "ExecuteTime": {
     "end_time": "2021-12-30T11:40:36.594547Z",
     "start_time": "2021-12-30T11:40:36.587554Z"
    }
   },
   "source": [
    "*What is a recommender engine pool?*\n",
    "\n",
    "\n",
    "The recommender engine pool is the data source from which the recommender engine gets its recommendations. It is made up of the (1)items considered for the recommendation and (2) measure/s that determines its fitness to be recommended.\n",
    "\n",
    "We will create a Spotify track recommendation pool based on its genre."
   ]
  },
  {
   "cell_type": "code",
   "execution_count": 121,
   "metadata": {
    "ExecuteTime": {
     "end_time": "2022-01-11T10:51:22.998292Z",
     "start_time": "2022-01-11T10:51:19.288412Z"
    }
   },
   "outputs": [
    {
     "name": "stderr",
     "output_type": "stream",
     "text": [
      "Intel(R) Extension for Scikit-learn* enabled (https://github.com/intel/scikit-learn-intelex)\n"
     ]
    }
   ],
   "source": [
    "import pandas as pd\n",
    "import numpy as np\n",
    "\n",
    "import seaborn as sns\n",
    "import matplotlib.pyplot as plt\n",
    "from sklearnex import patch_sklearn\n",
    "patch_sklearn()\n",
    "\n",
    "%matplotlib inline"
   ]
  },
  {
   "cell_type": "markdown",
   "metadata": {},
   "source": [
    "## Tracks Genre Classification - multiple genres\n",
    "\n",
    "This is similar to the previous notebook, but this time, we will predict more than 2 genres"
   ]
  },
  {
   "cell_type": "markdown",
   "metadata": {},
   "source": [
    "### 1. Read and check values of multiple playlist sets"
   ]
  },
  {
   "cell_type": "code",
   "execution_count": 122,
   "metadata": {
    "ExecuteTime": {
     "end_time": "2022-01-11T10:51:23.926765Z",
     "start_time": "2022-01-11T10:51:23.002292Z"
    }
   },
   "outputs": [
    {
     "name": "stdout",
     "output_type": "stream",
     "text": [
      "classical\n",
      "EDM\n",
      "jazz\n",
      "pop\n",
      "rnb\n"
     ]
    }
   ],
   "source": [
    "#genre_names = [\"R&B\", \"Classical\", \"Country\", \"Electronic\", \"Hiphop\",\"Jazz\", \"Pop\", \"Rock\", \"Reggae\", \"Rap\"]\n",
    "#genre_names = [\"R&B\", \"Classical\", \"Country\", \"Electronic\",\"Jazz\", \"Reggae\", \"Rock\", \"Rap\"]\n",
    "genre_names = [\"classical\", \"EDM\", \"jazz\",\"pop\", \"rnb\"]\n",
    "\n",
    "\n",
    "playlist_df_list = []\n",
    "track_df_list = []\n",
    "for genre in genre_names:\n",
    "    # read and process the playlist data for keyword\n",
    "    print(genre)\n",
    "    pdf = pd.read_csv('data/playlists/'+genre+'_playlist_data.csv')\n",
    "    pdf['genre'] = genre.lower().replace('&','n')\n",
    "    playlist_df_list.append(pdf)\n",
    "\n",
    "    tdf = pd.read_csv('data/playlists/'+genre+'_playlist_tracks_data.csv')\n",
    "    tdf['genre'] = genre.lower().replace('&','n')\n",
    "    tdf = tdf.drop(columns=['playlist_name'])\n",
    "    tdf = tdf.merge(pdf[['playlist_id','playlist_name']], on=['playlist_id'], how='left')\n",
    "    \n",
    "    track_df_list.append(tdf)\n",
    "        \n",
    "playlist_df = pd.concat(playlist_df_list)\n",
    "tracks_df = pd.concat(track_df_list)"
   ]
  },
  {
   "cell_type": "code",
   "execution_count": 123,
   "metadata": {
    "ExecuteTime": {
     "end_time": "2022-01-11T10:51:23.952748Z",
     "start_time": "2022-01-11T10:51:23.934763Z"
    }
   },
   "outputs": [
    {
     "data": {
      "text/plain": [
       "Index(['track_id', 'track_name', 'artist_id', 'artist_name', 'album_id',\n",
       "       'duration', 'release_date', 'popularity', 'danceability', 'energy',\n",
       "       'key', 'loudness', 'mode', 'speechiness', 'acousticness',\n",
       "       'instrumentalness', 'liveness', 'valence', 'tempo', 'playlist_id',\n",
       "       'genre', 'playlist_name'],\n",
       "      dtype='object')"
      ]
     },
     "execution_count": 123,
     "metadata": {},
     "output_type": "execute_result"
    }
   ],
   "source": [
    "tracks_df.columns"
   ]
  },
  {
   "cell_type": "code",
   "execution_count": 124,
   "metadata": {
    "ExecuteTime": {
     "end_time": "2022-01-11T10:51:24.051691Z",
     "start_time": "2022-01-11T10:51:23.958749Z"
    }
   },
   "outputs": [
    {
     "data": {
      "text/plain": [
       "edm          3476\n",
       "jazz         2456\n",
       "rnb          2351\n",
       "classical    1752\n",
       "pop          1475\n",
       "Name: genre, dtype: int64"
      ]
     },
     "execution_count": 124,
     "metadata": {},
     "output_type": "execute_result"
    }
   ],
   "source": [
    "tracks_df['genre'].value_counts()"
   ]
  },
  {
   "cell_type": "code",
   "execution_count": 125,
   "metadata": {
    "ExecuteTime": {
     "end_time": "2022-01-11T10:51:24.120654Z",
     "start_time": "2022-01-11T10:51:24.055689Z"
    }
   },
   "outputs": [
    {
     "data": {
      "text/plain": [
       "(11310, 22)"
      ]
     },
     "execution_count": 125,
     "metadata": {},
     "output_type": "execute_result"
    }
   ],
   "source": [
    "#retain only distinct tracks per keyword\n",
    "tracks_df =tracks_df.drop_duplicates(subset='track_id')\n",
    "tracks_df.shape"
   ]
  },
  {
   "cell_type": "code",
   "execution_count": 126,
   "metadata": {
    "ExecuteTime": {
     "end_time": "2022-01-11T10:51:24.151637Z",
     "start_time": "2022-01-11T10:51:24.125649Z"
    }
   },
   "outputs": [
    {
     "data": {
      "text/plain": [
       "edm          3476\n",
       "jazz         2456\n",
       "rnb          2316\n",
       "classical    1752\n",
       "pop          1310\n",
       "Name: genre, dtype: int64"
      ]
     },
     "execution_count": 126,
     "metadata": {},
     "output_type": "execute_result"
    }
   ],
   "source": [
    "tracks_df['genre'].value_counts()"
   ]
  },
  {
   "cell_type": "code",
   "execution_count": 127,
   "metadata": {
    "ExecuteTime": {
     "end_time": "2022-01-11T10:51:24.192611Z",
     "start_time": "2022-01-11T10:51:24.155632Z"
    }
   },
   "outputs": [
    {
     "data": {
      "text/plain": [
       "((396, 7), (11310, 22))"
      ]
     },
     "execution_count": 127,
     "metadata": {},
     "output_type": "execute_result"
    }
   ],
   "source": [
    "#check shape\n",
    "playlist_df.shape, tracks_df.shape"
   ]
  },
  {
   "cell_type": "code",
   "execution_count": 128,
   "metadata": {
    "ExecuteTime": {
     "end_time": "2022-01-11T10:51:24.208602Z",
     "start_time": "2022-01-11T10:51:24.199607Z"
    }
   },
   "outputs": [
    {
     "name": "stdout",
     "output_type": "stream",
     "text": [
      "Playlist dataset columns: ['playlist_id' 'playlist_name' 'playlist_total_tracks' 'owner_id'\n",
      " 'owner_name' 'total_followers' 'genre'] \n",
      "\n",
      "Tracks dataset columns: ['track_id' 'track_name' 'artist_id' 'artist_name' 'album_id' 'duration'\n",
      " 'release_date' 'popularity' 'danceability' 'energy' 'key' 'loudness'\n",
      " 'mode' 'speechiness' 'acousticness' 'instrumentalness' 'liveness'\n",
      " 'valence' 'tempo' 'playlist_id' 'genre' 'playlist_name']\n"
     ]
    }
   ],
   "source": [
    "#check columns\n",
    "print(\"Playlist dataset columns: %s \\n\" % playlist_df.columns.values)\n",
    "print(\"Tracks dataset columns: %s\" % tracks_df.columns.values)"
   ]
  },
  {
   "cell_type": "code",
   "execution_count": 129,
   "metadata": {
    "ExecuteTime": {
     "end_time": "2022-01-11T10:51:25.209036Z",
     "start_time": "2022-01-11T10:51:24.213600Z"
    }
   },
   "outputs": [
    {
     "data": {
      "text/plain": [
       "array([[<AxesSubplot:title={'center':'total_followers'}>]], dtype=object)"
      ]
     },
     "execution_count": 129,
     "metadata": {},
     "output_type": "execute_result"
    },
    {
     "data": {
      "image/png": "[encoded data removed]",
      "text/plain": [
       "<Figure size 432x288 with 1 Axes>"
      ]
     },
     "metadata": {
      "needs_background": "light"
     },
     "output_type": "display_data"
    }
   ],
   "source": [
    "# What is the distribution of playlist's total tracks?\n",
    "playlist_df[['total_followers']].hist()"
   ]
  },
  {
   "cell_type": "markdown",
   "metadata": {},
   "source": [
    "## 2. Refine the training data"
   ]
  },
  {
   "cell_type": "code",
   "execution_count": 130,
   "metadata": {
    "ExecuteTime": {
     "end_time": "2022-01-11T10:51:25.339958Z",
     "start_time": "2022-01-11T10:51:25.231019Z"
    },
    "scrolled": true
   },
   "outputs": [
    {
     "data": {
      "text/html": [
       "<div>\n",
       "<style scoped>\n",
       "    .dataframe tbody tr th:only-of-type {\n",
       "        vertical-align: middle;\n",
       "    }\n",
       "\n",
       "    .dataframe tbody tr th {\n",
       "        vertical-align: top;\n",
       "    }\n",
       "\n",
       "    .dataframe thead th {\n",
       "        text-align: right;\n",
       "    }\n",
       "</style>\n",
       "<table border=\"1\" class=\"dataframe\">\n",
       "  <thead>\n",
       "    <tr style=\"text-align: right;\">\n",
       "      <th></th>\n",
       "      <th>playlist_id</th>\n",
       "      <th>playlist_name</th>\n",
       "      <th>playlist_total_tracks</th>\n",
       "      <th>owner_id</th>\n",
       "      <th>owner_name</th>\n",
       "      <th>total_followers</th>\n",
       "      <th>genre</th>\n",
       "    </tr>\n",
       "  </thead>\n",
       "  <tbody>\n",
       "    <tr>\n",
       "      <th>0</th>\n",
       "      <td>37i9dQZF1DWWEJlAGA9gs0</td>\n",
       "      <td>Classical Essentials</td>\n",
       "      <td>150</td>\n",
       "      <td>spotify</td>\n",
       "      <td>Spotify</td>\n",
       "      <td>2946311</td>\n",
       "      <td>classical</td>\n",
       "    </tr>\n",
       "    <tr>\n",
       "      <th>1</th>\n",
       "      <td>37i9dQZF1DWUPafHP1BJw1</td>\n",
       "      <td>Pop Goes Classical</td>\n",
       "      <td>91</td>\n",
       "      <td>spotify</td>\n",
       "      <td>Spotify</td>\n",
       "      <td>809156</td>\n",
       "      <td>classical</td>\n",
       "    </tr>\n",
       "    <tr>\n",
       "      <th>2</th>\n",
       "      <td>37i9dQZF1DWV0gynK7G6pD</td>\n",
       "      <td>Classical New Releases</td>\n",
       "      <td>70</td>\n",
       "      <td>spotify</td>\n",
       "      <td>Spotify</td>\n",
       "      <td>656551</td>\n",
       "      <td>classical</td>\n",
       "    </tr>\n",
       "    <tr>\n",
       "      <th>3</th>\n",
       "      <td>37i9dQZF1DX9G9wwzwWL2k</td>\n",
       "      <td>Epic Classical</td>\n",
       "      <td>43</td>\n",
       "      <td>spotify</td>\n",
       "      <td>Spotify</td>\n",
       "      <td>523767</td>\n",
       "      <td>classical</td>\n",
       "    </tr>\n",
       "    <tr>\n",
       "      <th>4</th>\n",
       "      <td>1h0CEZCm6IbFTbxThn6Xcs</td>\n",
       "      <td>Best Classical Music</td>\n",
       "      <td>163</td>\n",
       "      <td>peacefulclassics</td>\n",
       "      <td>Peaceful Classics</td>\n",
       "      <td>513485</td>\n",
       "      <td>classical</td>\n",
       "    </tr>\n",
       "    <tr>\n",
       "      <th>0</th>\n",
       "      <td>3VXReCeetN58c1clj9u8ZK</td>\n",
       "      <td>Tomorrowland 2022 Playlist 💙 EDM HITS</td>\n",
       "      <td>110</td>\n",
       "      <td>21uvjs6vsljej5dzs5ksdwprq</td>\n",
       "      <td>The Book of Wisdom</td>\n",
       "      <td>493512</td>\n",
       "      <td>edm</td>\n",
       "    </tr>\n",
       "    <tr>\n",
       "      <th>1</th>\n",
       "      <td>3Di88mvYplBtkDBIzGLiiM</td>\n",
       "      <td>EDM Hits 2022</td>\n",
       "      <td>119</td>\n",
       "      <td>fineshark</td>\n",
       "      <td>Christoffer Brants</td>\n",
       "      <td>361597</td>\n",
       "      <td>edm</td>\n",
       "    </tr>\n",
       "    <tr>\n",
       "      <th>2</th>\n",
       "      <td>37i9dQZF1DXafD1g5rer7q</td>\n",
       "      <td>EDM Samplings</td>\n",
       "      <td>50</td>\n",
       "      <td>spotify</td>\n",
       "      <td>Spotify</td>\n",
       "      <td>306821</td>\n",
       "      <td>edm</td>\n",
       "    </tr>\n",
       "    <tr>\n",
       "      <th>3</th>\n",
       "      <td>37i9dQZF1DXdVmhVVRZJ3I</td>\n",
       "      <td>Suor EDM</td>\n",
       "      <td>50</td>\n",
       "      <td>spotify</td>\n",
       "      <td>Spotify</td>\n",
       "      <td>258939</td>\n",
       "      <td>edm</td>\n",
       "    </tr>\n",
       "    <tr>\n",
       "      <th>4</th>\n",
       "      <td>37i9dQZF1DX3Kdv0IChEm9</td>\n",
       "      <td>EDM Hits</td>\n",
       "      <td>60</td>\n",
       "      <td>spotify</td>\n",
       "      <td>Spotify</td>\n",
       "      <td>142710</td>\n",
       "      <td>edm</td>\n",
       "    </tr>\n",
       "    <tr>\n",
       "      <th>0</th>\n",
       "      <td>37i9dQZF1DXbITWG1ZJKYt</td>\n",
       "      <td>Jazz Classics</td>\n",
       "      <td>250</td>\n",
       "      <td>spotify</td>\n",
       "      <td>Spotify</td>\n",
       "      <td>2693812</td>\n",
       "      <td>jazz</td>\n",
       "    </tr>\n",
       "    <tr>\n",
       "      <th>1</th>\n",
       "      <td>37i9dQZF1DWVqfgj8NZEp1</td>\n",
       "      <td>Coffee Table Jazz</td>\n",
       "      <td>142</td>\n",
       "      <td>spotify</td>\n",
       "      <td>Spotify</td>\n",
       "      <td>2400757</td>\n",
       "      <td>jazz</td>\n",
       "    </tr>\n",
       "    <tr>\n",
       "      <th>2</th>\n",
       "      <td>37i9dQZF1DX0SM0LYsmbMT</td>\n",
       "      <td>Jazz Vibes</td>\n",
       "      <td>300</td>\n",
       "      <td>spotify</td>\n",
       "      <td>Spotify</td>\n",
       "      <td>2083683</td>\n",
       "      <td>jazz</td>\n",
       "    </tr>\n",
       "    <tr>\n",
       "      <th>3</th>\n",
       "      <td>37i9dQZF1DX4wta20PHgwo</td>\n",
       "      <td>Late Night Jazz</td>\n",
       "      <td>150</td>\n",
       "      <td>spotify</td>\n",
       "      <td>Spotify</td>\n",
       "      <td>1972952</td>\n",
       "      <td>jazz</td>\n",
       "    </tr>\n",
       "    <tr>\n",
       "      <th>4</th>\n",
       "      <td>37i9dQZF1DWTbzY5gOVvKd</td>\n",
       "      <td>Jazzy Romance</td>\n",
       "      <td>120</td>\n",
       "      <td>spotify</td>\n",
       "      <td>Spotify</td>\n",
       "      <td>1131871</td>\n",
       "      <td>jazz</td>\n",
       "    </tr>\n",
       "    <tr>\n",
       "      <th>0</th>\n",
       "      <td>37i9dQZF1DWTwnEm1IYyoj</td>\n",
       "      <td>Soft Pop Hits</td>\n",
       "      <td>100</td>\n",
       "      <td>spotify</td>\n",
       "      <td>Spotify</td>\n",
       "      <td>6257952</td>\n",
       "      <td>pop</td>\n",
       "    </tr>\n",
       "    <tr>\n",
       "      <th>1</th>\n",
       "      <td>37i9dQZF1DX9tPFwDMOaN1</td>\n",
       "      <td>K-Pop ON! (온)</td>\n",
       "      <td>50</td>\n",
       "      <td>spotify</td>\n",
       "      <td>Spotify</td>\n",
       "      <td>4275743</td>\n",
       "      <td>pop</td>\n",
       "    </tr>\n",
       "    <tr>\n",
       "      <th>2</th>\n",
       "      <td>37i9dQZF1DX50QitC6Oqtn</td>\n",
       "      <td>Love Pop</td>\n",
       "      <td>100</td>\n",
       "      <td>spotify</td>\n",
       "      <td>Spotify</td>\n",
       "      <td>3481751</td>\n",
       "      <td>pop</td>\n",
       "    </tr>\n",
       "    <tr>\n",
       "      <th>3</th>\n",
       "      <td>37i9dQZF1DXcZDD7cfEKhW</td>\n",
       "      <td>Pop Remix</td>\n",
       "      <td>100</td>\n",
       "      <td>spotify</td>\n",
       "      <td>Spotify</td>\n",
       "      <td>3328214</td>\n",
       "      <td>pop</td>\n",
       "    </tr>\n",
       "    <tr>\n",
       "      <th>4</th>\n",
       "      <td>37i9dQZF1DWUa8ZRTfalHk</td>\n",
       "      <td>Pop Rising</td>\n",
       "      <td>90</td>\n",
       "      <td>spotify</td>\n",
       "      <td>Spotify</td>\n",
       "      <td>2677105</td>\n",
       "      <td>pop</td>\n",
       "    </tr>\n",
       "    <tr>\n",
       "      <th>0</th>\n",
       "      <td>7rIUjHHI7hlbpXG7VSqfg5</td>\n",
       "      <td>Old School RnB, 90s, 2000s R&amp;B</td>\n",
       "      <td>267</td>\n",
       "      <td>karolrodis</td>\n",
       "      <td>karolrodis</td>\n",
       "      <td>202461</td>\n",
       "      <td>rnb</td>\n",
       "    </tr>\n",
       "    <tr>\n",
       "      <th>1</th>\n",
       "      <td>6GcssIqNfMVPhxQRlkc8hJ</td>\n",
       "      <td>RnB 2000s</td>\n",
       "      <td>470</td>\n",
       "      <td>312bh3qcnw5lufy2ijsm2gys3q5a</td>\n",
       "      <td>Christian Perry</td>\n",
       "      <td>189515</td>\n",
       "      <td>rnb</td>\n",
       "    </tr>\n",
       "    <tr>\n",
       "      <th>2</th>\n",
       "      <td>2pUp5bZ589tTptwC4NJjW6</td>\n",
       "      <td>Rap &amp; RnB Party</td>\n",
       "      <td>35</td>\n",
       "      <td>31llkladn7mobrvqqivfguyaiw3q</td>\n",
       "      <td>SpotifyMusicPL</td>\n",
       "      <td>142115</td>\n",
       "      <td>rnb</td>\n",
       "    </tr>\n",
       "    <tr>\n",
       "      <th>3</th>\n",
       "      <td>0L3CyZ90B6csQ50jb0idrL</td>\n",
       "      <td>2000s RnB Hits 🔊</td>\n",
       "      <td>108</td>\n",
       "      <td>myplay.com</td>\n",
       "      <td>Filtr US</td>\n",
       "      <td>119735</td>\n",
       "      <td>rnb</td>\n",
       "    </tr>\n",
       "    <tr>\n",
       "      <th>4</th>\n",
       "      <td>5aT4806I753UfrawGOOK9z</td>\n",
       "      <td>Sexy Time 2022 (Slow Bass RnB)</td>\n",
       "      <td>103</td>\n",
       "      <td>41tkabkilyx2zkr8hlltyfmtg</td>\n",
       "      <td>Lux Thugs</td>\n",
       "      <td>113681</td>\n",
       "      <td>rnb</td>\n",
       "    </tr>\n",
       "  </tbody>\n",
       "</table>\n",
       "</div>"
      ],
      "text/plain": [
       "              playlist_id                          playlist_name  \\\n",
       "0  37i9dQZF1DWWEJlAGA9gs0                   Classical Essentials   \n",
       "1  37i9dQZF1DWUPafHP1BJw1                     Pop Goes Classical   \n",
       "2  37i9dQZF1DWV0gynK7G6pD                 Classical New Releases   \n",
       "3  37i9dQZF1DX9G9wwzwWL2k                         Epic Classical   \n",
       "4  1h0CEZCm6IbFTbxThn6Xcs                   Best Classical Music   \n",
       "0  3VXReCeetN58c1clj9u8ZK  Tomorrowland 2022 Playlist 💙 EDM HITS   \n",
       "1  3Di88mvYplBtkDBIzGLiiM                          EDM Hits 2022   \n",
       "2  37i9dQZF1DXafD1g5rer7q                          EDM Samplings   \n",
       "3  37i9dQZF1DXdVmhVVRZJ3I                               Suor EDM   \n",
       "4  37i9dQZF1DX3Kdv0IChEm9                               EDM Hits   \n",
       "0  37i9dQZF1DXbITWG1ZJKYt                          Jazz Classics   \n",
       "1  37i9dQZF1DWVqfgj8NZEp1                      Coffee Table Jazz   \n",
       "2  37i9dQZF1DX0SM0LYsmbMT                             Jazz Vibes   \n",
       "3  37i9dQZF1DX4wta20PHgwo                        Late Night Jazz   \n",
       "4  37i9dQZF1DWTbzY5gOVvKd                          Jazzy Romance   \n",
       "0  37i9dQZF1DWTwnEm1IYyoj                          Soft Pop Hits   \n",
       "1  37i9dQZF1DX9tPFwDMOaN1                          K-Pop ON! (온)   \n",
       "2  37i9dQZF1DX50QitC6Oqtn                               Love Pop   \n",
       "3  37i9dQZF1DXcZDD7cfEKhW                              Pop Remix   \n",
       "4  37i9dQZF1DWUa8ZRTfalHk                             Pop Rising   \n",
       "0  7rIUjHHI7hlbpXG7VSqfg5         Old School RnB, 90s, 2000s R&B   \n",
       "1  6GcssIqNfMVPhxQRlkc8hJ                              RnB 2000s   \n",
       "2  2pUp5bZ589tTptwC4NJjW6                        Rap & RnB Party   \n",
       "3  0L3CyZ90B6csQ50jb0idrL                       2000s RnB Hits 🔊   \n",
       "4  5aT4806I753UfrawGOOK9z         Sexy Time 2022 (Slow Bass RnB)   \n",
       "\n",
       "   playlist_total_tracks                      owner_id          owner_name  \\\n",
       "0                    150                       spotify             Spotify   \n",
       "1                     91                       spotify             Spotify   \n",
       "2                     70                       spotify             Spotify   \n",
       "3                     43                       spotify             Spotify   \n",
       "4                    163              peacefulclassics   Peaceful Classics   \n",
       "0                    110     21uvjs6vsljej5dzs5ksdwprq  The Book of Wisdom   \n",
       "1                    119                     fineshark  Christoffer Brants   \n",
       "2                     50                       spotify             Spotify   \n",
       "3                     50                       spotify             Spotify   \n",
       "4                     60                       spotify             Spotify   \n",
       "0                    250                       spotify             Spotify   \n",
       "1                    142                       spotify             Spotify   \n",
       "2                    300                       spotify             Spotify   \n",
       "3                    150                       spotify             Spotify   \n",
       "4                    120                       spotify             Spotify   \n",
       "0                    100                       spotify             Spotify   \n",
       "1                     50                       spotify             Spotify   \n",
       "2                    100                       spotify             Spotify   \n",
       "3                    100                       spotify             Spotify   \n",
       "4                     90                       spotify             Spotify   \n",
       "0                    267                    karolrodis          karolrodis   \n",
       "1                    470  312bh3qcnw5lufy2ijsm2gys3q5a     Christian Perry   \n",
       "2                     35  31llkladn7mobrvqqivfguyaiw3q      SpotifyMusicPL   \n",
       "3                    108                    myplay.com            Filtr US   \n",
       "4                    103     41tkabkilyx2zkr8hlltyfmtg           Lux Thugs   \n",
       "\n",
       "   total_followers      genre  \n",
       "0          2946311  classical  \n",
       "1           809156  classical  \n",
       "2           656551  classical  \n",
       "3           523767  classical  \n",
       "4           513485  classical  \n",
       "0           493512        edm  \n",
       "1           361597        edm  \n",
       "2           306821        edm  \n",
       "3           258939        edm  \n",
       "4           142710        edm  \n",
       "0          2693812       jazz  \n",
       "1          2400757       jazz  \n",
       "2          2083683       jazz  \n",
       "3          1972952       jazz  \n",
       "4          1131871       jazz  \n",
       "0          6257952        pop  \n",
       "1          4275743        pop  \n",
       "2          3481751        pop  \n",
       "3          3328214        pop  \n",
       "4          2677105        pop  \n",
       "0           202461        rnb  \n",
       "1           189515        rnb  \n",
       "2           142115        rnb  \n",
       "3           119735        rnb  \n",
       "4           113681        rnb  "
      ]
     },
     "execution_count": 130,
     "metadata": {},
     "output_type": "execute_result"
    }
   ],
   "source": [
    "#get top 5 playlists per genre\n",
    "#head will show top 5 followers since csv is already ordered\n",
    "top_playlists_df = playlist_df.groupby('genre').head(5)\n",
    "top_playlists_df"
   ]
  },
  {
   "cell_type": "code",
   "execution_count": 131,
   "metadata": {
    "ExecuteTime": {
     "end_time": "2022-01-11T10:51:25.402921Z",
     "start_time": "2022-01-11T10:51:25.344953Z"
    }
   },
   "outputs": [
    {
     "data": {
      "text/plain": [
       "jazz         936\n",
       "rnb          876\n",
       "classical    518\n",
       "pop          393\n",
       "edm          350\n",
       "Name: genre, dtype: int64"
      ]
     },
     "execution_count": 131,
     "metadata": {},
     "output_type": "execute_result"
    }
   ],
   "source": [
    "tracks_df = tracks_df[tracks_df['playlist_id'].isin(top_playlists_df['playlist_id'].values)]\n",
    "tracks_df['genre'].value_counts()"
   ]
  },
  {
   "cell_type": "markdown",
   "metadata": {},
   "source": [
    "> Q: Given the number of genres for prediction, what minimum accuracy value can we expect from the model?"
   ]
  },
  {
   "cell_type": "code",
   "execution_count": 132,
   "metadata": {},
   "outputs": [
    {
     "data": {
      "text/plain": [
       "0.2"
      ]
     },
     "execution_count": 132,
     "metadata": {},
     "output_type": "execute_result"
    }
   ],
   "source": [
    "1/5"
   ]
  },
  {
   "cell_type": "markdown",
   "metadata": {},
   "source": [
    "## 3. Feature Engineering"
   ]
  },
  {
   "cell_type": "markdown",
   "metadata": {},
   "source": [
    "##### Conversions/Scaling"
   ]
  },
  {
   "cell_type": "code",
   "execution_count": 133,
   "metadata": {
    "ExecuteTime": {
     "end_time": "2022-01-11T10:51:25.447895Z",
     "start_time": "2022-01-11T10:51:25.409917Z"
    }
   },
   "outputs": [],
   "source": [
    "#convert duration from ms to mins\n",
    "tracks_df['duration_mins']=tracks_df['duration']/60000"
   ]
  },
  {
   "cell_type": "code",
   "execution_count": 134,
   "metadata": {
    "ExecuteTime": {
     "end_time": "2022-01-11T10:51:27.755576Z",
     "start_time": "2022-01-11T10:51:25.451895Z"
    }
   },
   "outputs": [
    {
     "data": {
      "text/plain": [
       "count    3073.000000\n",
       "mean        0.744702\n",
       "std         0.167502\n",
       "min         0.000000\n",
       "25%         0.651624\n",
       "50%         0.803351\n",
       "75%         0.871961\n",
       "max         1.000000\n",
       "Name: loudness, dtype: float64"
      ]
     },
     "execution_count": 134,
     "metadata": {},
     "output_type": "execute_result"
    }
   ],
   "source": [
    "#Normalize loudness\n",
    "from sklearn.preprocessing import MinMaxScaler #RobustScaler\n",
    "scaler = MinMaxScaler()\n",
    "\n",
    "tracks_df['loudness'] = scaler.fit_transform(tracks_df[['loudness']])\n",
    "tracks_df['loudness'].describe()"
   ]
  },
  {
   "cell_type": "code",
   "execution_count": 135,
   "metadata": {
    "ExecuteTime": {
     "end_time": "2022-01-11T10:51:27.803548Z",
     "start_time": "2022-01-11T10:51:27.759575Z"
    }
   },
   "outputs": [
    {
     "data": {
      "text/plain": [
       "count    3073.000000\n",
       "mean        0.526189\n",
       "std         0.136796\n",
       "min         0.000000\n",
       "25%         0.416417\n",
       "50%         0.525321\n",
       "75%         0.600684\n",
       "max         1.000000\n",
       "Name: tempo, dtype: float64"
      ]
     },
     "execution_count": 135,
     "metadata": {},
     "output_type": "execute_result"
    }
   ],
   "source": [
    "#Normalize tempo\n",
    "tracks_df['tempo'] =  scaler.fit_transform(tracks_df[['tempo']])\n",
    "#check\n",
    "tracks_df['tempo'].describe()\n"
   ]
  },
  {
   "cell_type": "markdown",
   "metadata": {},
   "source": [
    "###### Categorical Encoding"
   ]
  },
  {
   "cell_type": "code",
   "execution_count": 136,
   "metadata": {
    "ExecuteTime": {
     "end_time": "2022-01-11T10:51:27.828536Z",
     "start_time": "2022-01-11T10:51:27.806547Z"
    }
   },
   "outputs": [
    {
     "data": {
      "text/plain": [
       "track_id              object\n",
       "track_name            object\n",
       "artist_id             object\n",
       "artist_name           object\n",
       "album_id              object\n",
       "duration               int64\n",
       "release_date          object\n",
       "popularity             int64\n",
       "danceability         float64\n",
       "energy               float64\n",
       "key                    int64\n",
       "loudness             float64\n",
       "mode                   int64\n",
       "speechiness          float64\n",
       "acousticness         float64\n",
       "instrumentalness     float64\n",
       "liveness             float64\n",
       "valence              float64\n",
       "tempo                float64\n",
       "playlist_id           object\n",
       "genre               category\n",
       "playlist_name         object\n",
       "duration_mins        float64\n",
       "dtype: object"
      ]
     },
     "execution_count": 136,
     "metadata": {},
     "output_type": "execute_result"
    }
   ],
   "source": [
    "tracks_df[\"genre\"] = tracks_df[\"genre\"].astype('category')\n",
    "tracks_df.dtypes"
   ]
  },
  {
   "cell_type": "code",
   "execution_count": 137,
   "metadata": {
    "ExecuteTime": {
     "end_time": "2022-01-11T10:51:27.863522Z",
     "start_time": "2022-01-11T10:51:27.832535Z"
    }
   },
   "outputs": [
    {
     "data": {
      "text/plain": [
       "jazz         936\n",
       "rnb          876\n",
       "classical    518\n",
       "pop          393\n",
       "edm          350\n",
       "Name: genre, dtype: int64"
      ]
     },
     "execution_count": 137,
     "metadata": {},
     "output_type": "execute_result"
    }
   ],
   "source": [
    "tracks_df['genre'].value_counts()"
   ]
  },
  {
   "cell_type": "code",
   "execution_count": 138,
   "metadata": {
    "ExecuteTime": {
     "end_time": "2022-01-11T10:51:57.072451Z",
     "start_time": "2022-01-11T10:51:57.024478Z"
    }
   },
   "outputs": [
    {
     "data": {
      "text/html": [
       "<div>\n",
       "<style scoped>\n",
       "    .dataframe tbody tr th:only-of-type {\n",
       "        vertical-align: middle;\n",
       "    }\n",
       "\n",
       "    .dataframe tbody tr th {\n",
       "        vertical-align: top;\n",
       "    }\n",
       "\n",
       "    .dataframe thead th {\n",
       "        text-align: right;\n",
       "    }\n",
       "</style>\n",
       "<table border=\"1\" class=\"dataframe\">\n",
       "  <thead>\n",
       "    <tr style=\"text-align: right;\">\n",
       "      <th></th>\n",
       "      <th>track_id</th>\n",
       "      <th>track_name</th>\n",
       "      <th>artist_id</th>\n",
       "      <th>artist_name</th>\n",
       "      <th>album_id</th>\n",
       "      <th>duration</th>\n",
       "      <th>release_date</th>\n",
       "      <th>popularity</th>\n",
       "      <th>danceability</th>\n",
       "      <th>energy</th>\n",
       "      <th>...</th>\n",
       "      <th>acousticness</th>\n",
       "      <th>instrumentalness</th>\n",
       "      <th>liveness</th>\n",
       "      <th>valence</th>\n",
       "      <th>tempo</th>\n",
       "      <th>playlist_id</th>\n",
       "      <th>genre</th>\n",
       "      <th>playlist_name</th>\n",
       "      <th>duration_mins</th>\n",
       "      <th>genre_id</th>\n",
       "    </tr>\n",
       "  </thead>\n",
       "  <tbody>\n",
       "    <tr>\n",
       "      <th>0</th>\n",
       "      <td>61dYvvfIRtIDFuqZypPAta</td>\n",
       "      <td>Cello Suite No. 1 in G Major, BWV 1007: I. Pré...</td>\n",
       "      <td>5aIqB5nVVvmFsvSdExz408</td>\n",
       "      <td>Johann Sebastian Bach</td>\n",
       "      <td>2OpnKgmVYPEN2GldgBponI</td>\n",
       "      <td>151480</td>\n",
       "      <td>1983</td>\n",
       "      <td>64</td>\n",
       "      <td>0.2570</td>\n",
       "      <td>0.1090</td>\n",
       "      <td>...</td>\n",
       "      <td>0.900</td>\n",
       "      <td>0.867</td>\n",
       "      <td>0.0762</td>\n",
       "      <td>0.3070</td>\n",
       "      <td>0.352063</td>\n",
       "      <td>37i9dQZF1DWWEJlAGA9gs0</td>\n",
       "      <td>classical</td>\n",
       "      <td>Classical Essentials</td>\n",
       "      <td>2.524667</td>\n",
       "      <td>0</td>\n",
       "    </tr>\n",
       "    <tr>\n",
       "      <th>1</th>\n",
       "      <td>4SFBV7SRNG2e2kyL1F6kjU</td>\n",
       "      <td>The Well-Tempered Clavier: Book 1, BWV 846-869...</td>\n",
       "      <td>5aIqB5nVVvmFsvSdExz408</td>\n",
       "      <td>Johann Sebastian Bach</td>\n",
       "      <td>1XORY4rQNhqkZxTze6Px90</td>\n",
       "      <td>139306</td>\n",
       "      <td>2019-03-29</td>\n",
       "      <td>63</td>\n",
       "      <td>0.2210</td>\n",
       "      <td>0.1260</td>\n",
       "      <td>...</td>\n",
       "      <td>0.989</td>\n",
       "      <td>0.897</td>\n",
       "      <td>0.1020</td>\n",
       "      <td>0.2160</td>\n",
       "      <td>0.627115</td>\n",
       "      <td>37i9dQZF1DWWEJlAGA9gs0</td>\n",
       "      <td>classical</td>\n",
       "      <td>Classical Essentials</td>\n",
       "      <td>2.321767</td>\n",
       "      <td>0</td>\n",
       "    </tr>\n",
       "    <tr>\n",
       "      <th>2</th>\n",
       "      <td>3zLTPuucd3e6TxZnu2dlVS</td>\n",
       "      <td>Bagatelle No. 25 in A Minor, WoO 59 \"Für Elise\"</td>\n",
       "      <td>2wOqMjp9TyABvtHdOSOTUS</td>\n",
       "      <td>Ludwig van Beethoven</td>\n",
       "      <td>230jpjk9w7MGupNMMvXoaN</td>\n",
       "      <td>212066</td>\n",
       "      <td>2015</td>\n",
       "      <td>63</td>\n",
       "      <td>0.2890</td>\n",
       "      <td>0.0306</td>\n",
       "      <td>...</td>\n",
       "      <td>0.987</td>\n",
       "      <td>0.911</td>\n",
       "      <td>0.1020</td>\n",
       "      <td>0.1180</td>\n",
       "      <td>0.589478</td>\n",
       "      <td>37i9dQZF1DWWEJlAGA9gs0</td>\n",
       "      <td>classical</td>\n",
       "      <td>Classical Essentials</td>\n",
       "      <td>3.534433</td>\n",
       "      <td>0</td>\n",
       "    </tr>\n",
       "    <tr>\n",
       "      <th>3</th>\n",
       "      <td>0DqFXzLtKkj9JO421NJpl1</td>\n",
       "      <td>Suite No. 3 in D Major, BWV 1068: II. Air</td>\n",
       "      <td>5aIqB5nVVvmFsvSdExz408</td>\n",
       "      <td>Johann Sebastian Bach</td>\n",
       "      <td>0RsNQJd8Em0kBK5BDTdAkb</td>\n",
       "      <td>363253</td>\n",
       "      <td>2020-08-31</td>\n",
       "      <td>61</td>\n",
       "      <td>0.0769</td>\n",
       "      <td>0.0846</td>\n",
       "      <td>...</td>\n",
       "      <td>0.922</td>\n",
       "      <td>0.929</td>\n",
       "      <td>0.1130</td>\n",
       "      <td>0.0586</td>\n",
       "      <td>0.827498</td>\n",
       "      <td>37i9dQZF1DWWEJlAGA9gs0</td>\n",
       "      <td>classical</td>\n",
       "      <td>Classical Essentials</td>\n",
       "      <td>6.054217</td>\n",
       "      <td>0</td>\n",
       "    </tr>\n",
       "    <tr>\n",
       "      <th>4</th>\n",
       "      <td>1Mse9NKBbEASi50CQ4aYhr</td>\n",
       "      <td>Pachelbel: Canon and Gigue for Three Violins a...</td>\n",
       "      <td>62TD7509VQIxUe4WpwO0s3</td>\n",
       "      <td>Johann Pachelbel</td>\n",
       "      <td>5YCuibCDJrkVcS3UOAYqr9</td>\n",
       "      <td>301586</td>\n",
       "      <td>1986</td>\n",
       "      <td>57</td>\n",
       "      <td>0.1280</td>\n",
       "      <td>0.1320</td>\n",
       "      <td>...</td>\n",
       "      <td>0.744</td>\n",
       "      <td>0.942</td>\n",
       "      <td>0.1070</td>\n",
       "      <td>0.0988</td>\n",
       "      <td>0.400372</td>\n",
       "      <td>37i9dQZF1DWWEJlAGA9gs0</td>\n",
       "      <td>classical</td>\n",
       "      <td>Classical Essentials</td>\n",
       "      <td>5.026433</td>\n",
       "      <td>0</td>\n",
       "    </tr>\n",
       "  </tbody>\n",
       "</table>\n",
       "<p>5 rows × 24 columns</p>\n",
       "</div>"
      ],
      "text/plain": [
       "                 track_id                                         track_name  \\\n",
       "0  61dYvvfIRtIDFuqZypPAta  Cello Suite No. 1 in G Major, BWV 1007: I. Pré...   \n",
       "1  4SFBV7SRNG2e2kyL1F6kjU  The Well-Tempered Clavier: Book 1, BWV 846-869...   \n",
       "2  3zLTPuucd3e6TxZnu2dlVS    Bagatelle No. 25 in A Minor, WoO 59 \"Für Elise\"   \n",
       "3  0DqFXzLtKkj9JO421NJpl1          Suite No. 3 in D Major, BWV 1068: II. Air   \n",
       "4  1Mse9NKBbEASi50CQ4aYhr  Pachelbel: Canon and Gigue for Three Violins a...   \n",
       "\n",
       "                artist_id            artist_name                album_id  \\\n",
       "0  5aIqB5nVVvmFsvSdExz408  Johann Sebastian Bach  2OpnKgmVYPEN2GldgBponI   \n",
       "1  5aIqB5nVVvmFsvSdExz408  Johann Sebastian Bach  1XORY4rQNhqkZxTze6Px90   \n",
       "2  2wOqMjp9TyABvtHdOSOTUS   Ludwig van Beethoven  230jpjk9w7MGupNMMvXoaN   \n",
       "3  5aIqB5nVVvmFsvSdExz408  Johann Sebastian Bach  0RsNQJd8Em0kBK5BDTdAkb   \n",
       "4  62TD7509VQIxUe4WpwO0s3       Johann Pachelbel  5YCuibCDJrkVcS3UOAYqr9   \n",
       "\n",
       "   duration release_date  popularity  danceability  energy  ...  acousticness  \\\n",
       "0    151480         1983          64        0.2570  0.1090  ...         0.900   \n",
       "1    139306   2019-03-29          63        0.2210  0.1260  ...         0.989   \n",
       "2    212066         2015          63        0.2890  0.0306  ...         0.987   \n",
       "3    363253   2020-08-31          61        0.0769  0.0846  ...         0.922   \n",
       "4    301586         1986          57        0.1280  0.1320  ...         0.744   \n",
       "\n",
       "   instrumentalness  liveness  valence     tempo             playlist_id  \\\n",
       "0             0.867    0.0762   0.3070  0.352063  37i9dQZF1DWWEJlAGA9gs0   \n",
       "1             0.897    0.1020   0.2160  0.627115  37i9dQZF1DWWEJlAGA9gs0   \n",
       "2             0.911    0.1020   0.1180  0.589478  37i9dQZF1DWWEJlAGA9gs0   \n",
       "3             0.929    0.1130   0.0586  0.827498  37i9dQZF1DWWEJlAGA9gs0   \n",
       "4             0.942    0.1070   0.0988  0.400372  37i9dQZF1DWWEJlAGA9gs0   \n",
       "\n",
       "       genre         playlist_name  duration_mins genre_id  \n",
       "0  classical  Classical Essentials       2.524667        0  \n",
       "1  classical  Classical Essentials       2.321767        0  \n",
       "2  classical  Classical Essentials       3.534433        0  \n",
       "3  classical  Classical Essentials       6.054217        0  \n",
       "4  classical  Classical Essentials       5.026433        0  \n",
       "\n",
       "[5 rows x 24 columns]"
      ]
     },
     "execution_count": 138,
     "metadata": {},
     "output_type": "execute_result"
    }
   ],
   "source": [
    "tracks_df['genre_id'] = tracks_df[\"genre\"].cat.codes\n",
    "tracks_df.head()"
   ]
  },
  {
   "cell_type": "code",
   "execution_count": 139,
   "metadata": {},
   "outputs": [
    {
     "data": {
      "text/plain": [
       "{0: 'classical', 1: 'edm', 2: 'jazz', 3: 'pop', 4: 'rnb'}"
      ]
     },
     "execution_count": 139,
     "metadata": {},
     "output_type": "execute_result"
    }
   ],
   "source": [
    "tracks_df[['genre_id','genre']].drop_duplicates().set_index('genre_id').to_dict()['genre']"
   ]
  },
  {
   "cell_type": "code",
   "execution_count": 140,
   "metadata": {
    "ExecuteTime": {
     "end_time": "2022-01-11T10:52:36.055489Z",
     "start_time": "2022-01-11T10:52:36.040499Z"
    }
   },
   "outputs": [
    {
     "data": {
      "text/plain": [
       "{0: 'classical', 1: 'edm', 2: 'jazz', 3: 'pop', 4: 'rnb'}"
      ]
     },
     "execution_count": 140,
     "metadata": {},
     "output_type": "execute_result"
    }
   ],
   "source": [
    "genre_lookup = dict(tracks_df.groupby('genre_id').head(1)[['genre_id','genre']].sort_values('genre_id').values)\n",
    "genre_lookup"
   ]
  },
  {
   "cell_type": "code",
   "execution_count": 141,
   "metadata": {
    "ExecuteTime": {
     "end_time": "2022-01-11T10:53:27.996458Z",
     "start_time": "2022-01-11T10:53:27.746602Z"
    }
   },
   "outputs": [],
   "source": [
    "from sklearn.model_selection import train_test_split, KFold, cross_val_score, GridSearchCV\n",
    "from sklearn.neighbors import KNeighborsClassifier \n",
    "from sklearn.svm import SVC\n",
    "from sklearn.metrics import accuracy_score,roc_curve, auc, confusion_matrix, classification_report,\\\n",
    "    ConfusionMatrixDisplay, plot_roc_curve"
   ]
  },
  {
   "cell_type": "markdown",
   "metadata": {},
   "source": [
    "Select audio features to use for the model"
   ]
  },
  {
   "cell_type": "code",
   "execution_count": 142,
   "metadata": {
    "ExecuteTime": {
     "end_time": "2022-01-11T10:53:53.414698Z",
     "start_time": "2022-01-11T10:53:53.405695Z"
    }
   },
   "outputs": [
    {
     "name": "stdout",
     "output_type": "stream",
     "text": [
      "3073 3073\n"
     ]
    }
   ],
   "source": [
    "# create feature matrix (X)\n",
    "# pick energy and tempo as features\n",
    "\n",
    "feature_cols = ['danceability', 'energy', 'loudness', 'speechiness', 'acousticness', 'instrumentalness',\\\n",
    "                'liveness', 'valence', 'tempo']\n",
    "\n",
    "feature_cols = ['danceability', 'energy', 'loudness', 'speechiness', 'acousticness', 'instrumentalness',\\\n",
    "                'liveness', 'valence', 'tempo']\n",
    "\n",
    "#removed tempo\n",
    "\n",
    "X = tracks_df[feature_cols]\n",
    "y = tracks_df['genre_id']\n",
    "print(len(X),len(y))"
   ]
  },
  {
   "cell_type": "markdown",
   "metadata": {},
   "source": [
    "## 5. Model Tuning: kNN"
   ]
  },
  {
   "cell_type": "markdown",
   "metadata": {},
   "source": [
    "Perform KNN using K= [2..50] and validate using k-fold = 5"
   ]
  },
  {
   "cell_type": "code",
   "execution_count": 143,
   "metadata": {
    "ExecuteTime": {
     "end_time": "2022-01-11T10:54:29.092044Z",
     "start_time": "2022-01-11T10:54:28.835190Z"
    }
   },
   "outputs": [
    {
     "name": "stdout",
     "output_type": "stream",
     "text": [
      "K=0, train idx: 615-3072 (n=2458), test idx:  0-614 (n=615)\n",
      "K=1, train idx: 0-615, 1229-3072 (n=2458), test idx:  615-1229 (n=615)\n",
      "K=2, train idx: 0-1230, 1844-3072 (n=2458), test idx:  1230-1844 (n=615)\n",
      "K=3, train idx: 0-1845, 2458-3072 (n=2459), test idx:  1845-2458 (n=614)\n",
      "K=4, train idx: 0-2458 (n=2459), test idx:  2459-3072 (n=614)\n"
     ]
    }
   ],
   "source": [
    "#check indices used in folds\n",
    "KFOLDS=5\n",
    "kf = KFold(n_splits=KFOLDS)\n",
    "for i,(train, test) in enumerate(kf.split(X)):\n",
    "    #generate indices to use for the k-fold splits\n",
    "    full_range = np.arange(len(X)).tolist()\n",
    "    gap = [x for x in full_range if x not in train]\n",
    "    if (i>0)&(i<KFOLDS-1):\n",
    "        print(\"K=%d, train idx: %d-%d, %d-%d (n=%d), test idx:  %d-%d (n=%d)\" % (i, min(train), min(gap), max(gap), max(train),len(train),\\\n",
    "                                                                     min(test), max(test), len(test)))\n",
    "    else:\n",
    "         print(\"K=%d, train idx: %d-%d (n=%d), test idx:  %d-%d (n=%d)\" % (i, min(train), max(train),len(train),\\\n",
    "                                                                     min(test), max(test), len(test)))"
   ]
  },
  {
   "cell_type": "code",
   "execution_count": 144,
   "metadata": {
    "ExecuteTime": {
     "end_time": "2022-01-11T10:55:02.217027Z",
     "start_time": "2022-01-11T10:54:29.104038Z"
    },
    "scrolled": true,
    "tags": []
   },
   "outputs": [
    {
     "name": "stdout",
     "output_type": "stream",
     "text": [
      "Fitting KNN with K=2 ...DONE!\n",
      "Fitting KNN with K=3 ...DONE!\n",
      "Fitting KNN with K=4 ...DONE!\n",
      "Fitting KNN with K=5 ...DONE!\n",
      "Fitting KNN with K=6 ...DONE!\n",
      "Fitting KNN with K=7 ...DONE!\n",
      "Fitting KNN with K=8 ...DONE!\n",
      "Fitting KNN with K=9 ...DONE!\n",
      "Fitting KNN with K=10 ...DONE!\n",
      "Fitting KNN with K=11 ...DONE!\n",
      "Fitting KNN with K=12 ...DONE!\n",
      "Fitting KNN with K=13 ...DONE!\n",
      "Fitting KNN with K=14 ...DONE!\n",
      "Fitting KNN with K=15 ...DONE!\n",
      "Fitting KNN with K=16 ...DONE!\n",
      "Fitting KNN with K=17 ...DONE!\n",
      "Fitting KNN with K=18 ...DONE!\n",
      "Fitting KNN with K=19 ...DONE!\n",
      "Fitting KNN with K=20 ...DONE!\n",
      "Fitting KNN with K=21 ...DONE!\n",
      "Fitting KNN with K=22 ...DONE!\n",
      "Fitting KNN with K=23 ...DONE!\n",
      "Fitting KNN with K=24 ...DONE!\n",
      "Fitting KNN with K=25 ...DONE!\n",
      "Fitting KNN with K=26 ...DONE!\n",
      "Fitting KNN with K=27 ...DONE!\n",
      "Fitting KNN with K=28 ...DONE!\n",
      "Fitting KNN with K=29 ...DONE!\n",
      "Fitting KNN with K=30 ...DONE!\n",
      "Fitting KNN with K=31 ...DONE!\n",
      "Fitting KNN with K=32 ...DONE!\n",
      "Fitting KNN with K=33 ...DONE!\n",
      "Fitting KNN with K=34 ...DONE!\n",
      "Fitting KNN with K=35 ...DONE!\n",
      "Fitting KNN with K=36 ...DONE!\n",
      "Fitting KNN with K=37 ...DONE!\n",
      "Fitting KNN with K=38 ...DONE!\n",
      "Fitting KNN with K=39 ...DONE!\n",
      "Fitting KNN with K=40 ...DONE!\n",
      "Fitting KNN with K=41 ...DONE!\n",
      "Fitting KNN with K=42 ...DONE!\n",
      "Fitting KNN with K=43 ...DONE!\n",
      "Fitting KNN with K=44 ...DONE!\n",
      "Fitting KNN with K=45 ...DONE!\n",
      "Fitting KNN with K=46 ...DONE!\n",
      "Fitting KNN with K=47 ...DONE!\n",
      "Fitting KNN with K=48 ...DONE!\n",
      "Fitting KNN with K=49 ...DONE!\n",
      "Fitting KNN with K=50 ...DONE!\n"
     ]
    }
   ],
   "source": [
    "n_neighbors = np.arange(2,51)\n",
    "KFOLDS = 5\n",
    "\n",
    "cv_scores_mean = []\n",
    "cv_scores_std = []\n",
    "\n",
    "for K in n_neighbors:\n",
    "    print('Fitting KNN with K=%d ...' % K, end='')\n",
    "    #initialize model\n",
    "    knn_model = KNeighborsClassifier(n_neighbors=K)\n",
    "    # get accuracy metric across train-test sets generated using k-folds\n",
    "    scores = cross_val_score(knn_model, X, y, cv=KFOLDS, scoring='accuracy')\n",
    "    # overall accuracy score of K is mean of accuracy scores per k-fold\n",
    "    # std dev of scores across folds must be a minimum\n",
    "    cv_scores_mean.append(scores.mean())\n",
    "    cv_scores_std.append(scores.std())\n",
    "    print('DONE!')"
   ]
  },
  {
   "cell_type": "markdown",
   "metadata": {},
   "source": [
    "Choose optimal value of K"
   ]
  },
  {
   "cell_type": "code",
   "execution_count": 145,
   "metadata": {
    "ExecuteTime": {
     "end_time": "2022-01-11T10:55:03.044276Z",
     "start_time": "2022-01-11T10:55:02.222025Z"
    },
    "tags": []
   },
   "outputs": [
    {
     "name": "stdout",
     "output_type": "stream",
     "text": [
      "The optimal number of neighbors is 16.00 with accuracy 0.7078\n"
     ]
    },
    {
     "data": {
      "text/plain": [
       "Text(0, 0.5, 'Accuracy standard deviation')"
      ]
     },
     "execution_count": 145,
     "metadata": {},
     "output_type": "execute_result"
    },
    {
     "data": {
      "image/png": "[encoded data removed]",
      "text/plain": [
       "<Figure size 792x288 with 2 Axes>"
      ]
     },
     "metadata": {
      "needs_background": "light"
     },
     "output_type": "display_data"
    }
   ],
   "source": [
    "# determining best K\n",
    "idx_max_accuracy = cv_scores_mean.index(max(cv_scores_mean))\n",
    "#idx_min_accuracy = cv_scores_mean.index(max(cv_scores_mean))\n",
    "optimal_K = n_neighbors[idx_max_accuracy]\n",
    "print(\"The optimal number of neighbors is %0.2f with accuracy %0.4f\" % (optimal_K, cv_scores_mean[idx_max_accuracy]))\n",
    "\n",
    "# plot metrics \n",
    "fig,axs = plt.subplots(1,2, figsize=(11,4))\n",
    "axs[0].plot(n_neighbors, cv_scores_mean)\n",
    "axs[0].plot(optimal_K,max(cv_scores_mean), marker=\"o\", ms=7, color='r')\n",
    "axs[0].set_xlabel(\"Number of Neighbors K\")\n",
    "axs[0].set_ylabel(\"Accuracy\")\n",
    "\n",
    "axs[1].plot(n_neighbors, cv_scores_std)\n",
    "axs[1].plot(optimal_K,cv_scores_std[idx_max_accuracy], marker=\"o\", ms=7, color='r')\n",
    "axs[1].set_xlabel(\"Number of Neighbors K\")\n",
    "axs[1].set_ylabel(\"Accuracy standard deviation\")\n"
   ]
  },
  {
   "cell_type": "markdown",
   "metadata": {},
   "source": [
    "Try out optimal model with entire length of the dataset"
   ]
  },
  {
   "cell_type": "code",
   "execution_count": 146,
   "metadata": {
    "ExecuteTime": {
     "end_time": "2022-01-11T10:55:03.594946Z",
     "start_time": "2022-01-11T10:55:03.048258Z"
    }
   },
   "outputs": [],
   "source": [
    "#initialize KNN with optimal K\n",
    "knn_optimal_model = KNeighborsClassifier(n_neighbors=optimal_K)\n",
    "# fitting the model with entire dataset\n",
    "knn_optimal_model.fit(X, y)\n",
    "#use model to predict y\n",
    "knn_ypred = knn_optimal_model.predict(X)"
   ]
  },
  {
   "cell_type": "markdown",
   "metadata": {},
   "source": [
    "Create a classification report"
   ]
  },
  {
   "cell_type": "code",
   "execution_count": 147,
   "metadata": {
    "ExecuteTime": {
     "end_time": "2022-01-11T10:55:03.620930Z",
     "start_time": "2022-01-11T10:55:03.606943Z"
    }
   },
   "outputs": [
    {
     "name": "stdout",
     "output_type": "stream",
     "text": [
      "\n",
      "The accuracy of the knn classifier for the full dataset using k = 16 is 74.975594%\n"
     ]
    }
   ],
   "source": [
    "# evaluate accuracy\n",
    "acc = accuracy_score(y, knn_ypred) * 100\n",
    "print('\\nThe accuracy of the knn classifier for the full dataset using k = %d is %f%%' % (optimal_K, acc))"
   ]
  },
  {
   "cell_type": "markdown",
   "metadata": {},
   "source": [
    "## 6. Model Tuning: SVM"
   ]
  },
  {
   "cell_type": "markdown",
   "metadata": {},
   "source": [
    "Fit a **linear** kernel"
   ]
  },
  {
   "cell_type": "code",
   "execution_count": 148,
   "metadata": {
    "ExecuteTime": {
     "end_time": "2022-01-11T10:55:03.646917Z",
     "start_time": "2022-01-11T10:55:03.624929Z"
    }
   },
   "outputs": [],
   "source": [
    "def plot_scores(cv_scores_mean,cv_scores_std):\n",
    "    fig,axs = plt.subplots(1,2, figsize=(11,4))\n",
    "    \n",
    "    x = np.arange(len(cv_scores_mean))\n",
    "    max_mean_score_idx = cv_scores_mean.argmax()\n",
    "    \n",
    "    axs[0].plot(x, cv_scores_mean, marker='.', lw=0)\n",
    "    axs[0].plot(x[max_mean_score_idx],max(cv_scores_mean), marker=\"o\", ms=7, color='r')\n",
    "    axs[0].set_xlabel(\"Model config type\")\n",
    "    axs[0].set_ylabel(\"Accuracy\")\n",
    "\n",
    "    axs[1].plot(x, cv_scores_std, marker='.', lw=0)\n",
    "    axs[1].plot(x[max_mean_score_idx],cv_scores_std[max_mean_score_idx], marker=\"o\", ms=7, color='r')\n",
    "    axs[1].set_xlabel(\"Model config type\")\n",
    "    axs[1].set_ylabel(\"Accuracy standard deviation\")\n"
   ]
  },
  {
   "cell_type": "code",
   "execution_count": 149,
   "metadata": {
    "ExecuteTime": {
     "end_time": "2022-01-11T10:55:22.543527Z",
     "start_time": "2022-01-11T10:55:03.650918Z"
    },
    "tags": []
   },
   "outputs": [
    {
     "name": "stdout",
     "output_type": "stream",
     "text": [
      "Fitting SVM with linear kernel...\n",
      "Fitting 5 folds for each of 5 candidates, totalling 25 fits\n",
      "Best model config score is 69.898308% (vs. overall mean score: 69.137353 )\n",
      "Std of best model score across folds is 0.019783 (vs. overall mean std: 0.020474 )\n",
      "The accuracy of the SVM classifier for the full dataset is 72.372275%\n",
      "DONE!\n"
     ]
    }
   ],
   "source": [
    "#Linear model\n",
    "print('Fitting SVM with linear kernel...')\n",
    "\n",
    "# defining parameter range\n",
    "param_grid = {'C': [0.1, 1, 10, 100, 1000],\n",
    "              'kernel': ['linear']}\n",
    "grid = GridSearchCV(SVC(), param_grid, refit = True, verbose = 1, cv = KFOLDS )\n",
    "# fitting the model for grid search\n",
    "grid.fit(X, y)\n",
    "\n",
    "#get scores\n",
    "cv_scores_mean =  grid.cv_results_['mean_test_score']\n",
    "cv_scores_std = grid.cv_results_['std_test_score']\n",
    "max_mean_score_idx = cv_scores_mean.argmax()\n",
    "\n",
    "print('Best model config score is %f%% (vs. overall mean score: %f )' % (100*cv_scores_mean[max_mean_score_idx],\n",
    "                                                                        100*np.mean(cv_scores_mean)))\n",
    "print('Std of best model score across folds is %f (vs. overall mean std: %f )' %\\\n",
    "      (cv_scores_std[max_mean_score_idx], np.mean(cv_scores_std)))\n",
    "\n",
    "# get best model\n",
    "svm_model1 = grid.best_estimator_\n",
    "# fit model for entire data\n",
    "svm_model1.fit(X, y)\n",
    "pred1 = svm_model1.predict(X)\n",
    "acc = accuracy_score(y, pred1) * 100\n",
    "print('The accuracy of the SVM classifier for the full dataset is %f%%' % (acc))\n",
    "print('DONE!')"
   ]
  },
  {
   "cell_type": "code",
   "execution_count": null,
   "metadata": {},
   "outputs": [],
   "source": []
  },
  {
   "cell_type": "code",
   "execution_count": 150,
   "metadata": {
    "ExecuteTime": {
     "end_time": "2022-01-11T10:55:23.432037Z",
     "start_time": "2022-01-11T10:55:22.552516Z"
    }
   },
   "outputs": [
    {
     "data": {
      "image/png": "[encoded data removed]",
      "text/plain": [
       "<Figure size 792x288 with 2 Axes>"
      ]
     },
     "metadata": {
      "needs_background": "light"
     },
     "output_type": "display_data"
    }
   ],
   "source": [
    "plot_scores(cv_scores_mean,cv_scores_std)"
   ]
  },
  {
   "cell_type": "markdown",
   "metadata": {},
   "source": [
    "Fit a **polynomial** kernel"
   ]
  },
  {
   "cell_type": "code",
   "execution_count": 151,
   "metadata": {
    "ExecuteTime": {
     "end_time": "2022-01-11T11:11:12.795569Z",
     "start_time": "2022-01-11T10:55:23.440026Z"
    }
   },
   "outputs": [
    {
     "name": "stdout",
     "output_type": "stream",
     "text": [
      "Fitting SVM with a polynomial kernel...\n",
      "Fitting 5 folds for each of 75 candidates, totalling 375 fits\n",
      "Best model is SVC(C=1000, degree=2, gamma=1, kernel='poly')\n",
      "Best model config score is 72.143164% (vs. overall mean score: 46.544667 )\n",
      "Std of best model score across folds is 0.019319 (vs. overall mean std: 0.009331 )\n",
      "The accuracy of the SVM classifier for the full dataset is 77.839245%\n",
      "DONE!\n"
     ]
    }
   ],
   "source": [
    "# defining parameter range\n",
    "print('Fitting SVM with a polynomial kernel...')\n",
    "\n",
    "param_grid = {'C': [0.1, 1, 10, 100, 1000],\n",
    "              'gamma': [1, 0.1, 0.01, 0.001, 0.0001],\n",
    "              'degree': [2,3,5],\n",
    "              'kernel': ['poly']}\n",
    "#1 worker:  12 mins\n",
    "#2 workers: 8.6 mins\n",
    "#3 workers: 7.1 mins\n",
    "grid = GridSearchCV(SVC(), param_grid, refit = True, verbose = 1, cv = KFOLDS, n_jobs=3)\n",
    "# fitting the model for grid search\n",
    "grid.fit(X, y)\n",
    "print('Best model is %s' % grid.best_estimator_)\n",
    "\n",
    "#get scores\n",
    "cv_scores_mean =  grid.cv_results_['mean_test_score']\n",
    "cv_scores_std = grid.cv_results_['std_test_score']\n",
    "max_mean_score_idx = cv_scores_mean.argmax()\n",
    "\n",
    "print('Best model config score is %f%% (vs. overall mean score: %f )' % (100*cv_scores_mean[max_mean_score_idx],\n",
    "                                                                        100*np.mean(cv_scores_mean)))\n",
    "print('Std of best model score across folds is %f (vs. overall mean std: %f )' %\\\n",
    "      (cv_scores_std[max_mean_score_idx], np.mean(cv_scores_std)))\n",
    "\n",
    "# get best model\n",
    "svm_model2 = grid.best_estimator_\n",
    "# fit model for entire data\n",
    "svm_model2.fit(X, y)\n",
    "pred2 = svm_model2.predict(X)\n",
    "acc = accuracy_score(y, pred2) * 100\n",
    "print('The accuracy of the SVM classifier for the full dataset is %f%%' % (acc))\n",
    "print('DONE!')"
   ]
  },
  {
   "cell_type": "code",
   "execution_count": 152,
   "metadata": {
    "ExecuteTime": {
     "end_time": "2022-01-11T11:11:13.562668Z",
     "start_time": "2022-01-11T11:11:12.799566Z"
    }
   },
   "outputs": [
    {
     "data": {
      "image/png": "[encoded data removed]",
      "text/plain": [
       "<Figure size 792x288 with 2 Axes>"
      ]
     },
     "metadata": {
      "needs_background": "light"
     },
     "output_type": "display_data"
    }
   ],
   "source": [
    "plot_scores(cv_scores_mean,cv_scores_std)"
   ]
  },
  {
   "cell_type": "code",
   "execution_count": 153,
   "metadata": {},
   "outputs": [
    {
     "data": {
      "text/plain": [
       "SVC(C=1000, degree=2, gamma=1, kernel='poly')"
      ]
     },
     "execution_count": 153,
     "metadata": {},
     "output_type": "execute_result"
    }
   ],
   "source": [
    "svm_model2"
   ]
  },
  {
   "cell_type": "markdown",
   "metadata": {},
   "source": [
    "Fit a **radial** kernel"
   ]
  },
  {
   "cell_type": "code",
   "execution_count": 154,
   "metadata": {
    "ExecuteTime": {
     "end_time": "2022-01-11T11:12:06.579403Z",
     "start_time": "2022-01-11T11:11:13.581659Z"
    }
   },
   "outputs": [
    {
     "name": "stdout",
     "output_type": "stream",
     "text": [
      "Fitting SVM with an rbf kernel...\n",
      "Fitting 5 folds for each of 25 candidates, totalling 125 fits\n",
      "Best model is SVC(C=100, gamma=1)\n",
      "Best model config score is 71.785387% (vs. overall mean score: 61.762547 )\n",
      "Std of best model score across folds is 0.027780 (vs. overall mean std: 0.016764 )\n",
      "The accuracy of the SVM classifier for the full dataset is 80.637813%\n",
      "DONE!\n"
     ]
    }
   ],
   "source": [
    "# defining parameter range\n",
    "print('Fitting SVM with an rbf kernel...')\n",
    "\n",
    "param_grid = {'C': [0.1, 1, 10, 100, 1000],\n",
    "              'gamma': [1, 0.1, 0.01, 0.001, 0.0001],\n",
    "              'kernel': ['rbf']}\n",
    "\n",
    "grid = GridSearchCV(SVC(), param_grid, refit = True, verbose = 1, cv = KFOLDS, n_jobs=4)\n",
    "# fitting the model for grid search\n",
    "grid.fit(X, y)\n",
    "print('Best model is %s' % grid.best_estimator_)\n",
    "\n",
    "#get scores\n",
    "cv_scores_mean =  grid.cv_results_['mean_test_score']\n",
    "cv_scores_std = grid.cv_results_['std_test_score']\n",
    "max_mean_score_idx = cv_scores_mean.argmax()\n",
    "\n",
    "print('Best model config score is %f%% (vs. overall mean score: %f )' % (100*cv_scores_mean[max_mean_score_idx],\n",
    "                                                                        100*np.mean(cv_scores_mean)))\n",
    "print('Std of best model score across folds is %f (vs. overall mean std: %f )' %\\\n",
    "      (cv_scores_std[max_mean_score_idx], np.mean(cv_scores_std)))\n",
    "\n",
    "# get best model\n",
    "svm_model3 = grid.best_estimator_\n",
    "# fit model for entire data\n",
    "svm_model3.fit(X, y)\n",
    "pred3 = svm_model3.predict(X)\n",
    "acc = accuracy_score(y, pred3) * 100\n",
    "print('The accuracy of the SVM classifier for the full dataset is %f%%' % (acc))\n",
    "print('DONE!')"
   ]
  },
  {
   "cell_type": "code",
   "execution_count": 155,
   "metadata": {
    "ExecuteTime": {
     "end_time": "2022-01-11T11:12:07.161304Z",
     "start_time": "2022-01-11T11:12:06.582403Z"
    }
   },
   "outputs": [
    {
     "data": {
      "image/png": "[encoded data removed]",
      "text/plain": [
       "<Figure size 792x288 with 2 Axes>"
      ]
     },
     "metadata": {
      "needs_background": "light"
     },
     "output_type": "display_data"
    }
   ],
   "source": [
    "plot_scores(cv_scores_mean,cv_scores_std)"
   ]
  },
  {
   "cell_type": "markdown",
   "metadata": {},
   "source": [
    "Select best SVM model"
   ]
  },
  {
   "cell_type": "code",
   "execution_count": 156,
   "metadata": {
    "ExecuteTime": {
     "end_time": "2022-01-11T11:13:16.030018Z",
     "start_time": "2022-01-11T11:12:07.165291Z"
    }
   },
   "outputs": [],
   "source": [
    "svm_optimal_model = svm_model3\n",
    "#set probability=True to view classification probabilities and refit\n",
    "svm_optimal_model.probability=True\n",
    "svm_optimal_model.fit(X, y)\n",
    "#use model to predict y\n",
    "svm_ypred = svm_optimal_model.predict(X)"
   ]
  },
  {
   "cell_type": "markdown",
   "metadata": {},
   "source": [
    "## 7. Model Selection"
   ]
  },
  {
   "cell_type": "markdown",
   "metadata": {},
   "source": [
    ">Q: Which between KNN and SVM performed better? "
   ]
  },
  {
   "cell_type": "code",
   "execution_count": 157,
   "metadata": {
    "ExecuteTime": {
     "end_time": "2022-01-11T11:13:17.771051Z",
     "start_time": "2022-01-11T11:13:16.034017Z"
    }
   },
   "outputs": [
    {
     "data": {
      "text/plain": [
       "<sklearn.metrics._plot.confusion_matrix.ConfusionMatrixDisplay at 0x1cfb8fd9bb0>"
      ]
     },
     "execution_count": 157,
     "metadata": {},
     "output_type": "execute_result"
    },
    {
     "data": {
      "image/png": "[encoded data removed]",
      "text/plain": [
       "<Figure size 432x288 with 2 Axes>"
      ]
     },
     "metadata": {
      "needs_background": "light"
     },
     "output_type": "display_data"
    }
   ],
   "source": [
    "cm = confusion_matrix(y, knn_ypred)\n",
    "cmd = ConfusionMatrixDisplay(cm, display_labels=list(genre_lookup.values()))\n",
    "cmd.plot(xticks_rotation=90)"
   ]
  },
  {
   "cell_type": "code",
   "execution_count": 158,
   "metadata": {
    "ExecuteTime": {
     "end_time": "2022-01-11T11:13:19.565027Z",
     "start_time": "2022-01-11T11:13:17.776045Z"
    }
   },
   "outputs": [
    {
     "data": {
      "text/plain": [
       "<sklearn.metrics._plot.confusion_matrix.ConfusionMatrixDisplay at 0x1cfb8ff4cd0>"
      ]
     },
     "execution_count": 158,
     "metadata": {},
     "output_type": "execute_result"
    },
    {
     "data": {
      "image/png": "[encoded data removed]",
      "text/plain": [
       "<Figure size 432x288 with 2 Axes>"
      ]
     },
     "metadata": {
      "needs_background": "light"
     },
     "output_type": "display_data"
    }
   ],
   "source": [
    "cm = confusion_matrix(y, svm_ypred)\n",
    "cmd = ConfusionMatrixDisplay(cm, display_labels=list(genre_lookup.values()))\n",
    "cmd.plot(xticks_rotation=90)"
   ]
  },
  {
   "cell_type": "code",
   "execution_count": 159,
   "metadata": {
    "ExecuteTime": {
     "end_time": "2022-01-11T11:24:06.142691Z",
     "start_time": "2022-01-11T11:24:06.135713Z"
    }
   },
   "outputs": [
    {
     "data": {
      "text/plain": [
       "{0: 'classical', 1: 'edm', 2: 'jazz', 3: 'pop', 4: 'rnb'}"
      ]
     },
     "execution_count": 159,
     "metadata": {},
     "output_type": "execute_result"
    }
   ],
   "source": [
    "genre_lookup"
   ]
  },
  {
   "cell_type": "code",
   "execution_count": 160,
   "metadata": {
    "ExecuteTime": {
     "end_time": "2022-01-11T11:13:19.623995Z",
     "start_time": "2022-01-11T11:13:19.571021Z"
    }
   },
   "outputs": [
    {
     "name": "stdout",
     "output_type": "stream",
     "text": [
      "-------------------------------------------------------------\n",
      "KNN\n",
      "              precision    recall  f1-score   support\n",
      "\n",
      "           0       0.85      0.75      0.80       518\n",
      "           1       0.63      0.75      0.68       350\n",
      "           2       0.80      0.88      0.84       936\n",
      "           3       0.49      0.23      0.31       393\n",
      "           4       0.75      0.84      0.79       876\n",
      "\n",
      "    accuracy                           0.75      3073\n",
      "   macro avg       0.70      0.69      0.69      3073\n",
      "weighted avg       0.74      0.75      0.73      3073\n",
      "\n",
      "-------------------------------------------------------------\n",
      "SVM\n",
      "              precision    recall  f1-score   support\n",
      "\n",
      "           0       0.91      0.87      0.89       518\n",
      "           1       0.64      0.79      0.71       350\n",
      "           2       0.89      0.94      0.91       936\n",
      "           3       0.68      0.26      0.38       393\n",
      "           4       0.76      0.88      0.82       876\n",
      "\n",
      "    accuracy                           0.81      3073\n",
      "   macro avg       0.78      0.75      0.74      3073\n",
      "weighted avg       0.80      0.81      0.79      3073\n",
      "\n"
     ]
    }
   ],
   "source": [
    "print('-------------------------------------------------------------')\n",
    "print('KNN')\n",
    "print(classification_report(y,knn_ypred))\n",
    "print('-------------------------------------------------------------')\n",
    "print('SVM')\n",
    "print(classification_report(y,svm_ypred))"
   ]
  },
  {
   "cell_type": "markdown",
   "metadata": {},
   "source": [
    "Choose optimal model among those above"
   ]
  },
  {
   "cell_type": "code",
   "execution_count": 161,
   "metadata": {
    "ExecuteTime": {
     "end_time": "2022-01-11T11:13:19.633987Z",
     "start_time": "2022-01-11T11:13:19.628988Z"
    }
   },
   "outputs": [],
   "source": [
    "optimal_model = svm_optimal_model"
   ]
  },
  {
   "cell_type": "markdown",
   "metadata": {},
   "source": [
    "# Save Model to Pickle"
   ]
  },
  {
   "cell_type": "markdown",
   "metadata": {},
   "source": [
    "## 8. Create recommender engine pool with predicted genres and probabilities"
   ]
  },
  {
   "cell_type": "markdown",
   "metadata": {},
   "source": [
    "**Out-of-sample**\n",
    "\n",
    "Check if best model correctly predicts the genre of a track in the Top 200 charts (assuming most are not in the playlist data). User may validate the results subjectively as a listener, or refer to another source by looking up the track in a genre-tagging site(e.g. https://www.chosic.com/music-genre-finder/)"
   ]
  },
  {
   "cell_type": "code",
   "execution_count": 162,
   "metadata": {
    "ExecuteTime": {
     "end_time": "2022-01-11T11:26:34.415822Z",
     "start_time": "2022-01-11T11:26:34.345865Z"
    }
   },
   "outputs": [
    {
     "data": {
      "text/html": [
       "<div>\n",
       "<style scoped>\n",
       "    .dataframe tbody tr th:only-of-type {\n",
       "        vertical-align: middle;\n",
       "    }\n",
       "\n",
       "    .dataframe tbody tr th {\n",
       "        vertical-align: top;\n",
       "    }\n",
       "\n",
       "    .dataframe thead th {\n",
       "        text-align: right;\n",
       "    }\n",
       "</style>\n",
       "<table border=\"1\" class=\"dataframe\">\n",
       "  <thead>\n",
       "    <tr style=\"text-align: right;\">\n",
       "      <th></th>\n",
       "      <th>track_id</th>\n",
       "      <th>track_name</th>\n",
       "      <th>artist_id</th>\n",
       "      <th>artist_name</th>\n",
       "      <th>album_id</th>\n",
       "      <th>duration</th>\n",
       "      <th>release_date</th>\n",
       "      <th>popularity</th>\n",
       "      <th>danceability</th>\n",
       "      <th>energy</th>\n",
       "      <th>key</th>\n",
       "      <th>loudness</th>\n",
       "      <th>mode</th>\n",
       "      <th>speechiness</th>\n",
       "      <th>acousticness</th>\n",
       "      <th>instrumentalness</th>\n",
       "      <th>liveness</th>\n",
       "      <th>valence</th>\n",
       "      <th>tempo</th>\n",
       "    </tr>\n",
       "  </thead>\n",
       "  <tbody>\n",
       "    <tr>\n",
       "      <th>0</th>\n",
       "      <td>0kN8xEmgMW9mh7UmDYHlJP</td>\n",
       "      <td>Versace on the Floor</td>\n",
       "      <td>0du5cEVh5yTK9QJze8zA0C</td>\n",
       "      <td>Bruno Mars</td>\n",
       "      <td>4PgleR09JVnm3zY1fW3XBA</td>\n",
       "      <td>261240</td>\n",
       "      <td>2016-11-17</td>\n",
       "      <td>75</td>\n",
       "      <td>0.578</td>\n",
       "      <td>0.574</td>\n",
       "      <td>2.0</td>\n",
       "      <td>-6.209</td>\n",
       "      <td>1.0</td>\n",
       "      <td>0.0454</td>\n",
       "      <td>0.196</td>\n",
       "      <td>0.00000</td>\n",
       "      <td>0.0830</td>\n",
       "      <td>0.301</td>\n",
       "      <td>174.152</td>\n",
       "    </tr>\n",
       "    <tr>\n",
       "      <th>1</th>\n",
       "      <td>5uCax9HTNlzGybIStD3vDh</td>\n",
       "      <td>Say You Won't Let Go</td>\n",
       "      <td>4IWBUUAFIplrNtaOHcJPRM</td>\n",
       "      <td>James Arthur</td>\n",
       "      <td>7oiJYvEJHsmYtrgviAVIBD</td>\n",
       "      <td>211466</td>\n",
       "      <td>2016-10-28</td>\n",
       "      <td>84</td>\n",
       "      <td>0.358</td>\n",
       "      <td>0.557</td>\n",
       "      <td>10.0</td>\n",
       "      <td>-7.398</td>\n",
       "      <td>1.0</td>\n",
       "      <td>0.0590</td>\n",
       "      <td>0.695</td>\n",
       "      <td>0.00000</td>\n",
       "      <td>0.0902</td>\n",
       "      <td>0.494</td>\n",
       "      <td>85.043</td>\n",
       "    </tr>\n",
       "    <tr>\n",
       "      <th>2</th>\n",
       "      <td>7BKLCZ1jbUBVqRi2FVlTVw</td>\n",
       "      <td>Closer</td>\n",
       "      <td>69GGBxA162lTqCwzJG5jLp</td>\n",
       "      <td>The Chainsmokers</td>\n",
       "      <td>0rSLgV8p5FzfnqlEk4GzxE</td>\n",
       "      <td>244960</td>\n",
       "      <td>2016-07-29</td>\n",
       "      <td>84</td>\n",
       "      <td>0.748</td>\n",
       "      <td>0.524</td>\n",
       "      <td>8.0</td>\n",
       "      <td>-5.599</td>\n",
       "      <td>1.0</td>\n",
       "      <td>0.0338</td>\n",
       "      <td>0.414</td>\n",
       "      <td>0.00000</td>\n",
       "      <td>0.1110</td>\n",
       "      <td>0.661</td>\n",
       "      <td>95.010</td>\n",
       "    </tr>\n",
       "    <tr>\n",
       "      <th>3</th>\n",
       "      <td>2rizacJSyD9S1IQUxUxnsK</td>\n",
       "      <td>All We Know</td>\n",
       "      <td>69GGBxA162lTqCwzJG5jLp</td>\n",
       "      <td>The Chainsmokers</td>\n",
       "      <td>0xmaV6EtJ4M3ebZUPRnhyb</td>\n",
       "      <td>194080</td>\n",
       "      <td>2016-09-29</td>\n",
       "      <td>69</td>\n",
       "      <td>0.662</td>\n",
       "      <td>0.586</td>\n",
       "      <td>0.0</td>\n",
       "      <td>-8.821</td>\n",
       "      <td>1.0</td>\n",
       "      <td>0.0307</td>\n",
       "      <td>0.097</td>\n",
       "      <td>0.00272</td>\n",
       "      <td>0.1150</td>\n",
       "      <td>0.296</td>\n",
       "      <td>90.000</td>\n",
       "    </tr>\n",
       "    <tr>\n",
       "      <th>4</th>\n",
       "      <td>5MFzQMkrl1FOOng9tq6R9r</td>\n",
       "      <td>Don't Wanna Know</td>\n",
       "      <td>04gDigrS5kc9YWfZHwBETP</td>\n",
       "      <td>Maroon 5</td>\n",
       "      <td>0fvTn3WXF39kQs9i3bnNpP</td>\n",
       "      <td>214480</td>\n",
       "      <td>2016-10-11</td>\n",
       "      <td>0</td>\n",
       "      <td>0.783</td>\n",
       "      <td>0.623</td>\n",
       "      <td>7.0</td>\n",
       "      <td>-6.126</td>\n",
       "      <td>1.0</td>\n",
       "      <td>0.0800</td>\n",
       "      <td>0.338</td>\n",
       "      <td>0.00000</td>\n",
       "      <td>0.0975</td>\n",
       "      <td>0.447</td>\n",
       "      <td>100.048</td>\n",
       "    </tr>\n",
       "  </tbody>\n",
       "</table>\n",
       "</div>"
      ],
      "text/plain": [
       "                 track_id            track_name               artist_id  \\\n",
       "0  0kN8xEmgMW9mh7UmDYHlJP  Versace on the Floor  0du5cEVh5yTK9QJze8zA0C   \n",
       "1  5uCax9HTNlzGybIStD3vDh  Say You Won't Let Go  4IWBUUAFIplrNtaOHcJPRM   \n",
       "2  7BKLCZ1jbUBVqRi2FVlTVw                Closer  69GGBxA162lTqCwzJG5jLp   \n",
       "3  2rizacJSyD9S1IQUxUxnsK           All We Know  69GGBxA162lTqCwzJG5jLp   \n",
       "4  5MFzQMkrl1FOOng9tq6R9r      Don't Wanna Know  04gDigrS5kc9YWfZHwBETP   \n",
       "\n",
       "        artist_name                album_id  duration release_date  \\\n",
       "0        Bruno Mars  4PgleR09JVnm3zY1fW3XBA    261240   2016-11-17   \n",
       "1      James Arthur  7oiJYvEJHsmYtrgviAVIBD    211466   2016-10-28   \n",
       "2  The Chainsmokers  0rSLgV8p5FzfnqlEk4GzxE    244960   2016-07-29   \n",
       "3  The Chainsmokers  0xmaV6EtJ4M3ebZUPRnhyb    194080   2016-09-29   \n",
       "4          Maroon 5  0fvTn3WXF39kQs9i3bnNpP    214480   2016-10-11   \n",
       "\n",
       "   popularity  danceability  energy   key  loudness  mode  speechiness  \\\n",
       "0          75         0.578   0.574   2.0    -6.209   1.0       0.0454   \n",
       "1          84         0.358   0.557  10.0    -7.398   1.0       0.0590   \n",
       "2          84         0.748   0.524   8.0    -5.599   1.0       0.0338   \n",
       "3          69         0.662   0.586   0.0    -8.821   1.0       0.0307   \n",
       "4           0         0.783   0.623   7.0    -6.126   1.0       0.0800   \n",
       "\n",
       "   acousticness  instrumentalness  liveness  valence    tempo  \n",
       "0         0.196           0.00000    0.0830    0.301  174.152  \n",
       "1         0.695           0.00000    0.0902    0.494   85.043  \n",
       "2         0.414           0.00000    0.1110    0.661   95.010  \n",
       "3         0.097           0.00272    0.1150    0.296   90.000  \n",
       "4         0.338           0.00000    0.0975    0.447  100.048  "
      ]
     },
     "execution_count": 162,
     "metadata": {},
     "output_type": "execute_result"
    }
   ],
   "source": [
    "chart_tracks_df = pd.read_csv(\"data/spotify_daily_charts_tracks.csv\")\n",
    "chart_tracks_df = chart_tracks_df.dropna().reset_index(drop=True)\n",
    "chart_tracks_df.head()"
   ]
  },
  {
   "cell_type": "code",
   "execution_count": 163,
   "metadata": {
    "ExecuteTime": {
     "end_time": "2022-01-11T11:26:34.549743Z",
     "start_time": "2022-01-11T11:26:34.518758Z"
    }
   },
   "outputs": [],
   "source": [
    "#scale loudness and tempo\n",
    "chart_tracks_df['loudness'] = scaler.fit_transform(chart_tracks_df[['loudness']])\n",
    "chart_tracks_df['tempo'] =  scaler.fit_transform(chart_tracks_df[['tempo']])"
   ]
  },
  {
   "cell_type": "code",
   "execution_count": 164,
   "metadata": {
    "ExecuteTime": {
     "end_time": "2022-01-11T11:26:52.992770Z",
     "start_time": "2022-01-11T11:26:35.141991Z"
    }
   },
   "outputs": [],
   "source": [
    "chart_tracks_df['predicted_genre_id'] = chart_tracks_df.apply(lambda x:  optimal_model.predict(x[feature_cols].values.reshape(1,-1))[0]\\\n",
    "                                               , axis=1)\n",
    "chart_tracks_df['predicted_genre'] = chart_tracks_df['predicted_genre_id'].apply(lambda x: genre_lookup[x])\n",
    "chart_tracks_df['predicted_genre_prob'] = chart_tracks_df.apply(lambda x:  np.max(optimal_model.predict_proba(x[feature_cols].values.reshape(1,-1)))\\\n",
    "                                                    , axis=1)\n",
    "chart_tracks_df['all_genre_prob'] = chart_tracks_df.apply(lambda x:  optimal_model.predict_proba(x[feature_cols].values.reshape(1,-1))[0]\\\n",
    "                                                    , axis=1)"
   ]
  },
  {
   "cell_type": "code",
   "execution_count": 165,
   "metadata": {
    "ExecuteTime": {
     "end_time": "2022-01-11T11:30:08.950711Z",
     "start_time": "2022-01-11T11:30:08.821787Z"
    }
   },
   "outputs": [
    {
     "data": {
      "text/html": [
       "<div>\n",
       "<style scoped>\n",
       "    .dataframe tbody tr th:only-of-type {\n",
       "        vertical-align: middle;\n",
       "    }\n",
       "\n",
       "    .dataframe tbody tr th {\n",
       "        vertical-align: top;\n",
       "    }\n",
       "\n",
       "    .dataframe thead th {\n",
       "        text-align: right;\n",
       "    }\n",
       "</style>\n",
       "<table border=\"1\" class=\"dataframe\">\n",
       "  <thead>\n",
       "    <tr style=\"text-align: right;\">\n",
       "      <th></th>\n",
       "      <th>track_id</th>\n",
       "      <th>track_name</th>\n",
       "      <th>artist_id</th>\n",
       "      <th>artist_name</th>\n",
       "      <th>album_id</th>\n",
       "      <th>duration</th>\n",
       "      <th>release_date</th>\n",
       "      <th>popularity</th>\n",
       "      <th>danceability</th>\n",
       "      <th>energy</th>\n",
       "      <th>...</th>\n",
       "      <th>valence</th>\n",
       "      <th>tempo</th>\n",
       "      <th>predicted_genre_id</th>\n",
       "      <th>predicted_genre</th>\n",
       "      <th>predicted_genre_prob</th>\n",
       "      <th>predicted_classical_prob</th>\n",
       "      <th>predicted_edm_prob</th>\n",
       "      <th>predicted_jazz_prob</th>\n",
       "      <th>predicted_pop_prob</th>\n",
       "      <th>predicted_rnb_prob</th>\n",
       "    </tr>\n",
       "  </thead>\n",
       "  <tbody>\n",
       "    <tr>\n",
       "      <th>4328</th>\n",
       "      <td>2PTzfXh5Ut3hjRrWGyafz6</td>\n",
       "      <td>Passenger Seat</td>\n",
       "      <td>0AvtzKTYleNqdJXoZasQWG</td>\n",
       "      <td>Stephen Speaks</td>\n",
       "      <td>7nRnVLbfj5ZAhK0xsZzIwo</td>\n",
       "      <td>274480</td>\n",
       "      <td>2001-09-04</td>\n",
       "      <td>64</td>\n",
       "      <td>0.523</td>\n",
       "      <td>0.554</td>\n",
       "      <td>...</td>\n",
       "      <td>0.769</td>\n",
       "      <td>0.622545</td>\n",
       "      <td>2</td>\n",
       "      <td>jazz</td>\n",
       "      <td>0.935548</td>\n",
       "      <td>0.004818</td>\n",
       "      <td>0.010334</td>\n",
       "      <td>0.935548</td>\n",
       "      <td>0.018312</td>\n",
       "      <td>0.030988</td>\n",
       "    </tr>\n",
       "    <tr>\n",
       "      <th>2670</th>\n",
       "      <td>3lWzVNe1yFZlkeBBzUuZYu</td>\n",
       "      <td>Bella Ciao - Música Original de la Serie la Ca...</td>\n",
       "      <td>2TJHmhbmT7L3gw2NKyDTHh</td>\n",
       "      <td>Manu Pilas</td>\n",
       "      <td>05Ng00IfiS6xeyQX8WtjHU</td>\n",
       "      <td>139844</td>\n",
       "      <td>2018-04-20</td>\n",
       "      <td>68</td>\n",
       "      <td>0.460</td>\n",
       "      <td>0.564</td>\n",
       "      <td>...</td>\n",
       "      <td>0.962</td>\n",
       "      <td>0.514366</td>\n",
       "      <td>2</td>\n",
       "      <td>jazz</td>\n",
       "      <td>0.934656</td>\n",
       "      <td>0.010454</td>\n",
       "      <td>0.010361</td>\n",
       "      <td>0.934656</td>\n",
       "      <td>0.017735</td>\n",
       "      <td>0.026793</td>\n",
       "    </tr>\n",
       "    <tr>\n",
       "      <th>2699</th>\n",
       "      <td>61sJQh19AcTBrX7P8LWLi0</td>\n",
       "      <td>Passenger Seat (Acoustic)</td>\n",
       "      <td>0AvtzKTYleNqdJXoZasQWG</td>\n",
       "      <td>Stephen Speaks</td>\n",
       "      <td>1tMhhFaV9EuD5rQKG9nQJA</td>\n",
       "      <td>273066</td>\n",
       "      <td>2001-09-04</td>\n",
       "      <td>1</td>\n",
       "      <td>0.549</td>\n",
       "      <td>0.437</td>\n",
       "      <td>...</td>\n",
       "      <td>0.688</td>\n",
       "      <td>0.626270</td>\n",
       "      <td>2</td>\n",
       "      <td>jazz</td>\n",
       "      <td>0.933726</td>\n",
       "      <td>0.007911</td>\n",
       "      <td>0.010351</td>\n",
       "      <td>0.933726</td>\n",
       "      <td>0.018215</td>\n",
       "      <td>0.029796</td>\n",
       "    </tr>\n",
       "    <tr>\n",
       "      <th>2716</th>\n",
       "      <td>1NopgVCMVhCKIm64tF7auX</td>\n",
       "      <td>With A Smile</td>\n",
       "      <td>7374lH6kwx9uQATYQ9H3Cp</td>\n",
       "      <td>Eraserheads</td>\n",
       "      <td>1IalzI8USuu4PB679HVV5C</td>\n",
       "      <td>278173</td>\n",
       "      <td>1994-11-01</td>\n",
       "      <td>63</td>\n",
       "      <td>0.328</td>\n",
       "      <td>0.465</td>\n",
       "      <td>...</td>\n",
       "      <td>0.344</td>\n",
       "      <td>0.597829</td>\n",
       "      <td>2</td>\n",
       "      <td>jazz</td>\n",
       "      <td>0.928697</td>\n",
       "      <td>0.013190</td>\n",
       "      <td>0.010533</td>\n",
       "      <td>0.928697</td>\n",
       "      <td>0.018206</td>\n",
       "      <td>0.029373</td>\n",
       "    </tr>\n",
       "    <tr>\n",
       "      <th>1857</th>\n",
       "      <td>1IPrRFn01138TWwgwZQmnL</td>\n",
       "      <td>You Just Know It's Christmas</td>\n",
       "      <td>719ZCUqy59oGckcB1MzVTx</td>\n",
       "      <td>The Company</td>\n",
       "      <td>3JfRHoIuAoY2KcK5xYRo9H</td>\n",
       "      <td>161697</td>\n",
       "      <td>2018-11-30</td>\n",
       "      <td>20</td>\n",
       "      <td>0.705</td>\n",
       "      <td>0.584</td>\n",
       "      <td>...</td>\n",
       "      <td>0.820</td>\n",
       "      <td>0.385009</td>\n",
       "      <td>2</td>\n",
       "      <td>jazz</td>\n",
       "      <td>0.926902</td>\n",
       "      <td>0.005086</td>\n",
       "      <td>0.010393</td>\n",
       "      <td>0.926902</td>\n",
       "      <td>0.053087</td>\n",
       "      <td>0.004531</td>\n",
       "    </tr>\n",
       "  </tbody>\n",
       "</table>\n",
       "<p>5 rows × 27 columns</p>\n",
       "</div>"
      ],
      "text/plain": [
       "                    track_id  \\\n",
       "4328  2PTzfXh5Ut3hjRrWGyafz6   \n",
       "2670  3lWzVNe1yFZlkeBBzUuZYu   \n",
       "2699  61sJQh19AcTBrX7P8LWLi0   \n",
       "2716  1NopgVCMVhCKIm64tF7auX   \n",
       "1857  1IPrRFn01138TWwgwZQmnL   \n",
       "\n",
       "                                             track_name  \\\n",
       "4328                                     Passenger Seat   \n",
       "2670  Bella Ciao - Música Original de la Serie la Ca...   \n",
       "2699                          Passenger Seat (Acoustic)   \n",
       "2716                                       With A Smile   \n",
       "1857                       You Just Know It's Christmas   \n",
       "\n",
       "                   artist_id     artist_name                album_id  \\\n",
       "4328  0AvtzKTYleNqdJXoZasQWG  Stephen Speaks  7nRnVLbfj5ZAhK0xsZzIwo   \n",
       "2670  2TJHmhbmT7L3gw2NKyDTHh      Manu Pilas  05Ng00IfiS6xeyQX8WtjHU   \n",
       "2699  0AvtzKTYleNqdJXoZasQWG  Stephen Speaks  1tMhhFaV9EuD5rQKG9nQJA   \n",
       "2716  7374lH6kwx9uQATYQ9H3Cp     Eraserheads  1IalzI8USuu4PB679HVV5C   \n",
       "1857  719ZCUqy59oGckcB1MzVTx     The Company  3JfRHoIuAoY2KcK5xYRo9H   \n",
       "\n",
       "      duration release_date  popularity  danceability  energy  ...  valence  \\\n",
       "4328    274480   2001-09-04          64         0.523   0.554  ...    0.769   \n",
       "2670    139844   2018-04-20          68         0.460   0.564  ...    0.962   \n",
       "2699    273066   2001-09-04           1         0.549   0.437  ...    0.688   \n",
       "2716    278173   1994-11-01          63         0.328   0.465  ...    0.344   \n",
       "1857    161697   2018-11-30          20         0.705   0.584  ...    0.820   \n",
       "\n",
       "         tempo  predicted_genre_id  predicted_genre  predicted_genre_prob  \\\n",
       "4328  0.622545                   2             jazz              0.935548   \n",
       "2670  0.514366                   2             jazz              0.934656   \n",
       "2699  0.626270                   2             jazz              0.933726   \n",
       "2716  0.597829                   2             jazz              0.928697   \n",
       "1857  0.385009                   2             jazz              0.926902   \n",
       "\n",
       "      predicted_classical_prob  predicted_edm_prob  predicted_jazz_prob  \\\n",
       "4328                  0.004818            0.010334             0.935548   \n",
       "2670                  0.010454            0.010361             0.934656   \n",
       "2699                  0.007911            0.010351             0.933726   \n",
       "2716                  0.013190            0.010533             0.928697   \n",
       "1857                  0.005086            0.010393             0.926902   \n",
       "\n",
       "      predicted_pop_prob  predicted_rnb_prob  \n",
       "4328            0.018312            0.030988  \n",
       "2670            0.017735            0.026793  \n",
       "2699            0.018215            0.029796  \n",
       "2716            0.018206            0.029373  \n",
       "1857            0.053087            0.004531  \n",
       "\n",
       "[5 rows x 27 columns]"
      ]
     },
     "execution_count": 165,
     "metadata": {},
     "output_type": "execute_result"
    }
   ],
   "source": [
    "#explode genre probabilities into separate columns\n",
    "charts_predicted_genre_prob = pd.DataFrame(chart_tracks_df[\"all_genre_prob\"].to_list(),\n",
    "                                           columns=['predicted_'+g+'_prob' for g in genre_lookup.values()])\n",
    "charts_predicted_genre_prob['track_id'] = chart_tracks_df['track_id']\n",
    "chart_tracks_df = pd.merge(chart_tracks_df,charts_predicted_genre_prob, how='left', on='track_id')\n",
    "chart_tracks_df = chart_tracks_df.drop(columns='all_genre_prob')\n",
    "chart_tracks_df = chart_tracks_df.sort_values('predicted_genre_prob', ascending=False)\n",
    "chart_tracks_df.head()"
   ]
  },
  {
   "cell_type": "code",
   "execution_count": 166,
   "metadata": {
    "ExecuteTime": {
     "end_time": "2022-01-11T11:30:29.803022Z",
     "start_time": "2022-01-11T11:30:29.755050Z"
    },
    "scrolled": true
   },
   "outputs": [
    {
     "data": {
      "text/html": [
       "<div>\n",
       "<style scoped>\n",
       "    .dataframe tbody tr th:only-of-type {\n",
       "        vertical-align: middle;\n",
       "    }\n",
       "\n",
       "    .dataframe tbody tr th {\n",
       "        vertical-align: top;\n",
       "    }\n",
       "\n",
       "    .dataframe thead th {\n",
       "        text-align: right;\n",
       "    }\n",
       "</style>\n",
       "<table border=\"1\" class=\"dataframe\">\n",
       "  <thead>\n",
       "    <tr style=\"text-align: right;\">\n",
       "      <th></th>\n",
       "      <th>track_name</th>\n",
       "      <th>predicted_genre_id</th>\n",
       "      <th>predicted_genre</th>\n",
       "      <th>predicted_genre_prob</th>\n",
       "      <th>predicted_classical_prob</th>\n",
       "      <th>predicted_edm_prob</th>\n",
       "      <th>predicted_jazz_prob</th>\n",
       "      <th>predicted_pop_prob</th>\n",
       "      <th>predicted_rnb_prob</th>\n",
       "    </tr>\n",
       "  </thead>\n",
       "  <tbody>\n",
       "    <tr>\n",
       "      <th>4328</th>\n",
       "      <td>Passenger Seat</td>\n",
       "      <td>2</td>\n",
       "      <td>jazz</td>\n",
       "      <td>0.935548</td>\n",
       "      <td>0.004818</td>\n",
       "      <td>0.010334</td>\n",
       "      <td>0.935548</td>\n",
       "      <td>0.018312</td>\n",
       "      <td>0.030988</td>\n",
       "    </tr>\n",
       "    <tr>\n",
       "      <th>2670</th>\n",
       "      <td>Bella Ciao - Música Original de la Serie la Ca...</td>\n",
       "      <td>2</td>\n",
       "      <td>jazz</td>\n",
       "      <td>0.934656</td>\n",
       "      <td>0.010454</td>\n",
       "      <td>0.010361</td>\n",
       "      <td>0.934656</td>\n",
       "      <td>0.017735</td>\n",
       "      <td>0.026793</td>\n",
       "    </tr>\n",
       "    <tr>\n",
       "      <th>2699</th>\n",
       "      <td>Passenger Seat (Acoustic)</td>\n",
       "      <td>2</td>\n",
       "      <td>jazz</td>\n",
       "      <td>0.933726</td>\n",
       "      <td>0.007911</td>\n",
       "      <td>0.010351</td>\n",
       "      <td>0.933726</td>\n",
       "      <td>0.018215</td>\n",
       "      <td>0.029796</td>\n",
       "    </tr>\n",
       "    <tr>\n",
       "      <th>2716</th>\n",
       "      <td>With A Smile</td>\n",
       "      <td>2</td>\n",
       "      <td>jazz</td>\n",
       "      <td>0.928697</td>\n",
       "      <td>0.013190</td>\n",
       "      <td>0.010533</td>\n",
       "      <td>0.928697</td>\n",
       "      <td>0.018206</td>\n",
       "      <td>0.029373</td>\n",
       "    </tr>\n",
       "    <tr>\n",
       "      <th>1857</th>\n",
       "      <td>You Just Know It's Christmas</td>\n",
       "      <td>2</td>\n",
       "      <td>jazz</td>\n",
       "      <td>0.926902</td>\n",
       "      <td>0.005086</td>\n",
       "      <td>0.010393</td>\n",
       "      <td>0.926902</td>\n",
       "      <td>0.053087</td>\n",
       "      <td>0.004531</td>\n",
       "    </tr>\n",
       "    <tr>\n",
       "      <th>...</th>\n",
       "      <td>...</td>\n",
       "      <td>...</td>\n",
       "      <td>...</td>\n",
       "      <td>...</td>\n",
       "      <td>...</td>\n",
       "      <td>...</td>\n",
       "      <td>...</td>\n",
       "      <td>...</td>\n",
       "      <td>...</td>\n",
       "    </tr>\n",
       "    <tr>\n",
       "      <th>3983</th>\n",
       "      <td>Peaches</td>\n",
       "      <td>1</td>\n",
       "      <td>edm</td>\n",
       "      <td>0.361301</td>\n",
       "      <td>0.000022</td>\n",
       "      <td>0.323507</td>\n",
       "      <td>0.280638</td>\n",
       "      <td>0.034533</td>\n",
       "      <td>0.361301</td>\n",
       "    </tr>\n",
       "    <tr>\n",
       "      <th>412</th>\n",
       "      <td>Clocks</td>\n",
       "      <td>1</td>\n",
       "      <td>edm</td>\n",
       "      <td>0.360752</td>\n",
       "      <td>0.000025</td>\n",
       "      <td>0.360752</td>\n",
       "      <td>0.341303</td>\n",
       "      <td>0.283764</td>\n",
       "      <td>0.014155</td>\n",
       "    </tr>\n",
       "    <tr>\n",
       "      <th>1765</th>\n",
       "      <td>Radio Ga Ga - Live Aid</td>\n",
       "      <td>1</td>\n",
       "      <td>edm</td>\n",
       "      <td>0.357242</td>\n",
       "      <td>0.000022</td>\n",
       "      <td>0.329990</td>\n",
       "      <td>0.292262</td>\n",
       "      <td>0.020484</td>\n",
       "      <td>0.357242</td>\n",
       "    </tr>\n",
       "    <tr>\n",
       "      <th>2266</th>\n",
       "      <td>Cornelia Street</td>\n",
       "      <td>1</td>\n",
       "      <td>edm</td>\n",
       "      <td>0.352201</td>\n",
       "      <td>0.000021</td>\n",
       "      <td>0.314398</td>\n",
       "      <td>0.305140</td>\n",
       "      <td>0.028239</td>\n",
       "      <td>0.352201</td>\n",
       "    </tr>\n",
       "    <tr>\n",
       "      <th>2721</th>\n",
       "      <td>Pare Ko</td>\n",
       "      <td>1</td>\n",
       "      <td>edm</td>\n",
       "      <td>0.336625</td>\n",
       "      <td>0.000025</td>\n",
       "      <td>0.319602</td>\n",
       "      <td>0.322390</td>\n",
       "      <td>0.021359</td>\n",
       "      <td>0.336625</td>\n",
       "    </tr>\n",
       "  </tbody>\n",
       "</table>\n",
       "<p>4469 rows × 9 columns</p>\n",
       "</div>"
      ],
      "text/plain": [
       "                                             track_name  predicted_genre_id  \\\n",
       "4328                                     Passenger Seat                   2   \n",
       "2670  Bella Ciao - Música Original de la Serie la Ca...                   2   \n",
       "2699                          Passenger Seat (Acoustic)                   2   \n",
       "2716                                       With A Smile                   2   \n",
       "1857                       You Just Know It's Christmas                   2   \n",
       "...                                                 ...                 ...   \n",
       "3983                                            Peaches                   1   \n",
       "412                                              Clocks                   1   \n",
       "1765                             Radio Ga Ga - Live Aid                   1   \n",
       "2266                                    Cornelia Street                   1   \n",
       "2721                                            Pare Ko                   1   \n",
       "\n",
       "     predicted_genre  predicted_genre_prob  predicted_classical_prob  \\\n",
       "4328            jazz              0.935548                  0.004818   \n",
       "2670            jazz              0.934656                  0.010454   \n",
       "2699            jazz              0.933726                  0.007911   \n",
       "2716            jazz              0.928697                  0.013190   \n",
       "1857            jazz              0.926902                  0.005086   \n",
       "...              ...                   ...                       ...   \n",
       "3983             edm              0.361301                  0.000022   \n",
       "412              edm              0.360752                  0.000025   \n",
       "1765             edm              0.357242                  0.000022   \n",
       "2266             edm              0.352201                  0.000021   \n",
       "2721             edm              0.336625                  0.000025   \n",
       "\n",
       "      predicted_edm_prob  predicted_jazz_prob  predicted_pop_prob  \\\n",
       "4328            0.010334             0.935548            0.018312   \n",
       "2670            0.010361             0.934656            0.017735   \n",
       "2699            0.010351             0.933726            0.018215   \n",
       "2716            0.010533             0.928697            0.018206   \n",
       "1857            0.010393             0.926902            0.053087   \n",
       "...                  ...                  ...                 ...   \n",
       "3983            0.323507             0.280638            0.034533   \n",
       "412             0.360752             0.341303            0.283764   \n",
       "1765            0.329990             0.292262            0.020484   \n",
       "2266            0.314398             0.305140            0.028239   \n",
       "2721            0.319602             0.322390            0.021359   \n",
       "\n",
       "      predicted_rnb_prob  \n",
       "4328            0.030988  \n",
       "2670            0.026793  \n",
       "2699            0.029796  \n",
       "2716            0.029373  \n",
       "1857            0.004531  \n",
       "...                  ...  \n",
       "3983            0.361301  \n",
       "412             0.014155  \n",
       "1765            0.357242  \n",
       "2266            0.352201  \n",
       "2721            0.336625  \n",
       "\n",
       "[4469 rows x 9 columns]"
      ]
     },
     "execution_count": 166,
     "metadata": {},
     "output_type": "execute_result"
    }
   ],
   "source": [
    "chart_tracks_df[['track_name']+[c for c in chart_tracks_df.columns if 'predicted_' in c]]"
   ]
  },
  {
   "cell_type": "code",
   "execution_count": 167,
   "metadata": {
    "ExecuteTime": {
     "end_time": "2022-01-11T11:30:30.285042Z",
     "start_time": "2022-01-11T11:30:30.273051Z"
    },
    "scrolled": true
   },
   "outputs": [
    {
     "data": {
      "text/plain": [
       "rnb          2778\n",
       "jazz         1240\n",
       "edm           254\n",
       "pop           163\n",
       "classical      34\n",
       "Name: predicted_genre, dtype: int64"
      ]
     },
     "execution_count": 167,
     "metadata": {},
     "output_type": "execute_result"
    }
   ],
   "source": [
    "chart_tracks_df['predicted_genre'].value_counts()"
   ]
  },
  {
   "cell_type": "code",
   "execution_count": 168,
   "metadata": {
    "ExecuteTime": {
     "end_time": "2022-01-11T11:13:33.928791Z",
     "start_time": "2022-01-11T11:13:33.313628Z"
    }
   },
   "outputs": [
    {
     "data": {
      "text/plain": [
       "<AxesSubplot:>"
      ]
     },
     "execution_count": 168,
     "metadata": {},
     "output_type": "execute_result"
    },
    {
     "data": {
      "image/png": "[encoded data removed]",
      "text/plain": [
       "<Figure size 432x288 with 1 Axes>"
      ]
     },
     "metadata": {
      "needs_background": "light"
     },
     "output_type": "display_data"
    }
   ],
   "source": [
    "#View histogram of probabilities\n",
    "chart_tracks_df['predicted_genre_prob'].hist()"
   ]
  },
  {
   "cell_type": "markdown",
   "metadata": {},
   "source": [
    "> Q: Can you identify tracks that were misclassfied by the model?\n",
    "    Does it make sense that the model misclassfied the tracks given the model configuration? Why or why not?"
   ]
  },
  {
   "cell_type": "code",
   "execution_count": 169,
   "metadata": {
    "ExecuteTime": {
     "end_time": "2022-01-11T11:13:33.982761Z",
     "start_time": "2022-01-11T11:13:33.932787Z"
    }
   },
   "outputs": [
    {
     "data": {
      "text/html": [
       "<div>\n",
       "<style scoped>\n",
       "    .dataframe tbody tr th:only-of-type {\n",
       "        vertical-align: middle;\n",
       "    }\n",
       "\n",
       "    .dataframe tbody tr th {\n",
       "        vertical-align: top;\n",
       "    }\n",
       "\n",
       "    .dataframe thead th {\n",
       "        text-align: right;\n",
       "    }\n",
       "</style>\n",
       "<table border=\"1\" class=\"dataframe\">\n",
       "  <thead>\n",
       "    <tr style=\"text-align: right;\">\n",
       "      <th></th>\n",
       "      <th>track_name</th>\n",
       "      <th>artist_name</th>\n",
       "      <th>predicted_genre</th>\n",
       "      <th>predicted_genre_prob</th>\n",
       "    </tr>\n",
       "  </thead>\n",
       "  <tbody>\n",
       "  </tbody>\n",
       "</table>\n",
       "</div>"
      ],
      "text/plain": [
       "Empty DataFrame\n",
       "Columns: [track_name, artist_name, predicted_genre, predicted_genre_prob]\n",
       "Index: []"
      ]
     },
     "execution_count": 169,
     "metadata": {},
     "output_type": "execute_result"
    }
   ],
   "source": [
    "#Check tracks classified with higher probability\n",
    "chart_tracks_df[chart_tracks_df['predicted_genre']=='rock'][['track_name','artist_name','predicted_genre','predicted_genre_prob']]\\\n",
    "            .sort_values(['predicted_genre_prob'],ascending=False)[:10]"
   ]
  },
  {
   "cell_type": "code",
   "execution_count": 170,
   "metadata": {
    "ExecuteTime": {
     "end_time": "2022-01-11T11:34:50.495660Z",
     "start_time": "2022-01-11T11:34:50.473674Z"
    }
   },
   "outputs": [
    {
     "data": {
      "text/html": [
       "<div>\n",
       "<style scoped>\n",
       "    .dataframe tbody tr th:only-of-type {\n",
       "        vertical-align: middle;\n",
       "    }\n",
       "\n",
       "    .dataframe tbody tr th {\n",
       "        vertical-align: top;\n",
       "    }\n",
       "\n",
       "    .dataframe thead th {\n",
       "        text-align: right;\n",
       "    }\n",
       "</style>\n",
       "<table border=\"1\" class=\"dataframe\">\n",
       "  <thead>\n",
       "    <tr style=\"text-align: right;\">\n",
       "      <th></th>\n",
       "      <th>track_name</th>\n",
       "      <th>artist_name</th>\n",
       "      <th>predicted_genre</th>\n",
       "      <th>predicted_genre_prob</th>\n",
       "    </tr>\n",
       "  </thead>\n",
       "  <tbody>\n",
       "    <tr>\n",
       "      <th>2207</th>\n",
       "      <td>Walang Gana</td>\n",
       "      <td>King Badger</td>\n",
       "      <td>rnb</td>\n",
       "      <td>0.896827</td>\n",
       "    </tr>\n",
       "    <tr>\n",
       "      <th>1367</th>\n",
       "      <td>Give Yourself A Try</td>\n",
       "      <td>The 1975</td>\n",
       "      <td>rnb</td>\n",
       "      <td>0.872124</td>\n",
       "    </tr>\n",
       "    <tr>\n",
       "      <th>2610</th>\n",
       "      <td>Dantay</td>\n",
       "      <td>Kiyo</td>\n",
       "      <td>rnb</td>\n",
       "      <td>0.861953</td>\n",
       "    </tr>\n",
       "    <tr>\n",
       "      <th>2650</th>\n",
       "      <td>BELIEVE IT</td>\n",
       "      <td>PARTYNEXTDOOR</td>\n",
       "      <td>rnb</td>\n",
       "      <td>0.859009</td>\n",
       "    </tr>\n",
       "    <tr>\n",
       "      <th>3998</th>\n",
       "      <td>I AM WOMAN</td>\n",
       "      <td>Emmy Meli</td>\n",
       "      <td>rnb</td>\n",
       "      <td>0.853521</td>\n",
       "    </tr>\n",
       "    <tr>\n",
       "      <th>783</th>\n",
       "      <td>Outro: Her</td>\n",
       "      <td>BTS</td>\n",
       "      <td>rnb</td>\n",
       "      <td>0.853468</td>\n",
       "    </tr>\n",
       "    <tr>\n",
       "      <th>4323</th>\n",
       "      <td>Outro: Her</td>\n",
       "      <td>BTS</td>\n",
       "      <td>rnb</td>\n",
       "      <td>0.853438</td>\n",
       "    </tr>\n",
       "    <tr>\n",
       "      <th>2228</th>\n",
       "      <td>Rawstarr 'Til I Die</td>\n",
       "      <td>Psychedelic Boyz</td>\n",
       "      <td>rnb</td>\n",
       "      <td>0.852523</td>\n",
       "    </tr>\n",
       "    <tr>\n",
       "      <th>4240</th>\n",
       "      <td>Good Boy Gone Bad</td>\n",
       "      <td>TOMORROW X TOGETHER</td>\n",
       "      <td>rnb</td>\n",
       "      <td>0.851545</td>\n",
       "    </tr>\n",
       "    <tr>\n",
       "      <th>370</th>\n",
       "      <td>Down</td>\n",
       "      <td>Marian Hill</td>\n",
       "      <td>rnb</td>\n",
       "      <td>0.851432</td>\n",
       "    </tr>\n",
       "  </tbody>\n",
       "</table>\n",
       "</div>"
      ],
      "text/plain": [
       "               track_name          artist_name predicted_genre  \\\n",
       "2207          Walang Gana          King Badger             rnb   \n",
       "1367  Give Yourself A Try             The 1975             rnb   \n",
       "2610               Dantay                 Kiyo             rnb   \n",
       "2650           BELIEVE IT        PARTYNEXTDOOR             rnb   \n",
       "3998           I AM WOMAN            Emmy Meli             rnb   \n",
       "783            Outro: Her                  BTS             rnb   \n",
       "4323           Outro: Her                  BTS             rnb   \n",
       "2228  Rawstarr 'Til I Die     Psychedelic Boyz             rnb   \n",
       "4240    Good Boy Gone Bad  TOMORROW X TOGETHER             rnb   \n",
       "370                  Down          Marian Hill             rnb   \n",
       "\n",
       "      predicted_genre_prob  \n",
       "2207              0.896827  \n",
       "1367              0.872124  \n",
       "2610              0.861953  \n",
       "2650              0.859009  \n",
       "3998              0.853521  \n",
       "783               0.853468  \n",
       "4323              0.853438  \n",
       "2228              0.852523  \n",
       "4240              0.851545  \n",
       "370               0.851432  "
      ]
     },
     "execution_count": 170,
     "metadata": {},
     "output_type": "execute_result"
    }
   ],
   "source": [
    "#Check tracks classified with lower probability\n",
    "chart_tracks_df[chart_tracks_df['predicted_genre']=='rnb'][['track_name','artist_name','predicted_genre','predicted_genre_prob']]\\\n",
    "            .sort_values(['predicted_genre_prob'],ascending=False)[:10]"
   ]
  },
  {
   "cell_type": "markdown",
   "metadata": {},
   "source": [
    ">Q **Spot Check**: Check out a song you're familiar with and see if the predicted genres and probabilities makes sense"
   ]
  },
  {
   "cell_type": "code",
   "execution_count": 171,
   "metadata": {
    "ExecuteTime": {
     "end_time": "2022-01-11T11:37:33.711578Z",
     "start_time": "2022-01-11T11:37:33.646616Z"
    }
   },
   "outputs": [
    {
     "data": {
      "text/html": [
       "<div>\n",
       "<style scoped>\n",
       "    .dataframe tbody tr th:only-of-type {\n",
       "        vertical-align: middle;\n",
       "    }\n",
       "\n",
       "    .dataframe tbody tr th {\n",
       "        vertical-align: top;\n",
       "    }\n",
       "\n",
       "    .dataframe thead th {\n",
       "        text-align: right;\n",
       "    }\n",
       "</style>\n",
       "<table border=\"1\" class=\"dataframe\">\n",
       "  <thead>\n",
       "    <tr style=\"text-align: right;\">\n",
       "      <th></th>\n",
       "      <th>track_id</th>\n",
       "      <th>track_name</th>\n",
       "      <th>artist_id</th>\n",
       "      <th>artist_name</th>\n",
       "      <th>album_id</th>\n",
       "      <th>duration</th>\n",
       "      <th>release_date</th>\n",
       "      <th>popularity</th>\n",
       "      <th>danceability</th>\n",
       "      <th>energy</th>\n",
       "      <th>...</th>\n",
       "      <th>valence</th>\n",
       "      <th>tempo</th>\n",
       "      <th>predicted_genre_id</th>\n",
       "      <th>predicted_genre</th>\n",
       "      <th>predicted_genre_prob</th>\n",
       "      <th>predicted_classical_prob</th>\n",
       "      <th>predicted_edm_prob</th>\n",
       "      <th>predicted_jazz_prob</th>\n",
       "      <th>predicted_pop_prob</th>\n",
       "      <th>predicted_rnb_prob</th>\n",
       "    </tr>\n",
       "  </thead>\n",
       "  <tbody>\n",
       "    <tr>\n",
       "      <th>1729</th>\n",
       "      <td>7tFiyTwD0nx5a1eklYtX2J</td>\n",
       "      <td>Bohemian Rhapsody - Remastered 2011</td>\n",
       "      <td>1dfeR4HaWDbWqFHLkxsg1d</td>\n",
       "      <td>Queen</td>\n",
       "      <td>6X9k3hSsvQck2OfKYdBbXr</td>\n",
       "      <td>354320</td>\n",
       "      <td>1975-11-21</td>\n",
       "      <td>74</td>\n",
       "      <td>0.392</td>\n",
       "      <td>0.402</td>\n",
       "      <td>...</td>\n",
       "      <td>0.228</td>\n",
       "      <td>0.567267</td>\n",
       "      <td>2</td>\n",
       "      <td>jazz</td>\n",
       "      <td>0.715486</td>\n",
       "      <td>0.000016</td>\n",
       "      <td>0.008399</td>\n",
       "      <td>0.715486</td>\n",
       "      <td>0.040642</td>\n",
       "      <td>0.235457</td>\n",
       "    </tr>\n",
       "    <tr>\n",
       "      <th>2007</th>\n",
       "      <td>4u7EnebtmKWzUH433cf5Qv</td>\n",
       "      <td>Bohemian Rhapsody - Remastered 2011</td>\n",
       "      <td>1dfeR4HaWDbWqFHLkxsg1d</td>\n",
       "      <td>Queen</td>\n",
       "      <td>1GbtB4zTqAsyfZEsm1RZfx</td>\n",
       "      <td>354320</td>\n",
       "      <td>1975-11-21</td>\n",
       "      <td>82</td>\n",
       "      <td>0.414</td>\n",
       "      <td>0.404</td>\n",
       "      <td>...</td>\n",
       "      <td>0.224</td>\n",
       "      <td>0.124988</td>\n",
       "      <td>2</td>\n",
       "      <td>jazz</td>\n",
       "      <td>0.694879</td>\n",
       "      <td>0.000215</td>\n",
       "      <td>0.001877</td>\n",
       "      <td>0.694879</td>\n",
       "      <td>0.062598</td>\n",
       "      <td>0.240431</td>\n",
       "    </tr>\n",
       "  </tbody>\n",
       "</table>\n",
       "<p>2 rows × 27 columns</p>\n",
       "</div>"
      ],
      "text/plain": [
       "                    track_id                           track_name  \\\n",
       "1729  7tFiyTwD0nx5a1eklYtX2J  Bohemian Rhapsody - Remastered 2011   \n",
       "2007  4u7EnebtmKWzUH433cf5Qv  Bohemian Rhapsody - Remastered 2011   \n",
       "\n",
       "                   artist_id artist_name                album_id  duration  \\\n",
       "1729  1dfeR4HaWDbWqFHLkxsg1d       Queen  6X9k3hSsvQck2OfKYdBbXr    354320   \n",
       "2007  1dfeR4HaWDbWqFHLkxsg1d       Queen  1GbtB4zTqAsyfZEsm1RZfx    354320   \n",
       "\n",
       "     release_date  popularity  danceability  energy  ...  valence     tempo  \\\n",
       "1729   1975-11-21          74         0.392   0.402  ...    0.228  0.567267   \n",
       "2007   1975-11-21          82         0.414   0.404  ...    0.224  0.124988   \n",
       "\n",
       "      predicted_genre_id  predicted_genre  predicted_genre_prob  \\\n",
       "1729                   2             jazz              0.715486   \n",
       "2007                   2             jazz              0.694879   \n",
       "\n",
       "      predicted_classical_prob  predicted_edm_prob  predicted_jazz_prob  \\\n",
       "1729                  0.000016            0.008399             0.715486   \n",
       "2007                  0.000215            0.001877             0.694879   \n",
       "\n",
       "      predicted_pop_prob  predicted_rnb_prob  \n",
       "1729            0.040642            0.235457  \n",
       "2007            0.062598            0.240431  \n",
       "\n",
       "[2 rows x 27 columns]"
      ]
     },
     "execution_count": 171,
     "metadata": {},
     "output_type": "execute_result"
    }
   ],
   "source": [
    "chart_tracks_df[chart_tracks_df['track_name'].str.contains('Bohemian')]"
   ]
  },
  {
   "cell_type": "code",
   "execution_count": 172,
   "metadata": {
    "ExecuteTime": {
     "end_time": "2022-01-11T11:39:20.621212Z",
     "start_time": "2022-01-11T11:39:20.225116Z"
    }
   },
   "outputs": [],
   "source": [
    "#save data\n",
    "chart_tracks_df.to_csv(\"data/spotify_daily_charts_tracks_rec_pool.csv\", index=False, encoding='utf-8')"
   ]
  },
  {
   "cell_type": "markdown",
   "metadata": {},
   "source": [
    "## Caveats\n",
    "1. Using playlist names as genre tags heavily rely on *user opinion* and not *extracted music features* (compare this from the methods used in the [GTZAN genre collection dataset](https://data-flair.training/blogs/python-project-music-genre-classification/)\n",
    "2. Playlists with dual genre names exists, and appear quite often in the dataset (e.g. Electronic Pop, Classical Rock)\n",
    "3. Although a dominant genre could be readily observed, recent music tend to incorporate many genres at a time and thus create less distinction when the model looks at the audio features.\n",
    "\n",
    ">Q: What other caveats could you deduce from the steps done above?\n"
   ]
  },
  {
   "cell_type": "markdown",
   "metadata": {},
   "source": [
    "## Model Improvement\n",
    "To enhance the model accuracy, try to do the following:\n",
    "1. Pick \"purer\" top-followed playlists for the training data. A quick way to do this is to pick playlists that contain pre 2000's music as majority as these are less hybridized than more recent songs.\n",
    "2. Try fewer but broader genres as categories (4-5 genres)\n",
    "3. Remove outlier songs! These are the songs that dont fit its playlist's description. A bit subjective (and tedious!).\n",
    "4. Limit the features used as predictors (could be inferred from the list of genres you're considering)\n"
   ]
  }
 ],
 "metadata": {
  "kernelspec": {
   "display_name": "Python 3 (ipykernel)",
   "language": "python",
   "name": "python3"
  },
  "language_info": {
   "codemirror_mode": {
    "name": "ipython",
    "version": 3
   },
   "file_extension": ".py",
   "mimetype": "text/x-python",
   "name": "python",
   "nbconvert_exporter": "python",
   "pygments_lexer": "ipython3",
   "version": "3.9.7"
  },
  "toc-autonumbering": false
 },
 "nbformat": 4,
 "nbformat_minor": 4
}
