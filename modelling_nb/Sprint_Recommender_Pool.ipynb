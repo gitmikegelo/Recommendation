{
 "cells": [
  {
   "cell_type": "markdown",
   "metadata": {},
   "source": [
    "# The Recommender Engine Pool"
   ]
  },
  {
   "cell_type": "markdown",
   "metadata": {
    "ExecuteTime": {
     "end_time": "2021-12-30T11:40:36.594547Z",
     "start_time": "2021-12-30T11:40:36.587554Z"
    }
   },
   "source": [
    "*What is a recommender engine pool?*\n",
    "\n",
    "\n",
    "The recommender engine pool is the data source from which the recommender engine gets its recommendations. It is made up of the (1)items considered for the recommendation and (2) measure/s that determines its fitness to be recommended.\n",
    "\n",
    "We will create a Spotify track recommendation pool based on its genre."
   ]
  },
  {
   "cell_type": "code",
   "execution_count": 1,
   "metadata": {
    "ExecuteTime": {
     "end_time": "2022-01-11T10:51:22.998292Z",
     "start_time": "2022-01-11T10:51:19.288412Z"
    }
   },
   "outputs": [],
   "source": [
    "import pandas as pd\n",
    "import numpy as np\n",
    "\n",
    "import seaborn as sns\n",
    "import matplotlib.pyplot as plt\n",
    "%matplotlib inline"
   ]
  },
  {
   "cell_type": "markdown",
   "metadata": {},
   "source": [
    "## Tracks Genre Classification - multiple genres\n",
    "\n",
    "This is similar to the previous notebook, but this time, we will predict more than 2 genres"
   ]
  },
  {
   "cell_type": "markdown",
   "metadata": {},
   "source": [
    "### 1. Read and check values of multiple playlist sets"
   ]
  },
  {
   "cell_type": "code",
   "execution_count": 2,
   "metadata": {
    "ExecuteTime": {
     "end_time": "2022-01-11T10:51:23.926765Z",
     "start_time": "2022-01-11T10:51:23.002292Z"
    }
   },
   "outputs": [
    {
     "name": "stdout",
     "output_type": "stream",
     "text": [
      "OPM Rock\n",
      "OPM Rap\n",
      "OPM Reggae\n",
      "OPM Jazz\n",
      "OPM Dance\n",
      "OPM Acoustic\n"
     ]
    }
   ],
   "source": [
    "#genre_names = [\"R&B\", \"Classical\", \"Country\", \"Electronic\", \"Hiphop\",\"Jazz\", \"Pop\", \"Rock\", \"Reggae\", \"Rap\"]\n",
    "genre_names = [\"OPM Rock\", \"OPM Rap\", \"OPM Reggae\", \"OPM Jazz\", \"OPM Dance\", \"OPM Acoustic\"]\n",
    "\n",
    "playlist_df_list = []\n",
    "track_df_list = []\n",
    "for genre in genre_names:\n",
    "    # read and process the playlist data for keyword\n",
    "    print(genre)\n",
    "    pdf = pd.read_csv('sprint2 playlist/playlists/'+genre.lower()+'_playlist_data.csv')\n",
    "    pdf['genre'] = genre.lower().replace('&','n')\n",
    "    playlist_df_list.append(pdf)\n",
    "\n",
    "    tdf = pd.read_csv('sprint2 playlist/playlists/'+genre.lower()+'_playlist_tracks_data.csv')\n",
    "    tdf['genre'] = genre.lower().replace('&','n')\n",
    "    tdf = tdf.drop(columns=['playlist_name'])\n",
    "    tdf = tdf.merge(pdf[['playlist_id','playlist_name']], on=['playlist_id'], how='left')\n",
    "    \n",
    "    track_df_list.append(tdf)\n",
    "        \n",
    "playlist_df = pd.concat(playlist_df_list)\n",
    "tracks_df = pd.concat(track_df_list)"
   ]
  },
  {
   "cell_type": "code",
   "execution_count": 3,
   "metadata": {
    "ExecuteTime": {
     "end_time": "2022-01-11T10:51:23.952748Z",
     "start_time": "2022-01-11T10:51:23.934763Z"
    }
   },
   "outputs": [
    {
     "data": {
      "text/plain": [
       "Index(['track_id', 'track_name', 'artist_id', 'artist_name', 'album_id',\n",
       "       'duration', 'release_date', 'popularity', 'danceability', 'energy',\n",
       "       'key', 'loudness', 'mode', 'speechiness', 'acousticness',\n",
       "       'instrumentalness', 'liveness', 'valence', 'tempo', 'playlist_id',\n",
       "       'genre', 'playlist_name'],\n",
       "      dtype='object')"
      ]
     },
     "execution_count": 3,
     "metadata": {},
     "output_type": "execute_result"
    }
   ],
   "source": [
    "tracks_df.columns"
   ]
  },
  {
   "cell_type": "code",
   "execution_count": 4,
   "metadata": {
    "ExecuteTime": {
     "end_time": "2022-01-11T10:51:24.051691Z",
     "start_time": "2022-01-11T10:51:23.958749Z"
    }
   },
   "outputs": [
    {
     "data": {
      "text/plain": [
       "opm rock        2020\n",
       "opm acoustic    1401\n",
       "opm jazz         859\n",
       "opm rap          791\n",
       "opm dance        669\n",
       "opm reggae       600\n",
       "Name: genre, dtype: int64"
      ]
     },
     "execution_count": 4,
     "metadata": {},
     "output_type": "execute_result"
    }
   ],
   "source": [
    "tracks_df['genre'].value_counts()"
   ]
  },
  {
   "cell_type": "code",
   "execution_count": 5,
   "metadata": {
    "ExecuteTime": {
     "end_time": "2022-01-11T10:51:24.120654Z",
     "start_time": "2022-01-11T10:51:24.055689Z"
    }
   },
   "outputs": [
    {
     "data": {
      "text/plain": [
       "(5302, 22)"
      ]
     },
     "execution_count": 5,
     "metadata": {},
     "output_type": "execute_result"
    }
   ],
   "source": [
    "#retain only distinct tracks per keyword\n",
    "tracks_df =tracks_df.drop_duplicates(subset='track_id')\n",
    "tracks_df.shape"
   ]
  },
  {
   "cell_type": "code",
   "execution_count": 6,
   "metadata": {
    "ExecuteTime": {
     "end_time": "2022-01-11T10:51:24.151637Z",
     "start_time": "2022-01-11T10:51:24.125649Z"
    }
   },
   "outputs": [
    {
     "data": {
      "text/plain": [
       "opm rock        2020\n",
       "opm acoustic     987\n",
       "opm jazz         722\n",
       "opm rap          648\n",
       "opm dance        557\n",
       "opm reggae       368\n",
       "Name: genre, dtype: int64"
      ]
     },
     "execution_count": 6,
     "metadata": {},
     "output_type": "execute_result"
    }
   ],
   "source": [
    "tracks_df['genre'].value_counts()"
   ]
  },
  {
   "cell_type": "code",
   "execution_count": 7,
   "metadata": {
    "ExecuteTime": {
     "end_time": "2022-01-11T10:51:24.192611Z",
     "start_time": "2022-01-11T10:51:24.155632Z"
    }
   },
   "outputs": [
    {
     "data": {
      "text/plain": [
       "((191, 7), (5302, 22))"
      ]
     },
     "execution_count": 7,
     "metadata": {},
     "output_type": "execute_result"
    }
   ],
   "source": [
    "#check shape\n",
    "playlist_df.shape, tracks_df.shape"
   ]
  },
  {
   "cell_type": "code",
   "execution_count": 8,
   "metadata": {
    "ExecuteTime": {
     "end_time": "2022-01-11T10:51:24.208602Z",
     "start_time": "2022-01-11T10:51:24.199607Z"
    }
   },
   "outputs": [
    {
     "name": "stdout",
     "output_type": "stream",
     "text": [
      "Playlist dataset columns: ['playlist_id' 'playlist_name' 'playlist_total_tracks' 'owner_id'\n",
      " 'owner_name' 'total_followers' 'genre'] \n",
      "\n",
      "Tracks dataset columns: ['track_id' 'track_name' 'artist_id' 'artist_name' 'album_id' 'duration'\n",
      " 'release_date' 'popularity' 'danceability' 'energy' 'key' 'loudness'\n",
      " 'mode' 'speechiness' 'acousticness' 'instrumentalness' 'liveness'\n",
      " 'valence' 'tempo' 'playlist_id' 'genre' 'playlist_name']\n"
     ]
    }
   ],
   "source": [
    "#check columns\n",
    "print(\"Playlist dataset columns: %s \\n\" % playlist_df.columns.values)\n",
    "print(\"Tracks dataset columns: %s\" % tracks_df.columns.values)"
   ]
  },
  {
   "cell_type": "code",
   "execution_count": 9,
   "metadata": {
    "ExecuteTime": {
     "end_time": "2022-01-11T10:51:25.209036Z",
     "start_time": "2022-01-11T10:51:24.213600Z"
    }
   },
   "outputs": [
    {
     "data": {
      "text/plain": [
       "array([[<AxesSubplot:title={'center':'total_followers'}>]], dtype=object)"
      ]
     },
     "execution_count": 9,
     "metadata": {},
     "output_type": "execute_result"
    },
    {
     "data": {
      "image/png": "[encoded data removed]",
      "text/plain": [
       "<Figure size 640x480 with 1 Axes>"
      ]
     },
     "metadata": {},
     "output_type": "display_data"
    }
   ],
   "source": [
    "# What is the distribution of playlist's total tracks?\n",
    "playlist_df[['total_followers']].hist()"
   ]
  },
  {
   "cell_type": "markdown",
   "metadata": {},
   "source": [
    "## 2. Refine the training data"
   ]
  },
  {
   "cell_type": "code",
   "execution_count": 10,
   "metadata": {
    "ExecuteTime": {
     "end_time": "2022-01-11T10:51:25.339958Z",
     "start_time": "2022-01-11T10:51:25.231019Z"
    },
    "scrolled": true
   },
   "outputs": [
    {
     "data": {
      "text/html": [
       "<div>\n",
       "<style scoped>\n",
       "    .dataframe tbody tr th:only-of-type {\n",
       "        vertical-align: middle;\n",
       "    }\n",
       "\n",
       "    .dataframe tbody tr th {\n",
       "        vertical-align: top;\n",
       "    }\n",
       "\n",
       "    .dataframe thead th {\n",
       "        text-align: right;\n",
       "    }\n",
       "</style>\n",
       "<table border=\"1\" class=\"dataframe\">\n",
       "  <thead>\n",
       "    <tr style=\"text-align: right;\">\n",
       "      <th></th>\n",
       "      <th>playlist_id</th>\n",
       "      <th>playlist_name</th>\n",
       "      <th>playlist_total_tracks</th>\n",
       "      <th>owner_id</th>\n",
       "      <th>owner_name</th>\n",
       "      <th>total_followers</th>\n",
       "      <th>genre</th>\n",
       "    </tr>\n",
       "  </thead>\n",
       "  <tbody>\n",
       "    <tr>\n",
       "      <th>0</th>\n",
       "      <td>2t76r0bHx984lCL0Xh9opc</td>\n",
       "      <td>OPM Rock</td>\n",
       "      <td>333</td>\n",
       "      <td>1168513315</td>\n",
       "      <td>Jervie Magsino</td>\n",
       "      <td>7299</td>\n",
       "      <td>opm rock</td>\n",
       "    </tr>\n",
       "    <tr>\n",
       "      <th>1</th>\n",
       "      <td>2TzrVWutUqGsFxbrzNF7BK</td>\n",
       "      <td>OPM rock and alternative 90s - 00s</td>\n",
       "      <td>214</td>\n",
       "      <td>3zc1k4i0n292wg6kvz3s79h3x</td>\n",
       "      <td>RobbieBuenaflor</td>\n",
       "      <td>6913</td>\n",
       "      <td>opm rock</td>\n",
       "    </tr>\n",
       "    <tr>\n",
       "      <th>2</th>\n",
       "      <td>75bXHC0AwXuwlKuwvCj7Wl</td>\n",
       "      <td>90's OPM rock band</td>\n",
       "      <td>244</td>\n",
       "      <td>walfridohidalgo</td>\n",
       "      <td>WalDo</td>\n",
       "      <td>3945</td>\n",
       "      <td>opm rock</td>\n",
       "    </tr>\n",
       "    <tr>\n",
       "      <th>3</th>\n",
       "      <td>3YxnOW4qcAgDpNm0JKBfXD</td>\n",
       "      <td>All 2005 - 2006 OPM Rock</td>\n",
       "      <td>115</td>\n",
       "      <td>ampirino</td>\n",
       "      <td>ampirino</td>\n",
       "      <td>708</td>\n",
       "      <td>opm rock</td>\n",
       "    </tr>\n",
       "    <tr>\n",
       "      <th>4</th>\n",
       "      <td>0PrNkmzeKii79HFVM3JJdA</td>\n",
       "      <td>OPM ROCK BANDS</td>\n",
       "      <td>103</td>\n",
       "      <td>ayayosuke024</td>\n",
       "      <td>nanaxxiv</td>\n",
       "      <td>634</td>\n",
       "      <td>opm rock</td>\n",
       "    </tr>\n",
       "    <tr>\n",
       "      <th>0</th>\n",
       "      <td>3iJxknKGQffZFFADEHqJJa</td>\n",
       "      <td>OPM Rap 2022</td>\n",
       "      <td>82</td>\n",
       "      <td>frankdumanlang</td>\n",
       "      <td>Frank</td>\n",
       "      <td>5279</td>\n",
       "      <td>opm rap</td>\n",
       "    </tr>\n",
       "    <tr>\n",
       "      <th>1</th>\n",
       "      <td>2u6zknTadqdYk9nePzY2yW</td>\n",
       "      <td>CHILL OPM RAP 2018-2022</td>\n",
       "      <td>242</td>\n",
       "      <td>21knt7ksvrtjajafd67f546ny</td>\n",
       "      <td>Jom Tan</td>\n",
       "      <td>1925</td>\n",
       "      <td>opm rap</td>\n",
       "    </tr>\n",
       "    <tr>\n",
       "      <th>2</th>\n",
       "      <td>7qCxm40IWjCworo3GNJfs5</td>\n",
       "      <td>Best OPM Rap Compilation 🇵🇭</td>\n",
       "      <td>44</td>\n",
       "      <td>213jix5qkzbdmcpladmzioppa</td>\n",
       "      <td>Jessie 🎹🇮🇹🎶</td>\n",
       "      <td>1130</td>\n",
       "      <td>opm rap</td>\n",
       "    </tr>\n",
       "    <tr>\n",
       "      <th>3</th>\n",
       "      <td>0ayOvntJ7iJ1AjCtifemjb</td>\n",
       "      <td>90's OPM RAP</td>\n",
       "      <td>36</td>\n",
       "      <td>rodeliong10</td>\n",
       "      <td>rodeliong10</td>\n",
       "      <td>861</td>\n",
       "      <td>opm rap</td>\n",
       "    </tr>\n",
       "    <tr>\n",
       "      <th>4</th>\n",
       "      <td>17ITmIvxgzN6ROUIxBLlOs</td>\n",
       "      <td>OPM RAP SONGS 2022</td>\n",
       "      <td>107</td>\n",
       "      <td>89zgxi3vlzdneiayme5kdm3o6</td>\n",
       "      <td>Best of OPM</td>\n",
       "      <td>762</td>\n",
       "      <td>opm rap</td>\n",
       "    </tr>\n",
       "    <tr>\n",
       "      <th>0</th>\n",
       "      <td>4kCmG7fP9AOABAT7c0KTIn</td>\n",
       "      <td>Chocolate Factory &amp; Other OPM Reggae</td>\n",
       "      <td>59</td>\n",
       "      <td>tagor61</td>\n",
       "      <td>tagor61</td>\n",
       "      <td>19005</td>\n",
       "      <td>opm reggae</td>\n",
       "    </tr>\n",
       "    <tr>\n",
       "      <th>1</th>\n",
       "      <td>47NLoPpJmuqspr4Bp1IicR</td>\n",
       "      <td>OPM Reggae</td>\n",
       "      <td>170</td>\n",
       "      <td>12148285630</td>\n",
       "      <td>J Kahlil</td>\n",
       "      <td>3810</td>\n",
       "      <td>opm reggae</td>\n",
       "    </tr>\n",
       "    <tr>\n",
       "      <th>2</th>\n",
       "      <td>55w5YxhEMTiemSPP5oQ8mC</td>\n",
       "      <td>Chocolate Factory &amp; OPM reggae</td>\n",
       "      <td>26</td>\n",
       "      <td>9vrqwvhf6mwqw3vvjbma3ahh3</td>\n",
       "      <td>ROX</td>\n",
       "      <td>3110</td>\n",
       "      <td>opm reggae</td>\n",
       "    </tr>\n",
       "    <tr>\n",
       "      <th>3</th>\n",
       "      <td>3JZ1K6YT3gGaHMsUNh2eMV</td>\n",
       "      <td>Opm reggae medley</td>\n",
       "      <td>21</td>\n",
       "      <td>31ngudn6lxn6jdy3tfcvm2r72n3q</td>\n",
       "      <td>John Paul Gregorio</td>\n",
       "      <td>1531</td>\n",
       "      <td>opm reggae</td>\n",
       "    </tr>\n",
       "    <tr>\n",
       "      <th>4</th>\n",
       "      <td>2wI3iQh8IATRVOx54Z4acX</td>\n",
       "      <td>Best OPM Reggae</td>\n",
       "      <td>35</td>\n",
       "      <td>871zune60kfajk3n42witmhu4</td>\n",
       "      <td>Wanno122819</td>\n",
       "      <td>1230</td>\n",
       "      <td>opm reggae</td>\n",
       "    </tr>\n",
       "    <tr>\n",
       "      <th>0</th>\n",
       "      <td>6UQybqjNxhBBpgXz961vSs</td>\n",
       "      <td>Opm jazz</td>\n",
       "      <td>64</td>\n",
       "      <td>k3nn3thcute123</td>\n",
       "      <td>Bunsogen F Fernandez</td>\n",
       "      <td>669</td>\n",
       "      <td>opm jazz</td>\n",
       "    </tr>\n",
       "    <tr>\n",
       "      <th>1</th>\n",
       "      <td>7pMRhJccnRA5W7ECcUQm1w</td>\n",
       "      <td>OPM jazz &amp; bossa nova</td>\n",
       "      <td>98</td>\n",
       "      <td>12138180061</td>\n",
       "      <td>jovellebalani</td>\n",
       "      <td>360</td>\n",
       "      <td>opm jazz</td>\n",
       "    </tr>\n",
       "    <tr>\n",
       "      <th>2</th>\n",
       "      <td>5kyB6h7edF7oVG5I5j8oGW</td>\n",
       "      <td>Opm jazz relax</td>\n",
       "      <td>10</td>\n",
       "      <td>92ul8ev1fda69ve0ix0emyrzm</td>\n",
       "      <td>TIMPI</td>\n",
       "      <td>146</td>\n",
       "      <td>opm jazz</td>\n",
       "    </tr>\n",
       "    <tr>\n",
       "      <th>3</th>\n",
       "      <td>71Y95raXYBd5jGa6vFautQ</td>\n",
       "      <td>OPM Jazz Collection</td>\n",
       "      <td>39</td>\n",
       "      <td>joelcalleja715</td>\n",
       "      <td>joelcalleja715</td>\n",
       "      <td>121</td>\n",
       "      <td>opm jazz</td>\n",
       "    </tr>\n",
       "    <tr>\n",
       "      <th>4</th>\n",
       "      <td>45WMlLEHGsAazla232T5Rp</td>\n",
       "      <td>Jazz Night 🥃: OPM Bossa Nova — OPM Jazz Artists</td>\n",
       "      <td>69</td>\n",
       "      <td>31ga5toluxyvc52dukt7zsnvp2ce</td>\n",
       "      <td>RFL</td>\n",
       "      <td>58</td>\n",
       "      <td>opm jazz</td>\n",
       "    </tr>\n",
       "    <tr>\n",
       "      <th>0</th>\n",
       "      <td>1zMWC6xyvmk9QHVJqzEaoc</td>\n",
       "      <td>OPM Dance Hits 90's</td>\n",
       "      <td>120</td>\n",
       "      <td>12143167999</td>\n",
       "      <td>Leonel Delantar</td>\n",
       "      <td>885</td>\n",
       "      <td>opm dance</td>\n",
       "    </tr>\n",
       "    <tr>\n",
       "      <th>1</th>\n",
       "      <td>21SGN5LFobjfthLiLZMTj5</td>\n",
       "      <td>Vic Sotto — Awitin Mo, Isasayaw Ko, Katawan, R...</td>\n",
       "      <td>24</td>\n",
       "      <td>22jpexxulea32ulfqijzru7oq</td>\n",
       "      <td>ED Songco Aban</td>\n",
       "      <td>850</td>\n",
       "      <td>opm dance</td>\n",
       "    </tr>\n",
       "    <tr>\n",
       "      <th>2</th>\n",
       "      <td>5A8dwL0CIRl4qQanHWf0eD</td>\n",
       "      <td>80's OPM DANCE MUSIC</td>\n",
       "      <td>24</td>\n",
       "      <td>12173395373</td>\n",
       "      <td>Francis Neil Guevarra Silo</td>\n",
       "      <td>608</td>\n",
       "      <td>opm dance</td>\n",
       "    </tr>\n",
       "    <tr>\n",
       "      <th>3</th>\n",
       "      <td>6lcAbGbLD9bgtI947TX656</td>\n",
       "      <td>OPM dance 2020 sayawan</td>\n",
       "      <td>21</td>\n",
       "      <td>ok0cxg1ry7yq6wzr53ijabrfc</td>\n",
       "      <td>ok0cxg1ry7yq6wzr53ijabrfc</td>\n",
       "      <td>523</td>\n",
       "      <td>opm dance</td>\n",
       "    </tr>\n",
       "    <tr>\n",
       "      <th>4</th>\n",
       "      <td>7krgBInDCA8bRIKdOOFsrw</td>\n",
       "      <td>OPM Dance Hits &amp; 70's</td>\n",
       "      <td>39</td>\n",
       "      <td>12139705736</td>\n",
       "      <td>Sahlee Santiago</td>\n",
       "      <td>441</td>\n",
       "      <td>opm dance</td>\n",
       "    </tr>\n",
       "    <tr>\n",
       "      <th>0</th>\n",
       "      <td>3GGq4AgCWovQf9unH4OeLA</td>\n",
       "      <td>OPM Acoustic Mellow Rock</td>\n",
       "      <td>201</td>\n",
       "      <td>12161669117</td>\n",
       "      <td>Jhaedz Torres</td>\n",
       "      <td>12834</td>\n",
       "      <td>opm acoustic</td>\n",
       "    </tr>\n",
       "    <tr>\n",
       "      <th>1</th>\n",
       "      <td>7aUxW4p4EiNx5wLGZ95BIf</td>\n",
       "      <td>OPM Acoustic Chill Songs 2022 💛</td>\n",
       "      <td>134</td>\n",
       "      <td>jyhra99st5nhex8kfo4um2dh7</td>\n",
       "      <td>buntala</td>\n",
       "      <td>11655</td>\n",
       "      <td>opm acoustic</td>\n",
       "    </tr>\n",
       "    <tr>\n",
       "      <th>2</th>\n",
       "      <td>5n8ydY3cQUNvo6VH6C9my7</td>\n",
       "      <td>OPM Acoustic R&amp;B</td>\n",
       "      <td>73</td>\n",
       "      <td>12793915</td>\n",
       "      <td>Tintin Bautista</td>\n",
       "      <td>6403</td>\n",
       "      <td>opm acoustic</td>\n",
       "    </tr>\n",
       "    <tr>\n",
       "      <th>3</th>\n",
       "      <td>7vhpxu86i8iVG7PmxQtvuT</td>\n",
       "      <td>OPM Acoustic Love Songs/Ballads/Soul</td>\n",
       "      <td>311</td>\n",
       "      <td>226gg6cvmuobg2i3377x725xq</td>\n",
       "      <td>Philip Galvin</td>\n",
       "      <td>1811</td>\n",
       "      <td>opm acoustic</td>\n",
       "    </tr>\n",
       "    <tr>\n",
       "      <th>4</th>\n",
       "      <td>6QEpyMvzyeOlpyFDZTCVBg</td>\n",
       "      <td>OPM Acoustic</td>\n",
       "      <td>8</td>\n",
       "      <td>z9jnead90ofw0ty4iw8111dpr</td>\n",
       "      <td>binibining yena</td>\n",
       "      <td>1204</td>\n",
       "      <td>opm acoustic</td>\n",
       "    </tr>\n",
       "  </tbody>\n",
       "</table>\n",
       "</div>"
      ],
      "text/plain": [
       "              playlist_id                                      playlist_name  \\\n",
       "0  2t76r0bHx984lCL0Xh9opc                                           OPM Rock   \n",
       "1  2TzrVWutUqGsFxbrzNF7BK                 OPM rock and alternative 90s - 00s   \n",
       "2  75bXHC0AwXuwlKuwvCj7Wl                                 90's OPM rock band   \n",
       "3  3YxnOW4qcAgDpNm0JKBfXD                           All 2005 - 2006 OPM Rock   \n",
       "4  0PrNkmzeKii79HFVM3JJdA                                     OPM ROCK BANDS   \n",
       "0  3iJxknKGQffZFFADEHqJJa                                       OPM Rap 2022   \n",
       "1  2u6zknTadqdYk9nePzY2yW                            CHILL OPM RAP 2018-2022   \n",
       "2  7qCxm40IWjCworo3GNJfs5                        Best OPM Rap Compilation 🇵🇭   \n",
       "3  0ayOvntJ7iJ1AjCtifemjb                                       90's OPM RAP   \n",
       "4  17ITmIvxgzN6ROUIxBLlOs                                 OPM RAP SONGS 2022   \n",
       "0  4kCmG7fP9AOABAT7c0KTIn               Chocolate Factory & Other OPM Reggae   \n",
       "1  47NLoPpJmuqspr4Bp1IicR                                         OPM Reggae   \n",
       "2  55w5YxhEMTiemSPP5oQ8mC                     Chocolate Factory & OPM reggae   \n",
       "3  3JZ1K6YT3gGaHMsUNh2eMV                                  Opm reggae medley   \n",
       "4  2wI3iQh8IATRVOx54Z4acX                                    Best OPM Reggae   \n",
       "0  6UQybqjNxhBBpgXz961vSs                                           Opm jazz   \n",
       "1  7pMRhJccnRA5W7ECcUQm1w                             OPM jazz & bossa nova    \n",
       "2  5kyB6h7edF7oVG5I5j8oGW                                     Opm jazz relax   \n",
       "3  71Y95raXYBd5jGa6vFautQ                                OPM Jazz Collection   \n",
       "4  45WMlLEHGsAazla232T5Rp    Jazz Night 🥃: OPM Bossa Nova — OPM Jazz Artists   \n",
       "0  1zMWC6xyvmk9QHVJqzEaoc                                OPM Dance Hits 90's   \n",
       "1  21SGN5LFobjfthLiLZMTj5  Vic Sotto — Awitin Mo, Isasayaw Ko, Katawan, R...   \n",
       "2  5A8dwL0CIRl4qQanHWf0eD                               80's OPM DANCE MUSIC   \n",
       "3  6lcAbGbLD9bgtI947TX656                             OPM dance 2020 sayawan   \n",
       "4  7krgBInDCA8bRIKdOOFsrw                              OPM Dance Hits & 70's   \n",
       "0  3GGq4AgCWovQf9unH4OeLA                           OPM Acoustic Mellow Rock   \n",
       "1  7aUxW4p4EiNx5wLGZ95BIf                    OPM Acoustic Chill Songs 2022 💛   \n",
       "2  5n8ydY3cQUNvo6VH6C9my7                                   OPM Acoustic R&B   \n",
       "3  7vhpxu86i8iVG7PmxQtvuT               OPM Acoustic Love Songs/Ballads/Soul   \n",
       "4  6QEpyMvzyeOlpyFDZTCVBg                                      OPM Acoustic    \n",
       "\n",
       "   playlist_total_tracks                      owner_id  \\\n",
       "0                    333                    1168513315   \n",
       "1                    214     3zc1k4i0n292wg6kvz3s79h3x   \n",
       "2                    244               walfridohidalgo   \n",
       "3                    115                      ampirino   \n",
       "4                    103                  ayayosuke024   \n",
       "0                     82                frankdumanlang   \n",
       "1                    242     21knt7ksvrtjajafd67f546ny   \n",
       "2                     44     213jix5qkzbdmcpladmzioppa   \n",
       "3                     36                   rodeliong10   \n",
       "4                    107     89zgxi3vlzdneiayme5kdm3o6   \n",
       "0                     59                       tagor61   \n",
       "1                    170                   12148285630   \n",
       "2                     26     9vrqwvhf6mwqw3vvjbma3ahh3   \n",
       "3                     21  31ngudn6lxn6jdy3tfcvm2r72n3q   \n",
       "4                     35     871zune60kfajk3n42witmhu4   \n",
       "0                     64                k3nn3thcute123   \n",
       "1                     98                   12138180061   \n",
       "2                     10     92ul8ev1fda69ve0ix0emyrzm   \n",
       "3                     39                joelcalleja715   \n",
       "4                     69  31ga5toluxyvc52dukt7zsnvp2ce   \n",
       "0                    120                   12143167999   \n",
       "1                     24     22jpexxulea32ulfqijzru7oq   \n",
       "2                     24                   12173395373   \n",
       "3                     21     ok0cxg1ry7yq6wzr53ijabrfc   \n",
       "4                     39                   12139705736   \n",
       "0                    201                   12161669117   \n",
       "1                    134     jyhra99st5nhex8kfo4um2dh7   \n",
       "2                     73                      12793915   \n",
       "3                    311     226gg6cvmuobg2i3377x725xq   \n",
       "4                      8     z9jnead90ofw0ty4iw8111dpr   \n",
       "\n",
       "                   owner_name  total_followers         genre  \n",
       "0              Jervie Magsino             7299      opm rock  \n",
       "1             RobbieBuenaflor             6913      opm rock  \n",
       "2                       WalDo             3945      opm rock  \n",
       "3                    ampirino              708      opm rock  \n",
       "4                    nanaxxiv              634      opm rock  \n",
       "0                       Frank             5279       opm rap  \n",
       "1                     Jom Tan             1925       opm rap  \n",
       "2                 Jessie 🎹🇮🇹🎶             1130       opm rap  \n",
       "3                 rodeliong10              861       opm rap  \n",
       "4                 Best of OPM              762       opm rap  \n",
       "0                     tagor61            19005    opm reggae  \n",
       "1                    J Kahlil             3810    opm reggae  \n",
       "2                         ROX             3110    opm reggae  \n",
       "3          John Paul Gregorio             1531    opm reggae  \n",
       "4                 Wanno122819             1230    opm reggae  \n",
       "0        Bunsogen F Fernandez              669      opm jazz  \n",
       "1               jovellebalani              360      opm jazz  \n",
       "2                       TIMPI              146      opm jazz  \n",
       "3              joelcalleja715              121      opm jazz  \n",
       "4                         RFL               58      opm jazz  \n",
       "0             Leonel Delantar              885     opm dance  \n",
       "1              ED Songco Aban              850     opm dance  \n",
       "2  Francis Neil Guevarra Silo              608     opm dance  \n",
       "3   ok0cxg1ry7yq6wzr53ijabrfc              523     opm dance  \n",
       "4             Sahlee Santiago              441     opm dance  \n",
       "0               Jhaedz Torres            12834  opm acoustic  \n",
       "1                     buntala            11655  opm acoustic  \n",
       "2             Tintin Bautista             6403  opm acoustic  \n",
       "3               Philip Galvin             1811  opm acoustic  \n",
       "4             binibining yena             1204  opm acoustic  "
      ]
     },
     "execution_count": 10,
     "metadata": {},
     "output_type": "execute_result"
    }
   ],
   "source": [
    "#get top 5 playlists per genre\n",
    "#head will show top 5 followers since csv is already ordered\n",
    "top_playlists_df = playlist_df.groupby('genre').head(5)\n",
    "top_playlists_df"
   ]
  },
  {
   "cell_type": "code",
   "execution_count": 11,
   "metadata": {
    "ExecuteTime": {
     "end_time": "2022-01-11T10:51:25.402921Z",
     "start_time": "2022-01-11T10:51:25.344953Z"
    }
   },
   "outputs": [
    {
     "data": {
      "text/plain": [
       "opm rock        767\n",
       "opm acoustic    390\n",
       "opm rap         351\n",
       "opm jazz        236\n",
       "opm dance       178\n",
       "opm reggae      157\n",
       "Name: genre, dtype: int64"
      ]
     },
     "execution_count": 11,
     "metadata": {},
     "output_type": "execute_result"
    }
   ],
   "source": [
    "tracks_df = tracks_df[tracks_df['playlist_id'].isin(top_playlists_df['playlist_id'].values)]\n",
    "tracks_df['genre'].value_counts()"
   ]
  },
  {
   "cell_type": "markdown",
   "metadata": {},
   "source": [
    "> Q: Given the number of genres for prediction, what minimum accuracy value can we expect from the model?"
   ]
  },
  {
   "cell_type": "code",
   "execution_count": 12,
   "metadata": {},
   "outputs": [
    {
     "data": {
      "text/plain": [
       "0.125"
      ]
     },
     "execution_count": 12,
     "metadata": {},
     "output_type": "execute_result"
    }
   ],
   "source": [
    "1/8"
   ]
  },
  {
   "cell_type": "markdown",
   "metadata": {},
   "source": [
    "## 3. Feature Engineering"
   ]
  },
  {
   "cell_type": "markdown",
   "metadata": {},
   "source": [
    "##### Conversions/Scaling"
   ]
  },
  {
   "cell_type": "code",
   "execution_count": 13,
   "metadata": {
    "ExecuteTime": {
     "end_time": "2022-01-11T10:51:25.447895Z",
     "start_time": "2022-01-11T10:51:25.409917Z"
    }
   },
   "outputs": [],
   "source": [
    "#convert duration from ms to mins\n",
    "tracks_df['duration_mins']=tracks_df['duration']/60000"
   ]
  },
  {
   "cell_type": "code",
   "execution_count": 14,
   "metadata": {
    "ExecuteTime": {
     "end_time": "2022-01-11T10:51:27.755576Z",
     "start_time": "2022-01-11T10:51:25.451895Z"
    }
   },
   "outputs": [
    {
     "data": {
      "text/plain": [
       "count    2079.000000\n",
       "mean        0.606361\n",
       "std         0.145101\n",
       "min         0.000000\n",
       "25%         0.521057\n",
       "50%         0.627794\n",
       "75%         0.711516\n",
       "max         1.000000\n",
       "Name: loudness, dtype: float64"
      ]
     },
     "execution_count": 14,
     "metadata": {},
     "output_type": "execute_result"
    }
   ],
   "source": [
    "#Normalize loudness\n",
    "from sklearn.preprocessing import MinMaxScaler #RobustScaler\n",
    "scaler = MinMaxScaler()\n",
    "\n",
    "tracks_df['loudness'] = scaler.fit_transform(tracks_df[['loudness']])\n",
    "tracks_df['loudness'].describe()"
   ]
  },
  {
   "cell_type": "code",
   "execution_count": 15,
   "metadata": {
    "ExecuteTime": {
     "end_time": "2022-01-11T10:51:27.803548Z",
     "start_time": "2022-01-11T10:51:27.759575Z"
    }
   },
   "outputs": [
    {
     "data": {
      "text/plain": [
       "count    2079.000000\n",
       "mean        0.440838\n",
       "std         0.182590\n",
       "min         0.000000\n",
       "25%         0.288506\n",
       "50%         0.454221\n",
       "75%         0.551779\n",
       "max         1.000000\n",
       "Name: tempo, dtype: float64"
      ]
     },
     "execution_count": 15,
     "metadata": {},
     "output_type": "execute_result"
    }
   ],
   "source": [
    "#Normalize tempo\n",
    "tracks_df['tempo'] =  scaler.fit_transform(tracks_df[['tempo']])\n",
    "#check\n",
    "tracks_df['tempo'].describe()\n"
   ]
  },
  {
   "cell_type": "markdown",
   "metadata": {},
   "source": [
    "###### Categorical Encoding"
   ]
  },
  {
   "cell_type": "code",
   "execution_count": 16,
   "metadata": {
    "ExecuteTime": {
     "end_time": "2022-01-11T10:51:27.828536Z",
     "start_time": "2022-01-11T10:51:27.806547Z"
    }
   },
   "outputs": [
    {
     "data": {
      "text/plain": [
       "track_id              object\n",
       "track_name            object\n",
       "artist_id             object\n",
       "artist_name           object\n",
       "album_id              object\n",
       "duration               int64\n",
       "release_date          object\n",
       "popularity             int64\n",
       "danceability         float64\n",
       "energy               float64\n",
       "key                    int64\n",
       "loudness             float64\n",
       "mode                   int64\n",
       "speechiness          float64\n",
       "acousticness         float64\n",
       "instrumentalness     float64\n",
       "liveness             float64\n",
       "valence              float64\n",
       "tempo                float64\n",
       "playlist_id           object\n",
       "genre               category\n",
       "playlist_name         object\n",
       "duration_mins        float64\n",
       "dtype: object"
      ]
     },
     "execution_count": 16,
     "metadata": {},
     "output_type": "execute_result"
    }
   ],
   "source": [
    "tracks_df[\"genre\"] = tracks_df[\"genre\"].astype('category')\n",
    "tracks_df.dtypes"
   ]
  },
  {
   "cell_type": "code",
   "execution_count": 17,
   "metadata": {
    "ExecuteTime": {
     "end_time": "2022-01-11T10:51:27.863522Z",
     "start_time": "2022-01-11T10:51:27.832535Z"
    }
   },
   "outputs": [
    {
     "data": {
      "text/plain": [
       "opm rock        767\n",
       "opm acoustic    390\n",
       "opm rap         351\n",
       "opm jazz        236\n",
       "opm dance       178\n",
       "opm reggae      157\n",
       "Name: genre, dtype: int64"
      ]
     },
     "execution_count": 17,
     "metadata": {},
     "output_type": "execute_result"
    }
   ],
   "source": [
    "tracks_df['genre'].value_counts()"
   ]
  },
  {
   "cell_type": "code",
   "execution_count": 18,
   "metadata": {
    "ExecuteTime": {
     "end_time": "2022-01-11T10:51:57.072451Z",
     "start_time": "2022-01-11T10:51:57.024478Z"
    }
   },
   "outputs": [
    {
     "data": {
      "text/html": [
       "<div>\n",
       "<style scoped>\n",
       "    .dataframe tbody tr th:only-of-type {\n",
       "        vertical-align: middle;\n",
       "    }\n",
       "\n",
       "    .dataframe tbody tr th {\n",
       "        vertical-align: top;\n",
       "    }\n",
       "\n",
       "    .dataframe thead th {\n",
       "        text-align: right;\n",
       "    }\n",
       "</style>\n",
       "<table border=\"1\" class=\"dataframe\">\n",
       "  <thead>\n",
       "    <tr style=\"text-align: right;\">\n",
       "      <th></th>\n",
       "      <th>track_id</th>\n",
       "      <th>track_name</th>\n",
       "      <th>artist_id</th>\n",
       "      <th>artist_name</th>\n",
       "      <th>album_id</th>\n",
       "      <th>duration</th>\n",
       "      <th>release_date</th>\n",
       "      <th>popularity</th>\n",
       "      <th>danceability</th>\n",
       "      <th>energy</th>\n",
       "      <th>...</th>\n",
       "      <th>acousticness</th>\n",
       "      <th>instrumentalness</th>\n",
       "      <th>liveness</th>\n",
       "      <th>valence</th>\n",
       "      <th>tempo</th>\n",
       "      <th>playlist_id</th>\n",
       "      <th>genre</th>\n",
       "      <th>playlist_name</th>\n",
       "      <th>duration_mins</th>\n",
       "      <th>genre_id</th>\n",
       "    </tr>\n",
       "  </thead>\n",
       "  <tbody>\n",
       "    <tr>\n",
       "      <th>0</th>\n",
       "      <td>5iNGxZ1waiyMFylg4QAHk6</td>\n",
       "      <td>Same Ground</td>\n",
       "      <td>4OjU5UP0GFWeniBC82sGBY</td>\n",
       "      <td>Kitchie Nadal</td>\n",
       "      <td>7beVKW0o7iRoM0eRT3kGfk</td>\n",
       "      <td>267680</td>\n",
       "      <td>2004-01-01</td>\n",
       "      <td>60</td>\n",
       "      <td>0.616</td>\n",
       "      <td>0.525</td>\n",
       "      <td>...</td>\n",
       "      <td>0.3080</td>\n",
       "      <td>0.000004</td>\n",
       "      <td>0.1610</td>\n",
       "      <td>0.456</td>\n",
       "      <td>0.651211</td>\n",
       "      <td>2t76r0bHx984lCL0Xh9opc</td>\n",
       "      <td>opm rock</td>\n",
       "      <td>OPM Rock</td>\n",
       "      <td>4.461333</td>\n",
       "      <td>5</td>\n",
       "    </tr>\n",
       "    <tr>\n",
       "      <th>1</th>\n",
       "      <td>3Swi55QZ2Hw1yKCMYNNzCK</td>\n",
       "      <td>Shirley</td>\n",
       "      <td>7374lH6kwx9uQATYQ9H3Cp</td>\n",
       "      <td>Eraserheads</td>\n",
       "      <td>26ZfEBGPkGWOIagjRIyLVE</td>\n",
       "      <td>241280</td>\n",
       "      <td>2006-10-10</td>\n",
       "      <td>33</td>\n",
       "      <td>0.296</td>\n",
       "      <td>0.952</td>\n",
       "      <td>...</td>\n",
       "      <td>0.0167</td>\n",
       "      <td>0.033900</td>\n",
       "      <td>0.0505</td>\n",
       "      <td>0.370</td>\n",
       "      <td>0.639374</td>\n",
       "      <td>2t76r0bHx984lCL0Xh9opc</td>\n",
       "      <td>opm rock</td>\n",
       "      <td>OPM Rock</td>\n",
       "      <td>4.021333</td>\n",
       "      <td>5</td>\n",
       "    </tr>\n",
       "    <tr>\n",
       "      <th>2</th>\n",
       "      <td>5TaaSfaEGyYSekPSz4m1bW</td>\n",
       "      <td>Tindahan Ni Aling Nena</td>\n",
       "      <td>7374lH6kwx9uQATYQ9H3Cp</td>\n",
       "      <td>Eraserheads</td>\n",
       "      <td>26ZfEBGPkGWOIagjRIyLVE</td>\n",
       "      <td>185746</td>\n",
       "      <td>2006-10-10</td>\n",
       "      <td>31</td>\n",
       "      <td>0.657</td>\n",
       "      <td>0.712</td>\n",
       "      <td>...</td>\n",
       "      <td>0.0689</td>\n",
       "      <td>0.000000</td>\n",
       "      <td>0.3260</td>\n",
       "      <td>0.694</td>\n",
       "      <td>0.534513</td>\n",
       "      <td>2t76r0bHx984lCL0Xh9opc</td>\n",
       "      <td>opm rock</td>\n",
       "      <td>OPM Rock</td>\n",
       "      <td>3.095767</td>\n",
       "      <td>5</td>\n",
       "    </tr>\n",
       "    <tr>\n",
       "      <th>3</th>\n",
       "      <td>6ctVWFuLs1udLdDDUzqLXG</td>\n",
       "      <td>Hey, Jay</td>\n",
       "      <td>7374lH6kwx9uQATYQ9H3Cp</td>\n",
       "      <td>Eraserheads</td>\n",
       "      <td>26ZfEBGPkGWOIagjRIyLVE</td>\n",
       "      <td>279813</td>\n",
       "      <td>2006-10-10</td>\n",
       "      <td>32</td>\n",
       "      <td>0.454</td>\n",
       "      <td>0.540</td>\n",
       "      <td>...</td>\n",
       "      <td>0.3030</td>\n",
       "      <td>0.000003</td>\n",
       "      <td>0.1290</td>\n",
       "      <td>0.890</td>\n",
       "      <td>0.514175</td>\n",
       "      <td>2t76r0bHx984lCL0Xh9opc</td>\n",
       "      <td>opm rock</td>\n",
       "      <td>OPM Rock</td>\n",
       "      <td>4.663550</td>\n",
       "      <td>5</td>\n",
       "    </tr>\n",
       "    <tr>\n",
       "      <th>4</th>\n",
       "      <td>5nmglzjbUxSzai7gQbsOqY</td>\n",
       "      <td>Kailan Lounge</td>\n",
       "      <td>7374lH6kwx9uQATYQ9H3Cp</td>\n",
       "      <td>Eraserheads</td>\n",
       "      <td>26ZfEBGPkGWOIagjRIyLVE</td>\n",
       "      <td>197360</td>\n",
       "      <td>2006-10-10</td>\n",
       "      <td>37</td>\n",
       "      <td>0.514</td>\n",
       "      <td>0.301</td>\n",
       "      <td>...</td>\n",
       "      <td>0.9620</td>\n",
       "      <td>0.007930</td>\n",
       "      <td>0.1130</td>\n",
       "      <td>0.501</td>\n",
       "      <td>0.410630</td>\n",
       "      <td>2t76r0bHx984lCL0Xh9opc</td>\n",
       "      <td>opm rock</td>\n",
       "      <td>OPM Rock</td>\n",
       "      <td>3.289333</td>\n",
       "      <td>5</td>\n",
       "    </tr>\n",
       "  </tbody>\n",
       "</table>\n",
       "<p>5 rows × 24 columns</p>\n",
       "</div>"
      ],
      "text/plain": [
       "                 track_id              track_name               artist_id  \\\n",
       "0  5iNGxZ1waiyMFylg4QAHk6             Same Ground  4OjU5UP0GFWeniBC82sGBY   \n",
       "1  3Swi55QZ2Hw1yKCMYNNzCK                 Shirley  7374lH6kwx9uQATYQ9H3Cp   \n",
       "2  5TaaSfaEGyYSekPSz4m1bW  Tindahan Ni Aling Nena  7374lH6kwx9uQATYQ9H3Cp   \n",
       "3  6ctVWFuLs1udLdDDUzqLXG                Hey, Jay  7374lH6kwx9uQATYQ9H3Cp   \n",
       "4  5nmglzjbUxSzai7gQbsOqY           Kailan Lounge  7374lH6kwx9uQATYQ9H3Cp   \n",
       "\n",
       "     artist_name                album_id  duration release_date  popularity  \\\n",
       "0  Kitchie Nadal  7beVKW0o7iRoM0eRT3kGfk    267680   2004-01-01          60   \n",
       "1    Eraserheads  26ZfEBGPkGWOIagjRIyLVE    241280   2006-10-10          33   \n",
       "2    Eraserheads  26ZfEBGPkGWOIagjRIyLVE    185746   2006-10-10          31   \n",
       "3    Eraserheads  26ZfEBGPkGWOIagjRIyLVE    279813   2006-10-10          32   \n",
       "4    Eraserheads  26ZfEBGPkGWOIagjRIyLVE    197360   2006-10-10          37   \n",
       "\n",
       "   danceability  energy  ...  acousticness  instrumentalness  liveness  \\\n",
       "0         0.616   0.525  ...        0.3080          0.000004    0.1610   \n",
       "1         0.296   0.952  ...        0.0167          0.033900    0.0505   \n",
       "2         0.657   0.712  ...        0.0689          0.000000    0.3260   \n",
       "3         0.454   0.540  ...        0.3030          0.000003    0.1290   \n",
       "4         0.514   0.301  ...        0.9620          0.007930    0.1130   \n",
       "\n",
       "   valence     tempo             playlist_id     genre  playlist_name  \\\n",
       "0    0.456  0.651211  2t76r0bHx984lCL0Xh9opc  opm rock       OPM Rock   \n",
       "1    0.370  0.639374  2t76r0bHx984lCL0Xh9opc  opm rock       OPM Rock   \n",
       "2    0.694  0.534513  2t76r0bHx984lCL0Xh9opc  opm rock       OPM Rock   \n",
       "3    0.890  0.514175  2t76r0bHx984lCL0Xh9opc  opm rock       OPM Rock   \n",
       "4    0.501  0.410630  2t76r0bHx984lCL0Xh9opc  opm rock       OPM Rock   \n",
       "\n",
       "   duration_mins genre_id  \n",
       "0       4.461333        5  \n",
       "1       4.021333        5  \n",
       "2       3.095767        5  \n",
       "3       4.663550        5  \n",
       "4       3.289333        5  \n",
       "\n",
       "[5 rows x 24 columns]"
      ]
     },
     "execution_count": 18,
     "metadata": {},
     "output_type": "execute_result"
    }
   ],
   "source": [
    "tracks_df['genre_id'] = tracks_df[\"genre\"].cat.codes\n",
    "tracks_df.head()"
   ]
  },
  {
   "cell_type": "code",
   "execution_count": 19,
   "metadata": {},
   "outputs": [
    {
     "data": {
      "text/plain": [
       "{5: 'opm rock',\n",
       " 3: 'opm rap',\n",
       " 4: 'opm reggae',\n",
       " 2: 'opm jazz',\n",
       " 1: 'opm dance',\n",
       " 0: 'opm acoustic'}"
      ]
     },
     "execution_count": 19,
     "metadata": {},
     "output_type": "execute_result"
    }
   ],
   "source": [
    "tracks_df[['genre_id','genre']].drop_duplicates().set_index('genre_id').to_dict()['genre']"
   ]
  },
  {
   "cell_type": "code",
   "execution_count": 20,
   "metadata": {
    "ExecuteTime": {
     "end_time": "2022-01-11T10:52:36.055489Z",
     "start_time": "2022-01-11T10:52:36.040499Z"
    }
   },
   "outputs": [
    {
     "data": {
      "text/plain": [
       "{0: 'opm acoustic',\n",
       " 1: 'opm dance',\n",
       " 2: 'opm jazz',\n",
       " 3: 'opm rap',\n",
       " 4: 'opm reggae',\n",
       " 5: 'opm rock'}"
      ]
     },
     "execution_count": 20,
     "metadata": {},
     "output_type": "execute_result"
    }
   ],
   "source": [
    "genre_lookup = dict(tracks_df.groupby('genre_id').head(1)[['genre_id','genre']].sort_values('genre_id').values)\n",
    "genre_lookup"
   ]
  },
  {
   "cell_type": "code",
   "execution_count": 21,
   "metadata": {
    "ExecuteTime": {
     "end_time": "2022-01-11T10:53:27.996458Z",
     "start_time": "2022-01-11T10:53:27.746602Z"
    }
   },
   "outputs": [],
   "source": [
    "from sklearn.model_selection import train_test_split, KFold, cross_val_score, GridSearchCV\n",
    "from sklearn.neighbors import KNeighborsClassifier \n",
    "from sklearn.svm import SVC\n",
    "from sklearn.metrics import accuracy_score,roc_curve, auc, confusion_matrix, classification_report,\\\n",
    "    ConfusionMatrixDisplay, plot_roc_curve"
   ]
  },
  {
   "cell_type": "markdown",
   "metadata": {},
   "source": [
    "Select audio features to use for the model"
   ]
  },
  {
   "cell_type": "code",
   "execution_count": 23,
   "metadata": {
    "ExecuteTime": {
     "end_time": "2022-01-11T10:53:53.414698Z",
     "start_time": "2022-01-11T10:53:53.405695Z"
    }
   },
   "outputs": [
    {
     "name": "stdout",
     "output_type": "stream",
     "text": [
      "2079 2079\n"
     ]
    }
   ],
   "source": [
    "# create feature matrix (X)\n",
    "# pick energy and tempo as features\n",
    "feature_cols =  ['danceability', 'energy', 'acousticness', 'valence','speechiness']\n",
    "\n",
    "X = tracks_df[feature_cols]\n",
    "y = tracks_df['genre_id']\n",
    "print(len(X),len(y))"
   ]
  },
  {
   "cell_type": "markdown",
   "metadata": {},
   "source": [
    "## 5. Model Tuning: kNN"
   ]
  },
  {
   "cell_type": "markdown",
   "metadata": {},
   "source": [
    "Perform KNN using K= [2..50] and validate using k-fold = 5"
   ]
  },
  {
   "cell_type": "code",
   "execution_count": 24,
   "metadata": {
    "ExecuteTime": {
     "end_time": "2022-01-11T10:54:29.092044Z",
     "start_time": "2022-01-11T10:54:28.835190Z"
    }
   },
   "outputs": [
    {
     "name": "stdout",
     "output_type": "stream",
     "text": [
      "K=0, train idx: 416-2078 (n=1663), test idx:  0-415 (n=416)\n",
      "K=1, train idx: 0-416, 831-2078 (n=1663), test idx:  416-831 (n=416)\n",
      "K=2, train idx: 0-832, 1247-2078 (n=1663), test idx:  832-1247 (n=416)\n",
      "K=3, train idx: 0-1248, 1663-2078 (n=1663), test idx:  1248-1663 (n=416)\n",
      "K=4, train idx: 0-1663 (n=1664), test idx:  1664-2078 (n=415)\n"
     ]
    }
   ],
   "source": [
    "#check indices used in folds\n",
    "KFOLDS=5\n",
    "kf = KFold(n_splits=KFOLDS)\n",
    "for i,(train, test) in enumerate(kf.split(X)):\n",
    "    #generate indices to use for the k-fold splits\n",
    "    full_range = np.arange(len(X)).tolist()\n",
    "    gap = [x for x in full_range if x not in train]\n",
    "    if (i>0)&(i<KFOLDS-1):\n",
    "        print(\"K=%d, train idx: %d-%d, %d-%d (n=%d), test idx:  %d-%d (n=%d)\" % (i, min(train), min(gap), max(gap), max(train),len(train),\\\n",
    "                                                                     min(test), max(test), len(test)))\n",
    "    else:\n",
    "         print(\"K=%d, train idx: %d-%d (n=%d), test idx:  %d-%d (n=%d)\" % (i, min(train), max(train),len(train),\\\n",
    "                                                                     min(test), max(test), len(test)))"
   ]
  },
  {
   "cell_type": "code",
   "execution_count": 25,
   "metadata": {
    "ExecuteTime": {
     "end_time": "2022-01-11T10:55:02.217027Z",
     "start_time": "2022-01-11T10:54:29.104038Z"
    },
    "scrolled": true
   },
   "outputs": [
    {
     "name": "stdout",
     "output_type": "stream",
     "text": [
      "Fitting KNN with K=2 ...DONE!\n",
      "Fitting KNN with K=3 ..."
     ]
    },
    {
     "name": "stderr",
     "output_type": "stream",
     "text": [
      "C:\\Users\\andre\\Desktop\\W.O.R.K\\Eskwelabs\\venv\\lib\\site-packages\\sklearn\\base.py:441: UserWarning: X does not have valid feature names, but KNeighborsClassifier was fitted with feature names\n",
      "  warnings.warn(\n",
      "C:\\Users\\andre\\Desktop\\W.O.R.K\\Eskwelabs\\venv\\lib\\site-packages\\sklearn\\base.py:441: UserWarning: X does not have valid feature names, but KNeighborsClassifier was fitted with feature names\n",
      "  warnings.warn(\n",
      "C:\\Users\\andre\\Desktop\\W.O.R.K\\Eskwelabs\\venv\\lib\\site-packages\\sklearn\\base.py:441: UserWarning: X does not have valid feature names, but KNeighborsClassifier was fitted with feature names\n",
      "  warnings.warn(\n",
      "C:\\Users\\andre\\Desktop\\W.O.R.K\\Eskwelabs\\venv\\lib\\site-packages\\sklearn\\base.py:441: UserWarning: X does not have valid feature names, but KNeighborsClassifier was fitted with feature names\n",
      "  warnings.warn(\n",
      "C:\\Users\\andre\\Desktop\\W.O.R.K\\Eskwelabs\\venv\\lib\\site-packages\\sklearn\\base.py:441: UserWarning: X does not have valid feature names, but KNeighborsClassifier was fitted with feature names\n",
      "  warnings.warn(\n",
      "C:\\Users\\andre\\Desktop\\W.O.R.K\\Eskwelabs\\venv\\lib\\site-packages\\sklearn\\base.py:441: UserWarning: X does not have valid feature names, but KNeighborsClassifier was fitted with feature names\n",
      "  warnings.warn(\n",
      "C:\\Users\\andre\\Desktop\\W.O.R.K\\Eskwelabs\\venv\\lib\\site-packages\\sklearn\\base.py:441: UserWarning: X does not have valid feature names, but KNeighborsClassifier was fitted with feature names\n",
      "  warnings.warn(\n",
      "C:\\Users\\andre\\Desktop\\W.O.R.K\\Eskwelabs\\venv\\lib\\site-packages\\sklearn\\base.py:441: UserWarning: X does not have valid feature names, but KNeighborsClassifier was fitted with feature names\n",
      "  warnings.warn(\n",
      "C:\\Users\\andre\\Desktop\\W.O.R.K\\Eskwelabs\\venv\\lib\\site-packages\\sklearn\\base.py:441: UserWarning: X does not have valid feature names, but KNeighborsClassifier was fitted with feature names\n",
      "  warnings.warn(\n",
      "C:\\Users\\andre\\Desktop\\W.O.R.K\\Eskwelabs\\venv\\lib\\site-packages\\sklearn\\base.py:441: UserWarning: X does not have valid feature names, but KNeighborsClassifier was fitted with feature names\n",
      "  warnings.warn(\n",
      "C:\\Users\\andre\\Desktop\\W.O.R.K\\Eskwelabs\\venv\\lib\\site-packages\\sklearn\\base.py:441: UserWarning: X does not have valid feature names, but KNeighborsClassifier was fitted with feature names\n",
      "  warnings.warn(\n",
      "C:\\Users\\andre\\Desktop\\W.O.R.K\\Eskwelabs\\venv\\lib\\site-packages\\sklearn\\base.py:441: UserWarning: X does not have valid feature names, but KNeighborsClassifier was fitted with feature names\n",
      "  warnings.warn(\n",
      "C:\\Users\\andre\\Desktop\\W.O.R.K\\Eskwelabs\\venv\\lib\\site-packages\\sklearn\\base.py:441: UserWarning: X does not have valid feature names, but KNeighborsClassifier was fitted with feature names\n",
      "  warnings.warn(\n",
      "C:\\Users\\andre\\Desktop\\W.O.R.K\\Eskwelabs\\venv\\lib\\site-packages\\sklearn\\base.py:441: UserWarning: X does not have valid feature names, but KNeighborsClassifier was fitted with feature names\n",
      "  warnings.warn(\n"
     ]
    },
    {
     "name": "stdout",
     "output_type": "stream",
     "text": [
      "DONE!\n",
      "Fitting KNN with K=4 ..."
     ]
    },
    {
     "name": "stderr",
     "output_type": "stream",
     "text": [
      "C:\\Users\\andre\\Desktop\\W.O.R.K\\Eskwelabs\\venv\\lib\\site-packages\\sklearn\\base.py:441: UserWarning: X does not have valid feature names, but KNeighborsClassifier was fitted with feature names\n",
      "  warnings.warn(\n",
      "C:\\Users\\andre\\Desktop\\W.O.R.K\\Eskwelabs\\venv\\lib\\site-packages\\sklearn\\base.py:441: UserWarning: X does not have valid feature names, but KNeighborsClassifier was fitted with feature names\n",
      "  warnings.warn(\n",
      "C:\\Users\\andre\\Desktop\\W.O.R.K\\Eskwelabs\\venv\\lib\\site-packages\\sklearn\\base.py:441: UserWarning: X does not have valid feature names, but KNeighborsClassifier was fitted with feature names\n",
      "  warnings.warn(\n",
      "C:\\Users\\andre\\Desktop\\W.O.R.K\\Eskwelabs\\venv\\lib\\site-packages\\sklearn\\base.py:441: UserWarning: X does not have valid feature names, but KNeighborsClassifier was fitted with feature names\n",
      "  warnings.warn(\n",
      "C:\\Users\\andre\\Desktop\\W.O.R.K\\Eskwelabs\\venv\\lib\\site-packages\\sklearn\\base.py:441: UserWarning: X does not have valid feature names, but KNeighborsClassifier was fitted with feature names\n",
      "  warnings.warn(\n",
      "C:\\Users\\andre\\Desktop\\W.O.R.K\\Eskwelabs\\venv\\lib\\site-packages\\sklearn\\base.py:441: UserWarning: X does not have valid feature names, but KNeighborsClassifier was fitted with feature names\n",
      "  warnings.warn(\n",
      "C:\\Users\\andre\\Desktop\\W.O.R.K\\Eskwelabs\\venv\\lib\\site-packages\\sklearn\\base.py:441: UserWarning: X does not have valid feature names, but KNeighborsClassifier was fitted with feature names\n",
      "  warnings.warn(\n",
      "C:\\Users\\andre\\Desktop\\W.O.R.K\\Eskwelabs\\venv\\lib\\site-packages\\sklearn\\base.py:441: UserWarning: X does not have valid feature names, but KNeighborsClassifier was fitted with feature names\n",
      "  warnings.warn(\n"
     ]
    },
    {
     "name": "stdout",
     "output_type": "stream",
     "text": [
      "DONE!\n",
      "Fitting KNN with K=5 ...DONE!\n",
      "Fitting KNN with K=6 ..."
     ]
    },
    {
     "name": "stderr",
     "output_type": "stream",
     "text": [
      "C:\\Users\\andre\\Desktop\\W.O.R.K\\Eskwelabs\\venv\\lib\\site-packages\\sklearn\\base.py:441: UserWarning: X does not have valid feature names, but KNeighborsClassifier was fitted with feature names\n",
      "  warnings.warn(\n",
      "C:\\Users\\andre\\Desktop\\W.O.R.K\\Eskwelabs\\venv\\lib\\site-packages\\sklearn\\base.py:441: UserWarning: X does not have valid feature names, but KNeighborsClassifier was fitted with feature names\n",
      "  warnings.warn(\n",
      "C:\\Users\\andre\\Desktop\\W.O.R.K\\Eskwelabs\\venv\\lib\\site-packages\\sklearn\\base.py:441: UserWarning: X does not have valid feature names, but KNeighborsClassifier was fitted with feature names\n",
      "  warnings.warn(\n",
      "C:\\Users\\andre\\Desktop\\W.O.R.K\\Eskwelabs\\venv\\lib\\site-packages\\sklearn\\base.py:441: UserWarning: X does not have valid feature names, but KNeighborsClassifier was fitted with feature names\n",
      "  warnings.warn(\n",
      "C:\\Users\\andre\\Desktop\\W.O.R.K\\Eskwelabs\\venv\\lib\\site-packages\\sklearn\\base.py:441: UserWarning: X does not have valid feature names, but KNeighborsClassifier was fitted with feature names\n",
      "  warnings.warn(\n",
      "C:\\Users\\andre\\Desktop\\W.O.R.K\\Eskwelabs\\venv\\lib\\site-packages\\sklearn\\base.py:441: UserWarning: X does not have valid feature names, but KNeighborsClassifier was fitted with feature names\n",
      "  warnings.warn(\n",
      "C:\\Users\\andre\\Desktop\\W.O.R.K\\Eskwelabs\\venv\\lib\\site-packages\\sklearn\\base.py:441: UserWarning: X does not have valid feature names, but KNeighborsClassifier was fitted with feature names\n",
      "  warnings.warn(\n"
     ]
    },
    {
     "name": "stdout",
     "output_type": "stream",
     "text": [
      "DONE!\n",
      "Fitting KNN with K=7 ..."
     ]
    },
    {
     "name": "stderr",
     "output_type": "stream",
     "text": [
      "C:\\Users\\andre\\Desktop\\W.O.R.K\\Eskwelabs\\venv\\lib\\site-packages\\sklearn\\base.py:441: UserWarning: X does not have valid feature names, but KNeighborsClassifier was fitted with feature names\n",
      "  warnings.warn(\n",
      "C:\\Users\\andre\\Desktop\\W.O.R.K\\Eskwelabs\\venv\\lib\\site-packages\\sklearn\\base.py:441: UserWarning: X does not have valid feature names, but KNeighborsClassifier was fitted with feature names\n",
      "  warnings.warn(\n",
      "C:\\Users\\andre\\Desktop\\W.O.R.K\\Eskwelabs\\venv\\lib\\site-packages\\sklearn\\base.py:441: UserWarning: X does not have valid feature names, but KNeighborsClassifier was fitted with feature names\n",
      "  warnings.warn(\n",
      "C:\\Users\\andre\\Desktop\\W.O.R.K\\Eskwelabs\\venv\\lib\\site-packages\\sklearn\\base.py:441: UserWarning: X does not have valid feature names, but KNeighborsClassifier was fitted with feature names\n",
      "  warnings.warn(\n"
     ]
    },
    {
     "name": "stdout",
     "output_type": "stream",
     "text": [
      "DONE!\n",
      "Fitting KNN with K=8 ..."
     ]
    },
    {
     "name": "stderr",
     "output_type": "stream",
     "text": [
      "C:\\Users\\andre\\Desktop\\W.O.R.K\\Eskwelabs\\venv\\lib\\site-packages\\sklearn\\base.py:441: UserWarning: X does not have valid feature names, but KNeighborsClassifier was fitted with feature names\n",
      "  warnings.warn(\n",
      "C:\\Users\\andre\\Desktop\\W.O.R.K\\Eskwelabs\\venv\\lib\\site-packages\\sklearn\\base.py:441: UserWarning: X does not have valid feature names, but KNeighborsClassifier was fitted with feature names\n",
      "  warnings.warn(\n",
      "C:\\Users\\andre\\Desktop\\W.O.R.K\\Eskwelabs\\venv\\lib\\site-packages\\sklearn\\base.py:441: UserWarning: X does not have valid feature names, but KNeighborsClassifier was fitted with feature names\n",
      "  warnings.warn(\n",
      "C:\\Users\\andre\\Desktop\\W.O.R.K\\Eskwelabs\\venv\\lib\\site-packages\\sklearn\\base.py:441: UserWarning: X does not have valid feature names, but KNeighborsClassifier was fitted with feature names\n",
      "  warnings.warn(\n",
      "C:\\Users\\andre\\Desktop\\W.O.R.K\\Eskwelabs\\venv\\lib\\site-packages\\sklearn\\base.py:441: UserWarning: X does not have valid feature names, but KNeighborsClassifier was fitted with feature names\n",
      "  warnings.warn(\n",
      "C:\\Users\\andre\\Desktop\\W.O.R.K\\Eskwelabs\\venv\\lib\\site-packages\\sklearn\\base.py:441: UserWarning: X does not have valid feature names, but KNeighborsClassifier was fitted with feature names\n",
      "  warnings.warn(\n",
      "C:\\Users\\andre\\Desktop\\W.O.R.K\\Eskwelabs\\venv\\lib\\site-packages\\sklearn\\base.py:441: UserWarning: X does not have valid feature names, but KNeighborsClassifier was fitted with feature names\n",
      "  warnings.warn(\n",
      "C:\\Users\\andre\\Desktop\\W.O.R.K\\Eskwelabs\\venv\\lib\\site-packages\\sklearn\\base.py:441: UserWarning: X does not have valid feature names, but KNeighborsClassifier was fitted with feature names\n",
      "  warnings.warn(\n"
     ]
    },
    {
     "name": "stdout",
     "output_type": "stream",
     "text": [
      "DONE!\n",
      "Fitting KNN with K=9 ...DONE!\n",
      "Fitting KNN with K=10 ..."
     ]
    },
    {
     "name": "stderr",
     "output_type": "stream",
     "text": [
      "C:\\Users\\andre\\Desktop\\W.O.R.K\\Eskwelabs\\venv\\lib\\site-packages\\sklearn\\base.py:441: UserWarning: X does not have valid feature names, but KNeighborsClassifier was fitted with feature names\n",
      "  warnings.warn(\n",
      "C:\\Users\\andre\\Desktop\\W.O.R.K\\Eskwelabs\\venv\\lib\\site-packages\\sklearn\\base.py:441: UserWarning: X does not have valid feature names, but KNeighborsClassifier was fitted with feature names\n",
      "  warnings.warn(\n",
      "C:\\Users\\andre\\Desktop\\W.O.R.K\\Eskwelabs\\venv\\lib\\site-packages\\sklearn\\base.py:441: UserWarning: X does not have valid feature names, but KNeighborsClassifier was fitted with feature names\n",
      "  warnings.warn(\n",
      "C:\\Users\\andre\\Desktop\\W.O.R.K\\Eskwelabs\\venv\\lib\\site-packages\\sklearn\\base.py:441: UserWarning: X does not have valid feature names, but KNeighborsClassifier was fitted with feature names\n",
      "  warnings.warn(\n"
     ]
    },
    {
     "name": "stdout",
     "output_type": "stream",
     "text": [
      "DONE!\n",
      "Fitting KNN with K=11 ...DONE!\n",
      "Fitting KNN with K=12 ..."
     ]
    },
    {
     "name": "stderr",
     "output_type": "stream",
     "text": [
      "C:\\Users\\andre\\Desktop\\W.O.R.K\\Eskwelabs\\venv\\lib\\site-packages\\sklearn\\base.py:441: UserWarning: X does not have valid feature names, but KNeighborsClassifier was fitted with feature names\n",
      "  warnings.warn(\n",
      "C:\\Users\\andre\\Desktop\\W.O.R.K\\Eskwelabs\\venv\\lib\\site-packages\\sklearn\\base.py:441: UserWarning: X does not have valid feature names, but KNeighborsClassifier was fitted with feature names\n",
      "  warnings.warn(\n",
      "C:\\Users\\andre\\Desktop\\W.O.R.K\\Eskwelabs\\venv\\lib\\site-packages\\sklearn\\base.py:441: UserWarning: X does not have valid feature names, but KNeighborsClassifier was fitted with feature names\n",
      "  warnings.warn(\n",
      "C:\\Users\\andre\\Desktop\\W.O.R.K\\Eskwelabs\\venv\\lib\\site-packages\\sklearn\\base.py:441: UserWarning: X does not have valid feature names, but KNeighborsClassifier was fitted with feature names\n",
      "  warnings.warn(\n",
      "C:\\Users\\andre\\Desktop\\W.O.R.K\\Eskwelabs\\venv\\lib\\site-packages\\sklearn\\base.py:441: UserWarning: X does not have valid feature names, but KNeighborsClassifier was fitted with feature names\n",
      "  warnings.warn(\n",
      "C:\\Users\\andre\\Desktop\\W.O.R.K\\Eskwelabs\\venv\\lib\\site-packages\\sklearn\\base.py:441: UserWarning: X does not have valid feature names, but KNeighborsClassifier was fitted with feature names\n",
      "  warnings.warn(\n",
      "C:\\Users\\andre\\Desktop\\W.O.R.K\\Eskwelabs\\venv\\lib\\site-packages\\sklearn\\base.py:441: UserWarning: X does not have valid feature names, but KNeighborsClassifier was fitted with feature names\n",
      "  warnings.warn(\n",
      "C:\\Users\\andre\\Desktop\\W.O.R.K\\Eskwelabs\\venv\\lib\\site-packages\\sklearn\\base.py:441: UserWarning: X does not have valid feature names, but KNeighborsClassifier was fitted with feature names\n",
      "  warnings.warn(\n",
      "C:\\Users\\andre\\Desktop\\W.O.R.K\\Eskwelabs\\venv\\lib\\site-packages\\sklearn\\base.py:441: UserWarning: X does not have valid feature names, but KNeighborsClassifier was fitted with feature names\n",
      "  warnings.warn(\n",
      "C:\\Users\\andre\\Desktop\\W.O.R.K\\Eskwelabs\\venv\\lib\\site-packages\\sklearn\\base.py:441: UserWarning: X does not have valid feature names, but KNeighborsClassifier was fitted with feature names\n",
      "  warnings.warn(\n",
      "C:\\Users\\andre\\Desktop\\W.O.R.K\\Eskwelabs\\venv\\lib\\site-packages\\sklearn\\base.py:441: UserWarning: X does not have valid feature names, but KNeighborsClassifier was fitted with feature names\n",
      "  warnings.warn(\n",
      "C:\\Users\\andre\\Desktop\\W.O.R.K\\Eskwelabs\\venv\\lib\\site-packages\\sklearn\\base.py:441: UserWarning: X does not have valid feature names, but KNeighborsClassifier was fitted with feature names\n",
      "  warnings.warn(\n",
      "C:\\Users\\andre\\Desktop\\W.O.R.K\\Eskwelabs\\venv\\lib\\site-packages\\sklearn\\base.py:441: UserWarning: X does not have valid feature names, but KNeighborsClassifier was fitted with feature names\n",
      "  warnings.warn(\n"
     ]
    },
    {
     "name": "stdout",
     "output_type": "stream",
     "text": [
      "DONE!\n",
      "Fitting KNN with K=13 ...DONE!\n",
      "Fitting KNN with K=14 ..."
     ]
    },
    {
     "name": "stderr",
     "output_type": "stream",
     "text": [
      "C:\\Users\\andre\\Desktop\\W.O.R.K\\Eskwelabs\\venv\\lib\\site-packages\\sklearn\\base.py:441: UserWarning: X does not have valid feature names, but KNeighborsClassifier was fitted with feature names\n",
      "  warnings.warn(\n",
      "C:\\Users\\andre\\Desktop\\W.O.R.K\\Eskwelabs\\venv\\lib\\site-packages\\sklearn\\base.py:441: UserWarning: X does not have valid feature names, but KNeighborsClassifier was fitted with feature names\n",
      "  warnings.warn(\n",
      "C:\\Users\\andre\\Desktop\\W.O.R.K\\Eskwelabs\\venv\\lib\\site-packages\\sklearn\\base.py:441: UserWarning: X does not have valid feature names, but KNeighborsClassifier was fitted with feature names\n",
      "  warnings.warn(\n",
      "C:\\Users\\andre\\Desktop\\W.O.R.K\\Eskwelabs\\venv\\lib\\site-packages\\sklearn\\base.py:441: UserWarning: X does not have valid feature names, but KNeighborsClassifier was fitted with feature names\n",
      "  warnings.warn(\n",
      "C:\\Users\\andre\\Desktop\\W.O.R.K\\Eskwelabs\\venv\\lib\\site-packages\\sklearn\\base.py:441: UserWarning: X does not have valid feature names, but KNeighborsClassifier was fitted with feature names\n",
      "  warnings.warn(\n",
      "C:\\Users\\andre\\Desktop\\W.O.R.K\\Eskwelabs\\venv\\lib\\site-packages\\sklearn\\base.py:441: UserWarning: X does not have valid feature names, but KNeighborsClassifier was fitted with feature names\n",
      "  warnings.warn(\n",
      "C:\\Users\\andre\\Desktop\\W.O.R.K\\Eskwelabs\\venv\\lib\\site-packages\\sklearn\\base.py:441: UserWarning: X does not have valid feature names, but KNeighborsClassifier was fitted with feature names\n",
      "  warnings.warn(\n"
     ]
    },
    {
     "name": "stdout",
     "output_type": "stream",
     "text": [
      "DONE!\n",
      "Fitting KNN with K=15 ...DONE!\n",
      "Fitting KNN with K=16 ..."
     ]
    },
    {
     "name": "stderr",
     "output_type": "stream",
     "text": [
      "C:\\Users\\andre\\Desktop\\W.O.R.K\\Eskwelabs\\venv\\lib\\site-packages\\sklearn\\base.py:441: UserWarning: X does not have valid feature names, but KNeighborsClassifier was fitted with feature names\n",
      "  warnings.warn(\n",
      "C:\\Users\\andre\\Desktop\\W.O.R.K\\Eskwelabs\\venv\\lib\\site-packages\\sklearn\\base.py:441: UserWarning: X does not have valid feature names, but KNeighborsClassifier was fitted with feature names\n",
      "  warnings.warn(\n",
      "C:\\Users\\andre\\Desktop\\W.O.R.K\\Eskwelabs\\venv\\lib\\site-packages\\sklearn\\base.py:441: UserWarning: X does not have valid feature names, but KNeighborsClassifier was fitted with feature names\n",
      "  warnings.warn(\n",
      "C:\\Users\\andre\\Desktop\\W.O.R.K\\Eskwelabs\\venv\\lib\\site-packages\\sklearn\\base.py:441: UserWarning: X does not have valid feature names, but KNeighborsClassifier was fitted with feature names\n",
      "  warnings.warn(\n",
      "C:\\Users\\andre\\Desktop\\W.O.R.K\\Eskwelabs\\venv\\lib\\site-packages\\sklearn\\base.py:441: UserWarning: X does not have valid feature names, but KNeighborsClassifier was fitted with feature names\n",
      "  warnings.warn(\n",
      "C:\\Users\\andre\\Desktop\\W.O.R.K\\Eskwelabs\\venv\\lib\\site-packages\\sklearn\\base.py:441: UserWarning: X does not have valid feature names, but KNeighborsClassifier was fitted with feature names\n",
      "  warnings.warn(\n",
      "C:\\Users\\andre\\Desktop\\W.O.R.K\\Eskwelabs\\venv\\lib\\site-packages\\sklearn\\base.py:441: UserWarning: X does not have valid feature names, but KNeighborsClassifier was fitted with feature names\n",
      "  warnings.warn(\n",
      "C:\\Users\\andre\\Desktop\\W.O.R.K\\Eskwelabs\\venv\\lib\\site-packages\\sklearn\\base.py:441: UserWarning: X does not have valid feature names, but KNeighborsClassifier was fitted with feature names\n",
      "  warnings.warn(\n",
      "C:\\Users\\andre\\Desktop\\W.O.R.K\\Eskwelabs\\venv\\lib\\site-packages\\sklearn\\base.py:441: UserWarning: X does not have valid feature names, but KNeighborsClassifier was fitted with feature names\n",
      "  warnings.warn(\n",
      "C:\\Users\\andre\\Desktop\\W.O.R.K\\Eskwelabs\\venv\\lib\\site-packages\\sklearn\\base.py:441: UserWarning: X does not have valid feature names, but KNeighborsClassifier was fitted with feature names\n",
      "  warnings.warn(\n",
      "C:\\Users\\andre\\Desktop\\W.O.R.K\\Eskwelabs\\venv\\lib\\site-packages\\sklearn\\base.py:441: UserWarning: X does not have valid feature names, but KNeighborsClassifier was fitted with feature names\n",
      "  warnings.warn(\n"
     ]
    },
    {
     "name": "stdout",
     "output_type": "stream",
     "text": [
      "DONE!\n",
      "Fitting KNN with K=17 ...DONE!\n",
      "Fitting KNN with K=18 ..."
     ]
    },
    {
     "name": "stderr",
     "output_type": "stream",
     "text": [
      "C:\\Users\\andre\\Desktop\\W.O.R.K\\Eskwelabs\\venv\\lib\\site-packages\\sklearn\\base.py:441: UserWarning: X does not have valid feature names, but KNeighborsClassifier was fitted with feature names\n",
      "  warnings.warn(\n",
      "C:\\Users\\andre\\Desktop\\W.O.R.K\\Eskwelabs\\venv\\lib\\site-packages\\sklearn\\base.py:441: UserWarning: X does not have valid feature names, but KNeighborsClassifier was fitted with feature names\n",
      "  warnings.warn(\n",
      "C:\\Users\\andre\\Desktop\\W.O.R.K\\Eskwelabs\\venv\\lib\\site-packages\\sklearn\\base.py:441: UserWarning: X does not have valid feature names, but KNeighborsClassifier was fitted with feature names\n",
      "  warnings.warn(\n",
      "C:\\Users\\andre\\Desktop\\W.O.R.K\\Eskwelabs\\venv\\lib\\site-packages\\sklearn\\base.py:441: UserWarning: X does not have valid feature names, but KNeighborsClassifier was fitted with feature names\n",
      "  warnings.warn(\n",
      "C:\\Users\\andre\\Desktop\\W.O.R.K\\Eskwelabs\\venv\\lib\\site-packages\\sklearn\\base.py:441: UserWarning: X does not have valid feature names, but KNeighborsClassifier was fitted with feature names\n",
      "  warnings.warn(\n",
      "C:\\Users\\andre\\Desktop\\W.O.R.K\\Eskwelabs\\venv\\lib\\site-packages\\sklearn\\base.py:441: UserWarning: X does not have valid feature names, but KNeighborsClassifier was fitted with feature names\n",
      "  warnings.warn(\n",
      "C:\\Users\\andre\\Desktop\\W.O.R.K\\Eskwelabs\\venv\\lib\\site-packages\\sklearn\\base.py:441: UserWarning: X does not have valid feature names, but KNeighborsClassifier was fitted with feature names\n",
      "  warnings.warn(\n",
      "C:\\Users\\andre\\Desktop\\W.O.R.K\\Eskwelabs\\venv\\lib\\site-packages\\sklearn\\base.py:441: UserWarning: X does not have valid feature names, but KNeighborsClassifier was fitted with feature names\n",
      "  warnings.warn(\n",
      "C:\\Users\\andre\\Desktop\\W.O.R.K\\Eskwelabs\\venv\\lib\\site-packages\\sklearn\\base.py:441: UserWarning: X does not have valid feature names, but KNeighborsClassifier was fitted with feature names\n",
      "  warnings.warn(\n",
      "C:\\Users\\andre\\Desktop\\W.O.R.K\\Eskwelabs\\venv\\lib\\site-packages\\sklearn\\base.py:441: UserWarning: X does not have valid feature names, but KNeighborsClassifier was fitted with feature names\n",
      "  warnings.warn(\n",
      "C:\\Users\\andre\\Desktop\\W.O.R.K\\Eskwelabs\\venv\\lib\\site-packages\\sklearn\\base.py:441: UserWarning: X does not have valid feature names, but KNeighborsClassifier was fitted with feature names\n",
      "  warnings.warn(\n",
      "C:\\Users\\andre\\Desktop\\W.O.R.K\\Eskwelabs\\venv\\lib\\site-packages\\sklearn\\base.py:441: UserWarning: X does not have valid feature names, but KNeighborsClassifier was fitted with feature names\n",
      "  warnings.warn(\n",
      "C:\\Users\\andre\\Desktop\\W.O.R.K\\Eskwelabs\\venv\\lib\\site-packages\\sklearn\\base.py:441: UserWarning: X does not have valid feature names, but KNeighborsClassifier was fitted with feature names\n",
      "  warnings.warn(\n",
      "C:\\Users\\andre\\Desktop\\W.O.R.K\\Eskwelabs\\venv\\lib\\site-packages\\sklearn\\base.py:441: UserWarning: X does not have valid feature names, but KNeighborsClassifier was fitted with feature names\n",
      "  warnings.warn(\n"
     ]
    },
    {
     "name": "stdout",
     "output_type": "stream",
     "text": [
      "DONE!\n",
      "Fitting KNN with K=19 ...DONE!\n",
      "Fitting KNN with K=20 ..."
     ]
    },
    {
     "name": "stderr",
     "output_type": "stream",
     "text": [
      "C:\\Users\\andre\\Desktop\\W.O.R.K\\Eskwelabs\\venv\\lib\\site-packages\\sklearn\\base.py:441: UserWarning: X does not have valid feature names, but KNeighborsClassifier was fitted with feature names\n",
      "  warnings.warn(\n",
      "C:\\Users\\andre\\Desktop\\W.O.R.K\\Eskwelabs\\venv\\lib\\site-packages\\sklearn\\base.py:441: UserWarning: X does not have valid feature names, but KNeighborsClassifier was fitted with feature names\n",
      "  warnings.warn(\n",
      "C:\\Users\\andre\\Desktop\\W.O.R.K\\Eskwelabs\\venv\\lib\\site-packages\\sklearn\\base.py:441: UserWarning: X does not have valid feature names, but KNeighborsClassifier was fitted with feature names\n",
      "  warnings.warn(\n",
      "C:\\Users\\andre\\Desktop\\W.O.R.K\\Eskwelabs\\venv\\lib\\site-packages\\sklearn\\base.py:441: UserWarning: X does not have valid feature names, but KNeighborsClassifier was fitted with feature names\n",
      "  warnings.warn(\n",
      "C:\\Users\\andre\\Desktop\\W.O.R.K\\Eskwelabs\\venv\\lib\\site-packages\\sklearn\\base.py:441: UserWarning: X does not have valid feature names, but KNeighborsClassifier was fitted with feature names\n",
      "  warnings.warn(\n"
     ]
    },
    {
     "name": "stdout",
     "output_type": "stream",
     "text": [
      "DONE!\n",
      "Fitting KNN with K=21 ...DONE!\n",
      "Fitting KNN with K=22 ..."
     ]
    },
    {
     "name": "stderr",
     "output_type": "stream",
     "text": [
      "C:\\Users\\andre\\Desktop\\W.O.R.K\\Eskwelabs\\venv\\lib\\site-packages\\sklearn\\base.py:441: UserWarning: X does not have valid feature names, but KNeighborsClassifier was fitted with feature names\n",
      "  warnings.warn(\n",
      "C:\\Users\\andre\\Desktop\\W.O.R.K\\Eskwelabs\\venv\\lib\\site-packages\\sklearn\\base.py:441: UserWarning: X does not have valid feature names, but KNeighborsClassifier was fitted with feature names\n",
      "  warnings.warn(\n",
      "C:\\Users\\andre\\Desktop\\W.O.R.K\\Eskwelabs\\venv\\lib\\site-packages\\sklearn\\base.py:441: UserWarning: X does not have valid feature names, but KNeighborsClassifier was fitted with feature names\n",
      "  warnings.warn(\n",
      "C:\\Users\\andre\\Desktop\\W.O.R.K\\Eskwelabs\\venv\\lib\\site-packages\\sklearn\\base.py:441: UserWarning: X does not have valid feature names, but KNeighborsClassifier was fitted with feature names\n",
      "  warnings.warn(\n",
      "C:\\Users\\andre\\Desktop\\W.O.R.K\\Eskwelabs\\venv\\lib\\site-packages\\sklearn\\base.py:441: UserWarning: X does not have valid feature names, but KNeighborsClassifier was fitted with feature names\n",
      "  warnings.warn(\n",
      "C:\\Users\\andre\\Desktop\\W.O.R.K\\Eskwelabs\\venv\\lib\\site-packages\\sklearn\\base.py:441: UserWarning: X does not have valid feature names, but KNeighborsClassifier was fitted with feature names\n",
      "  warnings.warn(\n",
      "C:\\Users\\andre\\Desktop\\W.O.R.K\\Eskwelabs\\venv\\lib\\site-packages\\sklearn\\base.py:441: UserWarning: X does not have valid feature names, but KNeighborsClassifier was fitted with feature names\n",
      "  warnings.warn(\n",
      "C:\\Users\\andre\\Desktop\\W.O.R.K\\Eskwelabs\\venv\\lib\\site-packages\\sklearn\\base.py:441: UserWarning: X does not have valid feature names, but KNeighborsClassifier was fitted with feature names\n",
      "  warnings.warn(\n",
      "C:\\Users\\andre\\Desktop\\W.O.R.K\\Eskwelabs\\venv\\lib\\site-packages\\sklearn\\base.py:441: UserWarning: X does not have valid feature names, but KNeighborsClassifier was fitted with feature names\n",
      "  warnings.warn(\n",
      "C:\\Users\\andre\\Desktop\\W.O.R.K\\Eskwelabs\\venv\\lib\\site-packages\\sklearn\\base.py:441: UserWarning: X does not have valid feature names, but KNeighborsClassifier was fitted with feature names\n",
      "  warnings.warn(\n",
      "C:\\Users\\andre\\Desktop\\W.O.R.K\\Eskwelabs\\venv\\lib\\site-packages\\sklearn\\base.py:441: UserWarning: X does not have valid feature names, but KNeighborsClassifier was fitted with feature names\n",
      "  warnings.warn(\n",
      "C:\\Users\\andre\\Desktop\\W.O.R.K\\Eskwelabs\\venv\\lib\\site-packages\\sklearn\\base.py:441: UserWarning: X does not have valid feature names, but KNeighborsClassifier was fitted with feature names\n",
      "  warnings.warn(\n",
      "C:\\Users\\andre\\Desktop\\W.O.R.K\\Eskwelabs\\venv\\lib\\site-packages\\sklearn\\base.py:441: UserWarning: X does not have valid feature names, but KNeighborsClassifier was fitted with feature names\n",
      "  warnings.warn(\n"
     ]
    },
    {
     "name": "stdout",
     "output_type": "stream",
     "text": [
      "DONE!\n",
      "Fitting KNN with K=23 ...DONE!\n",
      "Fitting KNN with K=24 ..."
     ]
    },
    {
     "name": "stderr",
     "output_type": "stream",
     "text": [
      "C:\\Users\\andre\\Desktop\\W.O.R.K\\Eskwelabs\\venv\\lib\\site-packages\\sklearn\\base.py:441: UserWarning: X does not have valid feature names, but KNeighborsClassifier was fitted with feature names\n",
      "  warnings.warn(\n",
      "C:\\Users\\andre\\Desktop\\W.O.R.K\\Eskwelabs\\venv\\lib\\site-packages\\sklearn\\base.py:441: UserWarning: X does not have valid feature names, but KNeighborsClassifier was fitted with feature names\n",
      "  warnings.warn(\n",
      "C:\\Users\\andre\\Desktop\\W.O.R.K\\Eskwelabs\\venv\\lib\\site-packages\\sklearn\\base.py:441: UserWarning: X does not have valid feature names, but KNeighborsClassifier was fitted with feature names\n",
      "  warnings.warn(\n",
      "C:\\Users\\andre\\Desktop\\W.O.R.K\\Eskwelabs\\venv\\lib\\site-packages\\sklearn\\base.py:441: UserWarning: X does not have valid feature names, but KNeighborsClassifier was fitted with feature names\n",
      "  warnings.warn(\n",
      "C:\\Users\\andre\\Desktop\\W.O.R.K\\Eskwelabs\\venv\\lib\\site-packages\\sklearn\\base.py:441: UserWarning: X does not have valid feature names, but KNeighborsClassifier was fitted with feature names\n",
      "  warnings.warn(\n",
      "C:\\Users\\andre\\Desktop\\W.O.R.K\\Eskwelabs\\venv\\lib\\site-packages\\sklearn\\base.py:441: UserWarning: X does not have valid feature names, but KNeighborsClassifier was fitted with feature names\n",
      "  warnings.warn(\n",
      "C:\\Users\\andre\\Desktop\\W.O.R.K\\Eskwelabs\\venv\\lib\\site-packages\\sklearn\\base.py:441: UserWarning: X does not have valid feature names, but KNeighborsClassifier was fitted with feature names\n",
      "  warnings.warn(\n",
      "C:\\Users\\andre\\Desktop\\W.O.R.K\\Eskwelabs\\venv\\lib\\site-packages\\sklearn\\base.py:441: UserWarning: X does not have valid feature names, but KNeighborsClassifier was fitted with feature names\n",
      "  warnings.warn(\n",
      "C:\\Users\\andre\\Desktop\\W.O.R.K\\Eskwelabs\\venv\\lib\\site-packages\\sklearn\\base.py:441: UserWarning: X does not have valid feature names, but KNeighborsClassifier was fitted with feature names\n",
      "  warnings.warn(\n",
      "C:\\Users\\andre\\Desktop\\W.O.R.K\\Eskwelabs\\venv\\lib\\site-packages\\sklearn\\base.py:441: UserWarning: X does not have valid feature names, but KNeighborsClassifier was fitted with feature names\n",
      "  warnings.warn(\n",
      "C:\\Users\\andre\\Desktop\\W.O.R.K\\Eskwelabs\\venv\\lib\\site-packages\\sklearn\\base.py:441: UserWarning: X does not have valid feature names, but KNeighborsClassifier was fitted with feature names\n",
      "  warnings.warn(\n"
     ]
    },
    {
     "name": "stdout",
     "output_type": "stream",
     "text": [
      "DONE!\n",
      "Fitting KNN with K=25 ..."
     ]
    },
    {
     "name": "stderr",
     "output_type": "stream",
     "text": [
      "C:\\Users\\andre\\Desktop\\W.O.R.K\\Eskwelabs\\venv\\lib\\site-packages\\sklearn\\base.py:441: UserWarning: X does not have valid feature names, but KNeighborsClassifier was fitted with feature names\n",
      "  warnings.warn(\n",
      "C:\\Users\\andre\\Desktop\\W.O.R.K\\Eskwelabs\\venv\\lib\\site-packages\\sklearn\\base.py:441: UserWarning: X does not have valid feature names, but KNeighborsClassifier was fitted with feature names\n",
      "  warnings.warn(\n",
      "C:\\Users\\andre\\Desktop\\W.O.R.K\\Eskwelabs\\venv\\lib\\site-packages\\sklearn\\base.py:441: UserWarning: X does not have valid feature names, but KNeighborsClassifier was fitted with feature names\n",
      "  warnings.warn(\n",
      "C:\\Users\\andre\\Desktop\\W.O.R.K\\Eskwelabs\\venv\\lib\\site-packages\\sklearn\\base.py:441: UserWarning: X does not have valid feature names, but KNeighborsClassifier was fitted with feature names\n",
      "  warnings.warn(\n",
      "C:\\Users\\andre\\Desktop\\W.O.R.K\\Eskwelabs\\venv\\lib\\site-packages\\sklearn\\base.py:441: UserWarning: X does not have valid feature names, but KNeighborsClassifier was fitted with feature names\n",
      "  warnings.warn(\n"
     ]
    },
    {
     "name": "stdout",
     "output_type": "stream",
     "text": [
      "DONE!\n",
      "Fitting KNN with K=26 ..."
     ]
    },
    {
     "name": "stderr",
     "output_type": "stream",
     "text": [
      "C:\\Users\\andre\\Desktop\\W.O.R.K\\Eskwelabs\\venv\\lib\\site-packages\\sklearn\\base.py:441: UserWarning: X does not have valid feature names, but KNeighborsClassifier was fitted with feature names\n",
      "  warnings.warn(\n",
      "C:\\Users\\andre\\Desktop\\W.O.R.K\\Eskwelabs\\venv\\lib\\site-packages\\sklearn\\base.py:441: UserWarning: X does not have valid feature names, but KNeighborsClassifier was fitted with feature names\n",
      "  warnings.warn(\n",
      "C:\\Users\\andre\\Desktop\\W.O.R.K\\Eskwelabs\\venv\\lib\\site-packages\\sklearn\\base.py:441: UserWarning: X does not have valid feature names, but KNeighborsClassifier was fitted with feature names\n",
      "  warnings.warn(\n",
      "C:\\Users\\andre\\Desktop\\W.O.R.K\\Eskwelabs\\venv\\lib\\site-packages\\sklearn\\base.py:441: UserWarning: X does not have valid feature names, but KNeighborsClassifier was fitted with feature names\n",
      "  warnings.warn(\n"
     ]
    },
    {
     "name": "stdout",
     "output_type": "stream",
     "text": [
      "DONE!\n",
      "Fitting KNN with K=27 ..."
     ]
    },
    {
     "name": "stderr",
     "output_type": "stream",
     "text": [
      "C:\\Users\\andre\\Desktop\\W.O.R.K\\Eskwelabs\\venv\\lib\\site-packages\\sklearn\\base.py:441: UserWarning: X does not have valid feature names, but KNeighborsClassifier was fitted with feature names\n",
      "  warnings.warn(\n",
      "C:\\Users\\andre\\Desktop\\W.O.R.K\\Eskwelabs\\venv\\lib\\site-packages\\sklearn\\base.py:441: UserWarning: X does not have valid feature names, but KNeighborsClassifier was fitted with feature names\n",
      "  warnings.warn(\n",
      "C:\\Users\\andre\\Desktop\\W.O.R.K\\Eskwelabs\\venv\\lib\\site-packages\\sklearn\\base.py:441: UserWarning: X does not have valid feature names, but KNeighborsClassifier was fitted with feature names\n",
      "  warnings.warn(\n",
      "C:\\Users\\andre\\Desktop\\W.O.R.K\\Eskwelabs\\venv\\lib\\site-packages\\sklearn\\base.py:441: UserWarning: X does not have valid feature names, but KNeighborsClassifier was fitted with feature names\n",
      "  warnings.warn(\n",
      "C:\\Users\\andre\\Desktop\\W.O.R.K\\Eskwelabs\\venv\\lib\\site-packages\\sklearn\\base.py:441: UserWarning: X does not have valid feature names, but KNeighborsClassifier was fitted with feature names\n",
      "  warnings.warn(\n",
      "C:\\Users\\andre\\Desktop\\W.O.R.K\\Eskwelabs\\venv\\lib\\site-packages\\sklearn\\base.py:441: UserWarning: X does not have valid feature names, but KNeighborsClassifier was fitted with feature names\n",
      "  warnings.warn(\n"
     ]
    },
    {
     "name": "stdout",
     "output_type": "stream",
     "text": [
      "DONE!\n",
      "Fitting KNN with K=28 ...DONE!\n",
      "Fitting KNN with K=29 ..."
     ]
    },
    {
     "name": "stderr",
     "output_type": "stream",
     "text": [
      "C:\\Users\\andre\\Desktop\\W.O.R.K\\Eskwelabs\\venv\\lib\\site-packages\\sklearn\\base.py:441: UserWarning: X does not have valid feature names, but KNeighborsClassifier was fitted with feature names\n",
      "  warnings.warn(\n",
      "C:\\Users\\andre\\Desktop\\W.O.R.K\\Eskwelabs\\venv\\lib\\site-packages\\sklearn\\base.py:441: UserWarning: X does not have valid feature names, but KNeighborsClassifier was fitted with feature names\n",
      "  warnings.warn(\n",
      "C:\\Users\\andre\\Desktop\\W.O.R.K\\Eskwelabs\\venv\\lib\\site-packages\\sklearn\\base.py:441: UserWarning: X does not have valid feature names, but KNeighborsClassifier was fitted with feature names\n",
      "  warnings.warn(\n",
      "C:\\Users\\andre\\Desktop\\W.O.R.K\\Eskwelabs\\venv\\lib\\site-packages\\sklearn\\base.py:441: UserWarning: X does not have valid feature names, but KNeighborsClassifier was fitted with feature names\n",
      "  warnings.warn(\n",
      "C:\\Users\\andre\\Desktop\\W.O.R.K\\Eskwelabs\\venv\\lib\\site-packages\\sklearn\\base.py:441: UserWarning: X does not have valid feature names, but KNeighborsClassifier was fitted with feature names\n",
      "  warnings.warn(\n",
      "C:\\Users\\andre\\Desktop\\W.O.R.K\\Eskwelabs\\venv\\lib\\site-packages\\sklearn\\base.py:441: UserWarning: X does not have valid feature names, but KNeighborsClassifier was fitted with feature names\n",
      "  warnings.warn(\n",
      "C:\\Users\\andre\\Desktop\\W.O.R.K\\Eskwelabs\\venv\\lib\\site-packages\\sklearn\\base.py:441: UserWarning: X does not have valid feature names, but KNeighborsClassifier was fitted with feature names\n",
      "  warnings.warn(\n",
      "C:\\Users\\andre\\Desktop\\W.O.R.K\\Eskwelabs\\venv\\lib\\site-packages\\sklearn\\base.py:441: UserWarning: X does not have valid feature names, but KNeighborsClassifier was fitted with feature names\n",
      "  warnings.warn(\n",
      "C:\\Users\\andre\\Desktop\\W.O.R.K\\Eskwelabs\\venv\\lib\\site-packages\\sklearn\\base.py:441: UserWarning: X does not have valid feature names, but KNeighborsClassifier was fitted with feature names\n",
      "  warnings.warn(\n",
      "C:\\Users\\andre\\Desktop\\W.O.R.K\\Eskwelabs\\venv\\lib\\site-packages\\sklearn\\base.py:441: UserWarning: X does not have valid feature names, but KNeighborsClassifier was fitted with feature names\n",
      "  warnings.warn(\n",
      "C:\\Users\\andre\\Desktop\\W.O.R.K\\Eskwelabs\\venv\\lib\\site-packages\\sklearn\\base.py:441: UserWarning: X does not have valid feature names, but KNeighborsClassifier was fitted with feature names\n",
      "  warnings.warn(\n"
     ]
    },
    {
     "name": "stdout",
     "output_type": "stream",
     "text": [
      "DONE!\n",
      "Fitting KNN with K=30 ...DONE!\n",
      "Fitting KNN with K=31 ..."
     ]
    },
    {
     "name": "stderr",
     "output_type": "stream",
     "text": [
      "C:\\Users\\andre\\Desktop\\W.O.R.K\\Eskwelabs\\venv\\lib\\site-packages\\sklearn\\base.py:441: UserWarning: X does not have valid feature names, but KNeighborsClassifier was fitted with feature names\n",
      "  warnings.warn(\n",
      "C:\\Users\\andre\\Desktop\\W.O.R.K\\Eskwelabs\\venv\\lib\\site-packages\\sklearn\\base.py:441: UserWarning: X does not have valid feature names, but KNeighborsClassifier was fitted with feature names\n",
      "  warnings.warn(\n",
      "C:\\Users\\andre\\Desktop\\W.O.R.K\\Eskwelabs\\venv\\lib\\site-packages\\sklearn\\base.py:441: UserWarning: X does not have valid feature names, but KNeighborsClassifier was fitted with feature names\n",
      "  warnings.warn(\n",
      "C:\\Users\\andre\\Desktop\\W.O.R.K\\Eskwelabs\\venv\\lib\\site-packages\\sklearn\\base.py:441: UserWarning: X does not have valid feature names, but KNeighborsClassifier was fitted with feature names\n",
      "  warnings.warn(\n",
      "C:\\Users\\andre\\Desktop\\W.O.R.K\\Eskwelabs\\venv\\lib\\site-packages\\sklearn\\base.py:441: UserWarning: X does not have valid feature names, but KNeighborsClassifier was fitted with feature names\n",
      "  warnings.warn(\n",
      "C:\\Users\\andre\\Desktop\\W.O.R.K\\Eskwelabs\\venv\\lib\\site-packages\\sklearn\\base.py:441: UserWarning: X does not have valid feature names, but KNeighborsClassifier was fitted with feature names\n",
      "  warnings.warn(\n",
      "C:\\Users\\andre\\Desktop\\W.O.R.K\\Eskwelabs\\venv\\lib\\site-packages\\sklearn\\base.py:441: UserWarning: X does not have valid feature names, but KNeighborsClassifier was fitted with feature names\n",
      "  warnings.warn(\n"
     ]
    },
    {
     "name": "stdout",
     "output_type": "stream",
     "text": [
      "DONE!\n",
      "Fitting KNN with K=32 ...DONE!\n",
      "Fitting KNN with K=33 ..."
     ]
    },
    {
     "name": "stderr",
     "output_type": "stream",
     "text": [
      "C:\\Users\\andre\\Desktop\\W.O.R.K\\Eskwelabs\\venv\\lib\\site-packages\\sklearn\\base.py:441: UserWarning: X does not have valid feature names, but KNeighborsClassifier was fitted with feature names\n",
      "  warnings.warn(\n",
      "C:\\Users\\andre\\Desktop\\W.O.R.K\\Eskwelabs\\venv\\lib\\site-packages\\sklearn\\base.py:441: UserWarning: X does not have valid feature names, but KNeighborsClassifier was fitted with feature names\n",
      "  warnings.warn(\n",
      "C:\\Users\\andre\\Desktop\\W.O.R.K\\Eskwelabs\\venv\\lib\\site-packages\\sklearn\\base.py:441: UserWarning: X does not have valid feature names, but KNeighborsClassifier was fitted with feature names\n",
      "  warnings.warn(\n",
      "C:\\Users\\andre\\Desktop\\W.O.R.K\\Eskwelabs\\venv\\lib\\site-packages\\sklearn\\base.py:441: UserWarning: X does not have valid feature names, but KNeighborsClassifier was fitted with feature names\n",
      "  warnings.warn(\n",
      "C:\\Users\\andre\\Desktop\\W.O.R.K\\Eskwelabs\\venv\\lib\\site-packages\\sklearn\\base.py:441: UserWarning: X does not have valid feature names, but KNeighborsClassifier was fitted with feature names\n",
      "  warnings.warn(\n",
      "C:\\Users\\andre\\Desktop\\W.O.R.K\\Eskwelabs\\venv\\lib\\site-packages\\sklearn\\base.py:441: UserWarning: X does not have valid feature names, but KNeighborsClassifier was fitted with feature names\n",
      "  warnings.warn(\n",
      "C:\\Users\\andre\\Desktop\\W.O.R.K\\Eskwelabs\\venv\\lib\\site-packages\\sklearn\\base.py:441: UserWarning: X does not have valid feature names, but KNeighborsClassifier was fitted with feature names\n",
      "  warnings.warn(\n",
      "C:\\Users\\andre\\Desktop\\W.O.R.K\\Eskwelabs\\venv\\lib\\site-packages\\sklearn\\base.py:441: UserWarning: X does not have valid feature names, but KNeighborsClassifier was fitted with feature names\n",
      "  warnings.warn(\n",
      "C:\\Users\\andre\\Desktop\\W.O.R.K\\Eskwelabs\\venv\\lib\\site-packages\\sklearn\\base.py:441: UserWarning: X does not have valid feature names, but KNeighborsClassifier was fitted with feature names\n",
      "  warnings.warn(\n",
      "C:\\Users\\andre\\Desktop\\W.O.R.K\\Eskwelabs\\venv\\lib\\site-packages\\sklearn\\base.py:441: UserWarning: X does not have valid feature names, but KNeighborsClassifier was fitted with feature names\n",
      "  warnings.warn(\n",
      "C:\\Users\\andre\\Desktop\\W.O.R.K\\Eskwelabs\\venv\\lib\\site-packages\\sklearn\\base.py:441: UserWarning: X does not have valid feature names, but KNeighborsClassifier was fitted with feature names\n",
      "  warnings.warn(\n",
      "C:\\Users\\andre\\Desktop\\W.O.R.K\\Eskwelabs\\venv\\lib\\site-packages\\sklearn\\base.py:441: UserWarning: X does not have valid feature names, but KNeighborsClassifier was fitted with feature names\n",
      "  warnings.warn(\n"
     ]
    },
    {
     "name": "stdout",
     "output_type": "stream",
     "text": [
      "DONE!\n",
      "Fitting KNN with K=34 ..."
     ]
    },
    {
     "name": "stderr",
     "output_type": "stream",
     "text": [
      "C:\\Users\\andre\\Desktop\\W.O.R.K\\Eskwelabs\\venv\\lib\\site-packages\\sklearn\\base.py:441: UserWarning: X does not have valid feature names, but KNeighborsClassifier was fitted with feature names\n",
      "  warnings.warn(\n",
      "C:\\Users\\andre\\Desktop\\W.O.R.K\\Eskwelabs\\venv\\lib\\site-packages\\sklearn\\base.py:441: UserWarning: X does not have valid feature names, but KNeighborsClassifier was fitted with feature names\n",
      "  warnings.warn(\n",
      "C:\\Users\\andre\\Desktop\\W.O.R.K\\Eskwelabs\\venv\\lib\\site-packages\\sklearn\\base.py:441: UserWarning: X does not have valid feature names, but KNeighborsClassifier was fitted with feature names\n",
      "  warnings.warn(\n",
      "C:\\Users\\andre\\Desktop\\W.O.R.K\\Eskwelabs\\venv\\lib\\site-packages\\sklearn\\base.py:441: UserWarning: X does not have valid feature names, but KNeighborsClassifier was fitted with feature names\n",
      "  warnings.warn(\n",
      "C:\\Users\\andre\\Desktop\\W.O.R.K\\Eskwelabs\\venv\\lib\\site-packages\\sklearn\\base.py:441: UserWarning: X does not have valid feature names, but KNeighborsClassifier was fitted with feature names\n",
      "  warnings.warn(\n",
      "C:\\Users\\andre\\Desktop\\W.O.R.K\\Eskwelabs\\venv\\lib\\site-packages\\sklearn\\base.py:441: UserWarning: X does not have valid feature names, but KNeighborsClassifier was fitted with feature names\n",
      "  warnings.warn(\n"
     ]
    },
    {
     "name": "stdout",
     "output_type": "stream",
     "text": [
      "DONE!\n",
      "Fitting KNN with K=35 ...DONE!\n",
      "Fitting KNN with K=36 ..."
     ]
    },
    {
     "name": "stderr",
     "output_type": "stream",
     "text": [
      "C:\\Users\\andre\\Desktop\\W.O.R.K\\Eskwelabs\\venv\\lib\\site-packages\\sklearn\\base.py:441: UserWarning: X does not have valid feature names, but KNeighborsClassifier was fitted with feature names\n",
      "  warnings.warn(\n",
      "C:\\Users\\andre\\Desktop\\W.O.R.K\\Eskwelabs\\venv\\lib\\site-packages\\sklearn\\base.py:441: UserWarning: X does not have valid feature names, but KNeighborsClassifier was fitted with feature names\n",
      "  warnings.warn(\n",
      "C:\\Users\\andre\\Desktop\\W.O.R.K\\Eskwelabs\\venv\\lib\\site-packages\\sklearn\\base.py:441: UserWarning: X does not have valid feature names, but KNeighborsClassifier was fitted with feature names\n",
      "  warnings.warn(\n",
      "C:\\Users\\andre\\Desktop\\W.O.R.K\\Eskwelabs\\venv\\lib\\site-packages\\sklearn\\base.py:441: UserWarning: X does not have valid feature names, but KNeighborsClassifier was fitted with feature names\n",
      "  warnings.warn(\n",
      "C:\\Users\\andre\\Desktop\\W.O.R.K\\Eskwelabs\\venv\\lib\\site-packages\\sklearn\\base.py:441: UserWarning: X does not have valid feature names, but KNeighborsClassifier was fitted with feature names\n",
      "  warnings.warn(\n",
      "C:\\Users\\andre\\Desktop\\W.O.R.K\\Eskwelabs\\venv\\lib\\site-packages\\sklearn\\base.py:441: UserWarning: X does not have valid feature names, but KNeighborsClassifier was fitted with feature names\n",
      "  warnings.warn(\n",
      "C:\\Users\\andre\\Desktop\\W.O.R.K\\Eskwelabs\\venv\\lib\\site-packages\\sklearn\\base.py:441: UserWarning: X does not have valid feature names, but KNeighborsClassifier was fitted with feature names\n",
      "  warnings.warn(\n"
     ]
    },
    {
     "name": "stdout",
     "output_type": "stream",
     "text": [
      "DONE!\n",
      "Fitting KNN with K=37 ...DONE!\n",
      "Fitting KNN with K=38 ..."
     ]
    },
    {
     "name": "stderr",
     "output_type": "stream",
     "text": [
      "C:\\Users\\andre\\Desktop\\W.O.R.K\\Eskwelabs\\venv\\lib\\site-packages\\sklearn\\base.py:441: UserWarning: X does not have valid feature names, but KNeighborsClassifier was fitted with feature names\n",
      "  warnings.warn(\n",
      "C:\\Users\\andre\\Desktop\\W.O.R.K\\Eskwelabs\\venv\\lib\\site-packages\\sklearn\\base.py:441: UserWarning: X does not have valid feature names, but KNeighborsClassifier was fitted with feature names\n",
      "  warnings.warn(\n",
      "C:\\Users\\andre\\Desktop\\W.O.R.K\\Eskwelabs\\venv\\lib\\site-packages\\sklearn\\base.py:441: UserWarning: X does not have valid feature names, but KNeighborsClassifier was fitted with feature names\n",
      "  warnings.warn(\n",
      "C:\\Users\\andre\\Desktop\\W.O.R.K\\Eskwelabs\\venv\\lib\\site-packages\\sklearn\\base.py:441: UserWarning: X does not have valid feature names, but KNeighborsClassifier was fitted with feature names\n",
      "  warnings.warn(\n",
      "C:\\Users\\andre\\Desktop\\W.O.R.K\\Eskwelabs\\venv\\lib\\site-packages\\sklearn\\base.py:441: UserWarning: X does not have valid feature names, but KNeighborsClassifier was fitted with feature names\n",
      "  warnings.warn(\n",
      "C:\\Users\\andre\\Desktop\\W.O.R.K\\Eskwelabs\\venv\\lib\\site-packages\\sklearn\\base.py:441: UserWarning: X does not have valid feature names, but KNeighborsClassifier was fitted with feature names\n",
      "  warnings.warn(\n",
      "C:\\Users\\andre\\Desktop\\W.O.R.K\\Eskwelabs\\venv\\lib\\site-packages\\sklearn\\base.py:441: UserWarning: X does not have valid feature names, but KNeighborsClassifier was fitted with feature names\n",
      "  warnings.warn(\n",
      "C:\\Users\\andre\\Desktop\\W.O.R.K\\Eskwelabs\\venv\\lib\\site-packages\\sklearn\\base.py:441: UserWarning: X does not have valid feature names, but KNeighborsClassifier was fitted with feature names\n",
      "  warnings.warn(\n",
      "C:\\Users\\andre\\Desktop\\W.O.R.K\\Eskwelabs\\venv\\lib\\site-packages\\sklearn\\base.py:441: UserWarning: X does not have valid feature names, but KNeighborsClassifier was fitted with feature names\n",
      "  warnings.warn(\n",
      "C:\\Users\\andre\\Desktop\\W.O.R.K\\Eskwelabs\\venv\\lib\\site-packages\\sklearn\\base.py:441: UserWarning: X does not have valid feature names, but KNeighborsClassifier was fitted with feature names\n",
      "  warnings.warn(\n",
      "C:\\Users\\andre\\Desktop\\W.O.R.K\\Eskwelabs\\venv\\lib\\site-packages\\sklearn\\base.py:441: UserWarning: X does not have valid feature names, but KNeighborsClassifier was fitted with feature names\n",
      "  warnings.warn(\n",
      "C:\\Users\\andre\\Desktop\\W.O.R.K\\Eskwelabs\\venv\\lib\\site-packages\\sklearn\\base.py:441: UserWarning: X does not have valid feature names, but KNeighborsClassifier was fitted with feature names\n",
      "  warnings.warn(\n",
      "C:\\Users\\andre\\Desktop\\W.O.R.K\\Eskwelabs\\venv\\lib\\site-packages\\sklearn\\base.py:441: UserWarning: X does not have valid feature names, but KNeighborsClassifier was fitted with feature names\n",
      "  warnings.warn(\n",
      "C:\\Users\\andre\\Desktop\\W.O.R.K\\Eskwelabs\\venv\\lib\\site-packages\\sklearn\\base.py:441: UserWarning: X does not have valid feature names, but KNeighborsClassifier was fitted with feature names\n",
      "  warnings.warn(\n"
     ]
    },
    {
     "name": "stdout",
     "output_type": "stream",
     "text": [
      "DONE!\n",
      "Fitting KNN with K=39 ...DONE!\n",
      "Fitting KNN with K=40 ..."
     ]
    },
    {
     "name": "stderr",
     "output_type": "stream",
     "text": [
      "C:\\Users\\andre\\Desktop\\W.O.R.K\\Eskwelabs\\venv\\lib\\site-packages\\sklearn\\base.py:441: UserWarning: X does not have valid feature names, but KNeighborsClassifier was fitted with feature names\n",
      "  warnings.warn(\n",
      "C:\\Users\\andre\\Desktop\\W.O.R.K\\Eskwelabs\\venv\\lib\\site-packages\\sklearn\\base.py:441: UserWarning: X does not have valid feature names, but KNeighborsClassifier was fitted with feature names\n",
      "  warnings.warn(\n",
      "C:\\Users\\andre\\Desktop\\W.O.R.K\\Eskwelabs\\venv\\lib\\site-packages\\sklearn\\base.py:441: UserWarning: X does not have valid feature names, but KNeighborsClassifier was fitted with feature names\n",
      "  warnings.warn(\n",
      "C:\\Users\\andre\\Desktop\\W.O.R.K\\Eskwelabs\\venv\\lib\\site-packages\\sklearn\\base.py:441: UserWarning: X does not have valid feature names, but KNeighborsClassifier was fitted with feature names\n",
      "  warnings.warn(\n",
      "C:\\Users\\andre\\Desktop\\W.O.R.K\\Eskwelabs\\venv\\lib\\site-packages\\sklearn\\base.py:441: UserWarning: X does not have valid feature names, but KNeighborsClassifier was fitted with feature names\n",
      "  warnings.warn(\n",
      "C:\\Users\\andre\\Desktop\\W.O.R.K\\Eskwelabs\\venv\\lib\\site-packages\\sklearn\\base.py:441: UserWarning: X does not have valid feature names, but KNeighborsClassifier was fitted with feature names\n",
      "  warnings.warn(\n"
     ]
    },
    {
     "name": "stdout",
     "output_type": "stream",
     "text": [
      "DONE!\n",
      "Fitting KNN with K=41 ...DONE!\n",
      "Fitting KNN with K=42 ..."
     ]
    },
    {
     "name": "stderr",
     "output_type": "stream",
     "text": [
      "C:\\Users\\andre\\Desktop\\W.O.R.K\\Eskwelabs\\venv\\lib\\site-packages\\sklearn\\base.py:441: UserWarning: X does not have valid feature names, but KNeighborsClassifier was fitted with feature names\n",
      "  warnings.warn(\n",
      "C:\\Users\\andre\\Desktop\\W.O.R.K\\Eskwelabs\\venv\\lib\\site-packages\\sklearn\\base.py:441: UserWarning: X does not have valid feature names, but KNeighborsClassifier was fitted with feature names\n",
      "  warnings.warn(\n",
      "C:\\Users\\andre\\Desktop\\W.O.R.K\\Eskwelabs\\venv\\lib\\site-packages\\sklearn\\base.py:441: UserWarning: X does not have valid feature names, but KNeighborsClassifier was fitted with feature names\n",
      "  warnings.warn(\n",
      "C:\\Users\\andre\\Desktop\\W.O.R.K\\Eskwelabs\\venv\\lib\\site-packages\\sklearn\\base.py:441: UserWarning: X does not have valid feature names, but KNeighborsClassifier was fitted with feature names\n",
      "  warnings.warn(\n",
      "C:\\Users\\andre\\Desktop\\W.O.R.K\\Eskwelabs\\venv\\lib\\site-packages\\sklearn\\base.py:441: UserWarning: X does not have valid feature names, but KNeighborsClassifier was fitted with feature names\n",
      "  warnings.warn(\n",
      "C:\\Users\\andre\\Desktop\\W.O.R.K\\Eskwelabs\\venv\\lib\\site-packages\\sklearn\\base.py:441: UserWarning: X does not have valid feature names, but KNeighborsClassifier was fitted with feature names\n",
      "  warnings.warn(\n",
      "C:\\Users\\andre\\Desktop\\W.O.R.K\\Eskwelabs\\venv\\lib\\site-packages\\sklearn\\base.py:441: UserWarning: X does not have valid feature names, but KNeighborsClassifier was fitted with feature names\n",
      "  warnings.warn(\n",
      "C:\\Users\\andre\\Desktop\\W.O.R.K\\Eskwelabs\\venv\\lib\\site-packages\\sklearn\\base.py:441: UserWarning: X does not have valid feature names, but KNeighborsClassifier was fitted with feature names\n",
      "  warnings.warn(\n",
      "C:\\Users\\andre\\Desktop\\W.O.R.K\\Eskwelabs\\venv\\lib\\site-packages\\sklearn\\base.py:441: UserWarning: X does not have valid feature names, but KNeighborsClassifier was fitted with feature names\n",
      "  warnings.warn(\n",
      "C:\\Users\\andre\\Desktop\\W.O.R.K\\Eskwelabs\\venv\\lib\\site-packages\\sklearn\\base.py:441: UserWarning: X does not have valid feature names, but KNeighborsClassifier was fitted with feature names\n",
      "  warnings.warn(\n",
      "C:\\Users\\andre\\Desktop\\W.O.R.K\\Eskwelabs\\venv\\lib\\site-packages\\sklearn\\base.py:441: UserWarning: X does not have valid feature names, but KNeighborsClassifier was fitted with feature names\n",
      "  warnings.warn(\n",
      "C:\\Users\\andre\\Desktop\\W.O.R.K\\Eskwelabs\\venv\\lib\\site-packages\\sklearn\\base.py:441: UserWarning: X does not have valid feature names, but KNeighborsClassifier was fitted with feature names\n",
      "  warnings.warn(\n"
     ]
    },
    {
     "name": "stdout",
     "output_type": "stream",
     "text": [
      "DONE!\n",
      "Fitting KNN with K=43 ...DONE!\n",
      "Fitting KNN with K=44 ..."
     ]
    },
    {
     "name": "stderr",
     "output_type": "stream",
     "text": [
      "C:\\Users\\andre\\Desktop\\W.O.R.K\\Eskwelabs\\venv\\lib\\site-packages\\sklearn\\base.py:441: UserWarning: X does not have valid feature names, but KNeighborsClassifier was fitted with feature names\n",
      "  warnings.warn(\n",
      "C:\\Users\\andre\\Desktop\\W.O.R.K\\Eskwelabs\\venv\\lib\\site-packages\\sklearn\\base.py:441: UserWarning: X does not have valid feature names, but KNeighborsClassifier was fitted with feature names\n",
      "  warnings.warn(\n",
      "C:\\Users\\andre\\Desktop\\W.O.R.K\\Eskwelabs\\venv\\lib\\site-packages\\sklearn\\base.py:441: UserWarning: X does not have valid feature names, but KNeighborsClassifier was fitted with feature names\n",
      "  warnings.warn(\n",
      "C:\\Users\\andre\\Desktop\\W.O.R.K\\Eskwelabs\\venv\\lib\\site-packages\\sklearn\\base.py:441: UserWarning: X does not have valid feature names, but KNeighborsClassifier was fitted with feature names\n",
      "  warnings.warn(\n",
      "C:\\Users\\andre\\Desktop\\W.O.R.K\\Eskwelabs\\venv\\lib\\site-packages\\sklearn\\base.py:441: UserWarning: X does not have valid feature names, but KNeighborsClassifier was fitted with feature names\n",
      "  warnings.warn(\n",
      "C:\\Users\\andre\\Desktop\\W.O.R.K\\Eskwelabs\\venv\\lib\\site-packages\\sklearn\\base.py:441: UserWarning: X does not have valid feature names, but KNeighborsClassifier was fitted with feature names\n",
      "  warnings.warn(\n",
      "C:\\Users\\andre\\Desktop\\W.O.R.K\\Eskwelabs\\venv\\lib\\site-packages\\sklearn\\base.py:441: UserWarning: X does not have valid feature names, but KNeighborsClassifier was fitted with feature names\n",
      "  warnings.warn(\n",
      "C:\\Users\\andre\\Desktop\\W.O.R.K\\Eskwelabs\\venv\\lib\\site-packages\\sklearn\\base.py:441: UserWarning: X does not have valid feature names, but KNeighborsClassifier was fitted with feature names\n",
      "  warnings.warn(\n",
      "C:\\Users\\andre\\Desktop\\W.O.R.K\\Eskwelabs\\venv\\lib\\site-packages\\sklearn\\base.py:441: UserWarning: X does not have valid feature names, but KNeighborsClassifier was fitted with feature names\n",
      "  warnings.warn(\n"
     ]
    },
    {
     "name": "stdout",
     "output_type": "stream",
     "text": [
      "DONE!\n",
      "Fitting KNN with K=45 ..."
     ]
    },
    {
     "name": "stderr",
     "output_type": "stream",
     "text": [
      "C:\\Users\\andre\\Desktop\\W.O.R.K\\Eskwelabs\\venv\\lib\\site-packages\\sklearn\\base.py:441: UserWarning: X does not have valid feature names, but KNeighborsClassifier was fitted with feature names\n",
      "  warnings.warn(\n",
      "C:\\Users\\andre\\Desktop\\W.O.R.K\\Eskwelabs\\venv\\lib\\site-packages\\sklearn\\base.py:441: UserWarning: X does not have valid feature names, but KNeighborsClassifier was fitted with feature names\n",
      "  warnings.warn(\n",
      "C:\\Users\\andre\\Desktop\\W.O.R.K\\Eskwelabs\\venv\\lib\\site-packages\\sklearn\\base.py:441: UserWarning: X does not have valid feature names, but KNeighborsClassifier was fitted with feature names\n",
      "  warnings.warn(\n",
      "C:\\Users\\andre\\Desktop\\W.O.R.K\\Eskwelabs\\venv\\lib\\site-packages\\sklearn\\base.py:441: UserWarning: X does not have valid feature names, but KNeighborsClassifier was fitted with feature names\n",
      "  warnings.warn(\n",
      "C:\\Users\\andre\\Desktop\\W.O.R.K\\Eskwelabs\\venv\\lib\\site-packages\\sklearn\\base.py:441: UserWarning: X does not have valid feature names, but KNeighborsClassifier was fitted with feature names\n",
      "  warnings.warn(\n"
     ]
    },
    {
     "name": "stdout",
     "output_type": "stream",
     "text": [
      "DONE!\n",
      "Fitting KNN with K=46 ..."
     ]
    },
    {
     "name": "stderr",
     "output_type": "stream",
     "text": [
      "C:\\Users\\andre\\Desktop\\W.O.R.K\\Eskwelabs\\venv\\lib\\site-packages\\sklearn\\base.py:441: UserWarning: X does not have valid feature names, but KNeighborsClassifier was fitted with feature names\n",
      "  warnings.warn(\n",
      "C:\\Users\\andre\\Desktop\\W.O.R.K\\Eskwelabs\\venv\\lib\\site-packages\\sklearn\\base.py:441: UserWarning: X does not have valid feature names, but KNeighborsClassifier was fitted with feature names\n",
      "  warnings.warn(\n",
      "C:\\Users\\andre\\Desktop\\W.O.R.K\\Eskwelabs\\venv\\lib\\site-packages\\sklearn\\base.py:441: UserWarning: X does not have valid feature names, but KNeighborsClassifier was fitted with feature names\n",
      "  warnings.warn(\n",
      "C:\\Users\\andre\\Desktop\\W.O.R.K\\Eskwelabs\\venv\\lib\\site-packages\\sklearn\\base.py:441: UserWarning: X does not have valid feature names, but KNeighborsClassifier was fitted with feature names\n",
      "  warnings.warn(\n",
      "C:\\Users\\andre\\Desktop\\W.O.R.K\\Eskwelabs\\venv\\lib\\site-packages\\sklearn\\base.py:441: UserWarning: X does not have valid feature names, but KNeighborsClassifier was fitted with feature names\n",
      "  warnings.warn(\n",
      "C:\\Users\\andre\\Desktop\\W.O.R.K\\Eskwelabs\\venv\\lib\\site-packages\\sklearn\\base.py:441: UserWarning: X does not have valid feature names, but KNeighborsClassifier was fitted with feature names\n",
      "  warnings.warn(\n"
     ]
    },
    {
     "name": "stdout",
     "output_type": "stream",
     "text": [
      "DONE!\n",
      "Fitting KNN with K=47 ...DONE!\n",
      "Fitting KNN with K=48 ..."
     ]
    },
    {
     "name": "stderr",
     "output_type": "stream",
     "text": [
      "C:\\Users\\andre\\Desktop\\W.O.R.K\\Eskwelabs\\venv\\lib\\site-packages\\sklearn\\base.py:441: UserWarning: X does not have valid feature names, but KNeighborsClassifier was fitted with feature names\n",
      "  warnings.warn(\n",
      "C:\\Users\\andre\\Desktop\\W.O.R.K\\Eskwelabs\\venv\\lib\\site-packages\\sklearn\\base.py:441: UserWarning: X does not have valid feature names, but KNeighborsClassifier was fitted with feature names\n",
      "  warnings.warn(\n",
      "C:\\Users\\andre\\Desktop\\W.O.R.K\\Eskwelabs\\venv\\lib\\site-packages\\sklearn\\base.py:441: UserWarning: X does not have valid feature names, but KNeighborsClassifier was fitted with feature names\n",
      "  warnings.warn(\n",
      "C:\\Users\\andre\\Desktop\\W.O.R.K\\Eskwelabs\\venv\\lib\\site-packages\\sklearn\\base.py:441: UserWarning: X does not have valid feature names, but KNeighborsClassifier was fitted with feature names\n",
      "  warnings.warn(\n",
      "C:\\Users\\andre\\Desktop\\W.O.R.K\\Eskwelabs\\venv\\lib\\site-packages\\sklearn\\base.py:441: UserWarning: X does not have valid feature names, but KNeighborsClassifier was fitted with feature names\n",
      "  warnings.warn(\n",
      "C:\\Users\\andre\\Desktop\\W.O.R.K\\Eskwelabs\\venv\\lib\\site-packages\\sklearn\\base.py:441: UserWarning: X does not have valid feature names, but KNeighborsClassifier was fitted with feature names\n",
      "  warnings.warn(\n"
     ]
    },
    {
     "name": "stdout",
     "output_type": "stream",
     "text": [
      "DONE!\n",
      "Fitting KNN with K=49 ..."
     ]
    },
    {
     "name": "stderr",
     "output_type": "stream",
     "text": [
      "C:\\Users\\andre\\Desktop\\W.O.R.K\\Eskwelabs\\venv\\lib\\site-packages\\sklearn\\base.py:441: UserWarning: X does not have valid feature names, but KNeighborsClassifier was fitted with feature names\n",
      "  warnings.warn(\n",
      "C:\\Users\\andre\\Desktop\\W.O.R.K\\Eskwelabs\\venv\\lib\\site-packages\\sklearn\\base.py:441: UserWarning: X does not have valid feature names, but KNeighborsClassifier was fitted with feature names\n",
      "  warnings.warn(\n",
      "C:\\Users\\andre\\Desktop\\W.O.R.K\\Eskwelabs\\venv\\lib\\site-packages\\sklearn\\base.py:441: UserWarning: X does not have valid feature names, but KNeighborsClassifier was fitted with feature names\n",
      "  warnings.warn(\n",
      "C:\\Users\\andre\\Desktop\\W.O.R.K\\Eskwelabs\\venv\\lib\\site-packages\\sklearn\\base.py:441: UserWarning: X does not have valid feature names, but KNeighborsClassifier was fitted with feature names\n",
      "  warnings.warn(\n",
      "C:\\Users\\andre\\Desktop\\W.O.R.K\\Eskwelabs\\venv\\lib\\site-packages\\sklearn\\base.py:441: UserWarning: X does not have valid feature names, but KNeighborsClassifier was fitted with feature names\n",
      "  warnings.warn(\n"
     ]
    },
    {
     "name": "stdout",
     "output_type": "stream",
     "text": [
      "DONE!\n",
      "Fitting KNN with K=50 ...DONE!\n"
     ]
    },
    {
     "name": "stderr",
     "output_type": "stream",
     "text": [
      "C:\\Users\\andre\\Desktop\\W.O.R.K\\Eskwelabs\\venv\\lib\\site-packages\\sklearn\\base.py:441: UserWarning: X does not have valid feature names, but KNeighborsClassifier was fitted with feature names\n",
      "  warnings.warn(\n",
      "C:\\Users\\andre\\Desktop\\W.O.R.K\\Eskwelabs\\venv\\lib\\site-packages\\sklearn\\base.py:441: UserWarning: X does not have valid feature names, but KNeighborsClassifier was fitted with feature names\n",
      "  warnings.warn(\n",
      "C:\\Users\\andre\\Desktop\\W.O.R.K\\Eskwelabs\\venv\\lib\\site-packages\\sklearn\\base.py:441: UserWarning: X does not have valid feature names, but KNeighborsClassifier was fitted with feature names\n",
      "  warnings.warn(\n",
      "C:\\Users\\andre\\Desktop\\W.O.R.K\\Eskwelabs\\venv\\lib\\site-packages\\sklearn\\base.py:441: UserWarning: X does not have valid feature names, but KNeighborsClassifier was fitted with feature names\n",
      "  warnings.warn(\n",
      "C:\\Users\\andre\\Desktop\\W.O.R.K\\Eskwelabs\\venv\\lib\\site-packages\\sklearn\\base.py:441: UserWarning: X does not have valid feature names, but KNeighborsClassifier was fitted with feature names\n",
      "  warnings.warn(\n"
     ]
    }
   ],
   "source": [
    "n_neighbors = np.arange(2,51)\n",
    "KFOLDS = 5\n",
    "\n",
    "cv_scores_mean = []\n",
    "cv_scores_std = []\n",
    "\n",
    "for K in n_neighbors:\n",
    "    print('Fitting KNN with K=%d ...' % K, end='')\n",
    "    #initialize model\n",
    "    knn_model = KNeighborsClassifier(n_neighbors=K)\n",
    "    # get accuracy metric across train-test sets generated using k-folds\n",
    "    scores = cross_val_score(knn_model, X, y, cv=KFOLDS, scoring='accuracy')\n",
    "    # overall accuracy score of K is mean of accuracy scores per k-fold\n",
    "    # std dev of scores across folds must be a minimum\n",
    "    cv_scores_mean.append(scores.mean())\n",
    "    cv_scores_std.append(scores.std())\n",
    "    print('DONE!')"
   ]
  },
  {
   "cell_type": "markdown",
   "metadata": {},
   "source": [
    "Choose optimal value of K"
   ]
  },
  {
   "cell_type": "code",
   "execution_count": 26,
   "metadata": {
    "ExecuteTime": {
     "end_time": "2022-01-11T10:55:03.044276Z",
     "start_time": "2022-01-11T10:55:02.222025Z"
    },
    "scrolled": true
   },
   "outputs": [
    {
     "name": "stdout",
     "output_type": "stream",
     "text": [
      "The optimal number of neighbors is 42.00 with accuracy 0.5695\n"
     ]
    },
    {
     "data": {
      "text/plain": [
       "Text(0, 0.5, 'Accuracy standard deviation')"
      ]
     },
     "execution_count": 26,
     "metadata": {},
     "output_type": "execute_result"
    },
    {
     "data": {
      "image/png": "[encoded data removed]",
      "text/plain": [
       "<Figure size 1100x400 with 2 Axes>"
      ]
     },
     "metadata": {},
     "output_type": "display_data"
    }
   ],
   "source": [
    "# determining best K\n",
    "idx_max_accuracy = cv_scores_mean.index(max(cv_scores_mean))\n",
    "optimal_K = n_neighbors[idx_max_accuracy]\n",
    "print(\"The optimal number of neighbors is %0.2f with accuracy %0.4f\" % (optimal_K, cv_scores_mean[idx_max_accuracy]))\n",
    "\n",
    "# plot metrics \n",
    "fig,axs = plt.subplots(1,2, figsize=(11,4))\n",
    "axs[0].plot(n_neighbors, cv_scores_mean)\n",
    "axs[0].plot(optimal_K,max(cv_scores_mean), marker=\"o\", ms=7, color='r')\n",
    "axs[0].set_xlabel(\"Number of Neighbors K\")\n",
    "axs[0].set_ylabel(\"Accuracy\")\n",
    "\n",
    "axs[1].plot(n_neighbors, cv_scores_std)\n",
    "axs[1].plot(optimal_K,cv_scores_std[idx_max_accuracy], marker=\"o\", ms=7, color='r')\n",
    "axs[1].set_xlabel(\"Number of Neighbors K\")\n",
    "axs[1].set_ylabel(\"Accuracy standard deviation\")\n"
   ]
  },
  {
   "cell_type": "markdown",
   "metadata": {},
   "source": [
    "Try out optimal model with entire length of the dataset"
   ]
  },
  {
   "cell_type": "code",
   "execution_count": 27,
   "metadata": {
    "ExecuteTime": {
     "end_time": "2022-01-11T10:55:03.594946Z",
     "start_time": "2022-01-11T10:55:03.048258Z"
    }
   },
   "outputs": [
    {
     "name": "stderr",
     "output_type": "stream",
     "text": [
      "C:\\Users\\andre\\Desktop\\W.O.R.K\\Eskwelabs\\venv\\lib\\site-packages\\sklearn\\base.py:441: UserWarning: X does not have valid feature names, but KNeighborsClassifier was fitted with feature names\n",
      "  warnings.warn(\n"
     ]
    }
   ],
   "source": [
    "#initialize KNN with optimal K\n",
    "knn_optimal_model = KNeighborsClassifier(n_neighbors=optimal_K)\n",
    "# fitting the model with entire dataset\n",
    "knn_optimal_model.fit(X, y)\n",
    "#use model to predict y\n",
    "knn_ypred = knn_optimal_model.predict(X)"
   ]
  },
  {
   "cell_type": "markdown",
   "metadata": {},
   "source": [
    "Create a classification report"
   ]
  },
  {
   "cell_type": "code",
   "execution_count": 28,
   "metadata": {
    "ExecuteTime": {
     "end_time": "2022-01-11T10:55:03.620930Z",
     "start_time": "2022-01-11T10:55:03.606943Z"
    }
   },
   "outputs": [
    {
     "name": "stdout",
     "output_type": "stream",
     "text": [
      "\n",
      "The accuracy of the knn classifier for the full dataset using k = 42 is 58.922559%\n"
     ]
    }
   ],
   "source": [
    "# evaluate accuracy\n",
    "acc = accuracy_score(y, knn_ypred) * 100\n",
    "print('\\nThe accuracy of the knn classifier for the full dataset using k = %d is %f%%' % (optimal_K, acc))"
   ]
  },
  {
   "cell_type": "markdown",
   "metadata": {},
   "source": [
    "## 6. Model Tuning: SVM"
   ]
  },
  {
   "cell_type": "markdown",
   "metadata": {},
   "source": [
    "Fit a **linear** kernel"
   ]
  },
  {
   "cell_type": "code",
   "execution_count": 29,
   "metadata": {
    "ExecuteTime": {
     "end_time": "2022-01-11T10:55:03.646917Z",
     "start_time": "2022-01-11T10:55:03.624929Z"
    }
   },
   "outputs": [],
   "source": [
    "def plot_scores(cv_scores_mean,cv_scores_std):\n",
    "    fig,axs = plt.subplots(1,2, figsize=(11,4))\n",
    "    \n",
    "    x = np.arange(len(cv_scores_mean))\n",
    "    max_mean_score_idx = cv_scores_mean.argmax()\n",
    "    \n",
    "    axs[0].plot(x, cv_scores_mean, marker='.', lw=0)\n",
    "    axs[0].plot(x[max_mean_score_idx],max(cv_scores_mean), marker=\"o\", ms=7, color='r')\n",
    "    axs[0].set_xlabel(\"Model config type\")\n",
    "    axs[0].set_ylabel(\"Accuracy\")\n",
    "\n",
    "    axs[1].plot(x, cv_scores_std, marker='.', lw=0)\n",
    "    axs[1].plot(x[max_mean_score_idx],cv_scores_std[max_mean_score_idx], marker=\"o\", ms=7, color='r')\n",
    "    axs[1].set_xlabel(\"Model config type\")\n",
    "    axs[1].set_ylabel(\"Accuracy standard deviation\")\n"
   ]
  },
  {
   "cell_type": "code",
   "execution_count": 30,
   "metadata": {
    "ExecuteTime": {
     "end_time": "2022-01-11T10:55:22.543527Z",
     "start_time": "2022-01-11T10:55:03.650918Z"
    },
    "scrolled": true
   },
   "outputs": [
    {
     "name": "stdout",
     "output_type": "stream",
     "text": [
      "Fitting SVM with linear kernel...\n",
      "Fitting 5 folds for each of 5 candidates, totalling 25 fits\n",
      "Best model config score is 58.585032% (vs. overall mean score: 55.785867 )\n",
      "Std of best model score across folds is 0.016957 (vs. overall mean std: 0.017257 )\n",
      "The accuracy of the SVM classifier for the full dataset is 59.884560%\n",
      "DONE!\n"
     ]
    }
   ],
   "source": [
    "#Linear model\n",
    "print('Fitting SVM with linear kernel...')\n",
    "\n",
    "# defining parameter range\n",
    "param_grid = {'C': [0.1, 1, 10, 100, 1000],\n",
    "              'kernel': ['linear']}\n",
    "grid = GridSearchCV(SVC(), param_grid, refit = True, verbose = 1, cv = KFOLDS )\n",
    "# fitting the model for grid search\n",
    "grid.fit(X, y)\n",
    "\n",
    "#get scores\n",
    "cv_scores_mean =  grid.cv_results_['mean_test_score']\n",
    "cv_scores_std = grid.cv_results_['std_test_score']\n",
    "max_mean_score_idx = cv_scores_mean.argmax()\n",
    "\n",
    "print('Best model config score is %f%% (vs. overall mean score: %f )' % (100*cv_scores_mean[max_mean_score_idx],\n",
    "                                                                        100*np.mean(cv_scores_mean)))\n",
    "print('Std of best model score across folds is %f (vs. overall mean std: %f )' %\\\n",
    "      (cv_scores_std[max_mean_score_idx], np.mean(cv_scores_std)))\n",
    "\n",
    "# get best model\n",
    "svm_model1 = grid.best_estimator_\n",
    "# fit model for entire data\n",
    "svm_model1.fit(X, y)\n",
    "pred1 = svm_model1.predict(X)\n",
    "acc = accuracy_score(y, pred1) * 100\n",
    "print('The accuracy of the SVM classifier for the full dataset is %f%%' % (acc))\n",
    "print('DONE!')"
   ]
  },
  {
   "cell_type": "code",
   "execution_count": 31,
   "metadata": {
    "ExecuteTime": {
     "end_time": "2022-01-11T10:55:23.432037Z",
     "start_time": "2022-01-11T10:55:22.552516Z"
    }
   },
   "outputs": [
    {
     "data": {
      "image/png": "[encoded data removed]",
      "text/plain": [
       "<Figure size 1100x400 with 2 Axes>"
      ]
     },
     "metadata": {},
     "output_type": "display_data"
    }
   ],
   "source": [
    "plot_scores(cv_scores_mean,cv_scores_std)"
   ]
  },
  {
   "cell_type": "markdown",
   "metadata": {},
   "source": [
    "Fit a **polynomial** kernel"
   ]
  },
  {
   "cell_type": "code",
   "execution_count": 32,
   "metadata": {
    "ExecuteTime": {
     "end_time": "2022-01-11T11:11:12.795569Z",
     "start_time": "2022-01-11T10:55:23.440026Z"
    }
   },
   "outputs": [
    {
     "name": "stdout",
     "output_type": "stream",
     "text": [
      "Fitting SVM with a polynomial kernel...\n",
      "Fitting 5 folds for each of 75 candidates, totalling 375 fits\n",
      "Best model is SVC(C=10, gamma=1, kernel='poly')\n",
      "Best model config score is 58.728568% (vs. overall mean score: 42.964683 )\n",
      "Std of best model score across folds is 0.024592 (vs. overall mean std: 0.006809 )\n",
      "The accuracy of the SVM classifier for the full dataset is 61.231361%\n",
      "DONE!\n"
     ]
    }
   ],
   "source": [
    "# defining parameter range\n",
    "print('Fitting SVM with a polynomial kernel...')\n",
    "\n",
    "param_grid = {'C': [0.1, 1, 10, 100, 1000],\n",
    "              'gamma': [1, 0.1, 0.01, 0.001, 0.0001],\n",
    "              'degree': [2,3,5],\n",
    "              'kernel': ['poly']}\n",
    "#1 worker:  12 mins\n",
    "#2 workers: 8.6 mins\n",
    "#3 workers: 7.1 mins\n",
    "grid = GridSearchCV(SVC(), param_grid, refit = True, verbose = 1, cv = KFOLDS, n_jobs=2)\n",
    "# fitting the model for grid search\n",
    "grid.fit(X, y)\n",
    "print('Best model is %s' % grid.best_estimator_)\n",
    "\n",
    "#get scores\n",
    "cv_scores_mean =  grid.cv_results_['mean_test_score']\n",
    "cv_scores_std = grid.cv_results_['std_test_score']\n",
    "max_mean_score_idx = cv_scores_mean.argmax()\n",
    "\n",
    "print('Best model config score is %f%% (vs. overall mean score: %f )' % (100*cv_scores_mean[max_mean_score_idx],\n",
    "                                                                        100*np.mean(cv_scores_mean)))\n",
    "print('Std of best model score across folds is %f (vs. overall mean std: %f )' %\\\n",
    "      (cv_scores_std[max_mean_score_idx], np.mean(cv_scores_std)))\n",
    "\n",
    "# get best model\n",
    "svm_model2 = grid.best_estimator_\n",
    "# fit model for entire data\n",
    "svm_model2.fit(X, y)\n",
    "pred2 = svm_model2.predict(X)\n",
    "acc = accuracy_score(y, pred2) * 100\n",
    "print('The accuracy of the SVM classifier for the full dataset is %f%%' % (acc))\n",
    "print('DONE!')"
   ]
  },
  {
   "cell_type": "code",
   "execution_count": 33,
   "metadata": {
    "ExecuteTime": {
     "end_time": "2022-01-11T11:11:13.562668Z",
     "start_time": "2022-01-11T11:11:12.799566Z"
    }
   },
   "outputs": [
    {
     "data": {
      "image/png": "[encoded data removed]",
      "text/plain": [
       "<Figure size 1100x400 with 2 Axes>"
      ]
     },
     "metadata": {},
     "output_type": "display_data"
    }
   ],
   "source": [
    "plot_scores(cv_scores_mean,cv_scores_std)"
   ]
  },
  {
   "cell_type": "markdown",
   "metadata": {},
   "source": [
    "Fit a **radial** kernel"
   ]
  },
  {
   "cell_type": "code",
   "execution_count": 34,
   "metadata": {
    "ExecuteTime": {
     "end_time": "2022-01-11T11:12:06.579403Z",
     "start_time": "2022-01-11T11:11:13.581659Z"
    }
   },
   "outputs": [
    {
     "name": "stdout",
     "output_type": "stream",
     "text": [
      "Fitting SVM with an rbf kernel...\n",
      "Fitting 5 folds for each of 25 candidates, totalling 125 fits\n",
      "Best model is SVC(C=100, gamma=1)\n",
      "Best model config score is 59.401761% (vs. overall mean score: 49.644523 )\n",
      "Std of best model score across folds is 0.028654 (vs. overall mean std: 0.013119 )\n",
      "The accuracy of the SVM classifier for the full dataset is 62.818663%\n",
      "DONE!\n"
     ]
    }
   ],
   "source": [
    "# defining parameter range\n",
    "print('Fitting SVM with an rbf kernel...')\n",
    "\n",
    "param_grid = {'C': [0.1, 1, 10, 100, 1000],\n",
    "              'gamma': [1, 0.1, 0.01, 0.001, 0.0001],\n",
    "              'kernel': ['rbf']}\n",
    "\n",
    "grid = GridSearchCV(SVC(), param_grid, refit = True, verbose = 1, cv = KFOLDS, n_jobs=2)\n",
    "# fitting the model for grid search\n",
    "grid.fit(X, y)\n",
    "print('Best model is %s' % grid.best_estimator_)\n",
    "\n",
    "#get scores\n",
    "cv_scores_mean =  grid.cv_results_['mean_test_score']\n",
    "cv_scores_std = grid.cv_results_['std_test_score']\n",
    "max_mean_score_idx = cv_scores_mean.argmax()\n",
    "\n",
    "print('Best model config score is %f%% (vs. overall mean score: %f )' % (100*cv_scores_mean[max_mean_score_idx],\n",
    "                                                                        100*np.mean(cv_scores_mean)))\n",
    "print('Std of best model score across folds is %f (vs. overall mean std: %f )' %\\\n",
    "      (cv_scores_std[max_mean_score_idx], np.mean(cv_scores_std)))\n",
    "\n",
    "# get best model\n",
    "svm_model3 = grid.best_estimator_\n",
    "# fit model for entire data\n",
    "svm_model3.fit(X, y)\n",
    "pred3 = svm_model3.predict(X)\n",
    "acc = accuracy_score(y, pred3) * 100\n",
    "print('The accuracy of the SVM classifier for the full dataset is %f%%' % (acc))\n",
    "print('DONE!')"
   ]
  },
  {
   "cell_type": "code",
   "execution_count": 35,
   "metadata": {
    "ExecuteTime": {
     "end_time": "2022-01-11T11:12:07.161304Z",
     "start_time": "2022-01-11T11:12:06.582403Z"
    }
   },
   "outputs": [
    {
     "data": {
      "image/png": "[encoded data removed]",
      "text/plain": [
       "<Figure size 1100x400 with 2 Axes>"
      ]
     },
     "metadata": {},
     "output_type": "display_data"
    }
   ],
   "source": [
    "plot_scores(cv_scores_mean,cv_scores_std)"
   ]
  },
  {
   "cell_type": "markdown",
   "metadata": {},
   "source": [
    "Select best SVM model"
   ]
  },
  {
   "cell_type": "code",
   "execution_count": 36,
   "metadata": {
    "ExecuteTime": {
     "end_time": "2022-01-11T11:13:16.030018Z",
     "start_time": "2022-01-11T11:12:07.165291Z"
    }
   },
   "outputs": [],
   "source": [
    "svm_optimal_model = svm_model3\n",
    "#set probability=True to view classification probabilities and refit\n",
    "svm_optimal_model.probability=True\n",
    "svm_optimal_model.fit(X, y)\n",
    "#use model to predict y\n",
    "svm_ypred = svm_optimal_model.predict(X)"
   ]
  },
  {
   "cell_type": "markdown",
   "metadata": {},
   "source": [
    "## 7. Model Selection"
   ]
  },
  {
   "cell_type": "markdown",
   "metadata": {},
   "source": [
    ">Q: Which between KNN and SVM performed better? "
   ]
  },
  {
   "cell_type": "code",
   "execution_count": 37,
   "metadata": {
    "ExecuteTime": {
     "end_time": "2022-01-11T11:13:17.771051Z",
     "start_time": "2022-01-11T11:13:16.034017Z"
    }
   },
   "outputs": [
    {
     "data": {
      "text/plain": [
       "<sklearn.metrics._plot.confusion_matrix.ConfusionMatrixDisplay at 0x17d17c2d580>"
      ]
     },
     "execution_count": 37,
     "metadata": {},
     "output_type": "execute_result"
    },
    {
     "data": {
      "image/png": "[encoded data removed]",
      "text/plain": [
       "<Figure size 640x480 with 2 Axes>"
      ]
     },
     "metadata": {},
     "output_type": "display_data"
    }
   ],
   "source": [
    "cm = confusion_matrix(y, knn_ypred)\n",
    "cmd = ConfusionMatrixDisplay(cm, display_labels=list(genre_lookup.values()))\n",
    "cmd.plot(xticks_rotation=90)"
   ]
  },
  {
   "cell_type": "code",
   "execution_count": 38,
   "metadata": {
    "ExecuteTime": {
     "end_time": "2022-01-11T11:13:19.565027Z",
     "start_time": "2022-01-11T11:13:17.776045Z"
    }
   },
   "outputs": [
    {
     "data": {
      "text/plain": [
       "<sklearn.metrics._plot.confusion_matrix.ConfusionMatrixDisplay at 0x17d17c1b9a0>"
      ]
     },
     "execution_count": 38,
     "metadata": {},
     "output_type": "execute_result"
    },
    {
     "data": {
      "image/png": "[encoded data removed]",
      "text/plain": [
       "<Figure size 640x480 with 2 Axes>"
      ]
     },
     "metadata": {},
     "output_type": "display_data"
    }
   ],
   "source": [
    "cm = confusion_matrix(y, svm_ypred)\n",
    "cmd = ConfusionMatrixDisplay(cm, display_labels=list(genre_lookup.values()))\n",
    "cmd.plot(xticks_rotation=90)"
   ]
  },
  {
   "cell_type": "code",
   "execution_count": 39,
   "metadata": {
    "ExecuteTime": {
     "end_time": "2022-01-11T11:24:06.142691Z",
     "start_time": "2022-01-11T11:24:06.135713Z"
    }
   },
   "outputs": [
    {
     "data": {
      "text/plain": [
       "{0: 'opm acoustic',\n",
       " 1: 'opm dance',\n",
       " 2: 'opm jazz',\n",
       " 3: 'opm rap',\n",
       " 4: 'opm reggae',\n",
       " 5: 'opm rock'}"
      ]
     },
     "execution_count": 39,
     "metadata": {},
     "output_type": "execute_result"
    }
   ],
   "source": [
    "genre_lookup"
   ]
  },
  {
   "cell_type": "code",
   "execution_count": 40,
   "metadata": {
    "ExecuteTime": {
     "end_time": "2022-01-11T11:13:19.623995Z",
     "start_time": "2022-01-11T11:13:19.571021Z"
    }
   },
   "outputs": [
    {
     "name": "stdout",
     "output_type": "stream",
     "text": [
      "-------------------------------------------------------------\n",
      "KNN\n",
      "              precision    recall  f1-score   support\n",
      "\n",
      "           0       0.55      0.69      0.61       390\n",
      "           1       0.66      0.51      0.58       178\n",
      "           2       0.39      0.34      0.36       236\n",
      "           3       0.70      0.52      0.60       351\n",
      "           4       0.45      0.13      0.20       157\n",
      "           5       0.62      0.76      0.68       767\n",
      "\n",
      "    accuracy                           0.59      2079\n",
      "   macro avg       0.56      0.49      0.51      2079\n",
      "weighted avg       0.58      0.59      0.57      2079\n",
      "\n",
      "-------------------------------------------------------------\n",
      "SVM\n",
      "              precision    recall  f1-score   support\n",
      "\n",
      "           0       0.59      0.73      0.66       390\n",
      "           1       0.69      0.54      0.61       178\n",
      "           2       0.45      0.33      0.38       236\n",
      "           3       0.74      0.66      0.70       351\n",
      "           4       0.64      0.10      0.18       157\n",
      "           5       0.63      0.78      0.70       767\n",
      "\n",
      "    accuracy                           0.63      2079\n",
      "   macro avg       0.62      0.53      0.54      2079\n",
      "weighted avg       0.63      0.63      0.61      2079\n",
      "\n"
     ]
    }
   ],
   "source": [
    "print('-------------------------------------------------------------')\n",
    "print('KNN')\n",
    "print(classification_report(y,knn_ypred))\n",
    "print('-------------------------------------------------------------')\n",
    "print('SVM')\n",
    "print(classification_report(y,svm_ypred))"
   ]
  },
  {
   "cell_type": "markdown",
   "metadata": {},
   "source": [
    "Choose optimal model among those above"
   ]
  },
  {
   "cell_type": "code",
   "execution_count": 41,
   "metadata": {
    "ExecuteTime": {
     "end_time": "2022-01-11T11:13:19.633987Z",
     "start_time": "2022-01-11T11:13:19.628988Z"
    }
   },
   "outputs": [],
   "source": [
    "optimal_model = svm_optimal_model"
   ]
  },
  {
   "cell_type": "markdown",
   "metadata": {},
   "source": [
    "## 8. Create recommender engine pool with predicted genres and probabilities"
   ]
  },
  {
   "cell_type": "markdown",
   "metadata": {},
   "source": [
    "**Out-of-sample**\n",
    "\n",
    "Check if best model correctly predicts the genre of a track in the Top 200 charts (assuming most are not in the playlist data). User may validate the results subjectively as a listener, or refer to another source by looking up the track in a genre-tagging site(e.g. https://www.chosic.com/music-genre-finder/)"
   ]
  },
  {
   "cell_type": "code",
   "execution_count": 53,
   "metadata": {
    "ExecuteTime": {
     "end_time": "2022-01-11T11:26:34.415822Z",
     "start_time": "2022-01-11T11:26:34.345865Z"
    }
   },
   "outputs": [
    {
     "data": {
      "text/html": [
       "<div>\n",
       "<style scoped>\n",
       "    .dataframe tbody tr th:only-of-type {\n",
       "        vertical-align: middle;\n",
       "    }\n",
       "\n",
       "    .dataframe tbody tr th {\n",
       "        vertical-align: top;\n",
       "    }\n",
       "\n",
       "    .dataframe thead th {\n",
       "        text-align: right;\n",
       "    }\n",
       "</style>\n",
       "<table border=\"1\" class=\"dataframe\">\n",
       "  <thead>\n",
       "    <tr style=\"text-align: right;\">\n",
       "      <th></th>\n",
       "      <th>Unnamed: 0</th>\n",
       "      <th>track_name</th>\n",
       "      <th>track_id</th>\n",
       "      <th>artist_name</th>\n",
       "      <th>danceability</th>\n",
       "      <th>energy</th>\n",
       "      <th>key</th>\n",
       "      <th>loudness</th>\n",
       "      <th>mode</th>\n",
       "      <th>speechiness</th>\n",
       "      <th>acousticness</th>\n",
       "      <th>instrumentalness</th>\n",
       "      <th>liveness</th>\n",
       "      <th>valence</th>\n",
       "      <th>tempo</th>\n",
       "    </tr>\n",
       "  </thead>\n",
       "  <tbody>\n",
       "    <tr>\n",
       "      <th>0</th>\n",
       "      <td>0</td>\n",
       "      <td>Isa lang</td>\n",
       "      <td>0HAG6nIiEKd75yGpovuSJQ</td>\n",
       "      <td>Arthur Nery</td>\n",
       "      <td>0.429</td>\n",
       "      <td>0.464</td>\n",
       "      <td>6</td>\n",
       "      <td>-8.445</td>\n",
       "      <td>0</td>\n",
       "      <td>0.0719</td>\n",
       "      <td>0.783</td>\n",
       "      <td>0.000000</td>\n",
       "      <td>0.0846</td>\n",
       "      <td>0.375</td>\n",
       "      <td>121.170</td>\n",
       "    </tr>\n",
       "    <tr>\n",
       "      <th>1</th>\n",
       "      <td>1</td>\n",
       "      <td>Pagsamo</td>\n",
       "      <td>0WZqHCoOBXqgCCIsUZLC2a</td>\n",
       "      <td>Arthur Nery</td>\n",
       "      <td>0.644</td>\n",
       "      <td>0.315</td>\n",
       "      <td>6</td>\n",
       "      <td>-9.382</td>\n",
       "      <td>1</td>\n",
       "      <td>0.0339</td>\n",
       "      <td>0.706</td>\n",
       "      <td>0.001620</td>\n",
       "      <td>0.0962</td>\n",
       "      <td>0.356</td>\n",
       "      <td>60.001</td>\n",
       "    </tr>\n",
       "    <tr>\n",
       "      <th>2</th>\n",
       "      <td>2</td>\n",
       "      <td>Higa</td>\n",
       "      <td>7gfrASeOt73YWvpIv1fU8E</td>\n",
       "      <td>Arthur Nery</td>\n",
       "      <td>0.656</td>\n",
       "      <td>0.336</td>\n",
       "      <td>9</td>\n",
       "      <td>-10.538</td>\n",
       "      <td>1</td>\n",
       "      <td>0.0434</td>\n",
       "      <td>0.453</td>\n",
       "      <td>0.000000</td>\n",
       "      <td>0.1060</td>\n",
       "      <td>0.182</td>\n",
       "      <td>125.058</td>\n",
       "    </tr>\n",
       "    <tr>\n",
       "      <th>3</th>\n",
       "      <td>3</td>\n",
       "      <td>Happy w u</td>\n",
       "      <td>0EA8jl8Wje9ALRKC8Qlzyt</td>\n",
       "      <td>Arthur Nery</td>\n",
       "      <td>0.596</td>\n",
       "      <td>0.182</td>\n",
       "      <td>6</td>\n",
       "      <td>-16.004</td>\n",
       "      <td>1</td>\n",
       "      <td>0.0378</td>\n",
       "      <td>0.903</td>\n",
       "      <td>0.000000</td>\n",
       "      <td>0.0909</td>\n",
       "      <td>0.268</td>\n",
       "      <td>111.734</td>\n",
       "    </tr>\n",
       "    <tr>\n",
       "      <th>4</th>\n",
       "      <td>4</td>\n",
       "      <td>Binhi</td>\n",
       "      <td>092cPwFlwBXdB3QF3X469W</td>\n",
       "      <td>Arthur Nery</td>\n",
       "      <td>0.460</td>\n",
       "      <td>0.311</td>\n",
       "      <td>5</td>\n",
       "      <td>-10.235</td>\n",
       "      <td>1</td>\n",
       "      <td>0.0319</td>\n",
       "      <td>0.961</td>\n",
       "      <td>0.000819</td>\n",
       "      <td>0.1890</td>\n",
       "      <td>0.220</td>\n",
       "      <td>124.193</td>\n",
       "    </tr>\n",
       "  </tbody>\n",
       "</table>\n",
       "</div>"
      ],
      "text/plain": [
       "   Unnamed: 0 track_name                track_id  artist_name  danceability  \\\n",
       "0           0   Isa lang  0HAG6nIiEKd75yGpovuSJQ  Arthur Nery         0.429   \n",
       "1           1    Pagsamo  0WZqHCoOBXqgCCIsUZLC2a  Arthur Nery         0.644   \n",
       "2           2       Higa  7gfrASeOt73YWvpIv1fU8E  Arthur Nery         0.656   \n",
       "3           3  Happy w u  0EA8jl8Wje9ALRKC8Qlzyt  Arthur Nery         0.596   \n",
       "4           4      Binhi  092cPwFlwBXdB3QF3X469W  Arthur Nery         0.460   \n",
       "\n",
       "   energy  key  loudness  mode  speechiness  acousticness  instrumentalness  \\\n",
       "0   0.464    6    -8.445     0       0.0719         0.783          0.000000   \n",
       "1   0.315    6    -9.382     1       0.0339         0.706          0.001620   \n",
       "2   0.336    9   -10.538     1       0.0434         0.453          0.000000   \n",
       "3   0.182    6   -16.004     1       0.0378         0.903          0.000000   \n",
       "4   0.311    5   -10.235     1       0.0319         0.961          0.000819   \n",
       "\n",
       "   liveness  valence    tempo  \n",
       "0    0.0846    0.375  121.170  \n",
       "1    0.0962    0.356   60.001  \n",
       "2    0.1060    0.182  125.058  \n",
       "3    0.0909    0.268  111.734  \n",
       "4    0.1890    0.220  124.193  "
      ]
     },
     "execution_count": 53,
     "metadata": {},
     "output_type": "execute_result"
    }
   ],
   "source": [
    "chart_tracks_df = pd.read_csv(\"tracks_data.csv\")\n",
    "chart_tracks_df = chart_tracks_df.dropna().reset_index(drop=True)\n",
    "chart_tracks_df.head()"
   ]
  },
  {
   "cell_type": "code",
   "execution_count": 54,
   "metadata": {
    "ExecuteTime": {
     "end_time": "2022-01-11T11:26:34.549743Z",
     "start_time": "2022-01-11T11:26:34.518758Z"
    }
   },
   "outputs": [],
   "source": [
    "#scale loudness and tempo\n",
    "chart_tracks_df['loudness'] = scaler.fit_transform(chart_tracks_df[['loudness']])\n",
    "chart_tracks_df['tempo'] =  scaler.fit_transform(chart_tracks_df[['tempo']])"
   ]
  },
  {
   "cell_type": "code",
   "execution_count": 55,
   "metadata": {
    "ExecuteTime": {
     "end_time": "2022-01-11T11:26:52.992770Z",
     "start_time": "2022-01-11T11:26:35.141991Z"
    }
   },
   "outputs": [
    {
     "name": "stderr",
     "output_type": "stream",
     "text": [
      "C:\\Users\\andre\\Desktop\\W.O.R.K\\Eskwelabs\\venv\\lib\\site-packages\\sklearn\\base.py:441: UserWarning: X does not have valid feature names, but SVC was fitted with feature names\n",
      "  warnings.warn(\n",
      "C:\\Users\\andre\\Desktop\\W.O.R.K\\Eskwelabs\\venv\\lib\\site-packages\\sklearn\\base.py:441: UserWarning: X does not have valid feature names, but SVC was fitted with feature names\n",
      "  warnings.warn(\n",
      "C:\\Users\\andre\\Desktop\\W.O.R.K\\Eskwelabs\\venv\\lib\\site-packages\\sklearn\\base.py:441: UserWarning: X does not have valid feature names, but SVC was fitted with feature names\n",
      "  warnings.warn(\n",
      "C:\\Users\\andre\\Desktop\\W.O.R.K\\Eskwelabs\\venv\\lib\\site-packages\\sklearn\\base.py:441: UserWarning: X does not have valid feature names, but SVC was fitted with feature names\n",
      "  warnings.warn(\n",
      "C:\\Users\\andre\\Desktop\\W.O.R.K\\Eskwelabs\\venv\\lib\\site-packages\\sklearn\\base.py:441: UserWarning: X does not have valid feature names, but SVC was fitted with feature names\n",
      "  warnings.warn(\n",
      "C:\\Users\\andre\\Desktop\\W.O.R.K\\Eskwelabs\\venv\\lib\\site-packages\\sklearn\\base.py:441: UserWarning: X does not have valid feature names, but SVC was fitted with feature names\n",
      "  warnings.warn(\n",
      "C:\\Users\\andre\\Desktop\\W.O.R.K\\Eskwelabs\\venv\\lib\\site-packages\\sklearn\\base.py:441: UserWarning: X does not have valid feature names, but SVC was fitted with feature names\n",
      "  warnings.warn(\n",
      "C:\\Users\\andre\\Desktop\\W.O.R.K\\Eskwelabs\\venv\\lib\\site-packages\\sklearn\\base.py:441: UserWarning: X does not have valid feature names, but SVC was fitted with feature names\n",
      "  warnings.warn(\n",
      "C:\\Users\\andre\\Desktop\\W.O.R.K\\Eskwelabs\\venv\\lib\\site-packages\\sklearn\\base.py:441: UserWarning: X does not have valid feature names, but SVC was fitted with feature names\n",
      "  warnings.warn(\n",
      "C:\\Users\\andre\\Desktop\\W.O.R.K\\Eskwelabs\\venv\\lib\\site-packages\\sklearn\\base.py:441: UserWarning: X does not have valid feature names, but SVC was fitted with feature names\n",
      "  warnings.warn(\n",
      "C:\\Users\\andre\\Desktop\\W.O.R.K\\Eskwelabs\\venv\\lib\\site-packages\\sklearn\\base.py:441: UserWarning: X does not have valid feature names, but SVC was fitted with feature names\n",
      "  warnings.warn(\n",
      "C:\\Users\\andre\\Desktop\\W.O.R.K\\Eskwelabs\\venv\\lib\\site-packages\\sklearn\\base.py:441: UserWarning: X does not have valid feature names, but SVC was fitted with feature names\n",
      "  warnings.warn(\n",
      "C:\\Users\\andre\\Desktop\\W.O.R.K\\Eskwelabs\\venv\\lib\\site-packages\\sklearn\\base.py:441: UserWarning: X does not have valid feature names, but SVC was fitted with feature names\n",
      "  warnings.warn(\n",
      "C:\\Users\\andre\\Desktop\\W.O.R.K\\Eskwelabs\\venv\\lib\\site-packages\\sklearn\\base.py:441: UserWarning: X does not have valid feature names, but SVC was fitted with feature names\n",
      "  warnings.warn(\n",
      "C:\\Users\\andre\\Desktop\\W.O.R.K\\Eskwelabs\\venv\\lib\\site-packages\\sklearn\\base.py:441: UserWarning: X does not have valid feature names, but SVC was fitted with feature names\n",
      "  warnings.warn(\n",
      "C:\\Users\\andre\\Desktop\\W.O.R.K\\Eskwelabs\\venv\\lib\\site-packages\\sklearn\\base.py:441: UserWarning: X does not have valid feature names, but SVC was fitted with feature names\n",
      "  warnings.warn(\n",
      "C:\\Users\\andre\\Desktop\\W.O.R.K\\Eskwelabs\\venv\\lib\\site-packages\\sklearn\\base.py:441: UserWarning: X does not have valid feature names, but SVC was fitted with feature names\n",
      "  warnings.warn(\n",
      "C:\\Users\\andre\\Desktop\\W.O.R.K\\Eskwelabs\\venv\\lib\\site-packages\\sklearn\\base.py:441: UserWarning: X does not have valid feature names, but SVC was fitted with feature names\n",
      "  warnings.warn(\n",
      "C:\\Users\\andre\\Desktop\\W.O.R.K\\Eskwelabs\\venv\\lib\\site-packages\\sklearn\\base.py:441: UserWarning: X does not have valid feature names, but SVC was fitted with feature names\n",
      "  warnings.warn(\n",
      "C:\\Users\\andre\\Desktop\\W.O.R.K\\Eskwelabs\\venv\\lib\\site-packages\\sklearn\\base.py:441: UserWarning: X does not have valid feature names, but SVC was fitted with feature names\n",
      "  warnings.warn(\n",
      "C:\\Users\\andre\\Desktop\\W.O.R.K\\Eskwelabs\\venv\\lib\\site-packages\\sklearn\\base.py:441: UserWarning: X does not have valid feature names, but SVC was fitted with feature names\n",
      "  warnings.warn(\n",
      "C:\\Users\\andre\\Desktop\\W.O.R.K\\Eskwelabs\\venv\\lib\\site-packages\\sklearn\\base.py:441: UserWarning: X does not have valid feature names, but SVC was fitted with feature names\n",
      "  warnings.warn(\n",
      "C:\\Users\\andre\\Desktop\\W.O.R.K\\Eskwelabs\\venv\\lib\\site-packages\\sklearn\\base.py:441: UserWarning: X does not have valid feature names, but SVC was fitted with feature names\n",
      "  warnings.warn(\n",
      "C:\\Users\\andre\\Desktop\\W.O.R.K\\Eskwelabs\\venv\\lib\\site-packages\\sklearn\\base.py:441: UserWarning: X does not have valid feature names, but SVC was fitted with feature names\n",
      "  warnings.warn(\n",
      "C:\\Users\\andre\\Desktop\\W.O.R.K\\Eskwelabs\\venv\\lib\\site-packages\\sklearn\\base.py:441: UserWarning: X does not have valid feature names, but SVC was fitted with feature names\n",
      "  warnings.warn(\n",
      "C:\\Users\\andre\\Desktop\\W.O.R.K\\Eskwelabs\\venv\\lib\\site-packages\\sklearn\\base.py:441: UserWarning: X does not have valid feature names, but SVC was fitted with feature names\n",
      "  warnings.warn(\n",
      "C:\\Users\\andre\\Desktop\\W.O.R.K\\Eskwelabs\\venv\\lib\\site-packages\\sklearn\\base.py:441: UserWarning: X does not have valid feature names, but SVC was fitted with feature names\n",
      "  warnings.warn(\n",
      "C:\\Users\\andre\\Desktop\\W.O.R.K\\Eskwelabs\\venv\\lib\\site-packages\\sklearn\\base.py:441: UserWarning: X does not have valid feature names, but SVC was fitted with feature names\n",
      "  warnings.warn(\n",
      "C:\\Users\\andre\\Desktop\\W.O.R.K\\Eskwelabs\\venv\\lib\\site-packages\\sklearn\\base.py:441: UserWarning: X does not have valid feature names, but SVC was fitted with feature names\n",
      "  warnings.warn(\n",
      "C:\\Users\\andre\\Desktop\\W.O.R.K\\Eskwelabs\\venv\\lib\\site-packages\\sklearn\\base.py:441: UserWarning: X does not have valid feature names, but SVC was fitted with feature names\n",
      "  warnings.warn(\n",
      "C:\\Users\\andre\\Desktop\\W.O.R.K\\Eskwelabs\\venv\\lib\\site-packages\\sklearn\\base.py:441: UserWarning: X does not have valid feature names, but SVC was fitted with feature names\n",
      "  warnings.warn(\n",
      "C:\\Users\\andre\\Desktop\\W.O.R.K\\Eskwelabs\\venv\\lib\\site-packages\\sklearn\\base.py:441: UserWarning: X does not have valid feature names, but SVC was fitted with feature names\n",
      "  warnings.warn(\n",
      "C:\\Users\\andre\\Desktop\\W.O.R.K\\Eskwelabs\\venv\\lib\\site-packages\\sklearn\\base.py:441: UserWarning: X does not have valid feature names, but SVC was fitted with feature names\n",
      "  warnings.warn(\n",
      "C:\\Users\\andre\\Desktop\\W.O.R.K\\Eskwelabs\\venv\\lib\\site-packages\\sklearn\\base.py:441: UserWarning: X does not have valid feature names, but SVC was fitted with feature names\n",
      "  warnings.warn(\n",
      "C:\\Users\\andre\\Desktop\\W.O.R.K\\Eskwelabs\\venv\\lib\\site-packages\\sklearn\\base.py:441: UserWarning: X does not have valid feature names, but SVC was fitted with feature names\n",
      "  warnings.warn(\n",
      "C:\\Users\\andre\\Desktop\\W.O.R.K\\Eskwelabs\\venv\\lib\\site-packages\\sklearn\\base.py:441: UserWarning: X does not have valid feature names, but SVC was fitted with feature names\n",
      "  warnings.warn(\n",
      "C:\\Users\\andre\\Desktop\\W.O.R.K\\Eskwelabs\\venv\\lib\\site-packages\\sklearn\\base.py:441: UserWarning: X does not have valid feature names, but SVC was fitted with feature names\n",
      "  warnings.warn(\n",
      "C:\\Users\\andre\\Desktop\\W.O.R.K\\Eskwelabs\\venv\\lib\\site-packages\\sklearn\\base.py:441: UserWarning: X does not have valid feature names, but SVC was fitted with feature names\n",
      "  warnings.warn(\n",
      "C:\\Users\\andre\\Desktop\\W.O.R.K\\Eskwelabs\\venv\\lib\\site-packages\\sklearn\\base.py:441: UserWarning: X does not have valid feature names, but SVC was fitted with feature names\n",
      "  warnings.warn(\n",
      "C:\\Users\\andre\\Desktop\\W.O.R.K\\Eskwelabs\\venv\\lib\\site-packages\\sklearn\\base.py:441: UserWarning: X does not have valid feature names, but SVC was fitted with feature names\n",
      "  warnings.warn(\n",
      "C:\\Users\\andre\\Desktop\\W.O.R.K\\Eskwelabs\\venv\\lib\\site-packages\\sklearn\\base.py:441: UserWarning: X does not have valid feature names, but SVC was fitted with feature names\n",
      "  warnings.warn(\n",
      "C:\\Users\\andre\\Desktop\\W.O.R.K\\Eskwelabs\\venv\\lib\\site-packages\\sklearn\\base.py:441: UserWarning: X does not have valid feature names, but SVC was fitted with feature names\n",
      "  warnings.warn(\n",
      "C:\\Users\\andre\\Desktop\\W.O.R.K\\Eskwelabs\\venv\\lib\\site-packages\\sklearn\\base.py:441: UserWarning: X does not have valid feature names, but SVC was fitted with feature names\n",
      "  warnings.warn(\n",
      "C:\\Users\\andre\\Desktop\\W.O.R.K\\Eskwelabs\\venv\\lib\\site-packages\\sklearn\\base.py:441: UserWarning: X does not have valid feature names, but SVC was fitted with feature names\n",
      "  warnings.warn(\n",
      "C:\\Users\\andre\\Desktop\\W.O.R.K\\Eskwelabs\\venv\\lib\\site-packages\\sklearn\\base.py:441: UserWarning: X does not have valid feature names, but SVC was fitted with feature names\n",
      "  warnings.warn(\n",
      "C:\\Users\\andre\\Desktop\\W.O.R.K\\Eskwelabs\\venv\\lib\\site-packages\\sklearn\\base.py:441: UserWarning: X does not have valid feature names, but SVC was fitted with feature names\n",
      "  warnings.warn(\n",
      "C:\\Users\\andre\\Desktop\\W.O.R.K\\Eskwelabs\\venv\\lib\\site-packages\\sklearn\\base.py:441: UserWarning: X does not have valid feature names, but SVC was fitted with feature names\n",
      "  warnings.warn(\n",
      "C:\\Users\\andre\\Desktop\\W.O.R.K\\Eskwelabs\\venv\\lib\\site-packages\\sklearn\\base.py:441: UserWarning: X does not have valid feature names, but SVC was fitted with feature names\n",
      "  warnings.warn(\n",
      "C:\\Users\\andre\\Desktop\\W.O.R.K\\Eskwelabs\\venv\\lib\\site-packages\\sklearn\\base.py:441: UserWarning: X does not have valid feature names, but SVC was fitted with feature names\n",
      "  warnings.warn(\n",
      "C:\\Users\\andre\\Desktop\\W.O.R.K\\Eskwelabs\\venv\\lib\\site-packages\\sklearn\\base.py:441: UserWarning: X does not have valid feature names, but SVC was fitted with feature names\n",
      "  warnings.warn(\n",
      "C:\\Users\\andre\\Desktop\\W.O.R.K\\Eskwelabs\\venv\\lib\\site-packages\\sklearn\\base.py:441: UserWarning: X does not have valid feature names, but SVC was fitted with feature names\n",
      "  warnings.warn(\n",
      "C:\\Users\\andre\\Desktop\\W.O.R.K\\Eskwelabs\\venv\\lib\\site-packages\\sklearn\\base.py:441: UserWarning: X does not have valid feature names, but SVC was fitted with feature names\n",
      "  warnings.warn(\n",
      "C:\\Users\\andre\\Desktop\\W.O.R.K\\Eskwelabs\\venv\\lib\\site-packages\\sklearn\\base.py:441: UserWarning: X does not have valid feature names, but SVC was fitted with feature names\n",
      "  warnings.warn(\n",
      "C:\\Users\\andre\\Desktop\\W.O.R.K\\Eskwelabs\\venv\\lib\\site-packages\\sklearn\\base.py:441: UserWarning: X does not have valid feature names, but SVC was fitted with feature names\n",
      "  warnings.warn(\n",
      "C:\\Users\\andre\\Desktop\\W.O.R.K\\Eskwelabs\\venv\\lib\\site-packages\\sklearn\\base.py:441: UserWarning: X does not have valid feature names, but SVC was fitted with feature names\n",
      "  warnings.warn(\n"
     ]
    },
    {
     "name": "stderr",
     "output_type": "stream",
     "text": [
      "C:\\Users\\andre\\Desktop\\W.O.R.K\\Eskwelabs\\venv\\lib\\site-packages\\sklearn\\base.py:441: UserWarning: X does not have valid feature names, but SVC was fitted with feature names\n",
      "  warnings.warn(\n",
      "C:\\Users\\andre\\Desktop\\W.O.R.K\\Eskwelabs\\venv\\lib\\site-packages\\sklearn\\base.py:441: UserWarning: X does not have valid feature names, but SVC was fitted with feature names\n",
      "  warnings.warn(\n",
      "C:\\Users\\andre\\Desktop\\W.O.R.K\\Eskwelabs\\venv\\lib\\site-packages\\sklearn\\base.py:441: UserWarning: X does not have valid feature names, but SVC was fitted with feature names\n",
      "  warnings.warn(\n",
      "C:\\Users\\andre\\Desktop\\W.O.R.K\\Eskwelabs\\venv\\lib\\site-packages\\sklearn\\base.py:441: UserWarning: X does not have valid feature names, but SVC was fitted with feature names\n",
      "  warnings.warn(\n",
      "C:\\Users\\andre\\Desktop\\W.O.R.K\\Eskwelabs\\venv\\lib\\site-packages\\sklearn\\base.py:441: UserWarning: X does not have valid feature names, but SVC was fitted with feature names\n",
      "  warnings.warn(\n",
      "C:\\Users\\andre\\Desktop\\W.O.R.K\\Eskwelabs\\venv\\lib\\site-packages\\sklearn\\base.py:441: UserWarning: X does not have valid feature names, but SVC was fitted with feature names\n",
      "  warnings.warn(\n",
      "C:\\Users\\andre\\Desktop\\W.O.R.K\\Eskwelabs\\venv\\lib\\site-packages\\sklearn\\base.py:441: UserWarning: X does not have valid feature names, but SVC was fitted with feature names\n",
      "  warnings.warn(\n",
      "C:\\Users\\andre\\Desktop\\W.O.R.K\\Eskwelabs\\venv\\lib\\site-packages\\sklearn\\base.py:441: UserWarning: X does not have valid feature names, but SVC was fitted with feature names\n",
      "  warnings.warn(\n",
      "C:\\Users\\andre\\Desktop\\W.O.R.K\\Eskwelabs\\venv\\lib\\site-packages\\sklearn\\base.py:441: UserWarning: X does not have valid feature names, but SVC was fitted with feature names\n",
      "  warnings.warn(\n",
      "C:\\Users\\andre\\Desktop\\W.O.R.K\\Eskwelabs\\venv\\lib\\site-packages\\sklearn\\base.py:441: UserWarning: X does not have valid feature names, but SVC was fitted with feature names\n",
      "  warnings.warn(\n",
      "C:\\Users\\andre\\Desktop\\W.O.R.K\\Eskwelabs\\venv\\lib\\site-packages\\sklearn\\base.py:441: UserWarning: X does not have valid feature names, but SVC was fitted with feature names\n",
      "  warnings.warn(\n",
      "C:\\Users\\andre\\Desktop\\W.O.R.K\\Eskwelabs\\venv\\lib\\site-packages\\sklearn\\base.py:441: UserWarning: X does not have valid feature names, but SVC was fitted with feature names\n",
      "  warnings.warn(\n",
      "C:\\Users\\andre\\Desktop\\W.O.R.K\\Eskwelabs\\venv\\lib\\site-packages\\sklearn\\base.py:441: UserWarning: X does not have valid feature names, but SVC was fitted with feature names\n",
      "  warnings.warn(\n",
      "C:\\Users\\andre\\Desktop\\W.O.R.K\\Eskwelabs\\venv\\lib\\site-packages\\sklearn\\base.py:441: UserWarning: X does not have valid feature names, but SVC was fitted with feature names\n",
      "  warnings.warn(\n",
      "C:\\Users\\andre\\Desktop\\W.O.R.K\\Eskwelabs\\venv\\lib\\site-packages\\sklearn\\base.py:441: UserWarning: X does not have valid feature names, but SVC was fitted with feature names\n",
      "  warnings.warn(\n",
      "C:\\Users\\andre\\Desktop\\W.O.R.K\\Eskwelabs\\venv\\lib\\site-packages\\sklearn\\base.py:441: UserWarning: X does not have valid feature names, but SVC was fitted with feature names\n",
      "  warnings.warn(\n",
      "C:\\Users\\andre\\Desktop\\W.O.R.K\\Eskwelabs\\venv\\lib\\site-packages\\sklearn\\base.py:441: UserWarning: X does not have valid feature names, but SVC was fitted with feature names\n",
      "  warnings.warn(\n",
      "C:\\Users\\andre\\Desktop\\W.O.R.K\\Eskwelabs\\venv\\lib\\site-packages\\sklearn\\base.py:441: UserWarning: X does not have valid feature names, but SVC was fitted with feature names\n",
      "  warnings.warn(\n",
      "C:\\Users\\andre\\Desktop\\W.O.R.K\\Eskwelabs\\venv\\lib\\site-packages\\sklearn\\base.py:441: UserWarning: X does not have valid feature names, but SVC was fitted with feature names\n",
      "  warnings.warn(\n",
      "C:\\Users\\andre\\Desktop\\W.O.R.K\\Eskwelabs\\venv\\lib\\site-packages\\sklearn\\base.py:441: UserWarning: X does not have valid feature names, but SVC was fitted with feature names\n",
      "  warnings.warn(\n",
      "C:\\Users\\andre\\Desktop\\W.O.R.K\\Eskwelabs\\venv\\lib\\site-packages\\sklearn\\base.py:441: UserWarning: X does not have valid feature names, but SVC was fitted with feature names\n",
      "  warnings.warn(\n",
      "C:\\Users\\andre\\Desktop\\W.O.R.K\\Eskwelabs\\venv\\lib\\site-packages\\sklearn\\base.py:441: UserWarning: X does not have valid feature names, but SVC was fitted with feature names\n",
      "  warnings.warn(\n",
      "C:\\Users\\andre\\Desktop\\W.O.R.K\\Eskwelabs\\venv\\lib\\site-packages\\sklearn\\base.py:441: UserWarning: X does not have valid feature names, but SVC was fitted with feature names\n",
      "  warnings.warn(\n",
      "C:\\Users\\andre\\Desktop\\W.O.R.K\\Eskwelabs\\venv\\lib\\site-packages\\sklearn\\base.py:441: UserWarning: X does not have valid feature names, but SVC was fitted with feature names\n",
      "  warnings.warn(\n",
      "C:\\Users\\andre\\Desktop\\W.O.R.K\\Eskwelabs\\venv\\lib\\site-packages\\sklearn\\base.py:441: UserWarning: X does not have valid feature names, but SVC was fitted with feature names\n",
      "  warnings.warn(\n",
      "C:\\Users\\andre\\Desktop\\W.O.R.K\\Eskwelabs\\venv\\lib\\site-packages\\sklearn\\base.py:441: UserWarning: X does not have valid feature names, but SVC was fitted with feature names\n",
      "  warnings.warn(\n",
      "C:\\Users\\andre\\Desktop\\W.O.R.K\\Eskwelabs\\venv\\lib\\site-packages\\sklearn\\base.py:441: UserWarning: X does not have valid feature names, but SVC was fitted with feature names\n",
      "  warnings.warn(\n",
      "C:\\Users\\andre\\Desktop\\W.O.R.K\\Eskwelabs\\venv\\lib\\site-packages\\sklearn\\base.py:441: UserWarning: X does not have valid feature names, but SVC was fitted with feature names\n",
      "  warnings.warn(\n",
      "C:\\Users\\andre\\Desktop\\W.O.R.K\\Eskwelabs\\venv\\lib\\site-packages\\sklearn\\base.py:441: UserWarning: X does not have valid feature names, but SVC was fitted with feature names\n",
      "  warnings.warn(\n",
      "C:\\Users\\andre\\Desktop\\W.O.R.K\\Eskwelabs\\venv\\lib\\site-packages\\sklearn\\base.py:441: UserWarning: X does not have valid feature names, but SVC was fitted with feature names\n",
      "  warnings.warn(\n",
      "C:\\Users\\andre\\Desktop\\W.O.R.K\\Eskwelabs\\venv\\lib\\site-packages\\sklearn\\base.py:441: UserWarning: X does not have valid feature names, but SVC was fitted with feature names\n",
      "  warnings.warn(\n",
      "C:\\Users\\andre\\Desktop\\W.O.R.K\\Eskwelabs\\venv\\lib\\site-packages\\sklearn\\base.py:441: UserWarning: X does not have valid feature names, but SVC was fitted with feature names\n",
      "  warnings.warn(\n",
      "C:\\Users\\andre\\Desktop\\W.O.R.K\\Eskwelabs\\venv\\lib\\site-packages\\sklearn\\base.py:441: UserWarning: X does not have valid feature names, but SVC was fitted with feature names\n",
      "  warnings.warn(\n",
      "C:\\Users\\andre\\Desktop\\W.O.R.K\\Eskwelabs\\venv\\lib\\site-packages\\sklearn\\base.py:441: UserWarning: X does not have valid feature names, but SVC was fitted with feature names\n",
      "  warnings.warn(\n",
      "C:\\Users\\andre\\Desktop\\W.O.R.K\\Eskwelabs\\venv\\lib\\site-packages\\sklearn\\base.py:441: UserWarning: X does not have valid feature names, but SVC was fitted with feature names\n",
      "  warnings.warn(\n",
      "C:\\Users\\andre\\Desktop\\W.O.R.K\\Eskwelabs\\venv\\lib\\site-packages\\sklearn\\base.py:441: UserWarning: X does not have valid feature names, but SVC was fitted with feature names\n",
      "  warnings.warn(\n",
      "C:\\Users\\andre\\Desktop\\W.O.R.K\\Eskwelabs\\venv\\lib\\site-packages\\sklearn\\base.py:441: UserWarning: X does not have valid feature names, but SVC was fitted with feature names\n",
      "  warnings.warn(\n",
      "C:\\Users\\andre\\Desktop\\W.O.R.K\\Eskwelabs\\venv\\lib\\site-packages\\sklearn\\base.py:441: UserWarning: X does not have valid feature names, but SVC was fitted with feature names\n",
      "  warnings.warn(\n",
      "C:\\Users\\andre\\Desktop\\W.O.R.K\\Eskwelabs\\venv\\lib\\site-packages\\sklearn\\base.py:441: UserWarning: X does not have valid feature names, but SVC was fitted with feature names\n",
      "  warnings.warn(\n",
      "C:\\Users\\andre\\Desktop\\W.O.R.K\\Eskwelabs\\venv\\lib\\site-packages\\sklearn\\base.py:441: UserWarning: X does not have valid feature names, but SVC was fitted with feature names\n",
      "  warnings.warn(\n",
      "C:\\Users\\andre\\Desktop\\W.O.R.K\\Eskwelabs\\venv\\lib\\site-packages\\sklearn\\base.py:441: UserWarning: X does not have valid feature names, but SVC was fitted with feature names\n",
      "  warnings.warn(\n",
      "C:\\Users\\andre\\Desktop\\W.O.R.K\\Eskwelabs\\venv\\lib\\site-packages\\sklearn\\base.py:441: UserWarning: X does not have valid feature names, but SVC was fitted with feature names\n",
      "  warnings.warn(\n",
      "C:\\Users\\andre\\Desktop\\W.O.R.K\\Eskwelabs\\venv\\lib\\site-packages\\sklearn\\base.py:441: UserWarning: X does not have valid feature names, but SVC was fitted with feature names\n",
      "  warnings.warn(\n",
      "C:\\Users\\andre\\Desktop\\W.O.R.K\\Eskwelabs\\venv\\lib\\site-packages\\sklearn\\base.py:441: UserWarning: X does not have valid feature names, but SVC was fitted with feature names\n",
      "  warnings.warn(\n",
      "C:\\Users\\andre\\Desktop\\W.O.R.K\\Eskwelabs\\venv\\lib\\site-packages\\sklearn\\base.py:441: UserWarning: X does not have valid feature names, but SVC was fitted with feature names\n",
      "  warnings.warn(\n",
      "C:\\Users\\andre\\Desktop\\W.O.R.K\\Eskwelabs\\venv\\lib\\site-packages\\sklearn\\base.py:441: UserWarning: X does not have valid feature names, but SVC was fitted with feature names\n",
      "  warnings.warn(\n",
      "C:\\Users\\andre\\Desktop\\W.O.R.K\\Eskwelabs\\venv\\lib\\site-packages\\sklearn\\base.py:441: UserWarning: X does not have valid feature names, but SVC was fitted with feature names\n",
      "  warnings.warn(\n",
      "C:\\Users\\andre\\Desktop\\W.O.R.K\\Eskwelabs\\venv\\lib\\site-packages\\sklearn\\base.py:441: UserWarning: X does not have valid feature names, but SVC was fitted with feature names\n",
      "  warnings.warn(\n",
      "C:\\Users\\andre\\Desktop\\W.O.R.K\\Eskwelabs\\venv\\lib\\site-packages\\sklearn\\base.py:441: UserWarning: X does not have valid feature names, but SVC was fitted with feature names\n",
      "  warnings.warn(\n",
      "C:\\Users\\andre\\Desktop\\W.O.R.K\\Eskwelabs\\venv\\lib\\site-packages\\sklearn\\base.py:441: UserWarning: X does not have valid feature names, but SVC was fitted with feature names\n",
      "  warnings.warn(\n",
      "C:\\Users\\andre\\Desktop\\W.O.R.K\\Eskwelabs\\venv\\lib\\site-packages\\sklearn\\base.py:441: UserWarning: X does not have valid feature names, but SVC was fitted with feature names\n",
      "  warnings.warn(\n",
      "C:\\Users\\andre\\Desktop\\W.O.R.K\\Eskwelabs\\venv\\lib\\site-packages\\sklearn\\base.py:441: UserWarning: X does not have valid feature names, but SVC was fitted with feature names\n",
      "  warnings.warn(\n",
      "C:\\Users\\andre\\Desktop\\W.O.R.K\\Eskwelabs\\venv\\lib\\site-packages\\sklearn\\base.py:441: UserWarning: X does not have valid feature names, but SVC was fitted with feature names\n",
      "  warnings.warn(\n",
      "C:\\Users\\andre\\Desktop\\W.O.R.K\\Eskwelabs\\venv\\lib\\site-packages\\sklearn\\base.py:441: UserWarning: X does not have valid feature names, but SVC was fitted with feature names\n",
      "  warnings.warn(\n",
      "C:\\Users\\andre\\Desktop\\W.O.R.K\\Eskwelabs\\venv\\lib\\site-packages\\sklearn\\base.py:441: UserWarning: X does not have valid feature names, but SVC was fitted with feature names\n",
      "  warnings.warn(\n",
      "C:\\Users\\andre\\Desktop\\W.O.R.K\\Eskwelabs\\venv\\lib\\site-packages\\sklearn\\base.py:441: UserWarning: X does not have valid feature names, but SVC was fitted with feature names\n",
      "  warnings.warn(\n",
      "C:\\Users\\andre\\Desktop\\W.O.R.K\\Eskwelabs\\venv\\lib\\site-packages\\sklearn\\base.py:441: UserWarning: X does not have valid feature names, but SVC was fitted with feature names\n",
      "  warnings.warn(\n",
      "C:\\Users\\andre\\Desktop\\W.O.R.K\\Eskwelabs\\venv\\lib\\site-packages\\sklearn\\base.py:441: UserWarning: X does not have valid feature names, but SVC was fitted with feature names\n",
      "  warnings.warn(\n",
      "C:\\Users\\andre\\Desktop\\W.O.R.K\\Eskwelabs\\venv\\lib\\site-packages\\sklearn\\base.py:441: UserWarning: X does not have valid feature names, but SVC was fitted with feature names\n",
      "  warnings.warn(\n",
      "C:\\Users\\andre\\Desktop\\W.O.R.K\\Eskwelabs\\venv\\lib\\site-packages\\sklearn\\base.py:441: UserWarning: X does not have valid feature names, but SVC was fitted with feature names\n",
      "  warnings.warn(\n",
      "C:\\Users\\andre\\Desktop\\W.O.R.K\\Eskwelabs\\venv\\lib\\site-packages\\sklearn\\base.py:441: UserWarning: X does not have valid feature names, but SVC was fitted with feature names\n",
      "  warnings.warn(\n",
      "C:\\Users\\andre\\Desktop\\W.O.R.K\\Eskwelabs\\venv\\lib\\site-packages\\sklearn\\base.py:441: UserWarning: X does not have valid feature names, but SVC was fitted with feature names\n",
      "  warnings.warn(\n",
      "C:\\Users\\andre\\Desktop\\W.O.R.K\\Eskwelabs\\venv\\lib\\site-packages\\sklearn\\base.py:441: UserWarning: X does not have valid feature names, but SVC was fitted with feature names\n",
      "  warnings.warn(\n",
      "C:\\Users\\andre\\Desktop\\W.O.R.K\\Eskwelabs\\venv\\lib\\site-packages\\sklearn\\base.py:441: UserWarning: X does not have valid feature names, but SVC was fitted with feature names\n",
      "  warnings.warn(\n",
      "C:\\Users\\andre\\Desktop\\W.O.R.K\\Eskwelabs\\venv\\lib\\site-packages\\sklearn\\base.py:441: UserWarning: X does not have valid feature names, but SVC was fitted with feature names\n",
      "  warnings.warn(\n",
      "C:\\Users\\andre\\Desktop\\W.O.R.K\\Eskwelabs\\venv\\lib\\site-packages\\sklearn\\base.py:441: UserWarning: X does not have valid feature names, but SVC was fitted with feature names\n",
      "  warnings.warn(\n",
      "C:\\Users\\andre\\Desktop\\W.O.R.K\\Eskwelabs\\venv\\lib\\site-packages\\sklearn\\base.py:441: UserWarning: X does not have valid feature names, but SVC was fitted with feature names\n",
      "  warnings.warn(\n",
      "C:\\Users\\andre\\Desktop\\W.O.R.K\\Eskwelabs\\venv\\lib\\site-packages\\sklearn\\base.py:441: UserWarning: X does not have valid feature names, but SVC was fitted with feature names\n",
      "  warnings.warn(\n",
      "C:\\Users\\andre\\Desktop\\W.O.R.K\\Eskwelabs\\venv\\lib\\site-packages\\sklearn\\base.py:441: UserWarning: X does not have valid feature names, but SVC was fitted with feature names\n",
      "  warnings.warn(\n",
      "C:\\Users\\andre\\Desktop\\W.O.R.K\\Eskwelabs\\venv\\lib\\site-packages\\sklearn\\base.py:441: UserWarning: X does not have valid feature names, but SVC was fitted with feature names\n",
      "  warnings.warn(\n",
      "C:\\Users\\andre\\Desktop\\W.O.R.K\\Eskwelabs\\venv\\lib\\site-packages\\sklearn\\base.py:441: UserWarning: X does not have valid feature names, but SVC was fitted with feature names\n",
      "  warnings.warn(\n",
      "C:\\Users\\andre\\Desktop\\W.O.R.K\\Eskwelabs\\venv\\lib\\site-packages\\sklearn\\base.py:441: UserWarning: X does not have valid feature names, but SVC was fitted with feature names\n",
      "  warnings.warn(\n",
      "C:\\Users\\andre\\Desktop\\W.O.R.K\\Eskwelabs\\venv\\lib\\site-packages\\sklearn\\base.py:441: UserWarning: X does not have valid feature names, but SVC was fitted with feature names\n",
      "  warnings.warn(\n",
      "C:\\Users\\andre\\Desktop\\W.O.R.K\\Eskwelabs\\venv\\lib\\site-packages\\sklearn\\base.py:441: UserWarning: X does not have valid feature names, but SVC was fitted with feature names\n",
      "  warnings.warn(\n",
      "C:\\Users\\andre\\Desktop\\W.O.R.K\\Eskwelabs\\venv\\lib\\site-packages\\sklearn\\base.py:441: UserWarning: X does not have valid feature names, but SVC was fitted with feature names\n",
      "  warnings.warn(\n",
      "C:\\Users\\andre\\Desktop\\W.O.R.K\\Eskwelabs\\venv\\lib\\site-packages\\sklearn\\base.py:441: UserWarning: X does not have valid feature names, but SVC was fitted with feature names\n",
      "  warnings.warn(\n",
      "C:\\Users\\andre\\Desktop\\W.O.R.K\\Eskwelabs\\venv\\lib\\site-packages\\sklearn\\base.py:441: UserWarning: X does not have valid feature names, but SVC was fitted with feature names\n",
      "  warnings.warn(\n",
      "C:\\Users\\andre\\Desktop\\W.O.R.K\\Eskwelabs\\venv\\lib\\site-packages\\sklearn\\base.py:441: UserWarning: X does not have valid feature names, but SVC was fitted with feature names\n",
      "  warnings.warn(\n",
      "C:\\Users\\andre\\Desktop\\W.O.R.K\\Eskwelabs\\venv\\lib\\site-packages\\sklearn\\base.py:441: UserWarning: X does not have valid feature names, but SVC was fitted with feature names\n",
      "  warnings.warn(\n",
      "C:\\Users\\andre\\Desktop\\W.O.R.K\\Eskwelabs\\venv\\lib\\site-packages\\sklearn\\base.py:441: UserWarning: X does not have valid feature names, but SVC was fitted with feature names\n",
      "  warnings.warn(\n",
      "C:\\Users\\andre\\Desktop\\W.O.R.K\\Eskwelabs\\venv\\lib\\site-packages\\sklearn\\base.py:441: UserWarning: X does not have valid feature names, but SVC was fitted with feature names\n",
      "  warnings.warn(\n",
      "C:\\Users\\andre\\Desktop\\W.O.R.K\\Eskwelabs\\venv\\lib\\site-packages\\sklearn\\base.py:441: UserWarning: X does not have valid feature names, but SVC was fitted with feature names\n",
      "  warnings.warn(\n",
      "C:\\Users\\andre\\Desktop\\W.O.R.K\\Eskwelabs\\venv\\lib\\site-packages\\sklearn\\base.py:441: UserWarning: X does not have valid feature names, but SVC was fitted with feature names\n",
      "  warnings.warn(\n",
      "C:\\Users\\andre\\Desktop\\W.O.R.K\\Eskwelabs\\venv\\lib\\site-packages\\sklearn\\base.py:441: UserWarning: X does not have valid feature names, but SVC was fitted with feature names\n",
      "  warnings.warn(\n",
      "C:\\Users\\andre\\Desktop\\W.O.R.K\\Eskwelabs\\venv\\lib\\site-packages\\sklearn\\base.py:441: UserWarning: X does not have valid feature names, but SVC was fitted with feature names\n",
      "  warnings.warn(\n",
      "C:\\Users\\andre\\Desktop\\W.O.R.K\\Eskwelabs\\venv\\lib\\site-packages\\sklearn\\base.py:441: UserWarning: X does not have valid feature names, but SVC was fitted with feature names\n",
      "  warnings.warn(\n",
      "C:\\Users\\andre\\Desktop\\W.O.R.K\\Eskwelabs\\venv\\lib\\site-packages\\sklearn\\base.py:441: UserWarning: X does not have valid feature names, but SVC was fitted with feature names\n",
      "  warnings.warn(\n",
      "C:\\Users\\andre\\Desktop\\W.O.R.K\\Eskwelabs\\venv\\lib\\site-packages\\sklearn\\base.py:441: UserWarning: X does not have valid feature names, but SVC was fitted with feature names\n",
      "  warnings.warn(\n",
      "C:\\Users\\andre\\Desktop\\W.O.R.K\\Eskwelabs\\venv\\lib\\site-packages\\sklearn\\base.py:441: UserWarning: X does not have valid feature names, but SVC was fitted with feature names\n",
      "  warnings.warn(\n",
      "C:\\Users\\andre\\Desktop\\W.O.R.K\\Eskwelabs\\venv\\lib\\site-packages\\sklearn\\base.py:441: UserWarning: X does not have valid feature names, but SVC was fitted with feature names\n",
      "  warnings.warn(\n",
      "C:\\Users\\andre\\Desktop\\W.O.R.K\\Eskwelabs\\venv\\lib\\site-packages\\sklearn\\base.py:441: UserWarning: X does not have valid feature names, but SVC was fitted with feature names\n",
      "  warnings.warn(\n",
      "C:\\Users\\andre\\Desktop\\W.O.R.K\\Eskwelabs\\venv\\lib\\site-packages\\sklearn\\base.py:441: UserWarning: X does not have valid feature names, but SVC was fitted with feature names\n",
      "  warnings.warn(\n",
      "C:\\Users\\andre\\Desktop\\W.O.R.K\\Eskwelabs\\venv\\lib\\site-packages\\sklearn\\base.py:441: UserWarning: X does not have valid feature names, but SVC was fitted with feature names\n",
      "  warnings.warn(\n"
     ]
    },
    {
     "name": "stderr",
     "output_type": "stream",
     "text": [
      "C:\\Users\\andre\\Desktop\\W.O.R.K\\Eskwelabs\\venv\\lib\\site-packages\\sklearn\\base.py:441: UserWarning: X does not have valid feature names, but SVC was fitted with feature names\n",
      "  warnings.warn(\n",
      "C:\\Users\\andre\\Desktop\\W.O.R.K\\Eskwelabs\\venv\\lib\\site-packages\\sklearn\\base.py:441: UserWarning: X does not have valid feature names, but SVC was fitted with feature names\n",
      "  warnings.warn(\n",
      "C:\\Users\\andre\\Desktop\\W.O.R.K\\Eskwelabs\\venv\\lib\\site-packages\\sklearn\\base.py:441: UserWarning: X does not have valid feature names, but SVC was fitted with feature names\n",
      "  warnings.warn(\n",
      "C:\\Users\\andre\\Desktop\\W.O.R.K\\Eskwelabs\\venv\\lib\\site-packages\\sklearn\\base.py:441: UserWarning: X does not have valid feature names, but SVC was fitted with feature names\n",
      "  warnings.warn(\n",
      "C:\\Users\\andre\\Desktop\\W.O.R.K\\Eskwelabs\\venv\\lib\\site-packages\\sklearn\\base.py:441: UserWarning: X does not have valid feature names, but SVC was fitted with feature names\n",
      "  warnings.warn(\n",
      "C:\\Users\\andre\\Desktop\\W.O.R.K\\Eskwelabs\\venv\\lib\\site-packages\\sklearn\\base.py:441: UserWarning: X does not have valid feature names, but SVC was fitted with feature names\n",
      "  warnings.warn(\n",
      "C:\\Users\\andre\\Desktop\\W.O.R.K\\Eskwelabs\\venv\\lib\\site-packages\\sklearn\\base.py:441: UserWarning: X does not have valid feature names, but SVC was fitted with feature names\n",
      "  warnings.warn(\n",
      "C:\\Users\\andre\\Desktop\\W.O.R.K\\Eskwelabs\\venv\\lib\\site-packages\\sklearn\\base.py:441: UserWarning: X does not have valid feature names, but SVC was fitted with feature names\n",
      "  warnings.warn(\n",
      "C:\\Users\\andre\\Desktop\\W.O.R.K\\Eskwelabs\\venv\\lib\\site-packages\\sklearn\\base.py:441: UserWarning: X does not have valid feature names, but SVC was fitted with feature names\n",
      "  warnings.warn(\n",
      "C:\\Users\\andre\\Desktop\\W.O.R.K\\Eskwelabs\\venv\\lib\\site-packages\\sklearn\\base.py:441: UserWarning: X does not have valid feature names, but SVC was fitted with feature names\n",
      "  warnings.warn(\n",
      "C:\\Users\\andre\\Desktop\\W.O.R.K\\Eskwelabs\\venv\\lib\\site-packages\\sklearn\\base.py:441: UserWarning: X does not have valid feature names, but SVC was fitted with feature names\n",
      "  warnings.warn(\n",
      "C:\\Users\\andre\\Desktop\\W.O.R.K\\Eskwelabs\\venv\\lib\\site-packages\\sklearn\\base.py:441: UserWarning: X does not have valid feature names, but SVC was fitted with feature names\n",
      "  warnings.warn(\n",
      "C:\\Users\\andre\\Desktop\\W.O.R.K\\Eskwelabs\\venv\\lib\\site-packages\\sklearn\\base.py:441: UserWarning: X does not have valid feature names, but SVC was fitted with feature names\n",
      "  warnings.warn(\n",
      "C:\\Users\\andre\\Desktop\\W.O.R.K\\Eskwelabs\\venv\\lib\\site-packages\\sklearn\\base.py:441: UserWarning: X does not have valid feature names, but SVC was fitted with feature names\n",
      "  warnings.warn(\n",
      "C:\\Users\\andre\\Desktop\\W.O.R.K\\Eskwelabs\\venv\\lib\\site-packages\\sklearn\\base.py:441: UserWarning: X does not have valid feature names, but SVC was fitted with feature names\n",
      "  warnings.warn(\n",
      "C:\\Users\\andre\\Desktop\\W.O.R.K\\Eskwelabs\\venv\\lib\\site-packages\\sklearn\\base.py:441: UserWarning: X does not have valid feature names, but SVC was fitted with feature names\n",
      "  warnings.warn(\n",
      "C:\\Users\\andre\\Desktop\\W.O.R.K\\Eskwelabs\\venv\\lib\\site-packages\\sklearn\\base.py:441: UserWarning: X does not have valid feature names, but SVC was fitted with feature names\n",
      "  warnings.warn(\n",
      "C:\\Users\\andre\\Desktop\\W.O.R.K\\Eskwelabs\\venv\\lib\\site-packages\\sklearn\\base.py:441: UserWarning: X does not have valid feature names, but SVC was fitted with feature names\n",
      "  warnings.warn(\n",
      "C:\\Users\\andre\\Desktop\\W.O.R.K\\Eskwelabs\\venv\\lib\\site-packages\\sklearn\\base.py:441: UserWarning: X does not have valid feature names, but SVC was fitted with feature names\n",
      "  warnings.warn(\n",
      "C:\\Users\\andre\\Desktop\\W.O.R.K\\Eskwelabs\\venv\\lib\\site-packages\\sklearn\\base.py:441: UserWarning: X does not have valid feature names, but SVC was fitted with feature names\n",
      "  warnings.warn(\n",
      "C:\\Users\\andre\\Desktop\\W.O.R.K\\Eskwelabs\\venv\\lib\\site-packages\\sklearn\\base.py:441: UserWarning: X does not have valid feature names, but SVC was fitted with feature names\n",
      "  warnings.warn(\n",
      "C:\\Users\\andre\\Desktop\\W.O.R.K\\Eskwelabs\\venv\\lib\\site-packages\\sklearn\\base.py:441: UserWarning: X does not have valid feature names, but SVC was fitted with feature names\n",
      "  warnings.warn(\n",
      "C:\\Users\\andre\\Desktop\\W.O.R.K\\Eskwelabs\\venv\\lib\\site-packages\\sklearn\\base.py:441: UserWarning: X does not have valid feature names, but SVC was fitted with feature names\n",
      "  warnings.warn(\n",
      "C:\\Users\\andre\\Desktop\\W.O.R.K\\Eskwelabs\\venv\\lib\\site-packages\\sklearn\\base.py:441: UserWarning: X does not have valid feature names, but SVC was fitted with feature names\n",
      "  warnings.warn(\n",
      "C:\\Users\\andre\\Desktop\\W.O.R.K\\Eskwelabs\\venv\\lib\\site-packages\\sklearn\\base.py:441: UserWarning: X does not have valid feature names, but SVC was fitted with feature names\n",
      "  warnings.warn(\n",
      "C:\\Users\\andre\\Desktop\\W.O.R.K\\Eskwelabs\\venv\\lib\\site-packages\\sklearn\\base.py:441: UserWarning: X does not have valid feature names, but SVC was fitted with feature names\n",
      "  warnings.warn(\n"
     ]
    }
   ],
   "source": [
    "chart_tracks_df['predicted_genre_id'] = chart_tracks_df.apply(lambda x:  optimal_model.predict(x[feature_cols].values.reshape(1,-1))[0]\\\n",
    "                                               , axis=1)\n",
    "chart_tracks_df['predicted_genre'] = chart_tracks_df['predicted_genre_id'].apply(lambda x: genre_lookup[x])\n",
    "chart_tracks_df['predicted_genre_prob'] = chart_tracks_df.apply(lambda x:  np.max(optimal_model.predict_proba(x[feature_cols].values.reshape(1,-1)))\\\n",
    "                                                    , axis=1)\n",
    "chart_tracks_df['all_genre_prob'] = chart_tracks_df.apply(lambda x:  optimal_model.predict_proba(x[feature_cols].values.reshape(1,-1))[0]\\\n",
    "                                                    , axis=1)"
   ]
  },
  {
   "cell_type": "code",
   "execution_count": 56,
   "metadata": {
    "ExecuteTime": {
     "end_time": "2022-01-11T11:30:08.950711Z",
     "start_time": "2022-01-11T11:30:08.821787Z"
    }
   },
   "outputs": [
    {
     "data": {
      "text/html": [
       "<div>\n",
       "<style scoped>\n",
       "    .dataframe tbody tr th:only-of-type {\n",
       "        vertical-align: middle;\n",
       "    }\n",
       "\n",
       "    .dataframe tbody tr th {\n",
       "        vertical-align: top;\n",
       "    }\n",
       "\n",
       "    .dataframe thead th {\n",
       "        text-align: right;\n",
       "    }\n",
       "</style>\n",
       "<table border=\"1\" class=\"dataframe\">\n",
       "  <thead>\n",
       "    <tr style=\"text-align: right;\">\n",
       "      <th></th>\n",
       "      <th>Unnamed: 0</th>\n",
       "      <th>track_name</th>\n",
       "      <th>track_id</th>\n",
       "      <th>artist_name</th>\n",
       "      <th>danceability</th>\n",
       "      <th>energy</th>\n",
       "      <th>key</th>\n",
       "      <th>loudness</th>\n",
       "      <th>mode</th>\n",
       "      <th>speechiness</th>\n",
       "      <th>...</th>\n",
       "      <th>tempo</th>\n",
       "      <th>predicted_genre_id</th>\n",
       "      <th>predicted_genre</th>\n",
       "      <th>predicted_genre_prob</th>\n",
       "      <th>predicted_opm acoustic_prob</th>\n",
       "      <th>predicted_opm dance_prob</th>\n",
       "      <th>predicted_opm jazz_prob</th>\n",
       "      <th>predicted_opm rap_prob</th>\n",
       "      <th>predicted_opm reggae_prob</th>\n",
       "      <th>predicted_opm rock_prob</th>\n",
       "    </tr>\n",
       "  </thead>\n",
       "  <tbody>\n",
       "    <tr>\n",
       "      <th>38</th>\n",
       "      <td>38</td>\n",
       "      <td>Lifetime</td>\n",
       "      <td>3X9c4tBzSdGhlO4Fx3WYgW</td>\n",
       "      <td>Ben&amp;Ben</td>\n",
       "      <td>0.386</td>\n",
       "      <td>0.657</td>\n",
       "      <td>7</td>\n",
       "      <td>0.865198</td>\n",
       "      <td>1</td>\n",
       "      <td>0.0316</td>\n",
       "      <td>...</td>\n",
       "      <td>0.999608</td>\n",
       "      <td>5</td>\n",
       "      <td>opm rock</td>\n",
       "      <td>0.772751</td>\n",
       "      <td>0.074298</td>\n",
       "      <td>0.027227</td>\n",
       "      <td>0.050168</td>\n",
       "      <td>0.029241</td>\n",
       "      <td>0.046315</td>\n",
       "      <td>0.772751</td>\n",
       "    </tr>\n",
       "    <tr>\n",
       "      <th>57</th>\n",
       "      <td>57</td>\n",
       "      <td>Balita</td>\n",
       "      <td>62y4i6e9QVug3Nf7gf7i9P</td>\n",
       "      <td>I Belong to the Zoo</td>\n",
       "      <td>0.485</td>\n",
       "      <td>0.891</td>\n",
       "      <td>2</td>\n",
       "      <td>1.000000</td>\n",
       "      <td>1</td>\n",
       "      <td>0.0539</td>\n",
       "      <td>...</td>\n",
       "      <td>0.841267</td>\n",
       "      <td>5</td>\n",
       "      <td>opm rock</td>\n",
       "      <td>0.760666</td>\n",
       "      <td>0.022382</td>\n",
       "      <td>0.073877</td>\n",
       "      <td>0.026376</td>\n",
       "      <td>0.019883</td>\n",
       "      <td>0.096817</td>\n",
       "      <td>0.760666</td>\n",
       "    </tr>\n",
       "    <tr>\n",
       "      <th>45</th>\n",
       "      <td>45</td>\n",
       "      <td>Vie (Sabihin Mo Kung)</td>\n",
       "      <td>6FmoxZRTJrSCaZR3rjEv3W</td>\n",
       "      <td>NOBITA</td>\n",
       "      <td>0.686</td>\n",
       "      <td>0.271</td>\n",
       "      <td>7</td>\n",
       "      <td>0.488786</td>\n",
       "      <td>1</td>\n",
       "      <td>0.0346</td>\n",
       "      <td>...</td>\n",
       "      <td>0.557346</td>\n",
       "      <td>0</td>\n",
       "      <td>opm acoustic</td>\n",
       "      <td>0.724720</td>\n",
       "      <td>0.724720</td>\n",
       "      <td>0.009128</td>\n",
       "      <td>0.049510</td>\n",
       "      <td>0.095037</td>\n",
       "      <td>0.013794</td>\n",
       "      <td>0.107810</td>\n",
       "    </tr>\n",
       "    <tr>\n",
       "      <th>30</th>\n",
       "      <td>30</td>\n",
       "      <td>Paninindigan Kita</td>\n",
       "      <td>5d9Rka4T0szdC1MobhtXrV</td>\n",
       "      <td>Ben&amp;Ben</td>\n",
       "      <td>0.624</td>\n",
       "      <td>0.596</td>\n",
       "      <td>4</td>\n",
       "      <td>0.534118</td>\n",
       "      <td>1</td>\n",
       "      <td>0.0308</td>\n",
       "      <td>...</td>\n",
       "      <td>0.443196</td>\n",
       "      <td>5</td>\n",
       "      <td>opm rock</td>\n",
       "      <td>0.720334</td>\n",
       "      <td>0.036017</td>\n",
       "      <td>0.038701</td>\n",
       "      <td>0.064614</td>\n",
       "      <td>0.022088</td>\n",
       "      <td>0.118245</td>\n",
       "      <td>0.720334</td>\n",
       "    </tr>\n",
       "    <tr>\n",
       "      <th>24</th>\n",
       "      <td>24</td>\n",
       "      <td>Binibini</td>\n",
       "      <td>55RMhrPQYA6vLu5YMgXxFD</td>\n",
       "      <td>Zack Tabudlo</td>\n",
       "      <td>0.642</td>\n",
       "      <td>0.374</td>\n",
       "      <td>5</td>\n",
       "      <td>0.429299</td>\n",
       "      <td>1</td>\n",
       "      <td>0.0320</td>\n",
       "      <td>...</td>\n",
       "      <td>0.581970</td>\n",
       "      <td>0</td>\n",
       "      <td>opm acoustic</td>\n",
       "      <td>0.696404</td>\n",
       "      <td>0.696404</td>\n",
       "      <td>0.007766</td>\n",
       "      <td>0.054716</td>\n",
       "      <td>0.104565</td>\n",
       "      <td>0.016624</td>\n",
       "      <td>0.119924</td>\n",
       "    </tr>\n",
       "  </tbody>\n",
       "</table>\n",
       "<p>5 rows × 24 columns</p>\n",
       "</div>"
      ],
      "text/plain": [
       "    Unnamed: 0             track_name                track_id  \\\n",
       "38          38               Lifetime  3X9c4tBzSdGhlO4Fx3WYgW   \n",
       "57          57                 Balita  62y4i6e9QVug3Nf7gf7i9P   \n",
       "45          45  Vie (Sabihin Mo Kung)  6FmoxZRTJrSCaZR3rjEv3W   \n",
       "30          30      Paninindigan Kita  5d9Rka4T0szdC1MobhtXrV   \n",
       "24          24               Binibini  55RMhrPQYA6vLu5YMgXxFD   \n",
       "\n",
       "            artist_name  danceability  energy  key  loudness  mode  \\\n",
       "38              Ben&Ben         0.386   0.657    7  0.865198     1   \n",
       "57  I Belong to the Zoo         0.485   0.891    2  1.000000     1   \n",
       "45               NOBITA         0.686   0.271    7  0.488786     1   \n",
       "30              Ben&Ben         0.624   0.596    4  0.534118     1   \n",
       "24         Zack Tabudlo         0.642   0.374    5  0.429299     1   \n",
       "\n",
       "    speechiness  ...     tempo  predicted_genre_id  predicted_genre  \\\n",
       "38       0.0316  ...  0.999608                   5         opm rock   \n",
       "57       0.0539  ...  0.841267                   5         opm rock   \n",
       "45       0.0346  ...  0.557346                   0     opm acoustic   \n",
       "30       0.0308  ...  0.443196                   5         opm rock   \n",
       "24       0.0320  ...  0.581970                   0     opm acoustic   \n",
       "\n",
       "    predicted_genre_prob  predicted_opm acoustic_prob  \\\n",
       "38              0.772751                     0.074298   \n",
       "57              0.760666                     0.022382   \n",
       "45              0.724720                     0.724720   \n",
       "30              0.720334                     0.036017   \n",
       "24              0.696404                     0.696404   \n",
       "\n",
       "    predicted_opm dance_prob predicted_opm jazz_prob  predicted_opm rap_prob  \\\n",
       "38                  0.027227                0.050168                0.029241   \n",
       "57                  0.073877                0.026376                0.019883   \n",
       "45                  0.009128                0.049510                0.095037   \n",
       "30                  0.038701                0.064614                0.022088   \n",
       "24                  0.007766                0.054716                0.104565   \n",
       "\n",
       "    predicted_opm reggae_prob  predicted_opm rock_prob  \n",
       "38                   0.046315                 0.772751  \n",
       "57                   0.096817                 0.760666  \n",
       "45                   0.013794                 0.107810  \n",
       "30                   0.118245                 0.720334  \n",
       "24                   0.016624                 0.119924  \n",
       "\n",
       "[5 rows x 24 columns]"
      ]
     },
     "execution_count": 56,
     "metadata": {},
     "output_type": "execute_result"
    }
   ],
   "source": [
    "#explode genre probabilities into separate columns\n",
    "charts_predicted_genre_prob = pd.DataFrame(chart_tracks_df[\"all_genre_prob\"].to_list(),\n",
    "                                           columns=['predicted_'+g+'_prob' for g in genre_lookup.values()])\n",
    "charts_predicted_genre_prob['track_id'] = chart_tracks_df['track_id']\n",
    "chart_tracks_df = pd.merge(chart_tracks_df,charts_predicted_genre_prob, how='left', on='track_id')\n",
    "chart_tracks_df = chart_tracks_df.drop(columns='all_genre_prob')\n",
    "chart_tracks_df = chart_tracks_df.sort_values('predicted_genre_prob', ascending=False)\n",
    "chart_tracks_df.head()"
   ]
  },
  {
   "cell_type": "code",
   "execution_count": 57,
   "metadata": {
    "ExecuteTime": {
     "end_time": "2022-01-11T11:30:29.803022Z",
     "start_time": "2022-01-11T11:30:29.755050Z"
    },
    "scrolled": true
   },
   "outputs": [
    {
     "data": {
      "text/html": [
       "<div>\n",
       "<style scoped>\n",
       "    .dataframe tbody tr th:only-of-type {\n",
       "        vertical-align: middle;\n",
       "    }\n",
       "\n",
       "    .dataframe tbody tr th {\n",
       "        vertical-align: top;\n",
       "    }\n",
       "\n",
       "    .dataframe thead th {\n",
       "        text-align: right;\n",
       "    }\n",
       "</style>\n",
       "<table border=\"1\" class=\"dataframe\">\n",
       "  <thead>\n",
       "    <tr style=\"text-align: right;\">\n",
       "      <th></th>\n",
       "      <th>track_name</th>\n",
       "      <th>predicted_genre_id</th>\n",
       "      <th>predicted_genre</th>\n",
       "      <th>predicted_genre_prob</th>\n",
       "      <th>predicted_opm acoustic_prob</th>\n",
       "      <th>predicted_opm dance_prob</th>\n",
       "      <th>predicted_opm jazz_prob</th>\n",
       "      <th>predicted_opm rap_prob</th>\n",
       "      <th>predicted_opm reggae_prob</th>\n",
       "      <th>predicted_opm rock_prob</th>\n",
       "    </tr>\n",
       "  </thead>\n",
       "  <tbody>\n",
       "    <tr>\n",
       "      <th>38</th>\n",
       "      <td>Lifetime</td>\n",
       "      <td>5</td>\n",
       "      <td>opm rock</td>\n",
       "      <td>0.772751</td>\n",
       "      <td>0.074298</td>\n",
       "      <td>0.027227</td>\n",
       "      <td>0.050168</td>\n",
       "      <td>0.029241</td>\n",
       "      <td>0.046315</td>\n",
       "      <td>0.772751</td>\n",
       "    </tr>\n",
       "    <tr>\n",
       "      <th>57</th>\n",
       "      <td>Balita</td>\n",
       "      <td>5</td>\n",
       "      <td>opm rock</td>\n",
       "      <td>0.760666</td>\n",
       "      <td>0.022382</td>\n",
       "      <td>0.073877</td>\n",
       "      <td>0.026376</td>\n",
       "      <td>0.019883</td>\n",
       "      <td>0.096817</td>\n",
       "      <td>0.760666</td>\n",
       "    </tr>\n",
       "    <tr>\n",
       "      <th>45</th>\n",
       "      <td>Vie (Sabihin Mo Kung)</td>\n",
       "      <td>0</td>\n",
       "      <td>opm acoustic</td>\n",
       "      <td>0.724720</td>\n",
       "      <td>0.724720</td>\n",
       "      <td>0.009128</td>\n",
       "      <td>0.049510</td>\n",
       "      <td>0.095037</td>\n",
       "      <td>0.013794</td>\n",
       "      <td>0.107810</td>\n",
       "    </tr>\n",
       "    <tr>\n",
       "      <th>30</th>\n",
       "      <td>Paninindigan Kita</td>\n",
       "      <td>5</td>\n",
       "      <td>opm rock</td>\n",
       "      <td>0.720334</td>\n",
       "      <td>0.036017</td>\n",
       "      <td>0.038701</td>\n",
       "      <td>0.064614</td>\n",
       "      <td>0.022088</td>\n",
       "      <td>0.118245</td>\n",
       "      <td>0.720334</td>\n",
       "    </tr>\n",
       "    <tr>\n",
       "      <th>24</th>\n",
       "      <td>Binibini</td>\n",
       "      <td>0</td>\n",
       "      <td>opm acoustic</td>\n",
       "      <td>0.696404</td>\n",
       "      <td>0.696404</td>\n",
       "      <td>0.007766</td>\n",
       "      <td>0.054716</td>\n",
       "      <td>0.104565</td>\n",
       "      <td>0.016624</td>\n",
       "      <td>0.119924</td>\n",
       "    </tr>\n",
       "    <tr>\n",
       "      <th>41</th>\n",
       "      <td>Paano Uusad</td>\n",
       "      <td>5</td>\n",
       "      <td>opm rock</td>\n",
       "      <td>0.690534</td>\n",
       "      <td>0.153282</td>\n",
       "      <td>0.018232</td>\n",
       "      <td>0.080152</td>\n",
       "      <td>0.037548</td>\n",
       "      <td>0.020252</td>\n",
       "      <td>0.690534</td>\n",
       "    </tr>\n",
       "    <tr>\n",
       "      <th>51</th>\n",
       "      <td>Balang Araw</td>\n",
       "      <td>5</td>\n",
       "      <td>opm rock</td>\n",
       "      <td>0.680188</td>\n",
       "      <td>0.107106</td>\n",
       "      <td>0.016371</td>\n",
       "      <td>0.066376</td>\n",
       "      <td>0.079255</td>\n",
       "      <td>0.050704</td>\n",
       "      <td>0.680188</td>\n",
       "    </tr>\n",
       "    <tr>\n",
       "      <th>15</th>\n",
       "      <td>You'll Be Safe Here</td>\n",
       "      <td>0</td>\n",
       "      <td>opm acoustic</td>\n",
       "      <td>0.667071</td>\n",
       "      <td>0.667071</td>\n",
       "      <td>0.017183</td>\n",
       "      <td>0.137305</td>\n",
       "      <td>0.041380</td>\n",
       "      <td>0.004622</td>\n",
       "      <td>0.132440</td>\n",
       "    </tr>\n",
       "    <tr>\n",
       "      <th>35</th>\n",
       "      <td>Maybe The Night</td>\n",
       "      <td>5</td>\n",
       "      <td>opm rock</td>\n",
       "      <td>0.662394</td>\n",
       "      <td>0.088305</td>\n",
       "      <td>0.020630</td>\n",
       "      <td>0.101263</td>\n",
       "      <td>0.067590</td>\n",
       "      <td>0.059817</td>\n",
       "      <td>0.662394</td>\n",
       "    </tr>\n",
       "    <tr>\n",
       "      <th>28</th>\n",
       "      <td>Iba (ft. Moira Dela Torre)</td>\n",
       "      <td>5</td>\n",
       "      <td>opm rock</td>\n",
       "      <td>0.659961</td>\n",
       "      <td>0.072793</td>\n",
       "      <td>0.036115</td>\n",
       "      <td>0.098284</td>\n",
       "      <td>0.051965</td>\n",
       "      <td>0.080882</td>\n",
       "      <td>0.659961</td>\n",
       "    </tr>\n",
       "    <tr>\n",
       "      <th>31</th>\n",
       "      <td>Sa Susunod na Habang Buhay</td>\n",
       "      <td>5</td>\n",
       "      <td>opm rock</td>\n",
       "      <td>0.644929</td>\n",
       "      <td>0.166029</td>\n",
       "      <td>0.037679</td>\n",
       "      <td>0.080397</td>\n",
       "      <td>0.055257</td>\n",
       "      <td>0.015709</td>\n",
       "      <td>0.644929</td>\n",
       "    </tr>\n",
       "    <tr>\n",
       "      <th>16</th>\n",
       "      <td>Luha</td>\n",
       "      <td>0</td>\n",
       "      <td>opm acoustic</td>\n",
       "      <td>0.640188</td>\n",
       "      <td>0.640188</td>\n",
       "      <td>0.019762</td>\n",
       "      <td>0.152341</td>\n",
       "      <td>0.058247</td>\n",
       "      <td>0.004193</td>\n",
       "      <td>0.125269</td>\n",
       "    </tr>\n",
       "    <tr>\n",
       "      <th>29</th>\n",
       "      <td>The Ones We Once Loved</td>\n",
       "      <td>0</td>\n",
       "      <td>opm acoustic</td>\n",
       "      <td>0.639853</td>\n",
       "      <td>0.639853</td>\n",
       "      <td>0.024047</td>\n",
       "      <td>0.115500</td>\n",
       "      <td>0.037195</td>\n",
       "      <td>0.006732</td>\n",
       "      <td>0.176673</td>\n",
       "    </tr>\n",
       "    <tr>\n",
       "      <th>43</th>\n",
       "      <td>Totoo</td>\n",
       "      <td>5</td>\n",
       "      <td>opm rock</td>\n",
       "      <td>0.637282</td>\n",
       "      <td>0.101651</td>\n",
       "      <td>0.018510</td>\n",
       "      <td>0.192460</td>\n",
       "      <td>0.011115</td>\n",
       "      <td>0.038982</td>\n",
       "      <td>0.637282</td>\n",
       "    </tr>\n",
       "    <tr>\n",
       "      <th>32</th>\n",
       "      <td>Leaves</td>\n",
       "      <td>0</td>\n",
       "      <td>opm acoustic</td>\n",
       "      <td>0.634885</td>\n",
       "      <td>0.634885</td>\n",
       "      <td>0.019235</td>\n",
       "      <td>0.184068</td>\n",
       "      <td>0.044726</td>\n",
       "      <td>0.006488</td>\n",
       "      <td>0.110597</td>\n",
       "    </tr>\n",
       "    <tr>\n",
       "      <th>52</th>\n",
       "      <td>Patawad, Paalam</td>\n",
       "      <td>0</td>\n",
       "      <td>opm acoustic</td>\n",
       "      <td>0.626310</td>\n",
       "      <td>0.626310</td>\n",
       "      <td>0.024633</td>\n",
       "      <td>0.184112</td>\n",
       "      <td>0.046898</td>\n",
       "      <td>0.008656</td>\n",
       "      <td>0.109392</td>\n",
       "    </tr>\n",
       "    <tr>\n",
       "      <th>11</th>\n",
       "      <td>Paraluman</td>\n",
       "      <td>0</td>\n",
       "      <td>opm acoustic</td>\n",
       "      <td>0.625226</td>\n",
       "      <td>0.625226</td>\n",
       "      <td>0.019039</td>\n",
       "      <td>0.187727</td>\n",
       "      <td>0.049991</td>\n",
       "      <td>0.011191</td>\n",
       "      <td>0.106825</td>\n",
       "    </tr>\n",
       "    <tr>\n",
       "      <th>54</th>\n",
       "      <td>Game of Questions</td>\n",
       "      <td>0</td>\n",
       "      <td>opm acoustic</td>\n",
       "      <td>0.622268</td>\n",
       "      <td>0.622268</td>\n",
       "      <td>0.032182</td>\n",
       "      <td>0.124386</td>\n",
       "      <td>0.050884</td>\n",
       "      <td>0.005318</td>\n",
       "      <td>0.164962</td>\n",
       "    </tr>\n",
       "    <tr>\n",
       "      <th>21</th>\n",
       "      <td>Asan Ka Na Ba</td>\n",
       "      <td>5</td>\n",
       "      <td>opm rock</td>\n",
       "      <td>0.620884</td>\n",
       "      <td>0.031991</td>\n",
       "      <td>0.100984</td>\n",
       "      <td>0.056194</td>\n",
       "      <td>0.142436</td>\n",
       "      <td>0.047510</td>\n",
       "      <td>0.620884</td>\n",
       "    </tr>\n",
       "    <tr>\n",
       "      <th>6</th>\n",
       "      <td>Sinag (feat. Sam Benwick)</td>\n",
       "      <td>0</td>\n",
       "      <td>opm acoustic</td>\n",
       "      <td>0.609407</td>\n",
       "      <td>0.609407</td>\n",
       "      <td>0.025629</td>\n",
       "      <td>0.197798</td>\n",
       "      <td>0.044199</td>\n",
       "      <td>0.013615</td>\n",
       "      <td>0.109352</td>\n",
       "    </tr>\n",
       "    <tr>\n",
       "      <th>42</th>\n",
       "      <td>Di Na Mag-iisa</td>\n",
       "      <td>0</td>\n",
       "      <td>opm acoustic</td>\n",
       "      <td>0.608811</td>\n",
       "      <td>0.608811</td>\n",
       "      <td>0.019579</td>\n",
       "      <td>0.106790</td>\n",
       "      <td>0.040559</td>\n",
       "      <td>0.006899</td>\n",
       "      <td>0.217362</td>\n",
       "    </tr>\n",
       "    <tr>\n",
       "      <th>39</th>\n",
       "      <td>Ikaw Lang</td>\n",
       "      <td>5</td>\n",
       "      <td>opm rock</td>\n",
       "      <td>0.607768</td>\n",
       "      <td>0.163418</td>\n",
       "      <td>0.014389</td>\n",
       "      <td>0.114721</td>\n",
       "      <td>0.075462</td>\n",
       "      <td>0.024242</td>\n",
       "      <td>0.607768</td>\n",
       "    </tr>\n",
       "    <tr>\n",
       "      <th>3</th>\n",
       "      <td>Happy w u</td>\n",
       "      <td>0</td>\n",
       "      <td>opm acoustic</td>\n",
       "      <td>0.604411</td>\n",
       "      <td>0.604411</td>\n",
       "      <td>0.025574</td>\n",
       "      <td>0.175755</td>\n",
       "      <td>0.035411</td>\n",
       "      <td>0.017475</td>\n",
       "      <td>0.141375</td>\n",
       "    </tr>\n",
       "    <tr>\n",
       "      <th>2</th>\n",
       "      <td>Higa</td>\n",
       "      <td>0</td>\n",
       "      <td>opm acoustic</td>\n",
       "      <td>0.593945</td>\n",
       "      <td>0.593945</td>\n",
       "      <td>0.010742</td>\n",
       "      <td>0.077571</td>\n",
       "      <td>0.161108</td>\n",
       "      <td>0.013561</td>\n",
       "      <td>0.143072</td>\n",
       "    </tr>\n",
       "    <tr>\n",
       "      <th>4</th>\n",
       "      <td>Binhi</td>\n",
       "      <td>0</td>\n",
       "      <td>opm acoustic</td>\n",
       "      <td>0.593136</td>\n",
       "      <td>0.593136</td>\n",
       "      <td>0.024013</td>\n",
       "      <td>0.218734</td>\n",
       "      <td>0.065540</td>\n",
       "      <td>0.009994</td>\n",
       "      <td>0.088583</td>\n",
       "    </tr>\n",
       "    <tr>\n",
       "      <th>13</th>\n",
       "      <td>Dungaw</td>\n",
       "      <td>0</td>\n",
       "      <td>opm acoustic</td>\n",
       "      <td>0.588935</td>\n",
       "      <td>0.588935</td>\n",
       "      <td>0.023389</td>\n",
       "      <td>0.156362</td>\n",
       "      <td>0.069948</td>\n",
       "      <td>0.015611</td>\n",
       "      <td>0.145755</td>\n",
       "    </tr>\n",
       "    <tr>\n",
       "      <th>5</th>\n",
       "      <td>TAKE ALL THE LOVE</td>\n",
       "      <td>5</td>\n",
       "      <td>opm rock</td>\n",
       "      <td>0.587844</td>\n",
       "      <td>0.230532</td>\n",
       "      <td>0.014324</td>\n",
       "      <td>0.077101</td>\n",
       "      <td>0.069817</td>\n",
       "      <td>0.020382</td>\n",
       "      <td>0.587844</td>\n",
       "    </tr>\n",
       "    <tr>\n",
       "      <th>33</th>\n",
       "      <td>Kathang Isip</td>\n",
       "      <td>0</td>\n",
       "      <td>opm acoustic</td>\n",
       "      <td>0.582532</td>\n",
       "      <td>0.582532</td>\n",
       "      <td>0.031792</td>\n",
       "      <td>0.152041</td>\n",
       "      <td>0.036179</td>\n",
       "      <td>0.010412</td>\n",
       "      <td>0.187042</td>\n",
       "    </tr>\n",
       "    <tr>\n",
       "      <th>34</th>\n",
       "      <td>Araw-Araw</td>\n",
       "      <td>0</td>\n",
       "      <td>opm acoustic</td>\n",
       "      <td>0.574694</td>\n",
       "      <td>0.574694</td>\n",
       "      <td>0.022627</td>\n",
       "      <td>0.089406</td>\n",
       "      <td>0.035983</td>\n",
       "      <td>0.010942</td>\n",
       "      <td>0.266348</td>\n",
       "    </tr>\n",
       "    <tr>\n",
       "      <th>47</th>\n",
       "      <td>Tayong Dalawa Sa Pasko</td>\n",
       "      <td>5</td>\n",
       "      <td>opm rock</td>\n",
       "      <td>0.574585</td>\n",
       "      <td>0.249144</td>\n",
       "      <td>0.022615</td>\n",
       "      <td>0.107451</td>\n",
       "      <td>0.036971</td>\n",
       "      <td>0.009233</td>\n",
       "      <td>0.574585</td>\n",
       "    </tr>\n",
       "    <tr>\n",
       "      <th>53</th>\n",
       "      <td>Oras</td>\n",
       "      <td>5</td>\n",
       "      <td>opm rock</td>\n",
       "      <td>0.561813</td>\n",
       "      <td>0.261279</td>\n",
       "      <td>0.015083</td>\n",
       "      <td>0.102377</td>\n",
       "      <td>0.048007</td>\n",
       "      <td>0.011441</td>\n",
       "      <td>0.561813</td>\n",
       "    </tr>\n",
       "    <tr>\n",
       "      <th>12</th>\n",
       "      <td>Tahanan</td>\n",
       "      <td>0</td>\n",
       "      <td>opm acoustic</td>\n",
       "      <td>0.545992</td>\n",
       "      <td>0.545992</td>\n",
       "      <td>0.039128</td>\n",
       "      <td>0.128667</td>\n",
       "      <td>0.045758</td>\n",
       "      <td>0.009062</td>\n",
       "      <td>0.231392</td>\n",
       "    </tr>\n",
       "    <tr>\n",
       "      <th>26</th>\n",
       "      <td>Pero</td>\n",
       "      <td>0</td>\n",
       "      <td>opm acoustic</td>\n",
       "      <td>0.545878</td>\n",
       "      <td>0.545878</td>\n",
       "      <td>0.027384</td>\n",
       "      <td>0.195132</td>\n",
       "      <td>0.076369</td>\n",
       "      <td>0.035039</td>\n",
       "      <td>0.120198</td>\n",
       "    </tr>\n",
       "    <tr>\n",
       "      <th>1</th>\n",
       "      <td>Pagsamo</td>\n",
       "      <td>0</td>\n",
       "      <td>opm acoustic</td>\n",
       "      <td>0.540173</td>\n",
       "      <td>0.540173</td>\n",
       "      <td>0.026771</td>\n",
       "      <td>0.185258</td>\n",
       "      <td>0.052009</td>\n",
       "      <td>0.017194</td>\n",
       "      <td>0.178595</td>\n",
       "    </tr>\n",
       "    <tr>\n",
       "      <th>10</th>\n",
       "      <td>Mahika</td>\n",
       "      <td>2</td>\n",
       "      <td>opm jazz</td>\n",
       "      <td>0.538506</td>\n",
       "      <td>0.153088</td>\n",
       "      <td>0.027213</td>\n",
       "      <td>0.538506</td>\n",
       "      <td>0.061975</td>\n",
       "      <td>0.048281</td>\n",
       "      <td>0.170938</td>\n",
       "    </tr>\n",
       "    <tr>\n",
       "      <th>46</th>\n",
       "      <td>Yakap</td>\n",
       "      <td>5</td>\n",
       "      <td>opm rock</td>\n",
       "      <td>0.523798</td>\n",
       "      <td>0.021265</td>\n",
       "      <td>0.090345</td>\n",
       "      <td>0.035256</td>\n",
       "      <td>0.238040</td>\n",
       "      <td>0.091296</td>\n",
       "      <td>0.523798</td>\n",
       "    </tr>\n",
       "    <tr>\n",
       "      <th>49</th>\n",
       "      <td>Balang Araw - Single Version</td>\n",
       "      <td>5</td>\n",
       "      <td>opm rock</td>\n",
       "      <td>0.522337</td>\n",
       "      <td>0.289369</td>\n",
       "      <td>0.017807</td>\n",
       "      <td>0.114837</td>\n",
       "      <td>0.042381</td>\n",
       "      <td>0.013268</td>\n",
       "      <td>0.522337</td>\n",
       "    </tr>\n",
       "    <tr>\n",
       "      <th>48</th>\n",
       "      <td>Sana - Single Version</td>\n",
       "      <td>0</td>\n",
       "      <td>opm acoustic</td>\n",
       "      <td>0.518604</td>\n",
       "      <td>0.518604</td>\n",
       "      <td>0.025741</td>\n",
       "      <td>0.201591</td>\n",
       "      <td>0.055532</td>\n",
       "      <td>0.018511</td>\n",
       "      <td>0.180022</td>\n",
       "    </tr>\n",
       "    <tr>\n",
       "      <th>14</th>\n",
       "      <td>Kabado</td>\n",
       "      <td>0</td>\n",
       "      <td>opm acoustic</td>\n",
       "      <td>0.503058</td>\n",
       "      <td>0.503058</td>\n",
       "      <td>0.028253</td>\n",
       "      <td>0.196512</td>\n",
       "      <td>0.110893</td>\n",
       "      <td>0.034530</td>\n",
       "      <td>0.126755</td>\n",
       "    </tr>\n",
       "    <tr>\n",
       "      <th>55</th>\n",
       "      <td>The One With The Snowflake</td>\n",
       "      <td>0</td>\n",
       "      <td>opm acoustic</td>\n",
       "      <td>0.486351</td>\n",
       "      <td>0.486351</td>\n",
       "      <td>0.038440</td>\n",
       "      <td>0.168002</td>\n",
       "      <td>0.039195</td>\n",
       "      <td>0.014036</td>\n",
       "      <td>0.253976</td>\n",
       "    </tr>\n",
       "    <tr>\n",
       "      <th>9</th>\n",
       "      <td>Hung Up</td>\n",
       "      <td>0</td>\n",
       "      <td>opm acoustic</td>\n",
       "      <td>0.479298</td>\n",
       "      <td>0.479298</td>\n",
       "      <td>0.026096</td>\n",
       "      <td>0.242955</td>\n",
       "      <td>0.103228</td>\n",
       "      <td>0.019724</td>\n",
       "      <td>0.128698</td>\n",
       "    </tr>\n",
       "    <tr>\n",
       "      <th>8</th>\n",
       "      <td>Cotton Candy</td>\n",
       "      <td>3</td>\n",
       "      <td>opm rap</td>\n",
       "      <td>0.463373</td>\n",
       "      <td>0.103614</td>\n",
       "      <td>0.017678</td>\n",
       "      <td>0.346522</td>\n",
       "      <td>0.463373</td>\n",
       "      <td>0.017706</td>\n",
       "      <td>0.051107</td>\n",
       "    </tr>\n",
       "    <tr>\n",
       "      <th>18</th>\n",
       "      <td>Sawa Na</td>\n",
       "      <td>0</td>\n",
       "      <td>opm acoustic</td>\n",
       "      <td>0.455394</td>\n",
       "      <td>0.455394</td>\n",
       "      <td>0.017503</td>\n",
       "      <td>0.129589</td>\n",
       "      <td>0.072449</td>\n",
       "      <td>0.012353</td>\n",
       "      <td>0.312711</td>\n",
       "    </tr>\n",
       "    <tr>\n",
       "      <th>7</th>\n",
       "      <td>Life Puzzle</td>\n",
       "      <td>3</td>\n",
       "      <td>opm rap</td>\n",
       "      <td>0.451366</td>\n",
       "      <td>0.267231</td>\n",
       "      <td>0.020580</td>\n",
       "      <td>0.140981</td>\n",
       "      <td>0.451366</td>\n",
       "      <td>0.036275</td>\n",
       "      <td>0.083566</td>\n",
       "    </tr>\n",
       "    <tr>\n",
       "      <th>23</th>\n",
       "      <td>Habang Buhay</td>\n",
       "      <td>5</td>\n",
       "      <td>opm rock</td>\n",
       "      <td>0.449967</td>\n",
       "      <td>0.075712</td>\n",
       "      <td>0.029993</td>\n",
       "      <td>0.020848</td>\n",
       "      <td>0.309618</td>\n",
       "      <td>0.113861</td>\n",
       "      <td>0.449967</td>\n",
       "    </tr>\n",
       "    <tr>\n",
       "      <th>40</th>\n",
       "      <td>Unang Sayaw</td>\n",
       "      <td>5</td>\n",
       "      <td>opm rock</td>\n",
       "      <td>0.448223</td>\n",
       "      <td>0.217448</td>\n",
       "      <td>0.019306</td>\n",
       "      <td>0.189249</td>\n",
       "      <td>0.109696</td>\n",
       "      <td>0.016078</td>\n",
       "      <td>0.448223</td>\n",
       "    </tr>\n",
       "    <tr>\n",
       "      <th>44</th>\n",
       "      <td>The Search Is Over</td>\n",
       "      <td>0</td>\n",
       "      <td>opm acoustic</td>\n",
       "      <td>0.434921</td>\n",
       "      <td>0.364831</td>\n",
       "      <td>0.020109</td>\n",
       "      <td>0.116418</td>\n",
       "      <td>0.054668</td>\n",
       "      <td>0.009052</td>\n",
       "      <td>0.434921</td>\n",
       "    </tr>\n",
       "    <tr>\n",
       "      <th>17</th>\n",
       "      <td>Tinatangi (feat. Chrstn)</td>\n",
       "      <td>0</td>\n",
       "      <td>opm acoustic</td>\n",
       "      <td>0.398712</td>\n",
       "      <td>0.398712</td>\n",
       "      <td>0.038822</td>\n",
       "      <td>0.194909</td>\n",
       "      <td>0.045457</td>\n",
       "      <td>0.021419</td>\n",
       "      <td>0.300682</td>\n",
       "    </tr>\n",
       "    <tr>\n",
       "      <th>20</th>\n",
       "      <td>Give Me Your Forever</td>\n",
       "      <td>0</td>\n",
       "      <td>opm acoustic</td>\n",
       "      <td>0.394227</td>\n",
       "      <td>0.375707</td>\n",
       "      <td>0.014361</td>\n",
       "      <td>0.088034</td>\n",
       "      <td>0.113708</td>\n",
       "      <td>0.013963</td>\n",
       "      <td>0.394227</td>\n",
       "    </tr>\n",
       "    <tr>\n",
       "      <th>22</th>\n",
       "      <td>Nangangamba</td>\n",
       "      <td>0</td>\n",
       "      <td>opm acoustic</td>\n",
       "      <td>0.389290</td>\n",
       "      <td>0.170856</td>\n",
       "      <td>0.021416</td>\n",
       "      <td>0.043224</td>\n",
       "      <td>0.312724</td>\n",
       "      <td>0.062491</td>\n",
       "      <td>0.389290</td>\n",
       "    </tr>\n",
       "    <tr>\n",
       "      <th>50</th>\n",
       "      <td>Sana</td>\n",
       "      <td>0</td>\n",
       "      <td>opm acoustic</td>\n",
       "      <td>0.381181</td>\n",
       "      <td>0.192377</td>\n",
       "      <td>0.017312</td>\n",
       "      <td>0.047604</td>\n",
       "      <td>0.296011</td>\n",
       "      <td>0.065514</td>\n",
       "      <td>0.381181</td>\n",
       "    </tr>\n",
       "    <tr>\n",
       "      <th>37</th>\n",
       "      <td>Make It With You</td>\n",
       "      <td>0</td>\n",
       "      <td>opm acoustic</td>\n",
       "      <td>0.369907</td>\n",
       "      <td>0.369907</td>\n",
       "      <td>0.027634</td>\n",
       "      <td>0.255365</td>\n",
       "      <td>0.092648</td>\n",
       "      <td>0.024935</td>\n",
       "      <td>0.229510</td>\n",
       "    </tr>\n",
       "    <tr>\n",
       "      <th>36</th>\n",
       "      <td>Pagtingin</td>\n",
       "      <td>2</td>\n",
       "      <td>opm jazz</td>\n",
       "      <td>0.365334</td>\n",
       "      <td>0.265690</td>\n",
       "      <td>0.018396</td>\n",
       "      <td>0.269834</td>\n",
       "      <td>0.062875</td>\n",
       "      <td>0.017871</td>\n",
       "      <td>0.365334</td>\n",
       "    </tr>\n",
       "    <tr>\n",
       "      <th>19</th>\n",
       "      <td>Pano</td>\n",
       "      <td>0</td>\n",
       "      <td>opm acoustic</td>\n",
       "      <td>0.363742</td>\n",
       "      <td>0.363742</td>\n",
       "      <td>0.047600</td>\n",
       "      <td>0.164857</td>\n",
       "      <td>0.048869</td>\n",
       "      <td>0.017421</td>\n",
       "      <td>0.357512</td>\n",
       "    </tr>\n",
       "    <tr>\n",
       "      <th>25</th>\n",
       "      <td>Yakap</td>\n",
       "      <td>5</td>\n",
       "      <td>opm rock</td>\n",
       "      <td>0.317058</td>\n",
       "      <td>0.262453</td>\n",
       "      <td>0.017963</td>\n",
       "      <td>0.220882</td>\n",
       "      <td>0.160003</td>\n",
       "      <td>0.021640</td>\n",
       "      <td>0.317058</td>\n",
       "    </tr>\n",
       "    <tr>\n",
       "      <th>56</th>\n",
       "      <td>Maybe</td>\n",
       "      <td>2</td>\n",
       "      <td>opm jazz</td>\n",
       "      <td>0.316880</td>\n",
       "      <td>0.172968</td>\n",
       "      <td>0.018736</td>\n",
       "      <td>0.240257</td>\n",
       "      <td>0.225348</td>\n",
       "      <td>0.025812</td>\n",
       "      <td>0.316880</td>\n",
       "    </tr>\n",
       "    <tr>\n",
       "      <th>27</th>\n",
       "      <td>As You Are</td>\n",
       "      <td>0</td>\n",
       "      <td>opm acoustic</td>\n",
       "      <td>0.287841</td>\n",
       "      <td>0.256107</td>\n",
       "      <td>0.019102</td>\n",
       "      <td>0.153780</td>\n",
       "      <td>0.263947</td>\n",
       "      <td>0.019224</td>\n",
       "      <td>0.287841</td>\n",
       "    </tr>\n",
       "    <tr>\n",
       "      <th>0</th>\n",
       "      <td>Isa lang</td>\n",
       "      <td>2</td>\n",
       "      <td>opm jazz</td>\n",
       "      <td>0.285337</td>\n",
       "      <td>0.249922</td>\n",
       "      <td>0.038970</td>\n",
       "      <td>0.285337</td>\n",
       "      <td>0.150280</td>\n",
       "      <td>0.024640</td>\n",
       "      <td>0.250851</td>\n",
       "    </tr>\n",
       "  </tbody>\n",
       "</table>\n",
       "</div>"
      ],
      "text/plain": [
       "                      track_name  predicted_genre_id predicted_genre  \\\n",
       "38                      Lifetime                   5        opm rock   \n",
       "57                        Balita                   5        opm rock   \n",
       "45         Vie (Sabihin Mo Kung)                   0    opm acoustic   \n",
       "30             Paninindigan Kita                   5        opm rock   \n",
       "24                      Binibini                   0    opm acoustic   \n",
       "41                   Paano Uusad                   5        opm rock   \n",
       "51                   Balang Araw                   5        opm rock   \n",
       "15           You'll Be Safe Here                   0    opm acoustic   \n",
       "35               Maybe The Night                   5        opm rock   \n",
       "28    Iba (ft. Moira Dela Torre)                   5        opm rock   \n",
       "31    Sa Susunod na Habang Buhay                   5        opm rock   \n",
       "16                          Luha                   0    opm acoustic   \n",
       "29        The Ones We Once Loved                   0    opm acoustic   \n",
       "43                         Totoo                   5        opm rock   \n",
       "32                        Leaves                   0    opm acoustic   \n",
       "52               Patawad, Paalam                   0    opm acoustic   \n",
       "11                     Paraluman                   0    opm acoustic   \n",
       "54             Game of Questions                   0    opm acoustic   \n",
       "21                 Asan Ka Na Ba                   5        opm rock   \n",
       "6      Sinag (feat. Sam Benwick)                   0    opm acoustic   \n",
       "42                Di Na Mag-iisa                   0    opm acoustic   \n",
       "39                     Ikaw Lang                   5        opm rock   \n",
       "3                      Happy w u                   0    opm acoustic   \n",
       "2                           Higa                   0    opm acoustic   \n",
       "4                          Binhi                   0    opm acoustic   \n",
       "13                        Dungaw                   0    opm acoustic   \n",
       "5              TAKE ALL THE LOVE                   5        opm rock   \n",
       "33                  Kathang Isip                   0    opm acoustic   \n",
       "34                     Araw-Araw                   0    opm acoustic   \n",
       "47        Tayong Dalawa Sa Pasko                   5        opm rock   \n",
       "53                          Oras                   5        opm rock   \n",
       "12                       Tahanan                   0    opm acoustic   \n",
       "26                          Pero                   0    opm acoustic   \n",
       "1                        Pagsamo                   0    opm acoustic   \n",
       "10                        Mahika                   2        opm jazz   \n",
       "46                         Yakap                   5        opm rock   \n",
       "49  Balang Araw - Single Version                   5        opm rock   \n",
       "48         Sana - Single Version                   0    opm acoustic   \n",
       "14                        Kabado                   0    opm acoustic   \n",
       "55    The One With The Snowflake                   0    opm acoustic   \n",
       "9                        Hung Up                   0    opm acoustic   \n",
       "8                   Cotton Candy                   3         opm rap   \n",
       "18                       Sawa Na                   0    opm acoustic   \n",
       "7                    Life Puzzle                   3         opm rap   \n",
       "23                  Habang Buhay                   5        opm rock   \n",
       "40                   Unang Sayaw                   5        opm rock   \n",
       "44            The Search Is Over                   0    opm acoustic   \n",
       "17      Tinatangi (feat. Chrstn)                   0    opm acoustic   \n",
       "20          Give Me Your Forever                   0    opm acoustic   \n",
       "22                   Nangangamba                   0    opm acoustic   \n",
       "50                          Sana                   0    opm acoustic   \n",
       "37              Make It With You                   0    opm acoustic   \n",
       "36                     Pagtingin                   2        opm jazz   \n",
       "19                          Pano                   0    opm acoustic   \n",
       "25                         Yakap                   5        opm rock   \n",
       "56                         Maybe                   2        opm jazz   \n",
       "27                    As You Are                   0    opm acoustic   \n",
       "0                       Isa lang                   2        opm jazz   \n",
       "\n",
       "    predicted_genre_prob  predicted_opm acoustic_prob  \\\n",
       "38              0.772751                     0.074298   \n",
       "57              0.760666                     0.022382   \n",
       "45              0.724720                     0.724720   \n",
       "30              0.720334                     0.036017   \n",
       "24              0.696404                     0.696404   \n",
       "41              0.690534                     0.153282   \n",
       "51              0.680188                     0.107106   \n",
       "15              0.667071                     0.667071   \n",
       "35              0.662394                     0.088305   \n",
       "28              0.659961                     0.072793   \n",
       "31              0.644929                     0.166029   \n",
       "16              0.640188                     0.640188   \n",
       "29              0.639853                     0.639853   \n",
       "43              0.637282                     0.101651   \n",
       "32              0.634885                     0.634885   \n",
       "52              0.626310                     0.626310   \n",
       "11              0.625226                     0.625226   \n",
       "54              0.622268                     0.622268   \n",
       "21              0.620884                     0.031991   \n",
       "6               0.609407                     0.609407   \n",
       "42              0.608811                     0.608811   \n",
       "39              0.607768                     0.163418   \n",
       "3               0.604411                     0.604411   \n",
       "2               0.593945                     0.593945   \n",
       "4               0.593136                     0.593136   \n",
       "13              0.588935                     0.588935   \n",
       "5               0.587844                     0.230532   \n",
       "33              0.582532                     0.582532   \n",
       "34              0.574694                     0.574694   \n",
       "47              0.574585                     0.249144   \n",
       "53              0.561813                     0.261279   \n",
       "12              0.545992                     0.545992   \n",
       "26              0.545878                     0.545878   \n",
       "1               0.540173                     0.540173   \n",
       "10              0.538506                     0.153088   \n",
       "46              0.523798                     0.021265   \n",
       "49              0.522337                     0.289369   \n",
       "48              0.518604                     0.518604   \n",
       "14              0.503058                     0.503058   \n",
       "55              0.486351                     0.486351   \n",
       "9               0.479298                     0.479298   \n",
       "8               0.463373                     0.103614   \n",
       "18              0.455394                     0.455394   \n",
       "7               0.451366                     0.267231   \n",
       "23              0.449967                     0.075712   \n",
       "40              0.448223                     0.217448   \n",
       "44              0.434921                     0.364831   \n",
       "17              0.398712                     0.398712   \n",
       "20              0.394227                     0.375707   \n",
       "22              0.389290                     0.170856   \n",
       "50              0.381181                     0.192377   \n",
       "37              0.369907                     0.369907   \n",
       "36              0.365334                     0.265690   \n",
       "19              0.363742                     0.363742   \n",
       "25              0.317058                     0.262453   \n",
       "56              0.316880                     0.172968   \n",
       "27              0.287841                     0.256107   \n",
       "0               0.285337                     0.249922   \n",
       "\n",
       "    predicted_opm dance_prob  predicted_opm jazz_prob  predicted_opm rap_prob  \\\n",
       "38                  0.027227                 0.050168                0.029241   \n",
       "57                  0.073877                 0.026376                0.019883   \n",
       "45                  0.009128                 0.049510                0.095037   \n",
       "30                  0.038701                 0.064614                0.022088   \n",
       "24                  0.007766                 0.054716                0.104565   \n",
       "41                  0.018232                 0.080152                0.037548   \n",
       "51                  0.016371                 0.066376                0.079255   \n",
       "15                  0.017183                 0.137305                0.041380   \n",
       "35                  0.020630                 0.101263                0.067590   \n",
       "28                  0.036115                 0.098284                0.051965   \n",
       "31                  0.037679                 0.080397                0.055257   \n",
       "16                  0.019762                 0.152341                0.058247   \n",
       "29                  0.024047                 0.115500                0.037195   \n",
       "43                  0.018510                 0.192460                0.011115   \n",
       "32                  0.019235                 0.184068                0.044726   \n",
       "52                  0.024633                 0.184112                0.046898   \n",
       "11                  0.019039                 0.187727                0.049991   \n",
       "54                  0.032182                 0.124386                0.050884   \n",
       "21                  0.100984                 0.056194                0.142436   \n",
       "6                   0.025629                 0.197798                0.044199   \n",
       "42                  0.019579                 0.106790                0.040559   \n",
       "39                  0.014389                 0.114721                0.075462   \n",
       "3                   0.025574                 0.175755                0.035411   \n",
       "2                   0.010742                 0.077571                0.161108   \n",
       "4                   0.024013                 0.218734                0.065540   \n",
       "13                  0.023389                 0.156362                0.069948   \n",
       "5                   0.014324                 0.077101                0.069817   \n",
       "33                  0.031792                 0.152041                0.036179   \n",
       "34                  0.022627                 0.089406                0.035983   \n",
       "47                  0.022615                 0.107451                0.036971   \n",
       "53                  0.015083                 0.102377                0.048007   \n",
       "12                  0.039128                 0.128667                0.045758   \n",
       "26                  0.027384                 0.195132                0.076369   \n",
       "1                   0.026771                 0.185258                0.052009   \n",
       "10                  0.027213                 0.538506                0.061975   \n",
       "46                  0.090345                 0.035256                0.238040   \n",
       "49                  0.017807                 0.114837                0.042381   \n",
       "48                  0.025741                 0.201591                0.055532   \n",
       "14                  0.028253                 0.196512                0.110893   \n",
       "55                  0.038440                 0.168002                0.039195   \n",
       "9                   0.026096                 0.242955                0.103228   \n",
       "8                   0.017678                 0.346522                0.463373   \n",
       "18                  0.017503                 0.129589                0.072449   \n",
       "7                   0.020580                 0.140981                0.451366   \n",
       "23                  0.029993                 0.020848                0.309618   \n",
       "40                  0.019306                 0.189249                0.109696   \n",
       "44                  0.020109                 0.116418                0.054668   \n",
       "17                  0.038822                 0.194909                0.045457   \n",
       "20                  0.014361                 0.088034                0.113708   \n",
       "22                  0.021416                 0.043224                0.312724   \n",
       "50                  0.017312                 0.047604                0.296011   \n",
       "37                  0.027634                 0.255365                0.092648   \n",
       "36                  0.018396                 0.269834                0.062875   \n",
       "19                  0.047600                 0.164857                0.048869   \n",
       "25                  0.017963                 0.220882                0.160003   \n",
       "56                  0.018736                 0.240257                0.225348   \n",
       "27                  0.019102                 0.153780                0.263947   \n",
       "0                   0.038970                 0.285337                0.150280   \n",
       "\n",
       "    predicted_opm reggae_prob  predicted_opm rock_prob  \n",
       "38                   0.046315                 0.772751  \n",
       "57                   0.096817                 0.760666  \n",
       "45                   0.013794                 0.107810  \n",
       "30                   0.118245                 0.720334  \n",
       "24                   0.016624                 0.119924  \n",
       "41                   0.020252                 0.690534  \n",
       "51                   0.050704                 0.680188  \n",
       "15                   0.004622                 0.132440  \n",
       "35                   0.059817                 0.662394  \n",
       "28                   0.080882                 0.659961  \n",
       "31                   0.015709                 0.644929  \n",
       "16                   0.004193                 0.125269  \n",
       "29                   0.006732                 0.176673  \n",
       "43                   0.038982                 0.637282  \n",
       "32                   0.006488                 0.110597  \n",
       "52                   0.008656                 0.109392  \n",
       "11                   0.011191                 0.106825  \n",
       "54                   0.005318                 0.164962  \n",
       "21                   0.047510                 0.620884  \n",
       "6                    0.013615                 0.109352  \n",
       "42                   0.006899                 0.217362  \n",
       "39                   0.024242                 0.607768  \n",
       "3                    0.017475                 0.141375  \n",
       "2                    0.013561                 0.143072  \n",
       "4                    0.009994                 0.088583  \n",
       "13                   0.015611                 0.145755  \n",
       "5                    0.020382                 0.587844  \n",
       "33                   0.010412                 0.187042  \n",
       "34                   0.010942                 0.266348  \n",
       "47                   0.009233                 0.574585  \n",
       "53                   0.011441                 0.561813  \n",
       "12                   0.009062                 0.231392  \n",
       "26                   0.035039                 0.120198  \n",
       "1                    0.017194                 0.178595  \n",
       "10                   0.048281                 0.170938  \n",
       "46                   0.091296                 0.523798  \n",
       "49                   0.013268                 0.522337  \n",
       "48                   0.018511                 0.180022  \n",
       "14                   0.034530                 0.126755  \n",
       "55                   0.014036                 0.253976  \n",
       "9                    0.019724                 0.128698  \n",
       "8                    0.017706                 0.051107  \n",
       "18                   0.012353                 0.312711  \n",
       "7                    0.036275                 0.083566  \n",
       "23                   0.113861                 0.449967  \n",
       "40                   0.016078                 0.448223  \n",
       "44                   0.009052                 0.434921  \n",
       "17                   0.021419                 0.300682  \n",
       "20                   0.013963                 0.394227  \n",
       "22                   0.062491                 0.389290  \n",
       "50                   0.065514                 0.381181  \n",
       "37                   0.024935                 0.229510  \n",
       "36                   0.017871                 0.365334  \n",
       "19                   0.017421                 0.357512  \n",
       "25                   0.021640                 0.317058  \n",
       "56                   0.025812                 0.316880  \n",
       "27                   0.019224                 0.287841  \n",
       "0                    0.024640                 0.250851  "
      ]
     },
     "execution_count": 57,
     "metadata": {},
     "output_type": "execute_result"
    }
   ],
   "source": [
    "chart_tracks_df[['track_name']+[c for c in chart_tracks_df.columns if 'predicted_' in c]]"
   ]
  },
  {
   "cell_type": "code",
   "execution_count": 58,
   "metadata": {
    "ExecuteTime": {
     "end_time": "2022-01-11T11:30:30.285042Z",
     "start_time": "2022-01-11T11:30:30.273051Z"
    },
    "scrolled": true
   },
   "outputs": [
    {
     "data": {
      "text/plain": [
       "opm acoustic    33\n",
       "opm rock        19\n",
       "opm jazz         4\n",
       "opm rap          2\n",
       "Name: predicted_genre, dtype: int64"
      ]
     },
     "execution_count": 58,
     "metadata": {},
     "output_type": "execute_result"
    }
   ],
   "source": [
    "chart_tracks_df['predicted_genre'].value_counts()"
   ]
  },
  {
   "cell_type": "code",
   "execution_count": 59,
   "metadata": {
    "ExecuteTime": {
     "end_time": "2022-01-11T11:13:33.928791Z",
     "start_time": "2022-01-11T11:13:33.313628Z"
    }
   },
   "outputs": [
    {
     "data": {
      "text/plain": [
       "<AxesSubplot:>"
      ]
     },
     "execution_count": 59,
     "metadata": {},
     "output_type": "execute_result"
    },
    {
     "data": {
      "image/png": "[encoded data removed]",
      "text/plain": [
       "<Figure size 640x480 with 1 Axes>"
      ]
     },
     "metadata": {},
     "output_type": "display_data"
    }
   ],
   "source": [
    "#View histogram of probabilities\n",
    "chart_tracks_df['predicted_genre_prob'].hist()"
   ]
  },
  {
   "cell_type": "markdown",
   "metadata": {},
   "source": [
    "> Q: Can you identify tracks that were misclassfied by the model?\n",
    "    Does it make sense that the model misclassfied the tracks given the model configuration? Why or why not?"
   ]
  },
  {
   "cell_type": "code",
   "execution_count": 60,
   "metadata": {
    "ExecuteTime": {
     "end_time": "2022-01-11T11:13:33.982761Z",
     "start_time": "2022-01-11T11:13:33.932787Z"
    }
   },
   "outputs": [
    {
     "data": {
      "text/html": [
       "<div>\n",
       "<style scoped>\n",
       "    .dataframe tbody tr th:only-of-type {\n",
       "        vertical-align: middle;\n",
       "    }\n",
       "\n",
       "    .dataframe tbody tr th {\n",
       "        vertical-align: top;\n",
       "    }\n",
       "\n",
       "    .dataframe thead th {\n",
       "        text-align: right;\n",
       "    }\n",
       "</style>\n",
       "<table border=\"1\" class=\"dataframe\">\n",
       "  <thead>\n",
       "    <tr style=\"text-align: right;\">\n",
       "      <th></th>\n",
       "      <th>track_name</th>\n",
       "      <th>artist_name</th>\n",
       "      <th>predicted_genre</th>\n",
       "      <th>predicted_genre_prob</th>\n",
       "    </tr>\n",
       "  </thead>\n",
       "  <tbody>\n",
       "  </tbody>\n",
       "</table>\n",
       "</div>"
      ],
      "text/plain": [
       "Empty DataFrame\n",
       "Columns: [track_name, artist_name, predicted_genre, predicted_genre_prob]\n",
       "Index: []"
      ]
     },
     "execution_count": 60,
     "metadata": {},
     "output_type": "execute_result"
    }
   ],
   "source": [
    "#Check tracks classified with higher probability\n",
    "chart_tracks_df[chart_tracks_df['predicted_genre']=='rock'][['track_name','artist_name','predicted_genre','predicted_genre_prob']]\\\n",
    "            .sort_values(['predicted_genre_prob'],ascending=False)[:10]"
   ]
  },
  {
   "cell_type": "code",
   "execution_count": 61,
   "metadata": {
    "ExecuteTime": {
     "end_time": "2022-01-11T11:34:50.495660Z",
     "start_time": "2022-01-11T11:34:50.473674Z"
    }
   },
   "outputs": [
    {
     "data": {
      "text/html": [
       "<div>\n",
       "<style scoped>\n",
       "    .dataframe tbody tr th:only-of-type {\n",
       "        vertical-align: middle;\n",
       "    }\n",
       "\n",
       "    .dataframe tbody tr th {\n",
       "        vertical-align: top;\n",
       "    }\n",
       "\n",
       "    .dataframe thead th {\n",
       "        text-align: right;\n",
       "    }\n",
       "</style>\n",
       "<table border=\"1\" class=\"dataframe\">\n",
       "  <thead>\n",
       "    <tr style=\"text-align: right;\">\n",
       "      <th></th>\n",
       "      <th>track_name</th>\n",
       "      <th>artist_name</th>\n",
       "      <th>predicted_genre</th>\n",
       "      <th>predicted_genre_prob</th>\n",
       "    </tr>\n",
       "  </thead>\n",
       "  <tbody>\n",
       "  </tbody>\n",
       "</table>\n",
       "</div>"
      ],
      "text/plain": [
       "Empty DataFrame\n",
       "Columns: [track_name, artist_name, predicted_genre, predicted_genre_prob]\n",
       "Index: []"
      ]
     },
     "execution_count": 61,
     "metadata": {},
     "output_type": "execute_result"
    }
   ],
   "source": [
    "#Check tracks classified with lower probability\n",
    "chart_tracks_df[chart_tracks_df['predicted_genre']=='rnb'][['track_name','artist_name','predicted_genre','predicted_genre_prob']]\\\n",
    "            .sort_values(['predicted_genre_prob'],ascending=False)[:10]"
   ]
  },
  {
   "cell_type": "markdown",
   "metadata": {},
   "source": [
    ">Q **Spot Check**: Check out a song you're familiar with and see if the predicted genres and probabilities makes sense"
   ]
  },
  {
   "cell_type": "code",
   "execution_count": 62,
   "metadata": {
    "ExecuteTime": {
     "end_time": "2022-01-11T11:37:33.711578Z",
     "start_time": "2022-01-11T11:37:33.646616Z"
    }
   },
   "outputs": [
    {
     "data": {
      "text/html": [
       "<div>\n",
       "<style scoped>\n",
       "    .dataframe tbody tr th:only-of-type {\n",
       "        vertical-align: middle;\n",
       "    }\n",
       "\n",
       "    .dataframe tbody tr th {\n",
       "        vertical-align: top;\n",
       "    }\n",
       "\n",
       "    .dataframe thead th {\n",
       "        text-align: right;\n",
       "    }\n",
       "</style>\n",
       "<table border=\"1\" class=\"dataframe\">\n",
       "  <thead>\n",
       "    <tr style=\"text-align: right;\">\n",
       "      <th></th>\n",
       "      <th>Unnamed: 0</th>\n",
       "      <th>track_name</th>\n",
       "      <th>track_id</th>\n",
       "      <th>artist_name</th>\n",
       "      <th>danceability</th>\n",
       "      <th>energy</th>\n",
       "      <th>key</th>\n",
       "      <th>loudness</th>\n",
       "      <th>mode</th>\n",
       "      <th>speechiness</th>\n",
       "      <th>...</th>\n",
       "      <th>tempo</th>\n",
       "      <th>predicted_genre_id</th>\n",
       "      <th>predicted_genre</th>\n",
       "      <th>predicted_genre_prob</th>\n",
       "      <th>predicted_opm acoustic_prob</th>\n",
       "      <th>predicted_opm dance_prob</th>\n",
       "      <th>predicted_opm jazz_prob</th>\n",
       "      <th>predicted_opm rap_prob</th>\n",
       "      <th>predicted_opm reggae_prob</th>\n",
       "      <th>predicted_opm rock_prob</th>\n",
       "    </tr>\n",
       "  </thead>\n",
       "  <tbody>\n",
       "  </tbody>\n",
       "</table>\n",
       "<p>0 rows × 24 columns</p>\n",
       "</div>"
      ],
      "text/plain": [
       "Empty DataFrame\n",
       "Columns: [Unnamed: 0, track_name, track_id, artist_name, danceability, energy, key, loudness, mode, speechiness, acousticness, instrumentalness, liveness, valence, tempo, predicted_genre_id, predicted_genre, predicted_genre_prob, predicted_opm acoustic_prob, predicted_opm dance_prob, predicted_opm jazz_prob, predicted_opm rap_prob, predicted_opm reggae_prob, predicted_opm rock_prob]\n",
       "Index: []\n",
       "\n",
       "[0 rows x 24 columns]"
      ]
     },
     "execution_count": 62,
     "metadata": {},
     "output_type": "execute_result"
    }
   ],
   "source": [
    "chart_tracks_df[chart_tracks_df['track_name'].str.contains('Bohemian')]"
   ]
  },
  {
   "cell_type": "code",
   "execution_count": 63,
   "metadata": {
    "ExecuteTime": {
     "end_time": "2022-01-11T11:39:20.621212Z",
     "start_time": "2022-01-11T11:39:20.225116Z"
    }
   },
   "outputs": [],
   "source": [
    "#save data\n",
    "chart_tracks_df.to_csv(\"tracks_data_with_proba.csv\", index=False, encoding='utf-8')"
   ]
  },
  {
   "cell_type": "markdown",
   "metadata": {},
   "source": [
    "## Caveats\n",
    "1. Using playlist names as genre tags heavily rely on *user opinion* and not *extracted music features* (compare this from the methods used in the [GTZAN genre collection dataset](https://data-flair.training/blogs/python-project-music-genre-classification/)\n",
    "2. Playlists with dual genre names exists, and appear quite often in the dataset (e.g. Electronic Pop, Classical Rock)\n",
    "3. Although a dominant genre could be readily observed, recent music tend to incorporate many genres at a time and thus create less distinction when the model looks at the audio features.\n",
    "\n",
    ">Q: What other caveats could you deduce from the steps done above?\n"
   ]
  },
  {
   "cell_type": "markdown",
   "metadata": {},
   "source": [
    "## Model Improvement\n",
    "To enhance the model accuracy, try to do the following:\n",
    "1. Pick \"purer\" top-followed playlists for the training data. A quick way to do this is to pick playlists that contain pre 2000's music as majority as these are less hybridized than more recent songs.\n",
    "2. Try fewer but broader genres as categories (4-5 genres)\n",
    "3. Remove outlier songs! These are the songs that dont fit its playlist's description. A bit subjective (and tedious!).\n",
    "4. Limit the features used as predictors (could be inferred from the list of genres you're considering)\n"
   ]
  }
 ],
 "metadata": {
  "kernelspec": {
   "display_name": "Python 3 (ipykernel)",
   "language": "python",
   "name": "python3"
  },
  "language_info": {
   "codemirror_mode": {
    "name": "ipython",
    "version": 3
   },
   "file_extension": ".py",
   "mimetype": "text/x-python",
   "name": "python",
   "nbconvert_exporter": "python",
   "pygments_lexer": "ipython3",
   "version": "3.9.13"
  }
 },
 "nbformat": 4,
 "nbformat_minor": 2
}
